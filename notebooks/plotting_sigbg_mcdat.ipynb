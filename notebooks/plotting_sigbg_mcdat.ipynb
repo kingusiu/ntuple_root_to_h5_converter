{
 "cells": [
  {
   "cell_type": "code",
   "execution_count": 3,
   "id": "b601984f-bcab-435b-9b74-e875c4cf44ae",
   "metadata": {},
   "outputs": [],
   "source": [
    "import uproot\n",
    "import h5py\n",
    "import numpy as np\n",
    "import os\n",
    "import awkward as awk\n",
    "import heplot as hepl\n",
    "import importlib\n",
    "import glob\n",
    "import sys\n",
    "sys.path.append('..')"
   ]
  },
  {
   "cell_type": "code",
   "execution_count": 4,
   "id": "37a45526-fda6-41c5-b8bf-6d6f19032191",
   "metadata": {},
   "outputs": [],
   "source": [
    "import src.selection as sele\n",
    "import src.string_constants as stco\n",
    "import src.generator as gene"
   ]
  },
  {
   "cell_type": "markdown",
   "id": "a07569f4-a5cc-4775-ae7d-32106c8af0a3",
   "metadata": {},
   "source": [
    "# read samples"
   ]
  },
  {
   "cell_type": "markdown",
   "id": "c075bbea-0e77-4611-92e1-cee48318b141",
   "metadata": {},
   "source": [
    "## data"
   ]
  },
  {
   "cell_type": "code",
   "execution_count": null,
   "id": "c727116a-0758-4276-99ee-3110d6d97d5d",
   "metadata": {},
   "outputs": [],
   "source": [
    "N = int(1e4)\n",
    "path_ee = glob.glob(os.path.join(stco.in_dir_data_run2,'*.root'))\n",
    "generator_ee = gene.sample_generator(path_ee, N, feature_names, selection_fun=sele.select_lightjets)\n",
    "\n",
    "samples_concat_ee = None\n",
    "i = 0\n",
    "\n",
    "for sample_batch in generator_ee:\n",
    "\n",
    "    if samples_concat_ee is None:\n",
    "        samples_concat_ee = sample_batch\n",
    "    else:\n",
    "        samples_concat_ee = awk.concatenate([samples_concat_ee,sample_batch])\n",
    "\n",
    "    i = i+1\n",
    "    if i > 20:\n",
    "        break\n",
    "\n",
    "print(f'{len(samples_concat_ee)} di-electron samples read')\n"
   ]
  },
  {
   "cell_type": "code",
   "execution_count": 5,
   "id": "2105616b-0e3d-4d91-a187-eca2b59b7c92",
   "metadata": {},
   "outputs": [],
   "source": [
    "path_data = glob.glob(os.path.join(stco.in_dir_data_run2,'*.root'))"
   ]
  },
  {
   "cell_type": "code",
   "execution_count": 10,
   "id": "66fe9692-9976-460e-8260-79f3894bc135",
   "metadata": {},
   "outputs": [],
   "source": [
    "fname_dat = os.path.join(stco.in_dir_data_run2,os.listdir(stco.in_dir_data_run2)[3])"
   ]
  },
  {
   "cell_type": "code",
   "execution_count": 11,
   "id": "e9a1cded-5f04-432c-9e95-efe9e71f8cf2",
   "metadata": {},
   "outputs": [
    {
     "data": {
      "text/plain": [
       "'/eos/atlas/atlascerngroupdisk/perf-flavtag/calib/negtag/Rel24_GN2v01/Ntuples_Nominal/dataRun2_daod_ftag2/user.ltoffoli.data17_13T.periodAllYear.physics_Main.PhysCont.D_FTAG2.grp17_v01_p5981.GN2v01_Nom_output.root/user.ltoffoli.37402699._000004.output.root'"
      ]
     },
     "execution_count": 11,
     "metadata": {},
     "output_type": "execute_result"
    }
   ],
   "source": [
    "fname_dat"
   ]
  },
  {
   "cell_type": "code",
   "execution_count": 18,
   "id": "4c6989d0-c30e-43dc-9887-9e2a1da2d95f",
   "metadata": {},
   "outputs": [
    {
     "ename": "TypeError",
     "evalue": "open() takes 1 positional argument but 2 were given",
     "output_type": "error",
     "traceback": [
      "\u001b[0;31m---------------------------------------------------------------------------\u001b[0m",
      "\u001b[0;31mTypeError\u001b[0m                                 Traceback (most recent call last)",
      "Cell \u001b[0;32mIn[18], line 1\u001b[0m\n\u001b[0;32m----> 1\u001b[0m tree \u001b[38;5;241m=\u001b[39m \u001b[43muproot\u001b[49m\u001b[38;5;241;43m.\u001b[39;49m\u001b[43mopen\u001b[49m\u001b[43m(\u001b[49m\u001b[43mfname_dat\u001b[49m\u001b[38;5;241;43m+\u001b[39;49m\u001b[38;5;124;43m'\u001b[39;49m\u001b[38;5;124;43m:nominal\u001b[39;49m\u001b[38;5;124;43m'\u001b[39;49m\u001b[43m,\u001b[49m\u001b[38;5;28;43;01mNone\u001b[39;49;00m\u001b[43m)\u001b[49m\n",
      "\u001b[0;31mTypeError\u001b[0m: open() takes 1 positional argument but 2 were given"
     ]
    }
   ],
   "source": [
    "tree = uproot.open(fname_dat+':nominal')"
   ]
  },
  {
   "cell_type": "code",
   "execution_count": 17,
   "id": "97ee5179-695b-4e89-a983-291643b67c46",
   "metadata": {
    "scrolled": true
   },
   "outputs": [
    {
     "name": "stdout",
     "output_type": "stream",
     "text": [
      "name                           | typename             | interpretation                \n",
      "-------------------------------+----------------------+-------------------------------\n",
      "eventNumber                    | uint64_t             | AsDtype('>u8')\n",
      "runNumber                      | uint32_t             | AsDtype('>u4')\n",
      "mcChannelNumber                | uint32_t             | AsDtype('>u4')\n",
      "mu                             | float                | AsDtype('>f4')\n",
      "mu_actual                      | float                | AsDtype('>f4')\n",
      "mu_original_xAOD               | float                | AsDtype('>f4')\n",
      "mu_actual_original_xAOD        | float                | AsDtype('>f4')\n",
      "backgroundFlags                | uint32_t             | AsDtype('>u4')\n",
      "hasBadMuon                     | uint32_t             | AsDtype('>u4')\n",
      "el_pt                          | std::vector<float>   | AsJagged(AsDtype('>f4'), he...\n",
      "el_eta                         | std::vector<float>   | AsJagged(AsDtype('>f4'), he...\n",
      "el_cl_eta                      | std::vector<float>   | AsJagged(AsDtype('>f4'), he...\n",
      "el_phi                         | std::vector<float>   | AsJagged(AsDtype('>f4'), he...\n",
      "el_e                           | std::vector<float>   | AsJagged(AsDtype('>f4'), he...\n",
      "el_charge                      | std::vector<float>   | AsJagged(AsDtype('>f4'), he...\n",
      "el_topoetcone20                | std::vector<float>   | AsJagged(AsDtype('>f4'), he...\n",
      "el_ptvarcone20                 | std::vector<float>   | AsJagged(AsDtype('>f4'), he...\n",
      "el_CF                          | std::vector<int8_t>  | AsJagged(AsDtype('int8'), h...\n",
      "el_d0sig                       | std::vector<float>   | AsJagged(AsDtype('>f4'), he...\n",
      "el_delta_z0_sintheta           | std::vector<float>   | AsJagged(AsDtype('>f4'), he...\n",
      "mu_pt                          | std::vector<float>   | AsJagged(AsDtype('>f4'), he...\n",
      "mu_eta                         | std::vector<float>   | AsJagged(AsDtype('>f4'), he...\n",
      "mu_phi                         | std::vector<float>   | AsJagged(AsDtype('>f4'), he...\n",
      "mu_e                           | std::vector<float>   | AsJagged(AsDtype('>f4'), he...\n",
      "mu_charge                      | std::vector<float>   | AsJagged(AsDtype('>f4'), he...\n",
      "mu_topoetcone20                | std::vector<float>   | AsJagged(AsDtype('>f4'), he...\n",
      "mu_ptvarcone30                 | std::vector<float>   | AsJagged(AsDtype('>f4'), he...\n",
      "mu_d0sig                       | std::vector<float>   | AsJagged(AsDtype('>f4'), he...\n",
      "mu_delta_z0_sintheta           | std::vector<float>   | AsJagged(AsDtype('>f4'), he...\n",
      "jet_pt                         | std::vector<float>   | AsJagged(AsDtype('>f4'), he...\n",
      "jet_eta                        | std::vector<float>   | AsJagged(AsDtype('>f4'), he...\n",
      "jet_phi                        | std::vector<float>   | AsJagged(AsDtype('>f4'), he...\n",
      "jet_e                          | std::vector<float>   | AsJagged(AsDtype('>f4'), he...\n",
      "jet_jvt                        | std::vector<float>   | AsJagged(AsDtype('>f4'), he...\n",
      "met_met                        | float                | AsDtype('>f4')\n",
      "met_sumet                      | float                | AsDtype('>f4')\n",
      "met_phi                        | float                | AsDtype('>f4')\n",
      "ee_2017                        | int32_t              | AsDtype('>i4')\n",
      "mumu_2017                      | int32_t              | AsDtype('>i4')\n",
      "HLT_mu50                       | int8_t               | AsDtype('int8')\n",
      "HLT_e60_lhmedium_nod0          | int8_t               | AsDtype('int8')\n",
      "HLT_mu26_ivarmedium            | int8_t               | AsDtype('int8')\n",
      "HLT_e26_lhtight_nod0_ivarloose | int8_t               | AsDtype('int8')\n",
      "HLT_e140_lhloose_nod0          | int8_t               | AsDtype('int8')\n",
      "el_trigMatch_HLT_e60_lhmedi... | std::vector<int8_t>  | AsJagged(AsDtype('int8'), h...\n",
      "el_trigMatch_HLT_e26_lhtigh... | std::vector<int8_t>  | AsJagged(AsDtype('int8'), h...\n",
      "el_trigMatch_HLT_e140_lhloo... | std::vector<int8_t>  | AsJagged(AsDtype('int8'), h...\n",
      "mu_trigMatch_HLT_mu50          | std::vector<int8_t>  | AsJagged(AsDtype('int8'), h...\n",
      "mu_trigMatch_HLT_mu26_ivarm... | std::vector<int8_t>  | AsJagged(AsDtype('int8'), h...\n",
      "jet_truthflavExtended          | std::vector<int32_t> | AsJagged(AsDtype('>i4'), he...\n",
      "jet_SV1_masssvx                | std::vector<float>   | AsJagged(AsDtype('>f4'), he...\n",
      "jet_SV1_NGTinSvx               | std::vector<int32_t> | AsJagged(AsDtype('>i4'), he...\n",
      "jet_dips_pu                    | std::vector<double>  | AsJagged(AsDtype('>f8'), he...\n",
      "jet_dips_pb                    | std::vector<double>  | AsJagged(AsDtype('>f8'), he...\n",
      "jet_dips_pc                    | std::vector<double>  | AsJagged(AsDtype('>f8'), he...\n",
      "jet_dipsflip_pu                | std::vector<double>  | AsJagged(AsDtype('>f8'), he...\n",
      "jet_dipsflip_pb                | std::vector<double>  | AsJagged(AsDtype('>f8'), he...\n",
      "jet_dipsflip_pc                | std::vector<double>  | AsJagged(AsDtype('>f8'), he...\n",
      "jet_DL1d_pu                    | std::vector<double>  | AsJagged(AsDtype('>f8'), he...\n",
      "jet_DL1d_pb                    | std::vector<double>  | AsJagged(AsDtype('>f8'), he...\n",
      "jet_DL1d_pc                    | std::vector<double>  | AsJagged(AsDtype('>f8'), he...\n",
      "jet_DL1dflip_pu                | std::vector<double>  | AsJagged(AsDtype('>f8'), he...\n",
      "jet_DL1dflip_pb                | std::vector<double>  | AsJagged(AsDtype('>f8'), he...\n",
      "jet_DL1dflip_pc                | std::vector<double>  | AsJagged(AsDtype('>f8'), he...\n",
      "jet_GN2_pu                     | std::vector<double>  | AsJagged(AsDtype('>f8'), he...\n",
      "jet_GN2_pb                     | std::vector<double>  | AsJagged(AsDtype('>f8'), he...\n",
      "jet_GN2_pc                     | std::vector<double>  | AsJagged(AsDtype('>f8'), he...\n",
      "jet_GN2Flip_pu                 | std::vector<double>  | AsJagged(AsDtype('>f8'), he...\n",
      "jet_GN2Flip_pb                 | std::vector<double>  | AsJagged(AsDtype('>f8'), he...\n",
      "jet_GN2Flip_pc                 | std::vector<double>  | AsJagged(AsDtype('>f8'), he...\n"
     ]
    }
   ],
   "source": [
    "tree.show(name_width=30, typename_width=20)"
   ]
  },
  {
   "cell_type": "code",
   "execution_count": 20,
   "id": "2e599696-83a0-4e42-bb64-98bd1640603f",
   "metadata": {},
   "outputs": [
    {
     "name": "stdout",
     "output_type": "stream",
     "text": [
      "[{eventNumber: 1471875199, runNumber: 330294, mcChannelNumber: 0, ...}, ...]\n",
      "[{eventNumber: 1120391, runNumber: 326439, mcChannelNumber: 0, ...}, ..., {...}]\n",
      "[{eventNumber: 1181432055, runNumber: 330294, mcChannelNumber: 0, ...}, ...]\n",
      "[{eventNumber: 111735957, runNumber: 326468, mcChannelNumber: 0, ...}, ...]\n",
      "[{eventNumber: 303546754, runNumber: 331082, mcChannelNumber: 0, ...}, ...]\n",
      "[{eventNumber: 485783514, runNumber: 327761, mcChannelNumber: 0, ...}, ...]\n",
      "[{eventNumber: 224264351, runNumber: 332896, mcChannelNumber: 0, ...}, ...]\n",
      "[{eventNumber: 696477452, runNumber: 330166, mcChannelNumber: 0, ...}, ...]\n"
     ]
    },
    {
     "ename": "KeyboardInterrupt",
     "evalue": "",
     "output_type": "error",
     "traceback": [
      "\u001b[0;31m---------------------------------------------------------------------------\u001b[0m",
      "\u001b[0;31mKeyboardInterrupt\u001b[0m                         Traceback (most recent call last)",
      "Cell \u001b[0;32mIn[20], line 1\u001b[0m\n\u001b[0;32m----> 1\u001b[0m \u001b[38;5;28;01mfor\u001b[39;00m batch \u001b[38;5;129;01min\u001b[39;00m uproot\u001b[38;5;241m.\u001b[39miterate(stco\u001b[38;5;241m.\u001b[39min_dir_data_run2\u001b[38;5;241m+\u001b[39m\u001b[38;5;124m\"\u001b[39m\u001b[38;5;124m/*.root:nominal\u001b[39m\u001b[38;5;124m\"\u001b[39m,\u001b[38;5;28;01mNone\u001b[39;00m,steps\u001b[38;5;241m=\u001b[39m\u001b[38;5;241m100\u001b[39m):\n\u001b[1;32m      2\u001b[0m     \u001b[38;5;28mprint\u001b[39m(batch)\n",
      "File \u001b[0;32m/eos/home-k/kiwoznia/software/.pyenv/versions/3.10.13/lib/python3.10/site-packages/uproot/behaviors/TBranch.py:192\u001b[0m, in \u001b[0;36miterate\u001b[0;34m(files, expressions, cut, filter_name, filter_typename, filter_branch, aliases, language, step_size, decompression_executor, interpretation_executor, library, ak_add_doc, how, report, custom_classes, allow_missing, **options)\u001b[0m\n\u001b[1;32m    190\u001b[0m \u001b[38;5;28;01mwith\u001b[39;00m hasbranches:\n\u001b[1;32m    191\u001b[0m     \u001b[38;5;28;01mtry\u001b[39;00m:\n\u001b[0;32m--> 192\u001b[0m         \u001b[38;5;28;01mfor\u001b[39;00m item \u001b[38;5;129;01min\u001b[39;00m hasbranches\u001b[38;5;241m.\u001b[39miterate(\n\u001b[1;32m    193\u001b[0m             expressions\u001b[38;5;241m=\u001b[39mexpressions,\n\u001b[1;32m    194\u001b[0m             cut\u001b[38;5;241m=\u001b[39mcut,\n\u001b[1;32m    195\u001b[0m             filter_name\u001b[38;5;241m=\u001b[39mfilter_name,\n\u001b[1;32m    196\u001b[0m             filter_typename\u001b[38;5;241m=\u001b[39mfilter_typename,\n\u001b[1;32m    197\u001b[0m             filter_branch\u001b[38;5;241m=\u001b[39mfilter_branch,\n\u001b[1;32m    198\u001b[0m             aliases\u001b[38;5;241m=\u001b[39maliases,\n\u001b[1;32m    199\u001b[0m             language\u001b[38;5;241m=\u001b[39mlanguage,\n\u001b[1;32m    200\u001b[0m             step_size\u001b[38;5;241m=\u001b[39mstep_size,\n\u001b[1;32m    201\u001b[0m             decompression_executor\u001b[38;5;241m=\u001b[39mdecompression_executor,\n\u001b[1;32m    202\u001b[0m             interpretation_executor\u001b[38;5;241m=\u001b[39minterpretation_executor,\n\u001b[1;32m    203\u001b[0m             library\u001b[38;5;241m=\u001b[39mlibrary,\n\u001b[1;32m    204\u001b[0m             ak_add_doc\u001b[38;5;241m=\u001b[39mak_add_doc,\n\u001b[1;32m    205\u001b[0m             how\u001b[38;5;241m=\u001b[39mhow,\n\u001b[1;32m    206\u001b[0m             report\u001b[38;5;241m=\u001b[39mreport,\n\u001b[1;32m    207\u001b[0m         ):\n\u001b[1;32m    208\u001b[0m             \u001b[38;5;28;01mif\u001b[39;00m report:\n\u001b[1;32m    209\u001b[0m                 arrays, report \u001b[38;5;241m=\u001b[39m item\n",
      "File \u001b[0;32m/eos/home-k/kiwoznia/software/.pyenv/versions/3.10.13/lib/python3.10/site-packages/uproot/behaviors/TBranch.py:1077\u001b[0m, in \u001b[0;36mHasBranches.iterate\u001b[0;34m(self, expressions, cut, filter_name, filter_typename, filter_branch, aliases, language, entry_start, entry_stop, step_size, decompression_executor, interpretation_executor, library, ak_add_doc, how, report)\u001b[0m\n\u001b[1;32m   1075\u001b[0m arrays \u001b[38;5;241m=\u001b[39m {}\n\u001b[1;32m   1076\u001b[0m interp_options \u001b[38;5;241m=\u001b[39m {\u001b[38;5;124m\"\u001b[39m\u001b[38;5;124mak_add_doc\u001b[39m\u001b[38;5;124m\"\u001b[39m: ak_add_doc}\n\u001b[0;32m-> 1077\u001b[0m \u001b[43m_ranges_or_baskets_to_arrays\u001b[49m\u001b[43m(\u001b[49m\n\u001b[1;32m   1078\u001b[0m \u001b[43m    \u001b[49m\u001b[38;5;28;43mself\u001b[39;49m\u001b[43m,\u001b[49m\n\u001b[1;32m   1079\u001b[0m \u001b[43m    \u001b[49m\u001b[43mranges_or_baskets\u001b[49m\u001b[43m,\u001b[49m\n\u001b[1;32m   1080\u001b[0m \u001b[43m    \u001b[49m\u001b[43mbranchid_interpretation\u001b[49m\u001b[43m,\u001b[49m\n\u001b[1;32m   1081\u001b[0m \u001b[43m    \u001b[49m\u001b[43msub_entry_start\u001b[49m\u001b[43m,\u001b[49m\n\u001b[1;32m   1082\u001b[0m \u001b[43m    \u001b[49m\u001b[43msub_entry_stop\u001b[49m\u001b[43m,\u001b[49m\n\u001b[1;32m   1083\u001b[0m \u001b[43m    \u001b[49m\u001b[43mdecompression_executor\u001b[49m\u001b[43m,\u001b[49m\n\u001b[1;32m   1084\u001b[0m \u001b[43m    \u001b[49m\u001b[43minterpretation_executor\u001b[49m\u001b[43m,\u001b[49m\n\u001b[1;32m   1085\u001b[0m \u001b[43m    \u001b[49m\u001b[43mlibrary\u001b[49m\u001b[43m,\u001b[49m\n\u001b[1;32m   1086\u001b[0m \u001b[43m    \u001b[49m\u001b[43marrays\u001b[49m\u001b[43m,\u001b[49m\n\u001b[1;32m   1087\u001b[0m \u001b[43m    \u001b[49m\u001b[38;5;28;43;01mTrue\u001b[39;49;00m\u001b[43m,\u001b[49m\n\u001b[1;32m   1088\u001b[0m \u001b[43m    \u001b[49m\u001b[43minterp_options\u001b[49m\u001b[43m,\u001b[49m\n\u001b[1;32m   1089\u001b[0m \u001b[43m\u001b[49m\u001b[43m)\u001b[49m\n\u001b[1;32m   1091\u001b[0m _fix_asgrouped(\n\u001b[1;32m   1092\u001b[0m     arrays,\n\u001b[1;32m   1093\u001b[0m     expression_context,\n\u001b[0;32m   (...)\u001b[0m\n\u001b[1;32m   1097\u001b[0m     ak_add_doc,\n\u001b[1;32m   1098\u001b[0m )\n\u001b[1;32m   1100\u001b[0m output \u001b[38;5;241m=\u001b[39m language\u001b[38;5;241m.\u001b[39mcompute_expressions(\n\u001b[1;32m   1101\u001b[0m     \u001b[38;5;28mself\u001b[39m,\n\u001b[1;32m   1102\u001b[0m     arrays,\n\u001b[0;32m   (...)\u001b[0m\n\u001b[1;32m   1107\u001b[0m     \u001b[38;5;28mself\u001b[39m\u001b[38;5;241m.\u001b[39mobject_path,\n\u001b[1;32m   1108\u001b[0m )\n",
      "File \u001b[0;32m/eos/home-k/kiwoznia/software/.pyenv/versions/3.10.13/lib/python3.10/site-packages/uproot/behaviors/TBranch.py:3133\u001b[0m, in \u001b[0;36m_ranges_or_baskets_to_arrays\u001b[0;34m(hasbranches, ranges_or_baskets, branchid_interpretation, entry_start, entry_stop, decompression_executor, interpretation_executor, library, arrays, update_ranges_or_baskets, interp_options)\u001b[0m\n\u001b[1;32m   3131\u001b[0m \u001b[38;5;28;01mif\u001b[39;00m \u001b[38;5;28misinstance\u001b[39m(obj, uproot\u001b[38;5;241m.\u001b[39msource\u001b[38;5;241m.\u001b[39mchunk\u001b[38;5;241m.\u001b[39mChunk):\n\u001b[1;32m   3132\u001b[0m     args \u001b[38;5;241m=\u001b[39m range_args[(obj\u001b[38;5;241m.\u001b[39mstart, obj\u001b[38;5;241m.\u001b[39mstop)]\n\u001b[0;32m-> 3133\u001b[0m     \u001b[43mdecompression_executor\u001b[49m\u001b[38;5;241;43m.\u001b[39;49m\u001b[43msubmit\u001b[49m\u001b[43m(\u001b[49m\u001b[43mchunk_to_basket\u001b[49m\u001b[43m,\u001b[49m\u001b[43m \u001b[49m\u001b[43mobj\u001b[49m\u001b[43m,\u001b[49m\u001b[43m \u001b[49m\u001b[38;5;241;43m*\u001b[39;49m\u001b[43margs\u001b[49m\u001b[43m)\u001b[49m\n\u001b[1;32m   3135\u001b[0m \u001b[38;5;28;01melif\u001b[39;00m \u001b[38;5;28misinstance\u001b[39m(obj, uproot\u001b[38;5;241m.\u001b[39mmodels\u001b[38;5;241m.\u001b[39mTBasket\u001b[38;5;241m.\u001b[39mModel_TBasket):\n\u001b[1;32m   3136\u001b[0m     interpretation_executor\u001b[38;5;241m.\u001b[39msubmit(basket_to_array, obj)\n",
      "File \u001b[0;32m/eos/home-k/kiwoznia/software/.pyenv/versions/3.10.13/lib/python3.10/site-packages/uproot/source/futures.py:104\u001b[0m, in \u001b[0;36mTrivialExecutor.submit\u001b[0;34m(self, task, *args, **kwargs)\u001b[0m\n\u001b[1;32m    100\u001b[0m \u001b[38;5;28;01mdef\u001b[39;00m \u001b[38;5;21msubmit\u001b[39m(\u001b[38;5;28mself\u001b[39m, task, \u001b[38;5;241m/\u001b[39m, \u001b[38;5;241m*\u001b[39margs, \u001b[38;5;241m*\u001b[39m\u001b[38;5;241m*\u001b[39mkwargs):\n\u001b[1;32m    101\u001b[0m \u001b[38;5;250m    \u001b[39m\u001b[38;5;124;03m\"\"\"\u001b[39;00m\n\u001b[1;32m    102\u001b[0m \u001b[38;5;124;03m    Immediately runs ``task(*args)``.\u001b[39;00m\n\u001b[1;32m    103\u001b[0m \u001b[38;5;124;03m    \"\"\"\u001b[39;00m\n\u001b[0;32m--> 104\u001b[0m     \u001b[38;5;28;01mreturn\u001b[39;00m TrivialFuture(\u001b[43mtask\u001b[49m\u001b[43m(\u001b[49m\u001b[38;5;241;43m*\u001b[39;49m\u001b[43margs\u001b[49m\u001b[43m,\u001b[49m\u001b[43m \u001b[49m\u001b[38;5;241;43m*\u001b[39;49m\u001b[38;5;241;43m*\u001b[39;49m\u001b[43mkwargs\u001b[49m\u001b[43m)\u001b[49m)\n",
      "File \u001b[0;32m/eos/home-k/kiwoznia/software/.pyenv/versions/3.10.13/lib/python3.10/site-packages/uproot/behaviors/TBranch.py:3056\u001b[0m, in \u001b[0;36m_ranges_or_baskets_to_arrays.<locals>.chunk_to_basket\u001b[0;34m(chunk, branch, basket_num)\u001b[0m\n\u001b[1;32m   3054\u001b[0m \u001b[38;5;28;01mtry\u001b[39;00m:\n\u001b[1;32m   3055\u001b[0m     cursor \u001b[38;5;241m=\u001b[39m uproot\u001b[38;5;241m.\u001b[39msource\u001b[38;5;241m.\u001b[39mcursor\u001b[38;5;241m.\u001b[39mCursor(chunk\u001b[38;5;241m.\u001b[39mstart)\n\u001b[0;32m-> 3056\u001b[0m     basket \u001b[38;5;241m=\u001b[39m \u001b[43muproot\u001b[49m\u001b[38;5;241;43m.\u001b[39;49m\u001b[43mmodels\u001b[49m\u001b[38;5;241;43m.\u001b[39;49m\u001b[43mTBasket\u001b[49m\u001b[38;5;241;43m.\u001b[39;49m\u001b[43mModel_TBasket\u001b[49m\u001b[38;5;241;43m.\u001b[39;49m\u001b[43mread\u001b[49m\u001b[43m(\u001b[49m\n\u001b[1;32m   3057\u001b[0m \u001b[43m        \u001b[49m\u001b[43mchunk\u001b[49m\u001b[43m,\u001b[49m\n\u001b[1;32m   3058\u001b[0m \u001b[43m        \u001b[49m\u001b[43mcursor\u001b[49m\u001b[43m,\u001b[49m\n\u001b[1;32m   3059\u001b[0m \u001b[43m        \u001b[49m\u001b[43m{\u001b[49m\u001b[38;5;124;43m\"\u001b[39;49m\u001b[38;5;124;43mbasket_num\u001b[39;49m\u001b[38;5;124;43m\"\u001b[39;49m\u001b[43m:\u001b[49m\u001b[43m \u001b[49m\u001b[43mbasket_num\u001b[49m\u001b[43m}\u001b[49m\u001b[43m,\u001b[49m\n\u001b[1;32m   3060\u001b[0m \u001b[43m        \u001b[49m\u001b[43mhasbranches\u001b[49m\u001b[38;5;241;43m.\u001b[39;49m\u001b[43m_file\u001b[49m\u001b[43m,\u001b[49m\n\u001b[1;32m   3061\u001b[0m \u001b[43m        \u001b[49m\u001b[43mhasbranches\u001b[49m\u001b[38;5;241;43m.\u001b[39;49m\u001b[43m_file\u001b[49m\u001b[43m,\u001b[49m\n\u001b[1;32m   3062\u001b[0m \u001b[43m        \u001b[49m\u001b[43mbranch\u001b[49m\u001b[43m,\u001b[49m\n\u001b[1;32m   3063\u001b[0m \u001b[43m    \u001b[49m\u001b[43m)\u001b[49m\n\u001b[1;32m   3064\u001b[0m     original_index \u001b[38;5;241m=\u001b[39m range_original_index[(chunk\u001b[38;5;241m.\u001b[39mstart, chunk\u001b[38;5;241m.\u001b[39mstop)]\n\u001b[1;32m   3065\u001b[0m     \u001b[38;5;28;01mif\u001b[39;00m update_ranges_or_baskets:\n",
      "File \u001b[0;32m/eos/home-k/kiwoznia/software/.pyenv/versions/3.10.13/lib/python3.10/site-packages/uproot/model.py:853\u001b[0m, in \u001b[0;36mModel.read\u001b[0;34m(cls, chunk, cursor, context, file, selffile, parent, concrete)\u001b[0m\n\u001b[1;32m    851\u001b[0m     forth_obj\u001b[38;5;241m.\u001b[39madd_node(forth_stash)\n\u001b[1;32m    852\u001b[0m     forth_obj\u001b[38;5;241m.\u001b[39mpush_active_node(forth_stash)\n\u001b[0;32m--> 853\u001b[0m \u001b[38;5;28;43mself\u001b[39;49m\u001b[38;5;241;43m.\u001b[39;49m\u001b[43mread_members\u001b[49m\u001b[43m(\u001b[49m\u001b[43mchunk\u001b[49m\u001b[43m,\u001b[49m\u001b[43m \u001b[49m\u001b[43mcursor\u001b[49m\u001b[43m,\u001b[49m\u001b[43m \u001b[49m\u001b[43mcontext\u001b[49m\u001b[43m,\u001b[49m\u001b[43m \u001b[49m\u001b[43mfile\u001b[49m\u001b[43m)\u001b[49m\n\u001b[1;32m    854\u001b[0m \u001b[38;5;28;01mif\u001b[39;00m forth_obj \u001b[38;5;129;01mis\u001b[39;00m \u001b[38;5;129;01mnot\u001b[39;00m \u001b[38;5;28;01mNone\u001b[39;00m:\n\u001b[1;32m    855\u001b[0m     forth_obj\u001b[38;5;241m.\u001b[39mpop_active_node()\n",
      "File \u001b[0;32m/eos/home-k/kiwoznia/software/.pyenv/versions/3.10.13/lib/python3.10/site-packages/uproot/models/TBasket.py:292\u001b[0m, in \u001b[0;36mModel_TBasket.read_members\u001b[0;34m(self, chunk, cursor, context, file)\u001b[0m\n\u001b[1;32m    290\u001b[0m \u001b[38;5;28;01mif\u001b[39;00m compressed_bytes \u001b[38;5;241m!=\u001b[39m uncompressed_bytes:\n\u001b[1;32m    291\u001b[0m     \u001b[38;5;28mself\u001b[39m\u001b[38;5;241m.\u001b[39m_block_compression_info \u001b[38;5;241m=\u001b[39m []\n\u001b[0;32m--> 292\u001b[0m     uncompressed \u001b[38;5;241m=\u001b[39m \u001b[43muproot\u001b[49m\u001b[38;5;241;43m.\u001b[39;49m\u001b[43mcompression\u001b[49m\u001b[38;5;241;43m.\u001b[39;49m\u001b[43mdecompress\u001b[49m\u001b[43m(\u001b[49m\n\u001b[1;32m    293\u001b[0m \u001b[43m        \u001b[49m\u001b[43mchunk\u001b[49m\u001b[43m,\u001b[49m\n\u001b[1;32m    294\u001b[0m \u001b[43m        \u001b[49m\u001b[43mcursor\u001b[49m\u001b[43m,\u001b[49m\n\u001b[1;32m    295\u001b[0m \u001b[43m        \u001b[49m\u001b[43m{\u001b[49m\u001b[43m}\u001b[49m\u001b[43m,\u001b[49m\n\u001b[1;32m    296\u001b[0m \u001b[43m        \u001b[49m\u001b[43mcompressed_bytes\u001b[49m\u001b[43m,\u001b[49m\n\u001b[1;32m    297\u001b[0m \u001b[43m        \u001b[49m\u001b[43muncompressed_bytes\u001b[49m\u001b[43m,\u001b[49m\n\u001b[1;32m    298\u001b[0m \u001b[43m        \u001b[49m\u001b[38;5;28;43mself\u001b[39;49m\u001b[38;5;241;43m.\u001b[39;49m\u001b[43m_block_compression_info\u001b[49m\u001b[43m,\u001b[49m\n\u001b[1;32m    299\u001b[0m \u001b[43m    \u001b[49m\u001b[43m)\u001b[49m\n\u001b[1;32m    300\u001b[0m     \u001b[38;5;28mself\u001b[39m\u001b[38;5;241m.\u001b[39m_block_compression_info \u001b[38;5;241m=\u001b[39m \u001b[38;5;28mtuple\u001b[39m(\u001b[38;5;28mself\u001b[39m\u001b[38;5;241m.\u001b[39m_block_compression_info)\n\u001b[1;32m    301\u001b[0m     \u001b[38;5;28mself\u001b[39m\u001b[38;5;241m.\u001b[39m_raw_data \u001b[38;5;241m=\u001b[39m uncompressed\u001b[38;5;241m.\u001b[39mget(\n\u001b[1;32m    302\u001b[0m         \u001b[38;5;241m0\u001b[39m,\n\u001b[1;32m    303\u001b[0m         uncompressed_bytes,\n\u001b[1;32m    304\u001b[0m         uproot\u001b[38;5;241m.\u001b[39msource\u001b[38;5;241m.\u001b[39mcursor\u001b[38;5;241m.\u001b[39mCursor(\u001b[38;5;241m0\u001b[39m),\n\u001b[1;32m    305\u001b[0m         context,\n\u001b[1;32m    306\u001b[0m     )\n",
      "File \u001b[0;32m/eos/home-k/kiwoznia/software/.pyenv/versions/3.10.13/lib/python3.10/site-packages/uproot/compression.py:412\u001b[0m, in \u001b[0;36mdecompress\u001b[0;34m(chunk, cursor, context, compressed_bytes, uncompressed_bytes, block_info)\u001b[0m\n\u001b[1;32m    407\u001b[0m \u001b[38;5;28;01mif\u001b[39;00m block_info \u001b[38;5;129;01mis\u001b[39;00m \u001b[38;5;129;01mnot\u001b[39;00m \u001b[38;5;28;01mNone\u001b[39;00m:\n\u001b[1;32m    408\u001b[0m     block_info\u001b[38;5;241m.\u001b[39mappend(\n\u001b[1;32m    409\u001b[0m         (decompressor\u001b[38;5;241m.\u001b[39mname, block_compressed_bytes, block_uncompressed_bytes)\n\u001b[1;32m    410\u001b[0m     )\n\u001b[0;32m--> 412\u001b[0m uncompressed_bytestring \u001b[38;5;241m=\u001b[39m \u001b[43mdecompressor\u001b[49m\u001b[38;5;241;43m.\u001b[39;49m\u001b[43mdecompress\u001b[49m\u001b[43m(\u001b[49m\n\u001b[1;32m    413\u001b[0m \u001b[43m    \u001b[49m\u001b[43mdata\u001b[49m\u001b[43m,\u001b[49m\u001b[43m \u001b[49m\u001b[43mblock_uncompressed_bytes\u001b[49m\n\u001b[1;32m    414\u001b[0m \u001b[43m\u001b[49m\u001b[43m)\u001b[49m\n\u001b[1;32m    416\u001b[0m \u001b[38;5;28;01mif\u001b[39;00m \u001b[38;5;28mlen\u001b[39m(uncompressed_bytestring) \u001b[38;5;241m!=\u001b[39m block_uncompressed_bytes:\n\u001b[1;32m    417\u001b[0m     \u001b[38;5;28;01mraise\u001b[39;00m \u001b[38;5;167;01mValueError\u001b[39;00m(\n\u001b[1;32m    418\u001b[0m \u001b[38;5;250m        \u001b[39m\u001b[38;5;124;03m\"\"\"after successfully decompressing {} blocks, a block of \"\"\"\u001b[39;00m\n\u001b[1;32m    419\u001b[0m \u001b[38;5;250m        \u001b[39m\u001b[38;5;124;03m\"\"\"compressed size {} decompressed to {} bytes, but the \"\"\"\u001b[39;00m\n\u001b[0;32m   (...)\u001b[0m\n\u001b[1;32m    427\u001b[0m         )\n\u001b[1;32m    428\u001b[0m     )\n",
      "File \u001b[0;32m/eos/home-k/kiwoznia/software/.pyenv/versions/3.10.13/lib/python3.10/site-packages/uproot/compression.py:95\u001b[0m, in \u001b[0;36m_DecompressZLIB.decompress\u001b[0;34m(self, data, uncompressed_bytes)\u001b[0m\n\u001b[1;32m     92\u001b[0m \u001b[38;5;28;01mdef\u001b[39;00m \u001b[38;5;21mdecompress\u001b[39m(\u001b[38;5;28mself\u001b[39m, data: \u001b[38;5;28mbytes\u001b[39m, uncompressed_bytes\u001b[38;5;241m=\u001b[39m\u001b[38;5;28;01mNone\u001b[39;00m) \u001b[38;5;241m-\u001b[39m\u001b[38;5;241m>\u001b[39m \u001b[38;5;28mbytes\u001b[39m:\n\u001b[1;32m     93\u001b[0m     \u001b[38;5;28;01mimport\u001b[39;00m \u001b[38;5;21;01mzlib\u001b[39;00m\n\u001b[0;32m---> 95\u001b[0m     \u001b[38;5;28;01mreturn\u001b[39;00m \u001b[43mzlib\u001b[49m\u001b[38;5;241;43m.\u001b[39;49m\u001b[43mdecompress\u001b[49m\u001b[43m(\u001b[49m\u001b[43mdata\u001b[49m\u001b[43m)\u001b[49m\n",
      "\u001b[0;31mKeyboardInterrupt\u001b[0m: "
     ]
    }
   ],
   "source": [
    "for batch in uproot.iterate(stco.in_dir_data_run2+\"/*.root:nominal\",None,steps=100):\n",
    "    print(batch)"
   ]
  },
  {
   "cell_type": "code",
   "execution_count": null,
   "id": "efa9e9e0-739a-45f6-8b0d-b12791b513e5",
   "metadata": {},
   "outputs": [],
   "source": []
  }
 ],
 "metadata": {
  "kernelspec": {
   "display_name": "Python 3",
   "language": "python",
   "name": "python3"
  },
  "language_info": {
   "codemirror_mode": {
    "name": "ipython",
    "version": 3
   },
   "file_extension": ".py",
   "mimetype": "text/x-python",
   "name": "python",
   "nbconvert_exporter": "python",
   "pygments_lexer": "ipython3",
   "version": "3.10.13"
  }
 },
 "nbformat": 4,
 "nbformat_minor": 5
}
