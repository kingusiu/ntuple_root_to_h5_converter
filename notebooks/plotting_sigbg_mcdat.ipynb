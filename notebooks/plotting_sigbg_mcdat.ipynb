{
 "cells": [
  {
   "cell_type": "code",
   "execution_count": 1,
   "id": "b601984f-bcab-435b-9b74-e875c4cf44ae",
   "metadata": {},
   "outputs": [],
   "source": [
    "import uproot\n",
    "import h5py\n",
    "import numpy as np\n",
    "import os\n",
    "import re\n",
    "import awkward as awk\n",
    "import heplot as hepl\n",
    "import importlib\n",
    "import glob\n",
    "from heplot import plotting as heplt\n",
    "import sys\n",
    "sys.path.append('..')"
   ]
  },
  {
   "cell_type": "code",
   "execution_count": 4,
   "id": "37a45526-fda6-41c5-b8bf-6d6f19032191",
   "metadata": {},
   "outputs": [],
   "source": [
    "import src.selection as sele\n",
    "import src.string_constants as stco\n",
    "import src.generator as gene\n",
    "import src.reader as read"
   ]
  },
  {
   "cell_type": "markdown",
   "id": "a07569f4-a5cc-4775-ae7d-32106c8af0a3",
   "metadata": {},
   "source": [
    "# read samples"
   ]
  },
  {
   "cell_type": "markdown",
   "id": "1fd3a0c3-c2e0-4e26-800f-95571fd13b95",
   "metadata": {},
   "source": [
    "# mc"
   ]
  },
  {
   "cell_type": "code",
   "execution_count": 8,
   "id": "ea0f2e8b-0244-4fc0-a620-006e568edfbe",
   "metadata": {},
   "outputs": [],
   "source": [
    "feature_names = ['el_e','mu_e','el_charge','mu_charge','el_pt','mu_pt', 'el_phi','mu_phi',\\\n",
    "                      'el_eta', 'mu_eta', 'jet_e', 'jet_pt', 'jet_GN2_pu', 'jet_GN2_pb', 'jet_GN2_pc']\n",
    "\n",
    "### read MC (signal and background)\n",
    "\n",
    "## signal (one file per ee, mumu, tautau)\n",
    "\n",
    "# read electron samples\n",
    "path_ee = glob.glob(os.path.join(stco.in_dir_mc,'*'+stco.ds_ids_sig['ee'][0]+'*'))[0]\n",
    "fname_ee = os.listdir(path_ee)[3]\n",
    "samples_ee = read.read_samples_from_file(os.path.join(path_ee,fname_ee),feature_names)"
   ]
  },
  {
   "cell_type": "code",
   "execution_count": 9,
   "id": "5602dd8c-5dd9-4d55-bf31-627ae7368e3b",
   "metadata": {},
   "outputs": [],
   "source": [
    "samples = sele.select_lightjets(samples_ee)"
   ]
  },
  {
   "cell_type": "code",
   "execution_count": 13,
   "id": "01d0156e-897f-4fc9-b876-2634b4dbb145",
   "metadata": {},
   "outputs": [],
   "source": [
    "jet_fields = [field for field in samples.fields if 'jet_' in field]"
   ]
  },
  {
   "cell_type": "code",
   "execution_count": 15,
   "id": "421b2a33-8bd0-4eb1-b6f1-f02c155bce45",
   "metadata": {},
   "outputs": [
    {
     "data": {
      "text/plain": [
       "array([(5, 5, 5, 5, 5), (2, 2, 2, 2, 2), (2, 2, 2, 2, 2), ...,\n",
       "       (4, 4, 4, 4, 4), (2, 2, 2, 2, 2), (5, 5, 5, 5, 5)],\n",
       "      dtype=[('jet_e', '<i8'), ('jet_pt', '<i8'), ('jet_GN2_pu', '<i8'), ('jet_GN2_pb', '<i8'), ('jet_GN2_pc', '<i8')])"
      ]
     },
     "execution_count": 15,
     "metadata": {},
     "output_type": "execute_result"
    }
   ],
   "source": [
    "awk.to_numpy(awk.num(samples[jet_fields]))"
   ]
  },
  {
   "cell_type": "code",
   "execution_count": 20,
   "id": "db65f247-672d-460f-8d10-42d3c4b04fa3",
   "metadata": {},
   "outputs": [
    {
     "name": "stdout",
     "output_type": "stream",
     "text": [
      "True\n"
     ]
    }
   ],
   "source": [
    "# all features starting with 'jet_' have length len(jets)\n",
    "rr = awk.to_numpy(awk.num(samples[jet_fields]))\n",
    "print(all(len(set(r)) == 1 for r in rr))"
   ]
  },
  {
   "cell_type": "code",
   "execution_count": 21,
   "id": "07c598fd-1faa-47cd-841f-5ff8ed50bf28",
   "metadata": {},
   "outputs": [],
   "source": [
    "leading_jet_mask = awk.argmax(samples['jet_pt'],axis=1,keepdims=True)"
   ]
  },
  {
   "cell_type": "code",
   "execution_count": 22,
   "id": "ab5f951e-0877-4409-88dd-2b5a8b436b78",
   "metadata": {},
   "outputs": [
    {
     "data": {
      "text/html": [
       "<pre>[[0],\n",
       " [0],\n",
       " [0],\n",
       " [0],\n",
       " [0],\n",
       " [0],\n",
       " [0],\n",
       " [0],\n",
       " [0],\n",
       " [0],\n",
       " ...,\n",
       " [0],\n",
       " [0],\n",
       " [0],\n",
       " [0],\n",
       " [0],\n",
       " [0],\n",
       " [0],\n",
       " [0],\n",
       " [0]]\n",
       "--------------------------\n",
       "type: 1624844 * 1 * ?int64</pre>"
      ],
      "text/plain": [
       "<Array [[0], [0], [0], [0], ..., [0], [0], [0]] type='1624844 * 1 * ?int64'>"
      ]
     },
     "execution_count": 22,
     "metadata": {},
     "output_type": "execute_result"
    }
   ],
   "source": [
    "leading_jet_mask"
   ]
  },
  {
   "cell_type": "code",
   "execution_count": 25,
   "id": "b74cbbae-4877-4031-9537-69ab42e53d7e",
   "metadata": {},
   "outputs": [],
   "source": [
    "for jet_field in jet_fields:\n",
    "    samples[jet_field+'_lead'] = samples[jet_field][leading_jet_mask]"
   ]
  },
  {
   "cell_type": "markdown",
   "id": "c075bbea-0e77-4611-92e1-cee48318b141",
   "metadata": {},
   "source": [
    "## data"
   ]
  },
  {
   "cell_type": "code",
   "execution_count": 4,
   "id": "c727116a-0758-4276-99ee-3110d6d97d5d",
   "metadata": {},
   "outputs": [
    {
     "ename": "AttributeError",
     "evalue": "module 'src.string_constants' has no attribute 'in_dir_data'",
     "output_type": "error",
     "traceback": [
      "\u001b[0;31m---------------------------------------------------------------------------\u001b[0m",
      "\u001b[0;31mAttributeError\u001b[0m                            Traceback (most recent call last)",
      "Cell \u001b[0;32mIn[4], line 3\u001b[0m\n\u001b[1;32m      1\u001b[0m N_batch \u001b[38;5;241m=\u001b[39m \u001b[38;5;28mint\u001b[39m(\u001b[38;5;241m1e3\u001b[39m)\n\u001b[1;32m      2\u001b[0m N_total \u001b[38;5;241m=\u001b[39m \u001b[38;5;28mint\u001b[39m(\u001b[38;5;241m1e4\u001b[39m)\n\u001b[0;32m----> 3\u001b[0m generator_ee \u001b[38;5;241m=\u001b[39m gene\u001b[38;5;241m.\u001b[39msample_generator([\u001b[43mstco\u001b[49m\u001b[38;5;241;43m.\u001b[39;49m\u001b[43min_dir_data\u001b[49m], N_batch, selection_fun\u001b[38;5;241m=\u001b[39msele\u001b[38;5;241m.\u001b[39mselect_lightjets)\n\u001b[1;32m      5\u001b[0m samples_concat \u001b[38;5;241m=\u001b[39m \u001b[38;5;28;01mNone\u001b[39;00m\n\u001b[1;32m      7\u001b[0m \u001b[38;5;28;01mfor\u001b[39;00m sample_batch \u001b[38;5;129;01min\u001b[39;00m generator_ee:\n",
      "\u001b[0;31mAttributeError\u001b[0m: module 'src.string_constants' has no attribute 'in_dir_data'"
     ]
    }
   ],
   "source": [
    "N_batch = int(1e3)\n",
    "N_total = int(1e4)\n",
    "generator_ee = gene.sample_generator([stco.in_dir_data], N_batch, selection_fun=sele.select_lightjets)\n",
    "\n",
    "samples_concat = None\n",
    "\n",
    "for sample_batch in generator_ee:\n",
    "\n",
    "    if samples_concat is None:\n",
    "        samples_concat = sample_batch\n",
    "    else:\n",
    "        samples_concat = awk.concatenate([samples_concat,sample_batch])\n",
    "\n",
    "    if len(samples_concat) >= N_total:\n",
    "        break\n",
    "\n",
    "print(f'{len(samples_concat)} data samples read')\n"
   ]
  },
  {
   "cell_type": "code",
   "execution_count": null,
   "id": "2643e544-a90b-4d46-b836-9b6f87fb629f",
   "metadata": {},
   "outputs": [],
   "source": [
    "leading_jet_mask = awk.argmax(samples_concat['jet_pt'],axis=1,keepdims=True)"
   ]
  },
  {
   "cell_type": "code",
   "execution_count": 5,
   "id": "730dd119-1d0a-48b4-82cf-6df8f598de83",
   "metadata": {},
   "outputs": [],
   "source": [
    "jet_fields = [field for field in samples_concat.fields if 'jet_' in field]"
   ]
  },
  {
   "cell_type": "code",
   "execution_count": 6,
   "id": "6c2431c3-d31d-4184-9213-2ab67306a366",
   "metadata": {},
   "outputs": [],
   "source": [
    "for jet_field in jet_fields:\n",
    "    samples_concat[jet_field+'_lead'] = samples_concat[jet_field][leading_jet_mask]"
   ]
  },
  {
   "cell_type": "code",
   "execution_count": 7,
   "id": "b139e6e3-e06f-43e3-acdf-273e9e8e42dd",
   "metadata": {},
   "outputs": [
    {
     "data": {
      "text/plain": [
       "array([(2, 2, 2, 2, 2, 2, 2, 2, 2, 2, 2, 2, 2, 2, 2, 2, 2, 2, 2, 2, 2, 2, 2, 2, 2, 2),\n",
       "       (3, 3, 3, 3, 3, 3, 3, 3, 3, 3, 3, 3, 3, 3, 3, 3, 3, 3, 3, 3, 3, 3, 3, 3, 3, 3),\n",
       "       (2, 2, 2, 2, 2, 2, 2, 2, 2, 2, 2, 2, 2, 2, 2, 2, 2, 2, 2, 2, 2, 2, 2, 2, 2, 2),\n",
       "       ...,\n",
       "       (1, 1, 1, 1, 1, 1, 1, 1, 1, 1, 1, 1, 1, 1, 1, 1, 1, 1, 1, 1, 1, 1, 1, 1, 1, 1),\n",
       "       (2, 2, 2, 2, 2, 2, 2, 2, 2, 2, 2, 2, 2, 2, 2, 2, 2, 2, 2, 2, 2, 2, 2, 2, 2, 2),\n",
       "       (1, 1, 1, 1, 1, 1, 1, 1, 1, 1, 1, 1, 1, 1, 1, 1, 1, 1, 1, 1, 1, 1, 1, 1, 1, 1)],\n",
       "      dtype=[('jet_pt', '<i8'), ('jet_eta', '<i8'), ('jet_phi', '<i8'), ('jet_e', '<i8'), ('jet_jvt', '<i8'), ('jet_truthflavExtended', '<i8'), ('jet_SV1_masssvx', '<i8'), ('jet_SV1_NGTinSvx', '<i8'), ('jet_dips_pu', '<i8'), ('jet_dips_pb', '<i8'), ('jet_dips_pc', '<i8'), ('jet_dipsflip_pu', '<i8'), ('jet_dipsflip_pb', '<i8'), ('jet_dipsflip_pc', '<i8'), ('jet_DL1d_pu', '<i8'), ('jet_DL1d_pb', '<i8'), ('jet_DL1d_pc', '<i8'), ('jet_DL1dflip_pu', '<i8'), ('jet_DL1dflip_pb', '<i8'), ('jet_DL1dflip_pc', '<i8'), ('jet_GN2_pu', '<i8'), ('jet_GN2_pb', '<i8'), ('jet_GN2_pc', '<i8'), ('jet_GN2Flip_pu', '<i8'), ('jet_GN2Flip_pb', '<i8'), ('jet_GN2Flip_pc', '<i8')])"
      ]
     },
     "execution_count": 7,
     "metadata": {},
     "output_type": "execute_result"
    }
   ],
   "source": [
    "awk.to_numpy(awk.num(samples_concat[jet_fields]))"
   ]
  },
  {
   "cell_type": "code",
   "execution_count": 8,
   "id": "01182989-512f-4540-8f85-351d3d043076",
   "metadata": {},
   "outputs": [
    {
     "ename": "NameError",
     "evalue": "name 'xx' is not defined",
     "output_type": "error",
     "traceback": [
      "\u001b[0;31m---------------------------------------------------------------------------\u001b[0m",
      "\u001b[0;31mNameError\u001b[0m                                 Traceback (most recent call last)",
      "Cell \u001b[0;32mIn[8], line 1\u001b[0m\n\u001b[0;32m----> 1\u001b[0m \u001b[38;5;28mtype\u001b[39m(\u001b[43mxx\u001b[49m[\u001b[38;5;241m8\u001b[39m])\n",
      "\u001b[0;31mNameError\u001b[0m: name 'xx' is not defined"
     ]
    }
   ],
   "source": [
    "xx = awk.to_numpy(awk.num(samples_concat[jet_fields]))\n",
    "printype(xx[8])"
   ]
  },
  {
   "cell_type": "code",
   "execution_count": null,
   "id": "9301df59-1576-4a79-8702-5767a4eed538",
   "metadata": {},
   "outputs": [],
   "source": [
    "features_to_plot = ['jet_pt_lead','jet_GN2_pu_lead','jet_GN2_pb_lead','jet_GN2_pc_lead']"
   ]
  },
  {
   "cell_type": "code",
   "execution_count": null,
   "id": "b41dae60-6e5f-4082-af59-db43186ef5ca",
   "metadata": {},
   "outputs": [],
   "source": [
    "import matplotlib.pyplot as plt\n",
    "xxx = np.array(samples_concat['jet_pt_lead']).flatten()\n",
    "_ = plt.hist(xxx,bins=100)"
   ]
  },
  {
   "cell_type": "code",
   "execution_count": 63,
   "id": "ef872412-d13f-4764-999b-444e7b7109ce",
   "metadata": {},
   "outputs": [
    {
     "data": {
      "image/png": "[encoded data removed]",
      "text/plain": [
       "<Figure size 550x400 with 1 Axes>"
      ]
     },
     "metadata": {},
     "output_type": "display_data"
    }
   ],
   "source": [
    "for ff in ['jet_pt_lead']:\n",
    "    dd = [np.array(samples_concat[ff]).flatten()]\n",
    "    sample_names = ['data']\n",
    "    heplt.plot_feature_hist_for_n_samples(dd,sample_names,xlabel=ff,show_plt=True,legend_outside=False)"
   ]
  },
  {
   "cell_type": "code",
   "execution_count": 65,
   "id": "e0a3edc0-1883-4754-a1fe-0ed4371b4a7a",
   "metadata": {},
   "outputs": [
    {
     "data": {
      "image/png": "[encoded data removed]",
      "text/plain": [
       "<Figure size 550x400 with 1 Axes>"
      ]
     },
     "metadata": {},
     "output_type": "display_data"
    }
   ],
   "source": [
    "dd = [np.array(samples_concat['jet_GN2_pu_lead']).flatten(),np.array(samples_concat['jet_GN2_pb_lead']).flatten(),np.array(samples_concat['jet_GN2_pc_lead']).flatten()]\n",
    "sample_names = ['pu lead','pb lead','pc lead']\n",
    "heplt.plot_feature_hist_for_n_samples(dd,sample_names,xlabel='px lead',show_plt=True,legend_outside=False)"
   ]
  },
  {
   "cell_type": "code",
   "execution_count": 80,
   "id": "a491b77a-bdf2-40a4-ad54-aa2391bbc035",
   "metadata": {},
   "outputs": [
    {
     "data": {
      "text/plain": [
       "['HLT_e140_lhloose_nod0',\n",
       " 'HLT_e26_lhtight_nod0_ivarloose',\n",
       " 'HLT_e60_lhmedium_nod0',\n",
       " 'HLT_mu26_ivarmedium',\n",
       " 'HLT_mu50',\n",
       " 'Mask',\n",
       " '__class__',\n",
       " '__delattr__',\n",
       " '__dir__',\n",
       " '__doc__',\n",
       " '__eq__',\n",
       " '__format__',\n",
       " '__ge__',\n",
       " '__get__',\n",
       " '__getattribute__',\n",
       " '__gt__',\n",
       " '__hash__',\n",
       " '__init__',\n",
       " '__init_subclass__',\n",
       " '__le__',\n",
       " '__lt__',\n",
       " '__ne__',\n",
       " '__new__',\n",
       " '__reduce__',\n",
       " '__reduce_ex__',\n",
       " '__repr__',\n",
       " '__self__',\n",
       " '__self_class__',\n",
       " '__setattr__',\n",
       " '__sizeof__',\n",
       " '__str__',\n",
       " '__subclasshook__',\n",
       " '__thisclass__',\n",
       " '_attrs',\n",
       " '_behavior',\n",
       " '_cpp_type',\n",
       " '_layout',\n",
       " '_numbaview',\n",
       " 'attrs',\n",
       " 'backgroundFlags',\n",
       " 'behavior',\n",
       " 'cpp_type',\n",
       " 'ee_2017',\n",
       " 'el_CF',\n",
       " 'el_charge',\n",
       " 'el_cl_eta',\n",
       " 'el_d0sig',\n",
       " 'el_delta_z0_sintheta',\n",
       " 'el_e',\n",
       " 'el_eta',\n",
       " 'el_phi',\n",
       " 'el_pt',\n",
       " 'el_ptvarcone20',\n",
       " 'el_topoetcone20',\n",
       " 'el_trigMatch_HLT_e140_lhloose_nod0',\n",
       " 'el_trigMatch_HLT_e26_lhtight_nod0_ivarloose',\n",
       " 'el_trigMatch_HLT_e60_lhmedium_nod0',\n",
       " 'eventNumber',\n",
       " 'fields',\n",
       " 'hasBadMuon',\n",
       " 'is_tuple',\n",
       " 'jet_DL1d_pb',\n",
       " 'jet_DL1d_pc',\n",
       " 'jet_DL1d_pu',\n",
       " 'jet_DL1dflip_pb',\n",
       " 'jet_DL1dflip_pc',\n",
       " 'jet_DL1dflip_pu',\n",
       " 'jet_GN2Flip_pb',\n",
       " 'jet_GN2Flip_pc',\n",
       " 'jet_GN2Flip_pu',\n",
       " 'jet_GN2_pb',\n",
       " 'jet_GN2_pc',\n",
       " 'jet_GN2_pu',\n",
       " 'jet_SV1_NGTinSvx',\n",
       " 'jet_SV1_masssvx',\n",
       " 'jet_dips_pb',\n",
       " 'jet_dips_pc',\n",
       " 'jet_dips_pu',\n",
       " 'jet_dipsflip_pb',\n",
       " 'jet_dipsflip_pc',\n",
       " 'jet_dipsflip_pu',\n",
       " 'jet_e',\n",
       " 'jet_eta',\n",
       " 'jet_jvt',\n",
       " 'jet_phi',\n",
       " 'jet_pt',\n",
       " 'jet_truthflavExtended',\n",
       " 'layout',\n",
       " 'mask',\n",
       " 'mcChannelNumber',\n",
       " 'met_met',\n",
       " 'met_phi',\n",
       " 'met_sumet',\n",
       " 'mu',\n",
       " 'mu_actual',\n",
       " 'mu_actual_original_xAOD',\n",
       " 'mu_charge',\n",
       " 'mu_d0sig',\n",
       " 'mu_delta_z0_sintheta',\n",
       " 'mu_e',\n",
       " 'mu_eta',\n",
       " 'mu_original_xAOD',\n",
       " 'mu_phi',\n",
       " 'mu_pt',\n",
       " 'mu_ptvarcone30',\n",
       " 'mu_topoetcone20',\n",
       " 'mu_trigMatch_HLT_mu26_ivarmedium',\n",
       " 'mu_trigMatch_HLT_mu50',\n",
       " 'mumu_2017',\n",
       " 'nbytes',\n",
       " 'ndim',\n",
       " 'numba_type',\n",
       " 'runNumber',\n",
       " 'show',\n",
       " 'to_list',\n",
       " 'to_numpy',\n",
       " 'tolist',\n",
       " 'type',\n",
       " 'typestr']"
      ]
     },
     "execution_count": 80,
     "metadata": {},
     "output_type": "execute_result"
    }
   ],
   "source": [
    "dir(samples_concat)"
   ]
  },
  {
   "cell_type": "code",
   "execution_count": 46,
   "id": "2105616b-0e3d-4d91-a187-eca2b59b7c92",
   "metadata": {},
   "outputs": [],
   "source": [
    "path_data = glob.glob(os.path.join(stco.in_dir_data_run2,'*.root'))"
   ]
  },
  {
   "cell_type": "code",
   "execution_count": 47,
   "id": "66fe9692-9976-460e-8260-79f3894bc135",
   "metadata": {},
   "outputs": [],
   "source": [
    "fname_dat = os.path.join(stco.in_dir_data_run2,os.listdir(stco.in_dir_data_run2)[3])"
   ]
  },
  {
   "cell_type": "code",
   "execution_count": 48,
   "id": "e9a1cded-5f04-432c-9e95-efe9e71f8cf2",
   "metadata": {},
   "outputs": [
    {
     "data": {
      "text/plain": [
       "'/eos/atlas/atlascerngroupdisk/perf-flavtag/calib/negtag/Rel24_GN2v01/Ntuples_Nominal/dataRun2_daod_ftag2/user.ltoffoli.data17_13T.periodAllYear.physics_Main.PhysCont.D_FTAG2.grp17_v01_p5981.GN2v01_Nom_output.root/user.ltoffoli.37402699._000004.output.root'"
      ]
     },
     "execution_count": 48,
     "metadata": {},
     "output_type": "execute_result"
    }
   ],
   "source": [
    "fname_dat"
   ]
  },
  {
   "cell_type": "code",
   "execution_count": 49,
   "id": "4c6989d0-c30e-43dc-9887-9e2a1da2d95f",
   "metadata": {},
   "outputs": [],
   "source": [
    "tree = uproot.open(fname_dat+':nominal')"
   ]
  },
  {
   "cell_type": "code",
   "execution_count": 50,
   "id": "97ee5179-695b-4e89-a983-291643b67c46",
   "metadata": {
    "scrolled": true
   },
   "outputs": [
    {
     "name": "stdout",
     "output_type": "stream",
     "text": [
      "name                           | typename             | interpretation                \n",
      "-------------------------------+----------------------+-------------------------------\n",
      "eventNumber                    | uint64_t             | AsDtype('>u8')\n",
      "runNumber                      | uint32_t             | AsDtype('>u4')\n",
      "mcChannelNumber                | uint32_t             | AsDtype('>u4')\n",
      "mu                             | float                | AsDtype('>f4')\n",
      "mu_actual                      | float                | AsDtype('>f4')\n",
      "mu_original_xAOD               | float                | AsDtype('>f4')\n",
      "mu_actual_original_xAOD        | float                | AsDtype('>f4')\n",
      "backgroundFlags                | uint32_t             | AsDtype('>u4')\n",
      "hasBadMuon                     | uint32_t             | AsDtype('>u4')\n",
      "el_pt                          | std::vector<float>   | AsJagged(AsDtype('>f4'), he...\n",
      "el_eta                         | std::vector<float>   | AsJagged(AsDtype('>f4'), he...\n",
      "el_cl_eta                      | std::vector<float>   | AsJagged(AsDtype('>f4'), he...\n",
      "el_phi                         | std::vector<float>   | AsJagged(AsDtype('>f4'), he...\n",
      "el_e                           | std::vector<float>   | AsJagged(AsDtype('>f4'), he...\n",
      "el_charge                      | std::vector<float>   | AsJagged(AsDtype('>f4'), he...\n",
      "el_topoetcone20                | std::vector<float>   | AsJagged(AsDtype('>f4'), he...\n",
      "el_ptvarcone20                 | std::vector<float>   | AsJagged(AsDtype('>f4'), he...\n",
      "el_CF                          | std::vector<int8_t>  | AsJagged(AsDtype('int8'), h...\n",
      "el_d0sig                       | std::vector<float>   | AsJagged(AsDtype('>f4'), he...\n",
      "el_delta_z0_sintheta           | std::vector<float>   | AsJagged(AsDtype('>f4'), he...\n",
      "mu_pt                          | std::vector<float>   | AsJagged(AsDtype('>f4'), he...\n",
      "mu_eta                         | std::vector<float>   | AsJagged(AsDtype('>f4'), he...\n",
      "mu_phi                         | std::vector<float>   | AsJagged(AsDtype('>f4'), he...\n",
      "mu_e                           | std::vector<float>   | AsJagged(AsDtype('>f4'), he...\n",
      "mu_charge                      | std::vector<float>   | AsJagged(AsDtype('>f4'), he...\n",
      "mu_topoetcone20                | std::vector<float>   | AsJagged(AsDtype('>f4'), he...\n",
      "mu_ptvarcone30                 | std::vector<float>   | AsJagged(AsDtype('>f4'), he...\n",
      "mu_d0sig                       | std::vector<float>   | AsJagged(AsDtype('>f4'), he...\n",
      "mu_delta_z0_sintheta           | std::vector<float>   | AsJagged(AsDtype('>f4'), he...\n",
      "jet_pt                         | std::vector<float>   | AsJagged(AsDtype('>f4'), he...\n",
      "jet_eta                        | std::vector<float>   | AsJagged(AsDtype('>f4'), he...\n",
      "jet_phi                        | std::vector<float>   | AsJagged(AsDtype('>f4'), he...\n",
      "jet_e                          | std::vector<float>   | AsJagged(AsDtype('>f4'), he...\n",
      "jet_jvt                        | std::vector<float>   | AsJagged(AsDtype('>f4'), he...\n",
      "met_met                        | float                | AsDtype('>f4')\n",
      "met_sumet                      | float                | AsDtype('>f4')\n",
      "met_phi                        | float                | AsDtype('>f4')\n",
      "ee_2017                        | int32_t              | AsDtype('>i4')\n",
      "mumu_2017                      | int32_t              | AsDtype('>i4')\n",
      "HLT_mu50                       | int8_t               | AsDtype('int8')\n",
      "HLT_e60_lhmedium_nod0          | int8_t               | AsDtype('int8')\n",
      "HLT_mu26_ivarmedium            | int8_t               | AsDtype('int8')\n",
      "HLT_e26_lhtight_nod0_ivarloose | int8_t               | AsDtype('int8')\n",
      "HLT_e140_lhloose_nod0          | int8_t               | AsDtype('int8')\n",
      "el_trigMatch_HLT_e60_lhmedi... | std::vector<int8_t>  | AsJagged(AsDtype('int8'), h...\n",
      "el_trigMatch_HLT_e26_lhtigh... | std::vector<int8_t>  | AsJagged(AsDtype('int8'), h...\n",
      "el_trigMatch_HLT_e140_lhloo... | std::vector<int8_t>  | AsJagged(AsDtype('int8'), h...\n",
      "mu_trigMatch_HLT_mu50          | std::vector<int8_t>  | AsJagged(AsDtype('int8'), h...\n",
      "mu_trigMatch_HLT_mu26_ivarm... | std::vector<int8_t>  | AsJagged(AsDtype('int8'), h...\n",
      "jet_truthflavExtended          | std::vector<int32_t> | AsJagged(AsDtype('>i4'), he...\n",
      "jet_SV1_masssvx                | std::vector<float>   | AsJagged(AsDtype('>f4'), he...\n",
      "jet_SV1_NGTinSvx               | std::vector<int32_t> | AsJagged(AsDtype('>i4'), he...\n",
      "jet_dips_pu                    | std::vector<double>  | AsJagged(AsDtype('>f8'), he...\n",
      "jet_dips_pb                    | std::vector<double>  | AsJagged(AsDtype('>f8'), he...\n",
      "jet_dips_pc                    | std::vector<double>  | AsJagged(AsDtype('>f8'), he...\n",
      "jet_dipsflip_pu                | std::vector<double>  | AsJagged(AsDtype('>f8'), he...\n",
      "jet_dipsflip_pb                | std::vector<double>  | AsJagged(AsDtype('>f8'), he...\n",
      "jet_dipsflip_pc                | std::vector<double>  | AsJagged(AsDtype('>f8'), he...\n",
      "jet_DL1d_pu                    | std::vector<double>  | AsJagged(AsDtype('>f8'), he...\n",
      "jet_DL1d_pb                    | std::vector<double>  | AsJagged(AsDtype('>f8'), he...\n",
      "jet_DL1d_pc                    | std::vector<double>  | AsJagged(AsDtype('>f8'), he...\n",
      "jet_DL1dflip_pu                | std::vector<double>  | AsJagged(AsDtype('>f8'), he...\n",
      "jet_DL1dflip_pb                | std::vector<double>  | AsJagged(AsDtype('>f8'), he...\n",
      "jet_DL1dflip_pc                | std::vector<double>  | AsJagged(AsDtype('>f8'), he...\n",
      "jet_GN2_pu                     | std::vector<double>  | AsJagged(AsDtype('>f8'), he...\n",
      "jet_GN2_pb                     | std::vector<double>  | AsJagged(AsDtype('>f8'), he...\n",
      "jet_GN2_pc                     | std::vector<double>  | AsJagged(AsDtype('>f8'), he...\n",
      "jet_GN2Flip_pu                 | std::vector<double>  | AsJagged(AsDtype('>f8'), he...\n",
      "jet_GN2Flip_pb                 | std::vector<double>  | AsJagged(AsDtype('>f8'), he...\n",
      "jet_GN2Flip_pc                 | std::vector<double>  | AsJagged(AsDtype('>f8'), he...\n"
     ]
    }
   ],
   "source": [
    "tree.show(name_width=30, typename_width=20)"
   ]
  },
  {
   "cell_type": "code",
   "execution_count": 51,
   "id": "25cc36ad-cdfc-434d-a6d8-e63ef7cd4039",
   "metadata": {},
   "outputs": [],
   "source": [
    "arr = tree.arrays()"
   ]
  },
  {
   "cell_type": "code",
   "execution_count": 60,
   "id": "5a5efa5b-e056-453b-b6e3-519b764d7045",
   "metadata": {},
   "outputs": [
    {
     "data": {
      "text/html": [
       "<pre>[None]\n",
       "------------------------------------------------------------\n",
       "type: 1 * ?{\n",
       "    eventNumber: uint64,\n",
       "    runNumber: uint32,\n",
       "    mcChannelNumber: uint32,\n",
       "    mu: float32,\n",
       "    mu_actual: float32,\n",
       "    mu_original_xAOD: float32,\n",
       "    mu_actual_original_xAOD: float32,\n",
       "    backgroundFlags: uint32,\n",
       "    hasBadMuon: uint32,\n",
       "    el_pt: var * float32,\n",
       "    el_eta: var * float32,\n",
       "    el_cl_eta: var * float32,\n",
       "    el_phi: var * float32,\n",
       "    el_e: var * float32,\n",
       "    el_charge: var * float32,\n",
       "    el_topoetcone20: var * float32,\n",
       "    el_ptvarcone20: var * float32,\n",
       "    el_CF: var * int8,\n",
       "    el_d0sig: var * float32,\n",
       "    el_delta_z0_sintheta: var * float32,\n",
       "    mu_pt: var * float32,\n",
       "    mu_eta: var * float32,\n",
       "    mu_phi: var * float32,\n",
       "    mu_e: var * float32,\n",
       "    mu_charge: var * float32,\n",
       "    mu_topoetcone20: var * float32,\n",
       "    mu_ptvarcone30: var * float32,\n",
       "    mu_d0sig: var * float32,\n",
       "    mu_delta_z0_sintheta: var * float32,\n",
       "    jet_pt: var * float32,\n",
       "    jet_eta: var * float32,\n",
       "    jet_phi: var * float32,\n",
       "    jet_e: var * float32,\n",
       "    jet_jvt: var * float32,\n",
       "    met_met: float32,\n",
       "    met_sumet: float32,\n",
       "    met_phi: float32,\n",
       "    ee_2017: int32,\n",
       "    mumu_2017: int32,\n",
       "    HLT_mu50: int8,\n",
       "    HLT_e60_lhmedium_nod0: int8,\n",
       "    HLT_mu26_ivarmedium: int8,\n",
       "    HLT_e26_lhtight_nod0_ivarloose: int8,\n",
       "    HLT_e140_lhloose_nod0: int8,\n",
       "    el_trigMatch_HLT_e60_lhmedium_nod0: var * int8,\n",
       "    el_trigMatch_HLT_e26_lhtight_nod0_ivarloose: var * int8,\n",
       "    el_trigMatch_HLT_e140_lhloose_nod0: var * int8,\n",
       "    mu_trigMatch_HLT_mu50: var * int8,\n",
       "    mu_trigMatch_HLT_mu26_ivarmedium: var * int8,\n",
       "    jet_truthflavExtended: var * int32,\n",
       "    jet_SV1_masssvx: var * float32,\n",
       "    jet_SV1_NGTinSvx: var * int32,\n",
       "    jet_dips_pu: var * float64,\n",
       "    jet_dips_pb: var * float64,\n",
       "    jet_dips_pc: var * float64,\n",
       "    jet_dipsflip_pu: var * float64,\n",
       "    jet_dipsflip_pb: var * float64,\n",
       "    jet_dipsflip_pc: var * float64,\n",
       "    jet_DL1d_pu: var * float64,\n",
       "    jet_DL1d_pb: var * float64,\n",
       "    jet_DL1d_pc: var * float64,\n",
       "    jet_DL1dflip_pu: var * float64,\n",
       "    jet_DL1dflip_pb: var * float64,\n",
       "    jet_DL1dflip_pc: var * float64,\n",
       "    jet_GN2_pu: var * float64,\n",
       "    jet_GN2_pb: var * float64,\n",
       "    jet_GN2_pc: var * float64,\n",
       "    jet_GN2Flip_pu: var * float64,\n",
       "    jet_GN2Flip_pb: var * float64,\n",
       "    jet_GN2Flip_pc: var * float64\n",
       "}</pre>"
      ],
      "text/plain": [
       "<Array [None] type='1 * ?{eventNumber: uint64, runNumber: uint32, mcChannel...'>"
      ]
     },
     "execution_count": 60,
     "metadata": {},
     "output_type": "execute_result"
    }
   ],
   "source": [
    "arr[[None]]"
   ]
  },
  {
   "cell_type": "code",
   "execution_count": 20,
   "id": "2e599696-83a0-4e42-bb64-98bd1640603f",
   "metadata": {},
   "outputs": [
    {
     "name": "stdout",
     "output_type": "stream",
     "text": [
      "[{eventNumber: 1471875199, runNumber: 330294, mcChannelNumber: 0, ...}, ...]\n",
      "[{eventNumber: 1120391, runNumber: 326439, mcChannelNumber: 0, ...}, ..., {...}]\n",
      "[{eventNumber: 1181432055, runNumber: 330294, mcChannelNumber: 0, ...}, ...]\n",
      "[{eventNumber: 111735957, runNumber: 326468, mcChannelNumber: 0, ...}, ...]\n",
      "[{eventNumber: 303546754, runNumber: 331082, mcChannelNumber: 0, ...}, ...]\n",
      "[{eventNumber: 485783514, runNumber: 327761, mcChannelNumber: 0, ...}, ...]\n",
      "[{eventNumber: 224264351, runNumber: 332896, mcChannelNumber: 0, ...}, ...]\n",
      "[{eventNumber: 696477452, runNumber: 330166, mcChannelNumber: 0, ...}, ...]\n"
     ]
    },
    {
     "ename": "KeyboardInterrupt",
     "evalue": "",
     "output_type": "error",
     "traceback": [
      "\u001b[0;31m---------------------------------------------------------------------------\u001b[0m",
      "\u001b[0;31mKeyboardInterrupt\u001b[0m                         Traceback (most recent call last)",
      "Cell \u001b[0;32mIn[20], line 1\u001b[0m\n\u001b[0;32m----> 1\u001b[0m \u001b[38;5;28;01mfor\u001b[39;00m batch \u001b[38;5;129;01min\u001b[39;00m uproot\u001b[38;5;241m.\u001b[39miterate(stco\u001b[38;5;241m.\u001b[39min_dir_data_run2\u001b[38;5;241m+\u001b[39m\u001b[38;5;124m\"\u001b[39m\u001b[38;5;124m/*.root:nominal\u001b[39m\u001b[38;5;124m\"\u001b[39m,\u001b[38;5;28;01mNone\u001b[39;00m,steps\u001b[38;5;241m=\u001b[39m\u001b[38;5;241m100\u001b[39m):\n\u001b[1;32m      2\u001b[0m     \u001b[38;5;28mprint\u001b[39m(batch)\n",
      "File \u001b[0;32m/eos/home-k/kiwoznia/software/.pyenv/versions/3.10.13/lib/python3.10/site-packages/uproot/behaviors/TBranch.py:192\u001b[0m, in \u001b[0;36miterate\u001b[0;34m(files, expressions, cut, filter_name, filter_typename, filter_branch, aliases, language, step_size, decompression_executor, interpretation_executor, library, ak_add_doc, how, report, custom_classes, allow_missing, **options)\u001b[0m\n\u001b[1;32m    190\u001b[0m \u001b[38;5;28;01mwith\u001b[39;00m hasbranches:\n\u001b[1;32m    191\u001b[0m     \u001b[38;5;28;01mtry\u001b[39;00m:\n\u001b[0;32m--> 192\u001b[0m         \u001b[38;5;28;01mfor\u001b[39;00m item \u001b[38;5;129;01min\u001b[39;00m hasbranches\u001b[38;5;241m.\u001b[39miterate(\n\u001b[1;32m    193\u001b[0m             expressions\u001b[38;5;241m=\u001b[39mexpressions,\n\u001b[1;32m    194\u001b[0m             cut\u001b[38;5;241m=\u001b[39mcut,\n\u001b[1;32m    195\u001b[0m             filter_name\u001b[38;5;241m=\u001b[39mfilter_name,\n\u001b[1;32m    196\u001b[0m             filter_typename\u001b[38;5;241m=\u001b[39mfilter_typename,\n\u001b[1;32m    197\u001b[0m             filter_branch\u001b[38;5;241m=\u001b[39mfilter_branch,\n\u001b[1;32m    198\u001b[0m             aliases\u001b[38;5;241m=\u001b[39maliases,\n\u001b[1;32m    199\u001b[0m             language\u001b[38;5;241m=\u001b[39mlanguage,\n\u001b[1;32m    200\u001b[0m             step_size\u001b[38;5;241m=\u001b[39mstep_size,\n\u001b[1;32m    201\u001b[0m             decompression_executor\u001b[38;5;241m=\u001b[39mdecompression_executor,\n\u001b[1;32m    202\u001b[0m             interpretation_executor\u001b[38;5;241m=\u001b[39minterpretation_executor,\n\u001b[1;32m    203\u001b[0m             library\u001b[38;5;241m=\u001b[39mlibrary,\n\u001b[1;32m    204\u001b[0m             ak_add_doc\u001b[38;5;241m=\u001b[39mak_add_doc,\n\u001b[1;32m    205\u001b[0m             how\u001b[38;5;241m=\u001b[39mhow,\n\u001b[1;32m    206\u001b[0m             report\u001b[38;5;241m=\u001b[39mreport,\n\u001b[1;32m    207\u001b[0m         ):\n\u001b[1;32m    208\u001b[0m             \u001b[38;5;28;01mif\u001b[39;00m report:\n\u001b[1;32m    209\u001b[0m                 arrays, report \u001b[38;5;241m=\u001b[39m item\n",
      "File \u001b[0;32m/eos/home-k/kiwoznia/software/.pyenv/versions/3.10.13/lib/python3.10/site-packages/uproot/behaviors/TBranch.py:1077\u001b[0m, in \u001b[0;36mHasBranches.iterate\u001b[0;34m(self, expressions, cut, filter_name, filter_typename, filter_branch, aliases, language, entry_start, entry_stop, step_size, decompression_executor, interpretation_executor, library, ak_add_doc, how, report)\u001b[0m\n\u001b[1;32m   1075\u001b[0m arrays \u001b[38;5;241m=\u001b[39m {}\n\u001b[1;32m   1076\u001b[0m interp_options \u001b[38;5;241m=\u001b[39m {\u001b[38;5;124m\"\u001b[39m\u001b[38;5;124mak_add_doc\u001b[39m\u001b[38;5;124m\"\u001b[39m: ak_add_doc}\n\u001b[0;32m-> 1077\u001b[0m \u001b[43m_ranges_or_baskets_to_arrays\u001b[49m\u001b[43m(\u001b[49m\n\u001b[1;32m   1078\u001b[0m \u001b[43m    \u001b[49m\u001b[38;5;28;43mself\u001b[39;49m\u001b[43m,\u001b[49m\n\u001b[1;32m   1079\u001b[0m \u001b[43m    \u001b[49m\u001b[43mranges_or_baskets\u001b[49m\u001b[43m,\u001b[49m\n\u001b[1;32m   1080\u001b[0m \u001b[43m    \u001b[49m\u001b[43mbranchid_interpretation\u001b[49m\u001b[43m,\u001b[49m\n\u001b[1;32m   1081\u001b[0m \u001b[43m    \u001b[49m\u001b[43msub_entry_start\u001b[49m\u001b[43m,\u001b[49m\n\u001b[1;32m   1082\u001b[0m \u001b[43m    \u001b[49m\u001b[43msub_entry_stop\u001b[49m\u001b[43m,\u001b[49m\n\u001b[1;32m   1083\u001b[0m \u001b[43m    \u001b[49m\u001b[43mdecompression_executor\u001b[49m\u001b[43m,\u001b[49m\n\u001b[1;32m   1084\u001b[0m \u001b[43m    \u001b[49m\u001b[43minterpretation_executor\u001b[49m\u001b[43m,\u001b[49m\n\u001b[1;32m   1085\u001b[0m \u001b[43m    \u001b[49m\u001b[43mlibrary\u001b[49m\u001b[43m,\u001b[49m\n\u001b[1;32m   1086\u001b[0m \u001b[43m    \u001b[49m\u001b[43marrays\u001b[49m\u001b[43m,\u001b[49m\n\u001b[1;32m   1087\u001b[0m \u001b[43m    \u001b[49m\u001b[38;5;28;43;01mTrue\u001b[39;49;00m\u001b[43m,\u001b[49m\n\u001b[1;32m   1088\u001b[0m \u001b[43m    \u001b[49m\u001b[43minterp_options\u001b[49m\u001b[43m,\u001b[49m\n\u001b[1;32m   1089\u001b[0m \u001b[43m\u001b[49m\u001b[43m)\u001b[49m\n\u001b[1;32m   1091\u001b[0m _fix_asgrouped(\n\u001b[1;32m   1092\u001b[0m     arrays,\n\u001b[1;32m   1093\u001b[0m     expression_context,\n\u001b[0;32m   (...)\u001b[0m\n\u001b[1;32m   1097\u001b[0m     ak_add_doc,\n\u001b[1;32m   1098\u001b[0m )\n\u001b[1;32m   1100\u001b[0m output \u001b[38;5;241m=\u001b[39m language\u001b[38;5;241m.\u001b[39mcompute_expressions(\n\u001b[1;32m   1101\u001b[0m     \u001b[38;5;28mself\u001b[39m,\n\u001b[1;32m   1102\u001b[0m     arrays,\n\u001b[0;32m   (...)\u001b[0m\n\u001b[1;32m   1107\u001b[0m     \u001b[38;5;28mself\u001b[39m\u001b[38;5;241m.\u001b[39mobject_path,\n\u001b[1;32m   1108\u001b[0m )\n",
      "File \u001b[0;32m/eos/home-k/kiwoznia/software/.pyenv/versions/3.10.13/lib/python3.10/site-packages/uproot/behaviors/TBranch.py:3133\u001b[0m, in \u001b[0;36m_ranges_or_baskets_to_arrays\u001b[0;34m(hasbranches, ranges_or_baskets, branchid_interpretation, entry_start, entry_stop, decompression_executor, interpretation_executor, library, arrays, update_ranges_or_baskets, interp_options)\u001b[0m\n\u001b[1;32m   3131\u001b[0m \u001b[38;5;28;01mif\u001b[39;00m \u001b[38;5;28misinstance\u001b[39m(obj, uproot\u001b[38;5;241m.\u001b[39msource\u001b[38;5;241m.\u001b[39mchunk\u001b[38;5;241m.\u001b[39mChunk):\n\u001b[1;32m   3132\u001b[0m     args \u001b[38;5;241m=\u001b[39m range_args[(obj\u001b[38;5;241m.\u001b[39mstart, obj\u001b[38;5;241m.\u001b[39mstop)]\n\u001b[0;32m-> 3133\u001b[0m     \u001b[43mdecompression_executor\u001b[49m\u001b[38;5;241;43m.\u001b[39;49m\u001b[43msubmit\u001b[49m\u001b[43m(\u001b[49m\u001b[43mchunk_to_basket\u001b[49m\u001b[43m,\u001b[49m\u001b[43m \u001b[49m\u001b[43mobj\u001b[49m\u001b[43m,\u001b[49m\u001b[43m \u001b[49m\u001b[38;5;241;43m*\u001b[39;49m\u001b[43margs\u001b[49m\u001b[43m)\u001b[49m\n\u001b[1;32m   3135\u001b[0m \u001b[38;5;28;01melif\u001b[39;00m \u001b[38;5;28misinstance\u001b[39m(obj, uproot\u001b[38;5;241m.\u001b[39mmodels\u001b[38;5;241m.\u001b[39mTBasket\u001b[38;5;241m.\u001b[39mModel_TBasket):\n\u001b[1;32m   3136\u001b[0m     interpretation_executor\u001b[38;5;241m.\u001b[39msubmit(basket_to_array, obj)\n",
      "File \u001b[0;32m/eos/home-k/kiwoznia/software/.pyenv/versions/3.10.13/lib/python3.10/site-packages/uproot/source/futures.py:104\u001b[0m, in \u001b[0;36mTrivialExecutor.submit\u001b[0;34m(self, task, *args, **kwargs)\u001b[0m\n\u001b[1;32m    100\u001b[0m \u001b[38;5;28;01mdef\u001b[39;00m \u001b[38;5;21msubmit\u001b[39m(\u001b[38;5;28mself\u001b[39m, task, \u001b[38;5;241m/\u001b[39m, \u001b[38;5;241m*\u001b[39margs, \u001b[38;5;241m*\u001b[39m\u001b[38;5;241m*\u001b[39mkwargs):\n\u001b[1;32m    101\u001b[0m \u001b[38;5;250m    \u001b[39m\u001b[38;5;124;03m\"\"\"\u001b[39;00m\n\u001b[1;32m    102\u001b[0m \u001b[38;5;124;03m    Immediately runs ``task(*args)``.\u001b[39;00m\n\u001b[1;32m    103\u001b[0m \u001b[38;5;124;03m    \"\"\"\u001b[39;00m\n\u001b[0;32m--> 104\u001b[0m     \u001b[38;5;28;01mreturn\u001b[39;00m TrivialFuture(\u001b[43mtask\u001b[49m\u001b[43m(\u001b[49m\u001b[38;5;241;43m*\u001b[39;49m\u001b[43margs\u001b[49m\u001b[43m,\u001b[49m\u001b[43m \u001b[49m\u001b[38;5;241;43m*\u001b[39;49m\u001b[38;5;241;43m*\u001b[39;49m\u001b[43mkwargs\u001b[49m\u001b[43m)\u001b[49m)\n",
      "File \u001b[0;32m/eos/home-k/kiwoznia/software/.pyenv/versions/3.10.13/lib/python3.10/site-packages/uproot/behaviors/TBranch.py:3056\u001b[0m, in \u001b[0;36m_ranges_or_baskets_to_arrays.<locals>.chunk_to_basket\u001b[0;34m(chunk, branch, basket_num)\u001b[0m\n\u001b[1;32m   3054\u001b[0m \u001b[38;5;28;01mtry\u001b[39;00m:\n\u001b[1;32m   3055\u001b[0m     cursor \u001b[38;5;241m=\u001b[39m uproot\u001b[38;5;241m.\u001b[39msource\u001b[38;5;241m.\u001b[39mcursor\u001b[38;5;241m.\u001b[39mCursor(chunk\u001b[38;5;241m.\u001b[39mstart)\n\u001b[0;32m-> 3056\u001b[0m     basket \u001b[38;5;241m=\u001b[39m \u001b[43muproot\u001b[49m\u001b[38;5;241;43m.\u001b[39;49m\u001b[43mmodels\u001b[49m\u001b[38;5;241;43m.\u001b[39;49m\u001b[43mTBasket\u001b[49m\u001b[38;5;241;43m.\u001b[39;49m\u001b[43mModel_TBasket\u001b[49m\u001b[38;5;241;43m.\u001b[39;49m\u001b[43mread\u001b[49m\u001b[43m(\u001b[49m\n\u001b[1;32m   3057\u001b[0m \u001b[43m        \u001b[49m\u001b[43mchunk\u001b[49m\u001b[43m,\u001b[49m\n\u001b[1;32m   3058\u001b[0m \u001b[43m        \u001b[49m\u001b[43mcursor\u001b[49m\u001b[43m,\u001b[49m\n\u001b[1;32m   3059\u001b[0m \u001b[43m        \u001b[49m\u001b[43m{\u001b[49m\u001b[38;5;124;43m\"\u001b[39;49m\u001b[38;5;124;43mbasket_num\u001b[39;49m\u001b[38;5;124;43m\"\u001b[39;49m\u001b[43m:\u001b[49m\u001b[43m \u001b[49m\u001b[43mbasket_num\u001b[49m\u001b[43m}\u001b[49m\u001b[43m,\u001b[49m\n\u001b[1;32m   3060\u001b[0m \u001b[43m        \u001b[49m\u001b[43mhasbranches\u001b[49m\u001b[38;5;241;43m.\u001b[39;49m\u001b[43m_file\u001b[49m\u001b[43m,\u001b[49m\n\u001b[1;32m   3061\u001b[0m \u001b[43m        \u001b[49m\u001b[43mhasbranches\u001b[49m\u001b[38;5;241;43m.\u001b[39;49m\u001b[43m_file\u001b[49m\u001b[43m,\u001b[49m\n\u001b[1;32m   3062\u001b[0m \u001b[43m        \u001b[49m\u001b[43mbranch\u001b[49m\u001b[43m,\u001b[49m\n\u001b[1;32m   3063\u001b[0m \u001b[43m    \u001b[49m\u001b[43m)\u001b[49m\n\u001b[1;32m   3064\u001b[0m     original_index \u001b[38;5;241m=\u001b[39m range_original_index[(chunk\u001b[38;5;241m.\u001b[39mstart, chunk\u001b[38;5;241m.\u001b[39mstop)]\n\u001b[1;32m   3065\u001b[0m     \u001b[38;5;28;01mif\u001b[39;00m update_ranges_or_baskets:\n",
      "File \u001b[0;32m/eos/home-k/kiwoznia/software/.pyenv/versions/3.10.13/lib/python3.10/site-packages/uproot/model.py:853\u001b[0m, in \u001b[0;36mModel.read\u001b[0;34m(cls, chunk, cursor, context, file, selffile, parent, concrete)\u001b[0m\n\u001b[1;32m    851\u001b[0m     forth_obj\u001b[38;5;241m.\u001b[39madd_node(forth_stash)\n\u001b[1;32m    852\u001b[0m     forth_obj\u001b[38;5;241m.\u001b[39mpush_active_node(forth_stash)\n\u001b[0;32m--> 853\u001b[0m \u001b[38;5;28;43mself\u001b[39;49m\u001b[38;5;241;43m.\u001b[39;49m\u001b[43mread_members\u001b[49m\u001b[43m(\u001b[49m\u001b[43mchunk\u001b[49m\u001b[43m,\u001b[49m\u001b[43m \u001b[49m\u001b[43mcursor\u001b[49m\u001b[43m,\u001b[49m\u001b[43m \u001b[49m\u001b[43mcontext\u001b[49m\u001b[43m,\u001b[49m\u001b[43m \u001b[49m\u001b[43mfile\u001b[49m\u001b[43m)\u001b[49m\n\u001b[1;32m    854\u001b[0m \u001b[38;5;28;01mif\u001b[39;00m forth_obj \u001b[38;5;129;01mis\u001b[39;00m \u001b[38;5;129;01mnot\u001b[39;00m \u001b[38;5;28;01mNone\u001b[39;00m:\n\u001b[1;32m    855\u001b[0m     forth_obj\u001b[38;5;241m.\u001b[39mpop_active_node()\n",
      "File \u001b[0;32m/eos/home-k/kiwoznia/software/.pyenv/versions/3.10.13/lib/python3.10/site-packages/uproot/models/TBasket.py:292\u001b[0m, in \u001b[0;36mModel_TBasket.read_members\u001b[0;34m(self, chunk, cursor, context, file)\u001b[0m\n\u001b[1;32m    290\u001b[0m \u001b[38;5;28;01mif\u001b[39;00m compressed_bytes \u001b[38;5;241m!=\u001b[39m uncompressed_bytes:\n\u001b[1;32m    291\u001b[0m     \u001b[38;5;28mself\u001b[39m\u001b[38;5;241m.\u001b[39m_block_compression_info \u001b[38;5;241m=\u001b[39m []\n\u001b[0;32m--> 292\u001b[0m     uncompressed \u001b[38;5;241m=\u001b[39m \u001b[43muproot\u001b[49m\u001b[38;5;241;43m.\u001b[39;49m\u001b[43mcompression\u001b[49m\u001b[38;5;241;43m.\u001b[39;49m\u001b[43mdecompress\u001b[49m\u001b[43m(\u001b[49m\n\u001b[1;32m    293\u001b[0m \u001b[43m        \u001b[49m\u001b[43mchunk\u001b[49m\u001b[43m,\u001b[49m\n\u001b[1;32m    294\u001b[0m \u001b[43m        \u001b[49m\u001b[43mcursor\u001b[49m\u001b[43m,\u001b[49m\n\u001b[1;32m    295\u001b[0m \u001b[43m        \u001b[49m\u001b[43m{\u001b[49m\u001b[43m}\u001b[49m\u001b[43m,\u001b[49m\n\u001b[1;32m    296\u001b[0m \u001b[43m        \u001b[49m\u001b[43mcompressed_bytes\u001b[49m\u001b[43m,\u001b[49m\n\u001b[1;32m    297\u001b[0m \u001b[43m        \u001b[49m\u001b[43muncompressed_bytes\u001b[49m\u001b[43m,\u001b[49m\n\u001b[1;32m    298\u001b[0m \u001b[43m        \u001b[49m\u001b[38;5;28;43mself\u001b[39;49m\u001b[38;5;241;43m.\u001b[39;49m\u001b[43m_block_compression_info\u001b[49m\u001b[43m,\u001b[49m\n\u001b[1;32m    299\u001b[0m \u001b[43m    \u001b[49m\u001b[43m)\u001b[49m\n\u001b[1;32m    300\u001b[0m     \u001b[38;5;28mself\u001b[39m\u001b[38;5;241m.\u001b[39m_block_compression_info \u001b[38;5;241m=\u001b[39m \u001b[38;5;28mtuple\u001b[39m(\u001b[38;5;28mself\u001b[39m\u001b[38;5;241m.\u001b[39m_block_compression_info)\n\u001b[1;32m    301\u001b[0m     \u001b[38;5;28mself\u001b[39m\u001b[38;5;241m.\u001b[39m_raw_data \u001b[38;5;241m=\u001b[39m uncompressed\u001b[38;5;241m.\u001b[39mget(\n\u001b[1;32m    302\u001b[0m         \u001b[38;5;241m0\u001b[39m,\n\u001b[1;32m    303\u001b[0m         uncompressed_bytes,\n\u001b[1;32m    304\u001b[0m         uproot\u001b[38;5;241m.\u001b[39msource\u001b[38;5;241m.\u001b[39mcursor\u001b[38;5;241m.\u001b[39mCursor(\u001b[38;5;241m0\u001b[39m),\n\u001b[1;32m    305\u001b[0m         context,\n\u001b[1;32m    306\u001b[0m     )\n",
      "File \u001b[0;32m/eos/home-k/kiwoznia/software/.pyenv/versions/3.10.13/lib/python3.10/site-packages/uproot/compression.py:412\u001b[0m, in \u001b[0;36mdecompress\u001b[0;34m(chunk, cursor, context, compressed_bytes, uncompressed_bytes, block_info)\u001b[0m\n\u001b[1;32m    407\u001b[0m \u001b[38;5;28;01mif\u001b[39;00m block_info \u001b[38;5;129;01mis\u001b[39;00m \u001b[38;5;129;01mnot\u001b[39;00m \u001b[38;5;28;01mNone\u001b[39;00m:\n\u001b[1;32m    408\u001b[0m     block_info\u001b[38;5;241m.\u001b[39mappend(\n\u001b[1;32m    409\u001b[0m         (decompressor\u001b[38;5;241m.\u001b[39mname, block_compressed_bytes, block_uncompressed_bytes)\n\u001b[1;32m    410\u001b[0m     )\n\u001b[0;32m--> 412\u001b[0m uncompressed_bytestring \u001b[38;5;241m=\u001b[39m \u001b[43mdecompressor\u001b[49m\u001b[38;5;241;43m.\u001b[39;49m\u001b[43mdecompress\u001b[49m\u001b[43m(\u001b[49m\n\u001b[1;32m    413\u001b[0m \u001b[43m    \u001b[49m\u001b[43mdata\u001b[49m\u001b[43m,\u001b[49m\u001b[43m \u001b[49m\u001b[43mblock_uncompressed_bytes\u001b[49m\n\u001b[1;32m    414\u001b[0m \u001b[43m\u001b[49m\u001b[43m)\u001b[49m\n\u001b[1;32m    416\u001b[0m \u001b[38;5;28;01mif\u001b[39;00m \u001b[38;5;28mlen\u001b[39m(uncompressed_bytestring) \u001b[38;5;241m!=\u001b[39m block_uncompressed_bytes:\n\u001b[1;32m    417\u001b[0m     \u001b[38;5;28;01mraise\u001b[39;00m \u001b[38;5;167;01mValueError\u001b[39;00m(\n\u001b[1;32m    418\u001b[0m \u001b[38;5;250m        \u001b[39m\u001b[38;5;124;03m\"\"\"after successfully decompressing {} blocks, a block of \"\"\"\u001b[39;00m\n\u001b[1;32m    419\u001b[0m \u001b[38;5;250m        \u001b[39m\u001b[38;5;124;03m\"\"\"compressed size {} decompressed to {} bytes, but the \"\"\"\u001b[39;00m\n\u001b[0;32m   (...)\u001b[0m\n\u001b[1;32m    427\u001b[0m         )\n\u001b[1;32m    428\u001b[0m     )\n",
      "File \u001b[0;32m/eos/home-k/kiwoznia/software/.pyenv/versions/3.10.13/lib/python3.10/site-packages/uproot/compression.py:95\u001b[0m, in \u001b[0;36m_DecompressZLIB.decompress\u001b[0;34m(self, data, uncompressed_bytes)\u001b[0m\n\u001b[1;32m     92\u001b[0m \u001b[38;5;28;01mdef\u001b[39;00m \u001b[38;5;21mdecompress\u001b[39m(\u001b[38;5;28mself\u001b[39m, data: \u001b[38;5;28mbytes\u001b[39m, uncompressed_bytes\u001b[38;5;241m=\u001b[39m\u001b[38;5;28;01mNone\u001b[39;00m) \u001b[38;5;241m-\u001b[39m\u001b[38;5;241m>\u001b[39m \u001b[38;5;28mbytes\u001b[39m:\n\u001b[1;32m     93\u001b[0m     \u001b[38;5;28;01mimport\u001b[39;00m \u001b[38;5;21;01mzlib\u001b[39;00m\n\u001b[0;32m---> 95\u001b[0m     \u001b[38;5;28;01mreturn\u001b[39;00m \u001b[43mzlib\u001b[49m\u001b[38;5;241;43m.\u001b[39;49m\u001b[43mdecompress\u001b[49m\u001b[43m(\u001b[49m\u001b[43mdata\u001b[49m\u001b[43m)\u001b[49m\n",
      "\u001b[0;31mKeyboardInterrupt\u001b[0m: "
     ]
    }
   ],
   "source": [
    "for batch in uproot.iterate(stco.in_dir_data_run2+\"/*.root:nominal\",None,steps=100):\n",
    "    print(batch)"
   ]
  },
  {
   "cell_type": "markdown",
   "id": "da2ee2fa-cc3d-4aeb-9a4f-f281b9edab28",
   "metadata": {},
   "source": [
    "## MC"
   ]
  },
  {
   "cell_type": "code",
   "execution_count": 33,
   "id": "ce96f814-dfaa-43e5-bdc4-d13372134cfa",
   "metadata": {},
   "outputs": [],
   "source": [
    "sig_ids = sum(stco.sig_ds_ids.values(),[])"
   ]
  },
  {
   "cell_type": "code",
   "execution_count": 32,
   "id": "48b3d6b3-1d1a-4a5c-a49f-142992d565fa",
   "metadata": {},
   "outputs": [
    {
     "data": {
      "text/plain": [
       "['user.ltoffoli.37306296._000001.output.root',\n",
       " 'user.ltoffoli.37351516._000001.output.root']"
      ]
     },
     "execution_count": 32,
     "metadata": {},
     "output_type": "execute_result"
    }
   ],
   "source": [
    "os.listdir(os.path.join(stco.in_dir_mc_run2,os.listdir(stco.in_dir_mc_run2)[4]))"
   ]
  },
  {
   "cell_type": "code",
   "execution_count": 39,
   "id": "12419b3c-1aaa-4a78-aba9-b1df44b021f3",
   "metadata": {},
   "outputs": [],
   "source": [
    "sig_dir_paths = [os.path.join(stco.in_dir_mc_run2,dd) for dd in os.listdir(stco.in_dir_mc_run2) if re.search('|'.join(sig_ids), dd)]"
   ]
  },
  {
   "cell_type": "code",
   "execution_count": 40,
   "id": "203e0b83-3217-41a1-a3c3-c8d1c85c7494",
   "metadata": {},
   "outputs": [
    {
     "data": {
      "text/plain": [
       "['/eos/atlas/atlascerngroupdisk/perf-flavtag/calib/negtag/Rel24_GN2v01/Ntuples_Nominal/mc20d/user.ltoffoli.mc20_13T.506193.MGPy8EG_Zee_FxFx_3jets_HT2bias_BF.D_FTAG2.e8382_s3681_r13144_p5981.GN2v01_Nom_output.root',\n",
       " '/eos/atlas/atlascerngroupdisk/perf-flavtag/calib/negtag/Rel24_GN2v01/Ntuples_Nominal/mc20d/user.ltoffoli.mc20_13T.506194.MGPy8EG_Zee_FxFx_3jets_HT2bias_CFBV.D_FTAG2.e8382_s3681_r13144_p5981.GN2v01_Nom_output.root',\n",
       " '/eos/atlas/atlascerngroupdisk/perf-flavtag/calib/negtag/Rel24_GN2v01/Ntuples_Nominal/mc20d/user.ltoffoli.mc20_13T.506195.MGPy8EG_Zee_FxFx_3jets_HT2bias_CVBV.D_FTAG2.e8382_s3681_r13144_p5981.GN2v01_Nom_output.root',\n",
       " '/eos/atlas/atlascerngroupdisk/perf-flavtag/calib/negtag/Rel24_GN2v01/Ntuples_Nominal/mc20d/user.ltoffoli.mc20_13T.506196.MGPy8EG_Zmumu_FxFx_3jets_HT2bias_BF.D_FTAG2.e8382_s3681_r13144_p5981.GN2v01_Nom_output.root',\n",
       " '/eos/atlas/atlascerngroupdisk/perf-flavtag/calib/negtag/Rel24_GN2v01/Ntuples_Nominal/mc20d/user.ltoffoli.mc20_13T.506197.MGPy8EG_Zmumu_FxFx_3jets_HT2bias_CFBV.D_FTAG2.e8382_s3681_r13144_p5981.GN2v01_Nom_output.root',\n",
       " '/eos/atlas/atlascerngroupdisk/perf-flavtag/calib/negtag/Rel24_GN2v01/Ntuples_Nominal/mc20d/user.ltoffoli.mc20_13T.506198.MGPy8EG_Zmumu_FxFx_3jets_HT2bias_CVBV.D_FTAG2.e8382_s3681_r13144_p5981.GN2v01_Nom_output.root',\n",
       " '/eos/atlas/atlascerngroupdisk/perf-flavtag/calib/negtag/Rel24_GN2v01/Ntuples_Nominal/mc20d/user.ltoffoli.mc20_13T.512198.MGPy8EG_FxFx_Ztautau_3jets_HT2bias_BF.D_FTAG2.e8382_s3681_r13144_p5981.GN2v01_Nom_output.root',\n",
       " '/eos/atlas/atlascerngroupdisk/perf-flavtag/calib/negtag/Rel24_GN2v01/Ntuples_Nominal/mc20d/user.ltoffoli.mc20_13T.512199.MGPy8EG_FxFx_Ztautau_3jets_HT2bias_CFBV.D_FTAG2.e8382_s3681_r13144_p5981.GN2v01_Nom_output.root',\n",
       " '/eos/atlas/atlascerngroupdisk/perf-flavtag/calib/negtag/Rel24_GN2v01/Ntuples_Nominal/mc20d/user.ltoffoli.mc20_13T.512200.MGPy8EG_FxFx_Ztautau_3jets_HT2bias_CVBV.D_FTAG2.e8382_s3681_r13144_p5981.GN2v01_Nom_output.root']"
      ]
     },
     "execution_count": 40,
     "metadata": {},
     "output_type": "execute_result"
    }
   ],
   "source": [
    "sig_dir_paths"
   ]
  },
  {
   "cell_type": "code",
   "execution_count": 42,
   "id": "71a7cfcb-b376-4939-b371-5193fcb361dc",
   "metadata": {},
   "outputs": [],
   "source": [
    "sig_file_names = [os.path.join(sig_dir_paths[1],ff) for ff in os.listdir(sig_dir_paths[1])]"
   ]
  },
  {
   "cell_type": "code",
   "execution_count": 43,
   "id": "b82d3214-ad7f-4fe1-bafb-3424b1f57ba4",
   "metadata": {},
   "outputs": [],
   "source": [
    "tree = uproot.open(sig_file_names[2]+':nominal')"
   ]
  },
  {
   "cell_type": "code",
   "execution_count": 45,
   "id": "f8bc59c0-1c9d-419c-9f1c-8b3353558e00",
   "metadata": {},
   "outputs": [
    {
     "name": "stdout",
     "output_type": "stream",
     "text": [
      "name                           | typename             | interpretation          \n",
      "-------------------------------+----------------------+-------------------------\n",
      "mc_generator_weights           | std::vector<float>   | AsJagged(AsDtype('>f4...\n",
      "weight_mc                      | float                | AsDtype('>f4')\n",
      "weight_pileup                  | float                | AsDtype('>f4')\n",
      "weight_beamspot                | float                | AsDtype('>f4')\n",
      "weight_leptonSF                | float                | AsDtype('>f4')\n",
      "weight_trigger                 | float                | AsDtype('>f4')\n",
      "weight_jvt                     | float                | AsDtype('>f4')\n",
      "weight_pileup_UP               | float                | AsDtype('>f4')\n",
      "weight_pileup_DOWN             | float                | AsDtype('>f4')\n",
      "weight_leptonSF_EL_SF_Reco_UP  | float                | AsDtype('>f4')\n",
      "weight_leptonSF_EL_SF_Reco_... | float                | AsDtype('>f4')\n",
      "weight_leptonSF_EL_SF_ID_UP    | float                | AsDtype('>f4')\n",
      "weight_leptonSF_EL_SF_ID_DOWN  | float                | AsDtype('>f4')\n",
      "weight_leptonSF_EL_SF_Isol_UP  | float                | AsDtype('>f4')\n",
      "weight_leptonSF_EL_SF_Isol_... | float                | AsDtype('>f4')\n",
      "weight_trigger_EL_SF_Trigge... | float                | AsDtype('>f4')\n",
      "weight_trigger_EL_SF_Trigge... | float                | AsDtype('>f4')\n",
      "weight_trigger_MU_SF_STAT_UP   | float                | AsDtype('>f4')\n",
      "weight_trigger_MU_SF_STAT_DOWN | float                | AsDtype('>f4')\n",
      "weight_trigger_MU_SF_SYST_UP   | float                | AsDtype('>f4')\n",
      "weight_trigger_MU_SF_SYST_DOWN | float                | AsDtype('>f4')\n",
      "weight_leptonSF_MU_SF_ID_ST... | float                | AsDtype('>f4')\n",
      "weight_leptonSF_MU_SF_ID_ST... | float                | AsDtype('>f4')\n",
      "weight_leptonSF_MU_SF_ID_ST... | float                | AsDtype('>f4')\n",
      "weight_leptonSF_MU_SF_ID_ST... | float                | AsDtype('>f4')\n",
      "weight_leptonSF_MU_SF_ID_SY... | float                | AsDtype('>f4')\n",
      "weight_leptonSF_MU_SF_ID_SY... | float                | AsDtype('>f4')\n",
      "weight_leptonSF_MU_SF_ID_SY... | float                | AsDtype('>f4')\n",
      "weight_leptonSF_MU_SF_ID_SY... | float                | AsDtype('>f4')\n",
      "weight_leptonSF_MU_SF_Isol_... | float                | AsDtype('>f4')\n",
      "weight_leptonSF_MU_SF_Isol_... | float                | AsDtype('>f4')\n",
      "weight_leptonSF_MU_SF_TTVA_... | float                | AsDtype('>f4')\n",
      "weight_leptonSF_MU_SF_TTVA_... | float                | AsDtype('>f4')\n",
      "weight_leptonSF_MU_SF_Isol_... | float                | AsDtype('>f4')\n",
      "weight_leptonSF_MU_SF_Isol_... | float                | AsDtype('>f4')\n",
      "weight_leptonSF_MU_SF_TTVA_... | float                | AsDtype('>f4')\n",
      "weight_leptonSF_MU_SF_TTVA_... | float                | AsDtype('>f4')\n",
      "weight_jvt_UP                  | float                | AsDtype('>f4')\n",
      "weight_jvt_DOWN                | float                | AsDtype('>f4')\n",
      "eventNumber                    | uint64_t             | AsDtype('>u8')\n",
      "runNumber                      | uint32_t             | AsDtype('>u4')\n",
      "randomRunNumber                | uint32_t             | AsDtype('>u4')\n",
      "mcChannelNumber                | uint32_t             | AsDtype('>u4')\n",
      "mu                             | float                | AsDtype('>f4')\n",
      "mu_actual                      | float                | AsDtype('>f4')\n",
      "backgroundFlags                | uint32_t             | AsDtype('>u4')\n",
      "hasBadMuon                     | uint32_t             | AsDtype('>u4')\n",
      "el_pt                          | std::vector<float>   | AsJagged(AsDtype('>f4...\n",
      "el_eta                         | std::vector<float>   | AsJagged(AsDtype('>f4...\n",
      "el_cl_eta                      | std::vector<float>   | AsJagged(AsDtype('>f4...\n",
      "el_phi                         | std::vector<float>   | AsJagged(AsDtype('>f4...\n",
      "el_e                           | std::vector<float>   | AsJagged(AsDtype('>f4...\n",
      "el_charge                      | std::vector<float>   | AsJagged(AsDtype('>f4...\n",
      "el_topoetcone20                | std::vector<float>   | AsJagged(AsDtype('>f4...\n",
      "el_ptvarcone20                 | std::vector<float>   | AsJagged(AsDtype('>f4...\n",
      "el_CF                          | std::vector<int8_t>  | AsJagged(AsDtype('int...\n",
      "el_d0sig                       | std::vector<float>   | AsJagged(AsDtype('>f4...\n",
      "el_delta_z0_sintheta           | std::vector<float>   | AsJagged(AsDtype('>f4...\n",
      "el_true_type                   | std::vector<int32_t> | AsJagged(AsDtype('>i4...\n",
      "el_true_origin                 | std::vector<int32_t> | AsJagged(AsDtype('>i4...\n",
      "el_true_firstEgMotherTruthType | std::vector<int32_t> | AsJagged(AsDtype('>i4...\n",
      "el_true_firstEgMotherTruthO... | std::vector<int32_t> | AsJagged(AsDtype('>i4...\n",
      "el_true_firstEgMotherPdgId     | std::vector<int32_t> | AsJagged(AsDtype('>i4...\n",
      "el_true_isPrompt               | std::vector<int8_t>  | AsJagged(AsDtype('int...\n",
      "el_true_isChargeFl             | std::vector<int8_t>  | AsJagged(AsDtype('int...\n",
      "mu_pt                          | std::vector<float>   | AsJagged(AsDtype('>f4...\n",
      "mu_eta                         | std::vector<float>   | AsJagged(AsDtype('>f4...\n",
      "mu_phi                         | std::vector<float>   | AsJagged(AsDtype('>f4...\n",
      "mu_e                           | std::vector<float>   | AsJagged(AsDtype('>f4...\n",
      "mu_charge                      | std::vector<float>   | AsJagged(AsDtype('>f4...\n",
      "mu_topoetcone20                | std::vector<float>   | AsJagged(AsDtype('>f4...\n",
      "mu_ptvarcone30                 | std::vector<float>   | AsJagged(AsDtype('>f4...\n",
      "mu_d0sig                       | std::vector<float>   | AsJagged(AsDtype('>f4...\n",
      "mu_delta_z0_sintheta           | std::vector<float>   | AsJagged(AsDtype('>f4...\n",
      "mu_true_type                   | std::vector<int32_t> | AsJagged(AsDtype('>i4...\n",
      "mu_true_origin                 | std::vector<int32_t> | AsJagged(AsDtype('>i4...\n",
      "mu_true_isPrompt               | std::vector<int8_t>  | AsJagged(AsDtype('int...\n",
      "jet_pt                         | std::vector<float>   | AsJagged(AsDtype('>f4...\n",
      "jet_eta                        | std::vector<float>   | AsJagged(AsDtype('>f4...\n",
      "jet_phi                        | std::vector<float>   | AsJagged(AsDtype('>f4...\n",
      "jet_e                          | std::vector<float>   | AsJagged(AsDtype('>f4...\n",
      "jet_jvt                        | std::vector<float>   | AsJagged(AsDtype('>f4...\n",
      "jet_truthflav                  | std::vector<int32_t> | AsJagged(AsDtype('>i4...\n",
      "jet_truthPartonLabel           | std::vector<int32_t> | AsJagged(AsDtype('>i4...\n",
      "jet_isTrueHS                   | std::vector<int8_t>  | AsJagged(AsDtype('int...\n",
      "jet_truthflavExtended          | std::vector<int32_t> | AsJagged(AsDtype('>i4...\n",
      "met_met                        | float                | AsDtype('>f4')\n",
      "met_sumet                      | float                | AsDtype('>f4')\n",
      "met_phi                        | float                | AsDtype('>f4')\n",
      "ee_2017                        | int32_t              | AsDtype('>i4')\n",
      "mumu_2017                      | int32_t              | AsDtype('>i4')\n",
      "HLT_mu50                       | int8_t               | AsDtype('int8')\n",
      "HLT_e60_lhmedium_nod0          | int8_t               | AsDtype('int8')\n",
      "HLT_mu26_ivarmedium            | int8_t               | AsDtype('int8')\n",
      "HLT_e26_lhtight_nod0_ivarloose | int8_t               | AsDtype('int8')\n",
      "HLT_e140_lhloose_nod0          | int8_t               | AsDtype('int8')\n",
      "el_trigMatch_HLT_e60_lhmedi... | std::vector<int8_t>  | AsJagged(AsDtype('int...\n",
      "el_trigMatch_HLT_e26_lhtigh... | std::vector<int8_t>  | AsJagged(AsDtype('int...\n",
      "el_trigMatch_HLT_e140_lhloo... | std::vector<int8_t>  | AsJagged(AsDtype('int...\n",
      "mu_trigMatch_HLT_mu50          | std::vector<int8_t>  | AsJagged(AsDtype('int...\n",
      "mu_trigMatch_HLT_mu26_ivarm... | std::vector<int8_t>  | AsJagged(AsDtype('int...\n",
      "jet_truthflavExtended          | std::vector<int32_t> | AsJagged(AsDtype('>i4...\n",
      "jet_SV1_masssvx                | std::vector<float>   | AsJagged(AsDtype('>f4...\n",
      "jet_SV1_NGTinSvx               | std::vector<int32_t> | AsJagged(AsDtype('>i4...\n",
      "jet_dips_pu                    | std::vector<double>  | AsJagged(AsDtype('>f8...\n",
      "jet_dips_pb                    | std::vector<double>  | AsJagged(AsDtype('>f8...\n",
      "jet_dips_pc                    | std::vector<double>  | AsJagged(AsDtype('>f8...\n",
      "jet_dipsflip_pu                | std::vector<double>  | AsJagged(AsDtype('>f8...\n",
      "jet_dipsflip_pb                | std::vector<double>  | AsJagged(AsDtype('>f8...\n",
      "jet_dipsflip_pc                | std::vector<double>  | AsJagged(AsDtype('>f8...\n",
      "jet_DL1d_pu                    | std::vector<double>  | AsJagged(AsDtype('>f8...\n",
      "jet_DL1d_pb                    | std::vector<double>  | AsJagged(AsDtype('>f8...\n",
      "jet_DL1d_pc                    | std::vector<double>  | AsJagged(AsDtype('>f8...\n",
      "jet_DL1dflip_pu                | std::vector<double>  | AsJagged(AsDtype('>f8...\n",
      "jet_DL1dflip_pb                | std::vector<double>  | AsJagged(AsDtype('>f8...\n",
      "jet_DL1dflip_pc                | std::vector<double>  | AsJagged(AsDtype('>f8...\n",
      "jet_GN2_pu                     | std::vector<double>  | AsJagged(AsDtype('>f8...\n",
      "jet_GN2_pb                     | std::vector<double>  | AsJagged(AsDtype('>f8...\n",
      "jet_GN2_pc                     | std::vector<double>  | AsJagged(AsDtype('>f8...\n",
      "jet_GN2Flip_pu                 | std::vector<double>  | AsJagged(AsDtype('>f8...\n",
      "jet_GN2Flip_pb                 | std::vector<double>  | AsJagged(AsDtype('>f8...\n",
      "jet_GN2Flip_pc                 | std::vector<double>  | AsJagged(AsDtype('>f8...\n"
     ]
    }
   ],
   "source": [
    "tree.show(name_width=30, typename_width=20, interpretation_width=24)"
   ]
  },
  {
   "cell_type": "code",
   "execution_count": null,
   "id": "d8ded35d-f6af-43fa-a5b0-44fd63c534a5",
   "metadata": {},
   "outputs": [],
   "source": []
  },
  {
   "cell_type": "code",
   "execution_count": null,
   "id": "113823fc-d570-4264-a0ed-67550092d4c7",
   "metadata": {},
   "outputs": [],
   "source": []
  },
  {
   "cell_type": "code",
   "execution_count": null,
   "id": "c2bdaae4-fa58-4e51-a87b-60ec8832f6ac",
   "metadata": {},
   "outputs": [],
   "source": []
  },
  {
   "cell_type": "code",
   "execution_count": null,
   "id": "37fac975-f365-496e-a091-c953596a3b2e",
   "metadata": {},
   "outputs": [],
   "source": []
  },
  {
   "cell_type": "code",
   "execution_count": 15,
   "id": "9dbaaf1a-fc81-4b98-a140-6fd015fcb93c",
   "metadata": {},
   "outputs": [
    {
     "data": {
      "text/plain": [
       "['506193',\n",
       " '506194',\n",
       " '506195',\n",
       " '506196',\n",
       " '506197',\n",
       " '506198',\n",
       " '512198',\n",
       " '512199',\n",
       " '512200']"
      ]
     },
     "execution_count": 15,
     "metadata": {},
     "output_type": "execute_result"
    }
   ],
   "source": [
    "sum(stco.sig_ds_ids.values(),[])"
   ]
  },
  {
   "cell_type": "code",
   "execution_count": 20,
   "id": "17bd9edf-0f0c-4b16-8bd6-fb6e240e3650",
   "metadata": {},
   "outputs": [
    {
     "data": {
      "text/plain": [
       "'(506193|506194|506195|506196|506197|506198|512198|512199|512200)'"
      ]
     },
     "execution_count": 20,
     "metadata": {},
     "output_type": "execute_result"
    }
   ],
   "source": [
    "r'|'.join(sig_ids)+')'"
   ]
  },
  {
   "cell_type": "code",
   "execution_count": null,
   "id": "728e1d9b-8d2c-4cf2-a9d3-902c20997987",
   "metadata": {},
   "outputs": [],
   "source": []
  }
 ],
 "metadata": {
  "kernelspec": {
   "display_name": "Python 3",
   "language": "python",
   "name": "python3"
  },
  "language_info": {
   "codemirror_mode": {
    "name": "ipython",
    "version": 3
   },
   "file_extension": ".py",
   "mimetype": "text/x-python",
   "name": "python",
   "nbconvert_exporter": "python",
   "pygments_lexer": "ipython3",
   "version": "3.10.13"
  }
 },
 "nbformat": 4,
 "nbformat_minor": 5
}
