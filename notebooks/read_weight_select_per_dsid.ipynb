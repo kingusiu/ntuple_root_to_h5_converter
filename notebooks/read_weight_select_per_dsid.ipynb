{
 "cells": [
  {
   "cell_type": "code",
   "execution_count": 1,
   "id": "c39e7bed-31f6-4656-a20d-3d0c72708c4b",
   "metadata": {},
   "outputs": [],
   "source": [
    "import sys\n",
    "sys.path.append('..')\n",
    "import awkward as awk\n",
    "from heputl import logging as heplog"
   ]
  },
  {
   "cell_type": "code",
   "execution_count": 2,
   "id": "57537a33-00e8-4cc3-9521-0264944cf7a3",
   "metadata": {},
   "outputs": [],
   "source": [
    "import src.reader as read\n",
    "import src.selection as sele\n",
    "import src.string_constants as stco\n",
    "import src.util as util"
   ]
  },
  {
   "cell_type": "code",
   "execution_count": 3,
   "id": "2ff29f6c-bc77-4084-a528-e7924594be3e",
   "metadata": {},
   "outputs": [],
   "source": [
    "dsids = sum(list(stco.ds_ids_sig.values()),[])[:4]"
   ]
  },
  {
   "cell_type": "code",
   "execution_count": 16,
   "id": "a777d9a7-974a-4fc9-8f89-d7fe64d65601",
   "metadata": {},
   "outputs": [],
   "source": [
    "feature_filter=['jet_pt_lead','jet_eta_lead','jet_truthflav_lead']"
   ]
  },
  {
   "cell_type": "code",
   "execution_count": 17,
   "id": "2e10f6b3-cfb4-4140-826a-bd79daf293c1",
   "metadata": {},
   "outputs": [],
   "source": [
    "N=int(1e5)\n",
    "samples_concat = None\n",
    "weights_concat = None"
   ]
  },
  {
   "cell_type": "code",
   "execution_count": 18,
   "id": "41ddd23d-2089-4b9a-8b60-0746690b1877",
   "metadata": {},
   "outputs": [
    {
     "name": "stdout",
     "output_type": "stream",
     "text": [
      "reading samples for dsid 506193 from /eos/atlas/atlascerngroupdisk/perf-flavtag/calib/negtag/Rel24_GN2v01/Ntuples_Nominal/mc20d/user.ltoffoli.mc20_13T.506193.MGPy8EG_Zee_FxFx_3jets_HT2bias_BF.D_FTAG2.e8382_s3681_r13144_p5981.GN2v01_Nom_output.root\n",
      "reading samples for dsid 506194 from /eos/atlas/atlascerngroupdisk/perf-flavtag/calib/negtag/Rel24_GN2v01/Ntuples_Nominal/mc20d/user.ltoffoli.mc20_13T.506194.MGPy8EG_Zee_FxFx_3jets_HT2bias_CFBV.D_FTAG2.e8382_s3681_r13144_p5981.GN2v01_Nom_output.root\n",
      "reading samples for dsid 506195 from /eos/atlas/atlascerngroupdisk/perf-flavtag/calib/negtag/Rel24_GN2v01/Ntuples_Nominal/mc20d/user.ltoffoli.mc20_13T.506195.MGPy8EG_Zee_FxFx_3jets_HT2bias_CVBV.D_FTAG2.e8382_s3681_r13144_p5981.GN2v01_Nom_output.root\n",
      "reading samples for dsid 506196 from /eos/atlas/atlascerngroupdisk/perf-flavtag/calib/negtag/Rel24_GN2v01/Ntuples_Nominal/mc20d/user.ltoffoli.mc20_13T.506196.MGPy8EG_Zmumu_FxFx_3jets_HT2bias_BF.D_FTAG2.e8382_s3681_r13144_p5981.GN2v01_Nom_output.root\n"
     ]
    }
   ],
   "source": [
    "for dsid in dsids:\n",
    "    samples = read.read_samples_for_dsid(dsid,N=N)\n",
    "    selected = sele.select_lightjets(samples)\n",
    "    weights = util.compute_w_samples(selected, dsid)\n",
    "    if weights_concat is None:\n",
    "        weights_concat = weights\n",
    "        samples_concat = selected[feature_filter]\n",
    "    else:    \n",
    "        weights_concat = awk.concatenate([weights_concat,weights])\n",
    "        samples_concat = awk.concatenate([samples_concat,selected[feature_filter]])"
   ]
  },
  {
   "cell_type": "code",
   "execution_count": 19,
   "id": "2c551526-c300-4b09-bff1-9edf4fb6fc6b",
   "metadata": {},
   "outputs": [
    {
     "data": {
      "text/plain": [
       "['jet_pt_lead', 'jet_eta_lead', 'jet_truthflav_lead']"
      ]
     },
     "execution_count": 19,
     "metadata": {},
     "output_type": "execute_result"
    }
   ],
   "source": [
    "samples_concat.fields"
   ]
  },
  {
   "cell_type": "code",
   "execution_count": 21,
   "id": "66ac7eb6-b691-4594-ab10-337a99b1e6b6",
   "metadata": {},
   "outputs": [],
   "source": [
    "samples_concat['wt'] = weights_concat"
   ]
  },
  {
   "cell_type": "code",
   "execution_count": 22,
   "id": "77c26049-6ae1-40d5-b30a-7fca6e07906d",
   "metadata": {},
   "outputs": [],
   "source": [
    "jetU, jetC, jetB, jetT = util.split_by_jet_flavor(samples_concat)"
   ]
  },
  {
   "cell_type": "code",
   "execution_count": 23,
   "id": "bd9b32a9-2d69-47c8-a661-573439ab4e17",
   "metadata": {},
   "outputs": [
    {
     "data": {
      "text/html": [
       "<pre>[{jet_pt_lead: 1.64e+05, jet_eta_lead: 0.878, jet_truthflav_lead: 0, ...},\n",
       " {jet_pt_lead: 5.15e+05, jet_eta_lead: -0.964, jet_truthflav_lead: 0, ...},\n",
       " {jet_pt_lead: 1.08e+05, jet_eta_lead: 0.433, jet_truthflav_lead: 0, ...},\n",
       " {jet_pt_lead: 1.93e+05, jet_eta_lead: 0.454, jet_truthflav_lead: 0, ...},\n",
       " {jet_pt_lead: 2.36e+04, jet_eta_lead: 1.37, jet_truthflav_lead: 0, ...},\n",
       " {jet_pt_lead: 3.28e+04, jet_eta_lead: -2, jet_truthflav_lead: 0, wt: ..., ...},\n",
       " {jet_pt_lead: 1.67e+05, jet_eta_lead: -2.12, jet_truthflav_lead: 0, ...},\n",
       " {jet_pt_lead: 9.99e+04, jet_eta_lead: -1.58, jet_truthflav_lead: 0, ...},\n",
       " {jet_pt_lead: 6.18e+04, jet_eta_lead: 0.896, jet_truthflav_lead: 0, ...},\n",
       " {jet_pt_lead: 3.12e+04, jet_eta_lead: 1.92, jet_truthflav_lead: 0, ...},\n",
       " ...,\n",
       " {jet_pt_lead: 4.67e+05, jet_eta_lead: 0.225, jet_truthflav_lead: 0, ...},\n",
       " {jet_pt_lead: 4.2e+05, jet_eta_lead: -1.27, jet_truthflav_lead: 0, ...},\n",
       " {jet_pt_lead: 2.5e+05, jet_eta_lead: 0.398, jet_truthflav_lead: 0, ...},\n",
       " {jet_pt_lead: 6.12e+05, jet_eta_lead: -0.722, jet_truthflav_lead: 0, ...},\n",
       " {jet_pt_lead: 3.54e+05, jet_eta_lead: -1.44, jet_truthflav_lead: 0, ...},\n",
       " {jet_pt_lead: 1.8e+05, jet_eta_lead: 2.4, jet_truthflav_lead: 0, wt: ..., ...},\n",
       " {jet_pt_lead: 5.76e+04, jet_eta_lead: -0.747, jet_truthflav_lead: 0, ...},\n",
       " {jet_pt_lead: 5.64e+04, jet_eta_lead: 0.184, jet_truthflav_lead: 0, ...},\n",
       " {jet_pt_lead: 1.01e+05, jet_eta_lead: 0.898, jet_truthflav_lead: 0, ...}]\n",
       "--------------------------------------------------------------------------------\n",
       "type: 145316 * {\n",
       "    jet_pt_lead: float32,\n",
       "    jet_eta_lead: float32,\n",
       "    jet_truthflav_lead: int32,\n",
       "    wt: float32\n",
       "}</pre>"
      ],
      "text/plain": [
       "<Array [{jet_pt_lead: 1.64e+05, ...}, ...] type='145316 * {jet_pt_lead: flo...'>"
      ]
     },
     "execution_count": 23,
     "metadata": {},
     "output_type": "execute_result"
    }
   ],
   "source": [
    "jetU"
   ]
  },
  {
   "cell_type": "code",
   "execution_count": 20,
   "id": "f6152988-fd6c-41f2-9224-cb4ed7f5d80c",
   "metadata": {},
   "outputs": [],
   "source": [
    "import matplotlib.pyplot as plt"
   ]
  },
  {
   "cell_type": "code",
   "execution_count": 12,
   "id": "36d56879-4386-4365-a0fa-33272705a71a",
   "metadata": {},
   "outputs": [
    {
     "name": "stdout",
     "output_type": "stream",
     "text": [
      "reading samples for dsid 506193 from /eos/atlas/atlascerngroupdisk/perf-flavtag/calib/negtag/Rel24_GN2v01/Ntuples_Nominal/mc20d/user.ltoffoli.mc20_13T.506193.MGPy8EG_Zee_FxFx_3jets_HT2bias_BF.D_FTAG2.e8382_s3681_r13144_p5981.GN2v01_Nom_output.root\n"
     ]
    }
   ],
   "source": [
    "# Load dataset\n",
    "dsid_ee = stco.ds_ids_sig['ee'][0]\n",
    "samples_ee = read.read_samples_for_dsid(dsid_ee,N=N)\n",
    "\n",
    "# Apply event selection\n",
    "selected_ee = sele.select_lightjets(samples_ee)\n",
    "\n",
    "# Get MC lumi normalization weights\n",
    "weights_ee = util.compute_w_samples(selected_ee, dsid_ee)"
   ]
  },
  {
   "cell_type": "code",
   "execution_count": 23,
   "id": "bbfa6427-b543-4b9d-b270-c06b26e66863",
   "metadata": {},
   "outputs": [
    {
     "data": {
      "image/png": "[encoded data removed]",
      "text/plain": [
       "<Figure size 640x480 with 1 Axes>"
      ]
     },
     "metadata": {},
     "output_type": "display_data"
    }
   ],
   "source": [
    "fig, ax = plt.subplots()\n",
    "_ = ax.hist(selected.jet_pt_lead, weights=weights, stacked=True, label='mumu',bins=100)\n",
    "_ = ax.hist(selected_ee.jet_pt_lead, weights=weights_ee, stacked=True, label='ee',bins=100)\n",
    "plt.legend()\n",
    "plt.show()"
   ]
  },
  {
   "cell_type": "code",
   "execution_count": null,
   "id": "9319a5dc-fd87-4db8-92a9-ee46b97ca9b4",
   "metadata": {},
   "outputs": [],
   "source": [
    "samples = "
   ]
  },
  {
   "cell_type": "code",
   "execution_count": 22,
   "id": "e438a37a-fe13-4c3d-ac43-90e8db06aeb2",
   "metadata": {},
   "outputs": [
    {
     "data": {
      "image/png": "[encoded data removed]",
      "text/plain": [
       "<Figure size 640x480 with 1 Axes>"
      ]
     },
     "metadata": {},
     "output_type": "display_data"
    }
   ],
   "source": [
    "plt.figure()\n",
    "_ = plt.hist([selected.jet_pt_lead,selected_ee.jet_pt_lead], weights=[weights,weights_ee], stacked=True, label=['mumu','ee'], bins=100)\n",
    "plt.legend()\n",
    "plt.show()"
   ]
  },
  {
   "cell_type": "code",
   "execution_count": null,
   "id": "fed1ee6c-97cb-4c87-9265-8426044790b7",
   "metadata": {},
   "outputs": [],
   "source": []
  }
 ],
 "metadata": {
  "kernelspec": {
   "display_name": "Python 3",
   "language": "python",
   "name": "python3"
  },
  "language_info": {
   "codemirror_mode": {
    "name": "ipython",
    "version": 3
   },
   "file_extension": ".py",
   "mimetype": "text/x-python",
   "name": "python",
   "nbconvert_exporter": "python",
   "pygments_lexer": "ipython3",
   "version": "3.10.13"
  }
 },
 "nbformat": 4,
 "nbformat_minor": 5
}
