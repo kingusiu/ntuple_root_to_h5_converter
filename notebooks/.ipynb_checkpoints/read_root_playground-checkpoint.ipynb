{
 "cells": [
  {
   "cell_type": "code",
   "execution_count": 1,
   "id": "7eaa2427",
   "metadata": {},
   "outputs": [],
   "source": [
    "import uproot\n",
    "import h5py\n",
    "import numpy as np\n",
    "import os\n",
    "import fnmatch\n",
    "import awkward as ak"
   ]
  },
  {
   "cell_type": "code",
   "execution_count": 2,
   "id": "38e9096a",
   "metadata": {},
   "outputs": [],
   "source": [
    "dir_h5_mc16 = '/eos/user/m/malgren/ftag_data/'"
   ]
  },
  {
   "cell_type": "code",
   "execution_count": 3,
   "id": "a1135988",
   "metadata": {},
   "outputs": [
    {
     "name": "stdout",
     "output_type": "stream",
     "text": [
      "eval_data.pth\t\t\t     FTAG2_ttbar_PowHW7_merged.h5\r\n",
      "FTAG2_ttbar_PhPy8_nominal_merged.h5\r\n"
     ]
    }
   ],
   "source": [
    "!ls $dir_h5_mc16"
   ]
  },
  {
   "cell_type": "code",
   "execution_count": 4,
   "id": "e0be589e",
   "metadata": {},
   "outputs": [],
   "source": [
    "ff = h5py.File(os.path.join(dir_h5_mc16,'FTAG2_ttbar_PowHW7_merged.h5'))"
   ]
  },
  {
   "cell_type": "code",
   "execution_count": 5,
   "id": "a371c496",
   "metadata": {},
   "outputs": [
    {
     "data": {
      "text/plain": [
       "<HDF5 file \"FTAG2_ttbar_PowHW7_merged.h5\" (mode r)>"
      ]
     },
     "execution_count": 5,
     "metadata": {},
     "output_type": "execute_result"
    }
   ],
   "source": [
    "ff"
   ]
  },
  {
   "cell_type": "code",
   "execution_count": 6,
   "id": "511d509a",
   "metadata": {},
   "outputs": [
    {
     "data": {
      "text/plain": [
       "<KeysViewHDF5 ['df']>"
      ]
     },
     "execution_count": 6,
     "metadata": {},
     "output_type": "execute_result"
    }
   ],
   "source": [
    "ff.keys()"
   ]
  },
  {
   "cell_type": "code",
   "execution_count": 7,
   "id": "3f45f0a1",
   "metadata": {},
   "outputs": [],
   "source": [
    "df = ff.get('df')"
   ]
  },
  {
   "cell_type": "code",
   "execution_count": 8,
   "id": "5d1d351d",
   "metadata": {},
   "outputs": [
    {
     "data": {
      "text/plain": [
       "<KeysViewHDF5 ['axis0', 'axis1', 'block0_items', 'block0_values', 'block1_items', 'block1_values', 'block2_items', 'block2_values']>"
      ]
     },
     "execution_count": 8,
     "metadata": {},
     "output_type": "execute_result"
    }
   ],
   "source": [
    "df.keys()"
   ]
  },
  {
   "cell_type": "code",
   "execution_count": 9,
   "id": "579590b2",
   "metadata": {},
   "outputs": [],
   "source": [
    "dir_root_mc20 = '/eos/atlas/unpledged/group-tokyo/users/wojang/qt/wonho_samples_run2'"
   ]
  },
  {
   "cell_type": "code",
   "execution_count": 10,
   "id": "13d777ee",
   "metadata": {},
   "outputs": [
    {
     "name": "stdout",
     "output_type": "stream",
     "text": [
      "user.wojang.345705.Sherpa.DAOD_PHYS.e6213_s3681_r13144_p5631.AT24.2.4_2023.07.01_mc20d_v1_output_root.txt\r\n",
      "user.wojang.345705.Sherpa.DAOD_PHYS.e6213_s3681_r13145_p5631.AT24.2.4_2023.06.27_mc20e_v4_output_root.txt\r\n",
      "user.wojang.345705.Sherpa.DAOD_PHYS.e6213_s3681_r13167_p5631.AT24.2.4_2023.06.29_mc20a_v1_output_root.txt\r\n",
      "user.wojang.345706.Sherpa.DAOD_PHYS.e6213_s3681_r13144_p5631.AT24.2.4_2023.07.01_mc20d_v1_output_root.txt\r\n",
      "user.wojang.345706.Sherpa.DAOD_PHYS.e6213_s3681_r13145_p5631.AT24.2.4_2023.06.27_mc20e_v4_output_root.txt\r\n",
      "user.wojang.345706.Sherpa.DAOD_PHYS.e6213_s3681_r13167_p5631.AT24.2.4_2023.06.29_mc20a_v1_output_root.txt\r\n",
      "user.wojang.345718.Sherpa.DAOD_PHYS.e6525_s3681_r13144_p5631.AT24.2.4_2023.07.01_mc20d_v1_output_root.txt\r\n",
      "user.wojang.345718.Sherpa.DAOD_PHYS.e6525_s3681_r13145_p5631.AT24.2.4_2023.06.27_mc20e_v4_output_root.txt\r\n",
      "user.wojang.345718.Sherpa.DAOD_PHYS.e6525_s3681_r13167_p5631.AT24.2.4_2023.06.29_mc20a_v1_output_root.txt\r\n",
      "user.wojang.345723.Sherpa.DAOD_PHYS.e6213_s3681_r13144_p5631.AT24.2.4_2023.07.01_mc20d_v1_output_root.txt\r\n",
      "ls: write error: Broken pipe\r\n"
     ]
    }
   ],
   "source": [
    "!ls $dir_root_mc20 | head"
   ]
  },
  {
   "cell_type": "code",
   "execution_count": 11,
   "id": "ec7788f7",
   "metadata": {},
   "outputs": [],
   "source": [
    "fname = os.listdir(dir_root_mc20)[0]"
   ]
  },
  {
   "cell_type": "code",
   "execution_count": 12,
   "id": "4540b552",
   "metadata": {},
   "outputs": [
    {
     "data": {
      "text/plain": [
       "'user.wojang.345705.Sherpa.DAOD_PHYS.e6213_s3681_r13144_p5631.AT24.2.4_2023.07.01_mc20d_v1_output_root.txt'"
      ]
     },
     "execution_count": 12,
     "metadata": {},
     "output_type": "execute_result"
    }
   ],
   "source": [
    "fname"
   ]
  },
  {
   "cell_type": "code",
   "execution_count": 21,
   "id": "17d2488e",
   "metadata": {},
   "outputs": [],
   "source": [
    "def read_example_file(dir_path):\n",
    "    fname = os.listdir(dir_path)[0]\n",
    "    ff = uproot.open(os.path.join(dir_path,fname))\n",
    "    tree = ff['nominal;1']\n",
    "    pu = ak.to_numpy(ak.flatten(tree['jet_GN2_pu'].array()))\n",
    "    pb = ak.to_numpy(ak.flatten(tree['jet_GN2_pb'].array()))\n",
    "    pc = ak.to_numpy(ak.flatten(tree['jet_GN2_pc'].array()))\n",
    "    return pu, pb, pc"
   ]
  },
  {
   "cell_type": "code",
   "execution_count": 22,
   "id": "6ae76c66",
   "metadata": {},
   "outputs": [],
   "source": [
    "dir_root_lightjet = '/eos/atlas/atlascerngroupdisk/perf-flavtag/calib/negtag/Rel24_GN2/mc20_Run2/Ntuples/PeriodE/ZJets_MG'"
   ]
  },
  {
   "cell_type": "code",
   "execution_count": 23,
   "id": "134d16a3",
   "metadata": {},
   "outputs": [
    {
     "name": "stdout",
     "output_type": "stream",
     "text": [
      "user.ltoffoli.mc20_13TeV.506193.MGPy8EG_3jets_HT2bias_BFilter.deriv.DAOD_PHYS.e8382_s3681_r13145_p5631.toffoGN2_v1_output.root\r\n",
      "user.ltoffoli.mc20_13TeV.506194.MGPy8EG_HT2bias_CFilterBVeto.deriv.DAOD_PHYS.e8382_s3681_r13145_p5631.toffoGN2_v1_output.root\r\n",
      "user.ltoffoli.mc20_13TeV.506195.MGPy8EG_HT2bias_CVetoBVeto.deriv.DAOD_PHYS.e8382_s3681_r13145_p5631.toffoGN2_v1_output.root\r\n",
      "user.ltoffoli.mc20_13TeV.506196.MGPy8EG_3jets_HT2bias_BFilter.deriv.DAOD_PHYS.e8382_s3681_r13145_p5631.toffoGN2_v1_output.root\r\n",
      "user.ltoffoli.mc20_13TeV.506197.MGPy8EG_HT2bias_CFilterBVeto.deriv.DAOD_PHYS.e8382_s3681_r13145_p5631.toffoGN2_v1_output.root\r\n",
      "user.ltoffoli.mc20_13TeV.506198.MGPy8EG_HT2bias_CVetoBVeto.deriv.DAOD_PHYS.e8382_s3681_r13145_p5631.toffoGN2_v1_output.root\r\n",
      "user.ltoffoli.mc20_13TeV.512198.MGPy8EG_3jets_HT2bias_BFilter.deriv.DAOD_PHYS.e8382_s3681_r13145_p5631.toffoGN2_v1_output.root\r\n",
      "user.ltoffoli.mc20_13TeV.512199.MGPy8EG_HT2bias_CFilterBVeto.deriv.DAOD_PHYS.e8382_s3681_r13145_p5631.toffoGN2_v1_output.root\r\n",
      "user.ltoffoli.mc20_13TeV.512200.MGPy8EG_HT2bias_CVetoBVeto.deriv.DAOD_PHYS.e8382_s3681_r13145_p5631.toffoGN2_v1_output.root\r\n"
     ]
    }
   ],
   "source": [
    "!ls $dir_root_lightjet | head"
   ]
  },
  {
   "cell_type": "code",
   "execution_count": 24,
   "id": "484f13ff",
   "metadata": {},
   "outputs": [],
   "source": [
    "subdir = os.listdir(dir_root_lightjet)[0]"
   ]
  },
  {
   "cell_type": "code",
   "execution_count": 25,
   "id": "02e44f09",
   "metadata": {},
   "outputs": [
    {
     "data": {
      "text/plain": [
       "'user.ltoffoli.mc20_13TeV.506193.MGPy8EG_3jets_HT2bias_BFilter.deriv.DAOD_PHYS.e8382_s3681_r13145_p5631.toffoGN2_v1_output.root'"
      ]
     },
     "execution_count": 25,
     "metadata": {},
     "output_type": "execute_result"
    }
   ],
   "source": [
    "subdir"
   ]
  },
  {
   "cell_type": "code",
   "execution_count": 26,
   "id": "dd6147fb",
   "metadata": {},
   "outputs": [],
   "source": [
    "lightjet_dir_mc = os.path.join(dir_root_lightjet,subdir)"
   ]
  },
  {
   "cell_type": "code",
   "execution_count": 37,
   "id": "d746a3be",
   "metadata": {},
   "outputs": [],
   "source": [
    "pu_mc, pb_mc, pc_mc = read_example_file(lightjet_dir_mc)"
   ]
  },
  {
   "cell_type": "code",
   "execution_count": null,
   "id": "ae14188a",
   "metadata": {},
   "outputs": [],
   "source": [
    "fname = os.listdir(os.path.join(dir_root_lightjet,subdir))[0]"
   ]
  },
  {
   "cell_type": "code",
   "execution_count": null,
   "id": "953d2c7b",
   "metadata": {},
   "outputs": [],
   "source": [
    "fname"
   ]
  },
  {
   "cell_type": "code",
   "execution_count": null,
   "id": "c53c3621",
   "metadata": {},
   "outputs": [],
   "source": [
    "os.path.join(dir_root_lightjet,subdir,fname)"
   ]
  },
  {
   "cell_type": "code",
   "execution_count": null,
   "id": "6fd80a3a",
   "metadata": {},
   "outputs": [],
   "source": [
    "ff = uproot.open(os.path.join(dir_root_lightjet,subdir,fname))"
   ]
  },
  {
   "cell_type": "code",
   "execution_count": null,
   "id": "d2c7fbe9",
   "metadata": {},
   "outputs": [],
   "source": [
    "ff.keys()"
   ]
  },
  {
   "cell_type": "code",
   "execution_count": null,
   "id": "8d53e2b5",
   "metadata": {},
   "outputs": [],
   "source": [
    "tree = ff['nominal;1']"
   ]
  },
  {
   "cell_type": "code",
   "execution_count": null,
   "id": "f43764e2",
   "metadata": {},
   "outputs": [],
   "source": [
    "tree.keys()"
   ]
  },
  {
   "cell_type": "code",
   "execution_count": null,
   "id": "5d95b2ff",
   "metadata": {},
   "outputs": [],
   "source": [
    "jet_pt = tree['jet_pt'].array()"
   ]
  },
  {
   "cell_type": "code",
   "execution_count": null,
   "id": "69306da4",
   "metadata": {},
   "outputs": [],
   "source": [
    "pu_mc = tree['jet_GN2_pu'].array()"
   ]
  },
  {
   "cell_type": "code",
   "execution_count": null,
   "id": "97a2cc7c",
   "metadata": {},
   "outputs": [],
   "source": [
    "pu_mc = ak.flatten(pu_mc)"
   ]
  },
  {
   "cell_type": "code",
   "execution_count": null,
   "id": "3537bbdd",
   "metadata": {},
   "outputs": [],
   "source": [
    "pu_mc = ak.to_numpy(pu_mc)"
   ]
  },
  {
   "cell_type": "code",
   "execution_count": null,
   "id": "e0cb2582",
   "metadata": {},
   "outputs": [],
   "source": [
    "pu_mc"
   ]
  },
  {
   "cell_type": "code",
   "execution_count": null,
   "id": "04303630",
   "metadata": {},
   "outputs": [],
   "source": [
    "pb_mc = ak.to_numpy(ak.flatten(tree['jet_GN2_pb'].array()))\n",
    "pc_mc = ak.to_numpy(ak.flatten(tree['jet_GN2_pc'].array()))"
   ]
  },
  {
   "cell_type": "code",
   "execution_count": null,
   "id": "0f84aa3f",
   "metadata": {},
   "outputs": [],
   "source": [
    "pb.ndim"
   ]
  },
  {
   "cell_type": "code",
   "execution_count": null,
   "id": "debd6611",
   "metadata": {},
   "outputs": [],
   "source": [
    "type(pu)"
   ]
  },
  {
   "cell_type": "code",
   "execution_count": null,
   "id": "d9b1d80f",
   "metadata": {},
   "outputs": [],
   "source": [
    "pu.shape"
   ]
  },
  {
   "cell_type": "code",
   "execution_count": 32,
   "id": "a2b5937f",
   "metadata": {},
   "outputs": [],
   "source": [
    "import matplotlib.pyplot as plt\n",
    "from matplotlib import colors\n",
    "import os\n",
    "import numpy as np\n",
    "import mplhep as hep"
   ]
  },
  {
   "cell_type": "code",
   "execution_count": null,
   "id": "eec5b3fb",
   "metadata": {},
   "outputs": [],
   "source": [
    "_ = plt.hist(pu[:1000],bins=100)"
   ]
  },
  {
   "cell_type": "code",
   "execution_count": null,
   "id": "53032f51",
   "metadata": {},
   "outputs": [],
   "source": [
    "pu[:3].flatten()"
   ]
  },
  {
   "cell_type": "code",
   "execution_count": 33,
   "id": "d72f3832",
   "metadata": {},
   "outputs": [],
   "source": [
    "palette = ['#3E96A1', '#EC4E20', '#FF9505', '#713E5A', '#D62828', '#5F0F40']"
   ]
  },
  {
   "cell_type": "code",
   "execution_count": 34,
   "id": "59b27a24",
   "metadata": {},
   "outputs": [],
   "source": [
    "def get_bg_idx(sample_names, bg_name):\n",
    "\n",
    "    if bg_name is not None:\n",
    "        return [i for (i,s) in enumerate(sample_names) if bg_name in s][0]\n",
    "    else:\n",
    "        return -1"
   ]
  },
  {
   "cell_type": "code",
   "execution_count": 35,
   "id": "3ef36bb2",
   "metadata": {},
   "outputs": [],
   "source": [
    "def plot_feature_for_n_samples(data, sample_names, bins=100, xlabel='x', ylabel='fraction events', title=None, clip_outlier=False, normed=True, \\\n",
    "    ylogscale=True, xlim=None, plot_name='feature_hist', fig_dir=None, fig_format='.pdf', fig_size=(7,7), bg_name=None, histtype_bg='stepfilled', \\\n",
    "    show_plt=False, legend_outside=True):\n",
    "    '''\n",
    "    plots single feature distribution for multiple samples as 1D histogram\n",
    "    :param data: list of J ndarrays of each N feature values\n",
    "    :param bg_name: if not None, one sample will be treated as background and plotted in histtype_bg style\n",
    "    '''\n",
    "\n",
    "    # import ipdb; ipdb.set_trace()\n",
    "\n",
    "    # if one sample is to be treated as background sample\n",
    "    bg_idx = get_bg_idx(sample_names, bg_name)\n",
    "\n",
    "    plt.style.use(hep.style.CMS)\n",
    "\n",
    "    fig = plt.figure(figsize=(7,5))\n",
    "    if ylogscale:\n",
    "        plt.yscale('log')\n",
    "\n",
    "    for i, (dat, col) in enumerate(zip(data, palette)):\n",
    "        if i == bg_idx:\n",
    "            plt.hist(dat, bins=bins, density=normed, alpha=0.5, histtype=histtype_bg, label=sample_names[i], color=col)\n",
    "        else:\n",
    "            plt.hist(dat, bins=bins, density=normed, alpha=1.0, histtype='step', label=sample_names[i], color=col)\n",
    "\n",
    "    if xlim:\n",
    "        plt.xlim(xlim)\n",
    "    plt.grid()\n",
    "    plt.gca().tick_params(axis='both', which='major', labelsize=14)\n",
    "    plt.ylabel(ylabel, fontsize=16)\n",
    "    plt.xlabel(xlabel, fontsize=16)\n",
    "    if legend_outside:\n",
    "        handles, labels = plt.gca().get_legend_handles_labels()\n",
    "        lgd = fig.legend(handles, labels, bbox_to_anchor=(0.5,-0.1), loc=\"lower center\", ncol=len(data), labelspacing=0.8, fontsize=16)\n",
    "        bbox_extra_artists = (lgd,)\n",
    "    else:\n",
    "        plt.legend(loc='best', fontsize=15)\n",
    "        bbox_extra_artists = None\n",
    "    plt.tight_layout()\n",
    "    if show_plt:\n",
    "        plt.show()\n",
    "    if fig_dir:\n",
    "        print('writing figure to ' + os.path.join(fig_dir, plot_name + fig_format))\n",
    "        fig.savefig(os.path.join(fig_dir, plot_name + fig_format), bbox_extra_artists=bbox_extra_artists, bbox_inches='tight')\n",
    "    plt.close(fig)\n"
   ]
  },
  {
   "cell_type": "code",
   "execution_count": 36,
   "id": "bf0f386c",
   "metadata": {},
   "outputs": [
    {
     "data": {
      "image/png": "[encoded data removed]",
      "text/plain": [
       "<Figure size 700x500 with 1 Axes>"
      ]
     },
     "metadata": {},
     "output_type": "display_data"
    }
   ],
   "source": [
    "data = [pu_mc,pb_mc,pc_mc]\n",
    "sample_names = ['pu mc','pb mc','pc mc']\n",
    "plot_feature_for_n_samples(data,sample_names,show_plt=True)"
   ]
  },
  {
   "cell_type": "code",
   "execution_count": null,
   "id": "9c0aa4c6",
   "metadata": {},
   "outputs": [],
   "source": [
    "light_jet_data_dir = '/eos/atlas/atlascerngroupdisk/perf-flavtag/calib/negtag/Rel24_GN2/mc20_Run2/Ntuples/PeriodE/data/user.ltoffoli.data18_13TeV.periodAllYear.physics_Main.PhysCont.DAOD_PHYS.grp18_v01_p5631.toffoGN2_v1_output.root/'"
   ]
  },
  {
   "cell_type": "code",
   "execution_count": null,
   "id": "8b60d4cf",
   "metadata": {},
   "outputs": [],
   "source": [
    "!ls $light_jet_data_dir"
   ]
  },
  {
   "cell_type": "code",
   "execution_count": null,
   "id": "9c22ca94",
   "metadata": {},
   "outputs": [],
   "source": [
    "fname = os.listdir(light_jet_data_dir)[0]"
   ]
  },
  {
   "cell_type": "code",
   "execution_count": null,
   "id": "91a2fce7",
   "metadata": {},
   "outputs": [],
   "source": [
    "ff = uproot.open(os.path.join(light_jet_data_dir,fname))"
   ]
  },
  {
   "cell_type": "code",
   "execution_count": null,
   "id": "6f121e75",
   "metadata": {},
   "outputs": [],
   "source": [
    "tree = ff['nominal;1']"
   ]
  },
  {
   "cell_type": "code",
   "execution_count": null,
   "id": "ffb4d7ff",
   "metadata": {},
   "outputs": [],
   "source": [
    "pu = ak.to_numpy(ak.flatten(tree['jet_GN2_pu'].array()))\n",
    "pb = ak.to_numpy(ak.flatten(tree['jet_GN2_pb'].array()))\n",
    "pc = ak.to_numpy(ak.flatten(tree['jet_GN2_pc'].array()))"
   ]
  },
  {
   "cell_type": "code",
   "execution_count": null,
   "id": "db71b02e",
   "metadata": {},
   "outputs": [],
   "source": [
    "data = [pu,pb,pc]\n",
    "sample_names = ['pu','pb','pc']\n",
    "plot_feature_for_n_samples(data,sample_names,show_plt=True,xlabel='p')"
   ]
  },
  {
   "cell_type": "code",
   "execution_count": null,
   "id": "8ef8c41b",
   "metadata": {},
   "outputs": [],
   "source": [
    "data = [pu_mc,pb_mc,pc_mc]\n",
    "sample_names = ['pu mc','pb mc','pc mc']\n",
    "plot_feature_for_n_samples(data,sample_names,show_plt=True,xlabel='p')"
   ]
  },
  {
   "cell_type": "code",
   "execution_count": null,
   "id": "9fbc09c3",
   "metadata": {},
   "outputs": [],
   "source": []
  }
 ],
 "metadata": {
  "kernelspec": {
   "display_name": "Python 3",
   "language": "python",
   "name": "python3"
  },
  "language_info": {
   "codemirror_mode": {
    "name": "ipython",
    "version": 3
   },
   "file_extension": ".py",
   "mimetype": "text/x-python",
   "name": "python",
   "nbconvert_exporter": "python",
   "pygments_lexer": "ipython3",
   "version": "3.7.11"
  }
 },
 "nbformat": 4,
 "nbformat_minor": 5
}
