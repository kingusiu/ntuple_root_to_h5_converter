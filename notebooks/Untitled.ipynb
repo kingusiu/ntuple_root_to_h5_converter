{
 "cells": [
  {
   "cell_type": "code",
   "execution_count": 1,
   "id": "93976cd2-f416-440d-8eb0-bf0fe298b5ff",
   "metadata": {},
   "outputs": [],
   "source": [
    "import uproot\n",
    "import h5py\n",
    "import numpy as np\n",
    "import os\n",
    "import re\n",
    "import awkward as awk\n",
    "import heplot as hepl\n",
    "import matplotlib.pyplot as plt\n",
    "import importlib\n",
    "import glob\n",
    "from heplot import plotting as heplt\n",
    "import sys\n",
    "sys.path.append('..')"
   ]
  },
  {
   "cell_type": "code",
   "execution_count": 2,
   "id": "60d9913c-a69f-47d1-a0a4-81086ca66b69",
   "metadata": {},
   "outputs": [],
   "source": [
    "import src.selection as sele\n",
    "import src.string_constants as stco\n",
    "import src.generator as gene\n",
    "import src.reader as read\n",
    "import src.util as util"
   ]
  },
  {
   "cell_type": "markdown",
   "id": "01c0ca63-5142-4065-90f5-d651d8ab03df",
   "metadata": {},
   "source": [
    "# generate samples"
   ]
  },
  {
   "cell_type": "code",
   "execution_count": null,
   "id": "da031c6b-75fe-47a7-b796-b872d2ece080",
   "metadata": {},
   "outputs": [],
   "source": []
  },
  {
   "cell_type": "code",
   "execution_count": 10,
   "id": "521ce958-f574-42fb-a9ab-52db37fc09a8",
   "metadata": {},
   "outputs": [],
   "source": [
    "feature_names_in = ['el_e','mu_e','el_charge','mu_charge','el_pt','mu_pt', 'el_phi','mu_phi',\\\n",
    "                    'el_eta', 'mu_eta', 'jet_e', 'jet_pt', 'jet_truthflav',\\\n",
    "                \t'weight_mc', 'weight_pileup', 'weight_jvt', 'weight_leptonSF']\n",
    "feature_names_out = ['jet_pt_lead','jet_truthflav', 'jet_truthflav_lead',\\\n",
    "                \t'weight_mc', 'weight_pileup', 'weight_jvt', 'weight_leptonSF']"
   ]
  },
  {
   "cell_type": "code",
   "execution_count": 11,
   "id": "f3b7975f-fbb1-4ffb-9631-8ec5327ed925",
   "metadata": {},
   "outputs": [],
   "source": [
    "paths = [glob.glob(os.path.join(stco.in_dir_mc,'*'+ds_id+'*')) for ds_id in sum(list(stco.ds_ids_sig.values()),[])]\n",
    "paths = sum(paths,[])\n",
    "N = int(1e4)"
   ]
  },
  {
   "cell_type": "code",
   "execution_count": 12,
   "id": "776eaa0a-7a0c-4994-8db5-894a13e1018a",
   "metadata": {},
   "outputs": [
    {
     "data": {
      "text/plain": [
       "['/eos/atlas/atlascerngroupdisk/perf-flavtag/calib/negtag/Rel24_GN2v01/Ntuples_Nominal/mc20d/user.ltoffoli.mc20_13T.506193.MGPy8EG_Zee_FxFx_3jets_HT2bias_BF.D_FTAG2.e8382_s3681_r13144_p5981.GN2v01_Nom_output.root',\n",
       " '/eos/atlas/atlascerngroupdisk/perf-flavtag/calib/negtag/Rel24_GN2v01/Ntuples_Nominal/mc20d/user.ltoffoli.mc20_13T.506194.MGPy8EG_Zee_FxFx_3jets_HT2bias_CFBV.D_FTAG2.e8382_s3681_r13144_p5981.GN2v01_Nom_output.root',\n",
       " '/eos/atlas/atlascerngroupdisk/perf-flavtag/calib/negtag/Rel24_GN2v01/Ntuples_Nominal/mc20d/user.ltoffoli.mc20_13T.506195.MGPy8EG_Zee_FxFx_3jets_HT2bias_CVBV.D_FTAG2.e8382_s3681_r13144_p5981.GN2v01_Nom_output.root',\n",
       " '/eos/atlas/atlascerngroupdisk/perf-flavtag/calib/negtag/Rel24_GN2v01/Ntuples_Nominal/mc20d/user.ltoffoli.mc20_13T.506196.MGPy8EG_Zmumu_FxFx_3jets_HT2bias_BF.D_FTAG2.e8382_s3681_r13144_p5981.GN2v01_Nom_output.root',\n",
       " '/eos/atlas/atlascerngroupdisk/perf-flavtag/calib/negtag/Rel24_GN2v01/Ntuples_Nominal/mc20d/user.ltoffoli.mc20_13T.506197.MGPy8EG_Zmumu_FxFx_3jets_HT2bias_CFBV.D_FTAG2.e8382_s3681_r13144_p5981.GN2v01_Nom_output.root',\n",
       " '/eos/atlas/atlascerngroupdisk/perf-flavtag/calib/negtag/Rel24_GN2v01/Ntuples_Nominal/mc20d/user.ltoffoli.mc20_13T.506198.MGPy8EG_Zmumu_FxFx_3jets_HT2bias_CVBV.D_FTAG2.e8382_s3681_r13144_p5981.GN2v01_Nom_output.root',\n",
       " '/eos/atlas/atlascerngroupdisk/perf-flavtag/calib/negtag/Rel24_GN2v01/Ntuples_Nominal/mc20d/user.ltoffoli.mc20_13T.512198.MGPy8EG_FxFx_Ztautau_3jets_HT2bias_BF.D_FTAG2.e8382_s3681_r13144_p5981.GN2v01_Nom_output.root',\n",
       " '/eos/atlas/atlascerngroupdisk/perf-flavtag/calib/negtag/Rel24_GN2v01/Ntuples_Nominal/mc20d/user.ltoffoli.mc20_13T.512199.MGPy8EG_FxFx_Ztautau_3jets_HT2bias_CFBV.D_FTAG2.e8382_s3681_r13144_p5981.GN2v01_Nom_output.root',\n",
       " '/eos/atlas/atlascerngroupdisk/perf-flavtag/calib/negtag/Rel24_GN2v01/Ntuples_Nominal/mc20d/user.ltoffoli.mc20_13T.512200.MGPy8EG_FxFx_Ztautau_3jets_HT2bias_CVBV.D_FTAG2.e8382_s3681_r13144_p5981.GN2v01_Nom_output.root']"
      ]
     },
     "execution_count": 12,
     "metadata": {},
     "output_type": "execute_result"
    }
   ],
   "source": [
    "paths"
   ]
  },
  {
   "cell_type": "code",
   "execution_count": 13,
   "id": "f60b3e11-3aad-4a9c-8fd8-4ae7fbfe1457",
   "metadata": {},
   "outputs": [],
   "source": [
    "generator = gene.sample_generator(paths, N, selection_fun=sele.select_lightjets, feature_names_in=feature_names_in, feature_names_out=feature_names_out)"
   ]
  },
  {
   "cell_type": "code",
   "execution_count": 14,
   "id": "0eb3f45b-cbb5-45e8-b52a-4a092464453a",
   "metadata": {},
   "outputs": [
    {
     "name": "stdout",
     "output_type": "stream",
     "text": [
      "210000 samples read\n"
     ]
    }
   ],
   "source": [
    "samples = None\n",
    "i = 0\n",
    "\n",
    "for sample_batch in generator:\n",
    "\n",
    "    if samples is None:\n",
    "        samples = sample_batch\n",
    "    else:\n",
    "        samples = awk.concatenate([samples,sample_batch])\n",
    "\n",
    "    i = i+1\n",
    "    if i > 20:\n",
    "        break\n",
    "\n",
    "print(f'{len(samples)} samples read')"
   ]
  },
  {
   "cell_type": "code",
   "execution_count": 15,
   "id": "47a0b71a-b151-4fa3-8972-fff9d41792e3",
   "metadata": {},
   "outputs": [],
   "source": [
    "jetU, jetC, jetB, jetT = util.split_by_jet_flavor(samples)"
   ]
  },
  {
   "cell_type": "code",
   "execution_count": 16,
   "id": "dd47179d-7d21-42f6-bb72-5d6807fbd677",
   "metadata": {},
   "outputs": [
    {
     "data": {
      "text/html": [
       "<pre>[{jet_pt_lead: [1.64e+05], jet_truthflav: [0, 0, 5], ...},\n",
       " {jet_pt_lead: [5.15e+05], jet_truthflav: [0, 0, ..., 0], ...},\n",
       " {jet_pt_lead: [1.08e+05], jet_truthflav: [0], jet_truthflav_lead: [0], ...},\n",
       " {jet_pt_lead: [1.93e+05], jet_truthflav: [0, 5, ..., 0], ...},\n",
       " {jet_pt_lead: [2.36e+04], jet_truthflav: [0], jet_truthflav_lead: [0], ...},\n",
       " {jet_pt_lead: [3.28e+04], jet_truthflav: [0], jet_truthflav_lead: [0], ...},\n",
       " {jet_pt_lead: [1.67e+05], jet_truthflav: [0, 5, 0], ...},\n",
       " {jet_pt_lead: [9.99e+04], jet_truthflav: [0, 5, ..., 0], ...},\n",
       " {jet_pt_lead: [6.18e+04], jet_truthflav: [0, 0, 0], ...},\n",
       " {jet_pt_lead: [3.12e+04], jet_truthflav: [0, 0], jet_truthflav_lead: [0], ...},\n",
       " ...,\n",
       " {jet_pt_lead: [4.03e+05], jet_truthflav: [0, 5], jet_truthflav_lead: [0], ...},\n",
       " {jet_pt_lead: [8.09e+05], jet_truthflav: [0, 4, ..., 0], ...},\n",
       " {jet_pt_lead: [8.95e+04], jet_truthflav: [0, 0, 5], ...},\n",
       " {jet_pt_lead: [9.23e+04], jet_truthflav: [0, 0], jet_truthflav_lead: [0], ...},\n",
       " {jet_pt_lead: [2.14e+05], jet_truthflav: [0, 5], jet_truthflav_lead: [0], ...},\n",
       " {jet_pt_lead: [3.2e+04], jet_truthflav: [0, 0, 0], ...},\n",
       " {jet_pt_lead: [6.05e+04], jet_truthflav: [0, 5, ..., 0], ...},\n",
       " {jet_pt_lead: [5.03e+04], jet_truthflav: [0, 5], jet_truthflav_lead: [0], ...},\n",
       " {jet_pt_lead: [2.67e+05], jet_truthflav: [0, 5, ..., 0], ...}]\n",
       "--------------------------------------------------------------------------------\n",
       "type: 91098 * ?{\n",
       "    jet_pt_lead: var * ?float32,\n",
       "    jet_truthflav: var * int32,\n",
       "    jet_truthflav_lead: var * ?int32,\n",
       "    weight_mc: float32,\n",
       "    weight_pileup: float32,\n",
       "    weight_jvt: float32,\n",
       "    weight_leptonSF: float32\n",
       "}</pre>"
      ],
      "text/plain": [
       "<Array [{jet_pt_lead: [1.64e+05], ...}, ...] type='91098 * ?{jet_pt_lead: v...'>"
      ]
     },
     "execution_count": 16,
     "metadata": {},
     "output_type": "execute_result"
    }
   ],
   "source": []
  },
  {
   "cell_type": "code",
   "execution_count": null,
   "id": "d9475e01-f2d6-43be-a43a-0de6e3d3406e",
   "metadata": {},
   "outputs": [],
   "source": []
  }
 ],
 "metadata": {
  "kernelspec": {
   "display_name": "Python 3",
   "language": "python",
   "name": "python3"
  },
  "language_info": {
   "codemirror_mode": {
    "name": "ipython",
    "version": 3
   },
   "file_extension": ".py",
   "mimetype": "text/x-python",
   "name": "python",
   "nbconvert_exporter": "python",
   "pygments_lexer": "ipython3",
   "version": "3.10.13"
  }
 },
 "nbformat": 4,
 "nbformat_minor": 5
}
