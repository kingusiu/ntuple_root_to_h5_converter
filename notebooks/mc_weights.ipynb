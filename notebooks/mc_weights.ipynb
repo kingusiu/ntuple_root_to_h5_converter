{
 "cells": [
  {
   "cell_type": "code",
   "execution_count": 1,
   "id": "e66e5abd-990c-4451-b7a9-4a8afb19fa22",
   "metadata": {},
   "outputs": [],
   "source": [
    "import uproot\n",
    "import h5py\n",
    "import numpy as np\n",
    "import os\n",
    "import re\n",
    "import awkward as awk\n",
    "import heplot as hepl\n",
    "import matplotlib.pyplot as plt\n",
    "import importlib\n",
    "import glob\n",
    "from heplot import plotting as heplt\n",
    "import sys\n",
    "sys.path.append('..')"
   ]
  },
  {
   "cell_type": "code",
   "execution_count": 2,
   "id": "49b912f7-e459-4270-a712-bf7f931db68d",
   "metadata": {},
   "outputs": [],
   "source": [
    "import src.selection as sele\n",
    "import src.string_constants as stco\n",
    "import src.generator as gene\n",
    "import src.reader as read"
   ]
  },
  {
   "cell_type": "markdown",
   "id": "a5722bf4-4029-4200-82ee-f1c6757fe979",
   "metadata": {},
   "source": [
    "# read all files for each ds_id"
   ]
  },
  {
   "cell_type": "code",
   "execution_count": 3,
   "id": "5abcce0f-6294-4993-9945-ef709f7731d7",
   "metadata": {},
   "outputs": [],
   "source": [
    "ds_id = stco.ds_ids_sig['mumu'][0]"
   ]
  },
  {
   "cell_type": "code",
   "execution_count": 4,
   "id": "22d53f06-ffe7-4b01-934e-9e70e1097775",
   "metadata": {},
   "outputs": [
    {
     "data": {
      "text/plain": [
       "'506196'"
      ]
     },
     "execution_count": 4,
     "metadata": {},
     "output_type": "execute_result"
    }
   ],
   "source": [
    "ds_id"
   ]
  },
  {
   "cell_type": "code",
   "execution_count": 5,
   "id": "00acdf23-7d4d-4c00-bbbf-ea69b2b71ea2",
   "metadata": {},
   "outputs": [],
   "source": [
    "path = glob.glob(os.path.join(stco.in_dir_mc,'*'+ds_id+'*'))[0]"
   ]
  },
  {
   "cell_type": "code",
   "execution_count": 6,
   "id": "416b462b-f185-4cb3-a3ff-da42eec7eb5b",
   "metadata": {},
   "outputs": [
    {
     "data": {
      "text/plain": [
       "'/eos/atlas/atlascerngroupdisk/perf-flavtag/calib/negtag/Rel24_GN2v01/Ntuples_Nominal/mc20d/user.ltoffoli.mc20_13T.506196.MGPy8EG_Zmumu_FxFx_3jets_HT2bias_BF.D_FTAG2.e8382_s3681_r13144_p5981.GN2v01_Nom_output.root'"
      ]
     },
     "execution_count": 6,
     "metadata": {},
     "output_type": "execute_result"
    }
   ],
   "source": [
    "path"
   ]
  },
  {
   "cell_type": "code",
   "execution_count": 6,
   "id": "c1a797b7-dc62-486d-a9c4-f10031170264",
   "metadata": {},
   "outputs": [],
   "source": [
    "fnames = [os.path.join(path, ff) for ff in os.listdir(path)]"
   ]
  },
  {
   "cell_type": "code",
   "execution_count": 7,
   "id": "c684623c-16c0-4ee2-b238-6060007a2ea2",
   "metadata": {},
   "outputs": [
    {
     "data": {
      "text/plain": [
       "['/eos/atlas/atlascerngroupdisk/perf-flavtag/calib/negtag/Rel24_GN2v01/Ntuples_Nominal/mc20d/user.ltoffoli.mc20_13T.506196.MGPy8EG_Zmumu_FxFx_3jets_HT2bias_BF.D_FTAG2.e8382_s3681_r13144_p5981.GN2v01_Nom_output.root/user.ltoffoli.37305917._000001.output.root',\n",
       " '/eos/atlas/atlascerngroupdisk/perf-flavtag/calib/negtag/Rel24_GN2v01/Ntuples_Nominal/mc20d/user.ltoffoli.mc20_13T.506196.MGPy8EG_Zmumu_FxFx_3jets_HT2bias_BF.D_FTAG2.e8382_s3681_r13144_p5981.GN2v01_Nom_output.root/user.ltoffoli.37305917._000002.output.root',\n",
       " '/eos/atlas/atlascerngroupdisk/perf-flavtag/calib/negtag/Rel24_GN2v01/Ntuples_Nominal/mc20d/user.ltoffoli.mc20_13T.506196.MGPy8EG_Zmumu_FxFx_3jets_HT2bias_BF.D_FTAG2.e8382_s3681_r13144_p5981.GN2v01_Nom_output.root/user.ltoffoli.37305917._000003.output.root',\n",
       " '/eos/atlas/atlascerngroupdisk/perf-flavtag/calib/negtag/Rel24_GN2v01/Ntuples_Nominal/mc20d/user.ltoffoli.mc20_13T.506196.MGPy8EG_Zmumu_FxFx_3jets_HT2bias_BF.D_FTAG2.e8382_s3681_r13144_p5981.GN2v01_Nom_output.root/user.ltoffoli.37305917._000004.output.root',\n",
       " '/eos/atlas/atlascerngroupdisk/perf-flavtag/calib/negtag/Rel24_GN2v01/Ntuples_Nominal/mc20d/user.ltoffoli.mc20_13T.506196.MGPy8EG_Zmumu_FxFx_3jets_HT2bias_BF.D_FTAG2.e8382_s3681_r13144_p5981.GN2v01_Nom_output.root/user.ltoffoli.37351506._000001.output.root',\n",
       " '/eos/atlas/atlascerngroupdisk/perf-flavtag/calib/negtag/Rel24_GN2v01/Ntuples_Nominal/mc20d/user.ltoffoli.mc20_13T.506196.MGPy8EG_Zmumu_FxFx_3jets_HT2bias_BF.D_FTAG2.e8382_s3681_r13144_p5981.GN2v01_Nom_output.root/user.ltoffoli.37351506._000002.output.root',\n",
       " '/eos/atlas/atlascerngroupdisk/perf-flavtag/calib/negtag/Rel24_GN2v01/Ntuples_Nominal/mc20d/user.ltoffoli.mc20_13T.506196.MGPy8EG_Zmumu_FxFx_3jets_HT2bias_BF.D_FTAG2.e8382_s3681_r13144_p5981.GN2v01_Nom_output.root/user.ltoffoli.37351506._000003.output.root',\n",
       " '/eos/atlas/atlascerngroupdisk/perf-flavtag/calib/negtag/Rel24_GN2v01/Ntuples_Nominal/mc20d/user.ltoffoli.mc20_13T.506196.MGPy8EG_Zmumu_FxFx_3jets_HT2bias_BF.D_FTAG2.e8382_s3681_r13144_p5981.GN2v01_Nom_output.root/user.ltoffoli.37351506._000004.output.root',\n",
       " '/eos/atlas/atlascerngroupdisk/perf-flavtag/calib/negtag/Rel24_GN2v01/Ntuples_Nominal/mc20d/user.ltoffoli.mc20_13T.506196.MGPy8EG_Zmumu_FxFx_3jets_HT2bias_BF.D_FTAG2.e8382_s3681_r13144_p5981.GN2v01_Nom_output.root/user.ltoffoli.37351506._000005.output.root',\n",
       " '/eos/atlas/atlascerngroupdisk/perf-flavtag/calib/negtag/Rel24_GN2v01/Ntuples_Nominal/mc20d/user.ltoffoli.mc20_13T.506196.MGPy8EG_Zmumu_FxFx_3jets_HT2bias_BF.D_FTAG2.e8382_s3681_r13144_p5981.GN2v01_Nom_output.root/user.ltoffoli.37351506._000006.output.root',\n",
       " '/eos/atlas/atlascerngroupdisk/perf-flavtag/calib/negtag/Rel24_GN2v01/Ntuples_Nominal/mc20d/user.ltoffoli.mc20_13T.506196.MGPy8EG_Zmumu_FxFx_3jets_HT2bias_BF.D_FTAG2.e8382_s3681_r13144_p5981.GN2v01_Nom_output.root/user.ltoffoli.37351506._000007.output.root',\n",
       " '/eos/atlas/atlascerngroupdisk/perf-flavtag/calib/negtag/Rel24_GN2v01/Ntuples_Nominal/mc20d/user.ltoffoli.mc20_13T.506196.MGPy8EG_Zmumu_FxFx_3jets_HT2bias_BF.D_FTAG2.e8382_s3681_r13144_p5981.GN2v01_Nom_output.root/user.ltoffoli.37351506._000008.output.root',\n",
       " '/eos/atlas/atlascerngroupdisk/perf-flavtag/calib/negtag/Rel24_GN2v01/Ntuples_Nominal/mc20d/user.ltoffoli.mc20_13T.506196.MGPy8EG_Zmumu_FxFx_3jets_HT2bias_BF.D_FTAG2.e8382_s3681_r13144_p5981.GN2v01_Nom_output.root/user.ltoffoli.37351506._000009.output.root']"
      ]
     },
     "execution_count": 7,
     "metadata": {},
     "output_type": "execute_result"
    }
   ],
   "source": [
    "fnames"
   ]
  },
  {
   "cell_type": "code",
   "execution_count": 8,
   "id": "dbcc11e8-8b54-4be9-a68c-1ed541108465",
   "metadata": {},
   "outputs": [],
   "source": [
    "rt = uproot.open(fnames[0])"
   ]
  },
  {
   "cell_type": "code",
   "execution_count": 9,
   "id": "4ba3958d-c667-4524-8b83-fd78fa3aaffc",
   "metadata": {},
   "outputs": [
    {
     "data": {
      "text/plain": [
       "{'ee_2017;1': 'TDirectory',\n",
       " 'ee_2017/cutflow;1': 'TH1D',\n",
       " 'ee_2017/cutflow_mc;1': 'TH1D',\n",
       " 'ee_2017/cutflow_mc_pu;1': 'TH1D',\n",
       " 'ee_2017/cutflow_pu;1': 'TH1D',\n",
       " 'ee_2017/cutflow_scale_factors;1': 'TH1D',\n",
       " 'mumu_2017;1': 'TDirectory',\n",
       " 'mumu_2017/cutflow;1': 'TH1D',\n",
       " 'mumu_2017/cutflow_mc;1': 'TH1D',\n",
       " 'mumu_2017/cutflow_mc_pu;1': 'TH1D',\n",
       " 'mumu_2017/cutflow_pu;1': 'TH1D',\n",
       " 'mumu_2017/cutflow_scale_factors;1': 'TH1D',\n",
       " 'AnalysisTracking;1': 'TTree',\n",
       " 'nominal;1': 'TTree',\n",
       " 'sumWeights;1': 'TTree',\n",
       " 'truth;1': 'TTree'}"
      ]
     },
     "execution_count": 9,
     "metadata": {},
     "output_type": "execute_result"
    }
   ],
   "source": [
    "rt.classnames()"
   ]
  },
  {
   "cell_type": "code",
   "execution_count": 10,
   "id": "8301cb24-9d6a-49d1-860e-99eac18aecfe",
   "metadata": {},
   "outputs": [
    {
     "data": {
      "text/plain": [
       "array([5.84244864e+08, 5.53689216e+08, 5.50758528e+08, 5.13354688e+08,\n",
       "       5.34187584e+08, 5.44187712e+08, 5.31054592e+08, 5.24199808e+08,\n",
       "       5.07864352e+08, 5.22198976e+08, 5.29186240e+08, 5.29710368e+08,\n",
       "       5.03878432e+08, 5.18727168e+08, 5.14299264e+08, 5.35412544e+08,\n",
       "       5.18531072e+08, 5.14962080e+08, 5.09364096e+08, 5.25545728e+08,\n",
       "       5.33605088e+08, 5.25215040e+08, 5.28455520e+08, 5.29186560e+08,\n",
       "       5.23900992e+08, 5.19676320e+08, 5.04668160e+08, 4.56032000e+08,\n",
       "       3.96412384e+08, 3.84934592e+08, 3.29302496e+08, 3.29336224e+08,\n",
       "       3.23438944e+08, 3.24988000e+08, 3.29857344e+08, 3.24125472e+08,\n",
       "       3.30185920e+08, 3.31909504e+08, 3.18836640e+08, 3.23254048e+08,\n",
       "       3.26412416e+08, 3.28617024e+08, 3.22664512e+08, 3.30397344e+08,\n",
       "       3.27347584e+08, 3.39302720e+08, 3.28087296e+08, 3.33126432e+08,\n",
       "       3.24863712e+08, 3.30217664e+08])"
      ]
     },
     "execution_count": 10,
     "metadata": {},
     "output_type": "execute_result"
    }
   ],
   "source": [
    "np.array(rt['sumWeights/totalEventsWeighted'], dtype=np.float64)"
   ]
  },
  {
   "cell_type": "code",
   "execution_count": 11,
   "id": "c76c9f69-660a-44ff-afd6-faf1bc0f45a0",
   "metadata": {},
   "outputs": [],
   "source": [
    "evt_weights_per_file = np.array(rt['sumWeights/totalEventsWeighted'], dtype=np.float64).sum()"
   ]
  },
  {
   "cell_type": "code",
   "execution_count": 12,
   "id": "a6524a66-1d19-44b9-89e1-1092936239be",
   "metadata": {},
   "outputs": [
    {
     "data": {
      "text/plain": [
       "22023715264.0"
      ]
     },
     "execution_count": 12,
     "metadata": {},
     "output_type": "execute_result"
    }
   ],
   "source": [
    "evt_weights_per_file"
   ]
  },
  {
   "cell_type": "markdown",
   "id": "cc0f1d6d-130d-490d-bef5-0ac0139d4b51",
   "metadata": {},
   "source": [
    "# compute sum of weights value from all files belonging to a dsid"
   ]
  },
  {
   "cell_type": "code",
   "execution_count": 13,
   "id": "8a105a36-dfd1-44e2-8ade-b3a841f35b92",
   "metadata": {},
   "outputs": [],
   "source": [
    "sow_dd = {}"
   ]
  },
  {
   "cell_type": "code",
   "execution_count": 14,
   "id": "9a665610-43f0-4439-a6e9-f3e6280c65cc",
   "metadata": {},
   "outputs": [],
   "source": [
    "for dsid in stco.ds_ids_all:\n",
    "    dsid_path = glob.glob(os.path.join(stco.in_dir_mc,'*'+dsid+'*'))[0]\n",
    "    fnames = [os.path.join(dsid_path, ff) for ff in os.listdir(dsid_path)]\n",
    "    \n",
    "    sow_per_dsid = 0\n",
    "    for ff in fnames: # for all files\n",
    "        rt = uproot.open(ff)\n",
    "        sow_per_dsid += np.array(rt['sumWeights/totalEventsWeighted'], dtype=np.float64).sum() # for all branches in \n",
    "    \n",
    "    sow_dd[dsid] = sow_per_dsid"
   ]
  },
  {
   "cell_type": "code",
   "execution_count": 15,
   "id": "43e2617f-4efc-4ad7-9dd5-0cb930f875e7",
   "metadata": {},
   "outputs": [
    {
     "data": {
      "text/plain": [
       "{'410472': 101069830504.0,\n",
       " '363356': 6949688.5625,\n",
       " '363358': 2021873.654296875,\n",
       " '364302': 638141.81640625,\n",
       " '506193': 72501813184.0,\n",
       " '506194': 532006530368.0,\n",
       " '506195': 2068729490176.0,\n",
       " '506196': 83903746624.0,\n",
       " '506197': 438336549632.0,\n",
       " '506198': 2138878821504.0,\n",
       " '512198': 60103329024.0,\n",
       " '512199': 522860189264.0,\n",
       " '512200': 2332324618176.0}"
      ]
     },
     "execution_count": 15,
     "metadata": {},
     "output_type": "execute_result"
    }
   ],
   "source": [
    "sow_dd"
   ]
  },
  {
   "cell_type": "code",
   "execution_count": 16,
   "id": "73e6bc8b-3cae-49b0-8d34-c2c3e7cd853a",
   "metadata": {},
   "outputs": [
    {
     "data": {
      "text/plain": [
       "13"
      ]
     },
     "execution_count": 16,
     "metadata": {},
     "output_type": "execute_result"
    }
   ],
   "source": [
    "len(sow_dd)"
   ]
  },
  {
   "cell_type": "markdown",
   "id": "e8984196-99c0-4abc-b45a-596e3666daa2",
   "metadata": {},
   "source": [
    "### compute mc lumi as sow_j / (xsec_j * k_j) for each dsid k and correspoding sum of weights, mc cross section and k-scale factor"
   ]
  },
  {
   "cell_type": "code",
   "execution_count": 20,
   "id": "705619a6-a1cf-4458-a6e6-077750f09d16",
   "metadata": {},
   "outputs": [],
   "source": [
    "mc_lumi_dd = {dsid : stco.lumi * (stco.scale_factors[dsid]['xsec'] * stco.scale_factors[dsid]['k']) / sow_dd[dsid] for dsid in stco.ds_ids_all}"
   ]
  },
  {
   "cell_type": "code",
   "execution_count": 21,
   "id": "a574cba6-9f7f-42b9-9a10-492d7fa8c43c",
   "metadata": {},
   "outputs": [
    {
     "data": {
      "text/plain": [
       "{'410472': 3.844961587385072e-05,\n",
       " '363356': 0.013852264247011286,\n",
       " '363358': 0.07531852125199107,\n",
       " '364302': 0.009075010893258743,\n",
       " '506193': 3.0177168210226702e-05,\n",
       " '506194': 2.2872998058092888e-05,\n",
       " '506195': 4.1671964576028617e-05,\n",
       " '506196': 2.5696088324419277e-05,\n",
       " '506197': 2.7733533396213347e-05,\n",
       " '506198': 4.031973964348253e-05,\n",
       " '512198': 3.6394928093359385e-05,\n",
       " '512199': 2.343666217014798e-05,\n",
       " '512200': 3.6926749614020025e-05}"
      ]
     },
     "execution_count": 21,
     "metadata": {},
     "output_type": "execute_result"
    }
   ],
   "source": [
    "mc_lumi_dd"
   ]
  },
  {
   "cell_type": "code",
   "execution_count": null,
   "id": "8bc9275d-8ab2-4749-a06a-b1a95d7c3527",
   "metadata": {},
   "outputs": [],
   "source": []
  }
 ],
 "metadata": {
  "kernelspec": {
   "display_name": "Python 3",
   "language": "python",
   "name": "python3"
  },
  "language_info": {
   "codemirror_mode": {
    "name": "ipython",
    "version": 3
   },
   "file_extension": ".py",
   "mimetype": "text/x-python",
   "name": "python",
   "nbconvert_exporter": "python",
   "pygments_lexer": "ipython3",
   "version": "3.10.13"
  }
 },
 "nbformat": 4,
 "nbformat_minor": 5
}
