{
 "cells": [
  {
   "cell_type": "code",
   "execution_count": 1,
   "id": "b9da8b4a-804f-4a70-afaa-b1de9118e8e3",
   "metadata": {},
   "outputs": [],
   "source": [
    "import h5py\n",
    "import matplotlib.pyplot as plt\n",
    "import sys\n",
    "sys.path.append('..')\n",
    "import awkward as awk\n",
    "import os\n",
    "import argparse\n",
    "from heputl import logging as heplog\n",
    "import gc\n",
    "import numpy as np\n",
    "\n",
    "import src.reader as read\n",
    "import src.generator as gene\n",
    "import src.selection as sele\n",
    "import src.string_constants as stco\n",
    "import src.util as util"
   ]
  },
  {
   "cell_type": "code",
   "execution_count": 4,
   "id": "8e97e4a1-2b40-4665-878e-1a43db080eef",
   "metadata": {},
   "outputs": [],
   "source": [
    "N = int(1e2)\n",
    "feat_mc = ['jet_pt_lead','jet_eta_lead','jet_phi_lead', 'jet_GN2_pu_lead', 'jet_GN2_pb_lead', 'jet_GN2_pc_lead', 'jet_truthflavExtended_lead', 'wt', 'dsid']\n",
    "dsids = stco.ds_ids_sig['tautau']        "
   ]
  },
  {
   "cell_type": "code",
   "execution_count": 11,
   "id": "20e607e0-8ae3-4c65-8888-b3caea17beea",
   "metadata": {},
   "outputs": [
    {
     "name": "stdout",
     "output_type": "stream",
     "text": [
      "list print ['jet_pt_lead', 'jet_eta_lead', 'jet_phi_lead', 'jet_GN2_pu_lead', 'jet_GN2_pb_lead', 'jet_GN2_pc_lead', 'jet_truthflavExtended_lead', 'wt', 'dsid']\n"
     ]
    }
   ],
   "source": [
    "print(f'list print {feat_mc}')"
   ]
  },
  {
   "cell_type": "code",
   "execution_count": 6,
   "id": "37f540dd-7787-4296-90ec-b8db1b1785b7",
   "metadata": {},
   "outputs": [
    {
     "name": "stderr",
     "output_type": "stream",
     "text": [
      "2024-06-10 16:27:55 [reader.py:read_samples_for_dsid] reading samples for dsid 512198 from /eos/atlas/atlascerngroupdisk/perf-flavtag/calib/negtag/Rel24_GN2v01/Ntuples_Nominal/mc20d/user.ltoffoli.mc20_13T.512198.MGPy8EG_FxFx_Ztautau_3jets_HT2bias_BF.D_FTAG2.e8382_s3681_r13144_p5981.GN2v01_Nom_output.root\n"
     ]
    }
   ],
   "source": [
    "# read one chunk to get dtype\n",
    "dsid = dsids[0]\n",
    "samples = read.read_samples_for_dsid(dsid,N=N,filtered=True)\n",
    "weights = util.compute_w_samples(samples, dsid)\n",
    "samples['dsid'] = np.int32(dsid)\n",
    "samples['wt'] = weights\n",
    "samples = samples[feat_mc]"
   ]
  },
  {
   "cell_type": "code",
   "execution_count": 7,
   "id": "c82546f3-c3f8-4335-b3cd-e3e40932d567",
   "metadata": {},
   "outputs": [
    {
     "data": {
      "text/plain": [
       "512198"
      ]
     },
     "execution_count": 7,
     "metadata": {},
     "output_type": "execute_result"
    }
   ],
   "source": [
    "np.int32(dsids[0])"
   ]
  },
  {
   "cell_type": "code",
   "execution_count": 8,
   "id": "cfd9e019-d815-414e-a118-1c363eac9ca7",
   "metadata": {},
   "outputs": [
    {
     "data": {
      "text/plain": [
       "['__add__',\n",
       " '__class__',\n",
       " '__class_getitem__',\n",
       " '__contains__',\n",
       " '__delattr__',\n",
       " '__delitem__',\n",
       " '__dir__',\n",
       " '__doc__',\n",
       " '__eq__',\n",
       " '__format__',\n",
       " '__ge__',\n",
       " '__getattribute__',\n",
       " '__getitem__',\n",
       " '__gt__',\n",
       " '__hash__',\n",
       " '__iadd__',\n",
       " '__imul__',\n",
       " '__init__',\n",
       " '__init_subclass__',\n",
       " '__iter__',\n",
       " '__le__',\n",
       " '__len__',\n",
       " '__lt__',\n",
       " '__mul__',\n",
       " '__ne__',\n",
       " '__new__',\n",
       " '__reduce__',\n",
       " '__reduce_ex__',\n",
       " '__repr__',\n",
       " '__reversed__',\n",
       " '__rmul__',\n",
       " '__setattr__',\n",
       " '__setitem__',\n",
       " '__sizeof__',\n",
       " '__str__',\n",
       " '__subclasshook__',\n",
       " 'append',\n",
       " 'clear',\n",
       " 'copy',\n",
       " 'count',\n",
       " 'extend',\n",
       " 'index',\n",
       " 'insert',\n",
       " 'pop',\n",
       " 'remove',\n",
       " 'reverse',\n",
       " 'sort']"
      ]
     },
     "execution_count": 8,
     "metadata": {},
     "output_type": "execute_result"
    }
   ],
   "source": [
    "dir(samples.type.content.contents)"
   ]
  },
  {
   "cell_type": "code",
   "execution_count": 9,
   "id": "cbbabaf1-a5ba-4e45-8ebb-1ee2bbc3696a",
   "metadata": {},
   "outputs": [],
   "source": [
    "field_types = [s._primitive for s in samples.type.content.contents]"
   ]
  },
  {
   "cell_type": "code",
   "execution_count": 10,
   "id": "f66dab86-cdbd-43f8-8fa7-9673c5b838e7",
   "metadata": {},
   "outputs": [
    {
     "data": {
      "text/plain": [
       "['float32',\n",
       " 'float32',\n",
       " 'float32',\n",
       " 'float64',\n",
       " 'float64',\n",
       " 'float64',\n",
       " 'int32',\n",
       " 'float32',\n",
       " 'int32']"
      ]
     },
     "execution_count": 10,
     "metadata": {},
     "output_type": "execute_result"
    }
   ],
   "source": [
    "field_types"
   ]
  },
  {
   "cell_type": "code",
   "execution_count": 135,
   "id": "84b56f44-9733-4b25-a006-ad750e45363b",
   "metadata": {},
   "outputs": [],
   "source": [
    "import numpy as np\n",
    "dtype = np.dtype(list(zip(samples.fields,field_types)))"
   ]
  },
  {
   "cell_type": "code",
   "execution_count": 136,
   "id": "afecbc42-e9d9-44ae-8a3c-425ff002d6cf",
   "metadata": {},
   "outputs": [],
   "source": [
    "outfile.close()"
   ]
  },
  {
   "cell_type": "code",
   "execution_count": 137,
   "id": "92a8c4b1-1e80-4d1e-9210-f622528a18c9",
   "metadata": {},
   "outputs": [],
   "source": [
    "outfile = h5py.File('test.h5', 'w')"
   ]
  },
  {
   "cell_type": "code",
   "execution_count": 138,
   "id": "e2836d59-2ae3-4447-9e40-291793d96aa9",
   "metadata": {},
   "outputs": [],
   "source": [
    "events = outfile.create_dataset(\"events\", shape=(0,), maxshape=(None,), dtype=dtype)"
   ]
  },
  {
   "cell_type": "code",
   "execution_count": 139,
   "id": "a7645374-0fc6-4a60-bc77-c4bf0bcf41ea",
   "metadata": {},
   "outputs": [],
   "source": [
    "arr = awk.to_numpy(samples) # "
   ]
  },
  {
   "cell_type": "code",
   "execution_count": 140,
   "id": "ccf6b3fa-ae9d-469e-9c43-421cbe1ae14c",
   "metadata": {},
   "outputs": [],
   "source": [
    "n_batch = len(arr)"
   ]
  },
  {
   "cell_type": "code",
   "execution_count": 141,
   "id": "4b0ee077-2164-4292-a092-b1d011d7521d",
   "metadata": {},
   "outputs": [
    {
     "ename": "TypeError",
     "evalue": "Can't broadcast (100, 9) -> (100,)",
     "output_type": "error",
     "traceback": [
      "\u001b[0;31m---------------------------------------------------------------------------\u001b[0m",
      "\u001b[0;31mTypeError\u001b[0m                                 Traceback (most recent call last)",
      "Cell \u001b[0;32mIn[141], line 2\u001b[0m\n\u001b[1;32m      1\u001b[0m events\u001b[38;5;241m.\u001b[39mresize(\u001b[38;5;28mlen\u001b[39m(events) \u001b[38;5;241m+\u001b[39m n_batch, axis\u001b[38;5;241m=\u001b[39m\u001b[38;5;241m0\u001b[39m)\n\u001b[0;32m----> 2\u001b[0m \u001b[43mevents\u001b[49m\u001b[43m[\u001b[49m\u001b[38;5;241;43m-\u001b[39;49m\u001b[43mn_batch\u001b[49m\u001b[43m:\u001b[49m\u001b[43m]\u001b[49m \u001b[38;5;241m=\u001b[39m arr\n",
      "File \u001b[0;32mh5py/_objects.pyx:54\u001b[0m, in \u001b[0;36mh5py._objects.with_phil.wrapper\u001b[0;34m()\u001b[0m\n",
      "File \u001b[0;32mh5py/_objects.pyx:55\u001b[0m, in \u001b[0;36mh5py._objects.with_phil.wrapper\u001b[0;34m()\u001b[0m\n",
      "File \u001b[0;32m/eos/home-k/kiwoznia/software/.pyenv/versions/3.10.13/lib/python3.10/site-packages/h5py/_hl/dataset.py:997\u001b[0m, in \u001b[0;36mDataset.__setitem__\u001b[0;34m(self, args, val)\u001b[0m\n\u001b[1;32m    994\u001b[0m     mshape \u001b[38;5;241m=\u001b[39m val\u001b[38;5;241m.\u001b[39mshape\n\u001b[1;32m    996\u001b[0m \u001b[38;5;66;03m# Perform the write, with broadcasting\u001b[39;00m\n\u001b[0;32m--> 997\u001b[0m mspace \u001b[38;5;241m=\u001b[39m h5s\u001b[38;5;241m.\u001b[39mcreate_simple(\u001b[43mselection\u001b[49m\u001b[38;5;241;43m.\u001b[39;49m\u001b[43mexpand_shape\u001b[49m\u001b[43m(\u001b[49m\u001b[43mmshape\u001b[49m\u001b[43m)\u001b[49m)\n\u001b[1;32m    998\u001b[0m \u001b[38;5;28;01mfor\u001b[39;00m fspace \u001b[38;5;129;01min\u001b[39;00m selection\u001b[38;5;241m.\u001b[39mbroadcast(mshape):\n\u001b[1;32m    999\u001b[0m     \u001b[38;5;28mself\u001b[39m\u001b[38;5;241m.\u001b[39mid\u001b[38;5;241m.\u001b[39mwrite(mspace, fspace, val, mtype, dxpl\u001b[38;5;241m=\u001b[39m\u001b[38;5;28mself\u001b[39m\u001b[38;5;241m.\u001b[39m_dxpl)\n",
      "File \u001b[0;32m/eos/home-k/kiwoznia/software/.pyenv/versions/3.10.13/lib/python3.10/site-packages/h5py/_hl/selections.py:264\u001b[0m, in \u001b[0;36mSimpleSelection.expand_shape\u001b[0;34m(self, source_shape)\u001b[0m\n\u001b[1;32m    262\u001b[0m             eshape\u001b[38;5;241m.\u001b[39mappend(t)\n\u001b[1;32m    263\u001b[0m         \u001b[38;5;28;01melse\u001b[39;00m:\n\u001b[0;32m--> 264\u001b[0m             \u001b[38;5;28;01mraise\u001b[39;00m \u001b[38;5;167;01mTypeError\u001b[39;00m(\u001b[38;5;124m\"\u001b[39m\u001b[38;5;124mCan\u001b[39m\u001b[38;5;124m'\u001b[39m\u001b[38;5;124mt broadcast \u001b[39m\u001b[38;5;132;01m%s\u001b[39;00m\u001b[38;5;124m -> \u001b[39m\u001b[38;5;132;01m%s\u001b[39;00m\u001b[38;5;124m\"\u001b[39m \u001b[38;5;241m%\u001b[39m (source_shape, \u001b[38;5;28mself\u001b[39m\u001b[38;5;241m.\u001b[39marray_shape))  \u001b[38;5;66;03m# array shape\u001b[39;00m\n\u001b[1;32m    266\u001b[0m \u001b[38;5;28;01mif\u001b[39;00m \u001b[38;5;28many\u001b[39m([n \u001b[38;5;241m>\u001b[39m \u001b[38;5;241m1\u001b[39m \u001b[38;5;28;01mfor\u001b[39;00m n \u001b[38;5;129;01min\u001b[39;00m remaining_src_dims]):\n\u001b[1;32m    267\u001b[0m     \u001b[38;5;66;03m# All dimensions from target_shape should either have been popped\u001b[39;00m\n\u001b[1;32m    268\u001b[0m     \u001b[38;5;66;03m# to match the selection shape, or be 1.\u001b[39;00m\n\u001b[1;32m    269\u001b[0m     \u001b[38;5;28;01mraise\u001b[39;00m \u001b[38;5;167;01mTypeError\u001b[39;00m(\u001b[38;5;124m\"\u001b[39m\u001b[38;5;124mCan\u001b[39m\u001b[38;5;124m'\u001b[39m\u001b[38;5;124mt broadcast \u001b[39m\u001b[38;5;132;01m%s\u001b[39;00m\u001b[38;5;124m -> \u001b[39m\u001b[38;5;132;01m%s\u001b[39;00m\u001b[38;5;124m\"\u001b[39m \u001b[38;5;241m%\u001b[39m (source_shape, \u001b[38;5;28mself\u001b[39m\u001b[38;5;241m.\u001b[39marray_shape))  \u001b[38;5;66;03m# array shape\u001b[39;00m\n",
      "\u001b[0;31mTypeError\u001b[0m: Can't broadcast (100, 9) -> (100,)"
     ]
    }
   ],
   "source": [
    "events.resize(len(events) + n_batch, axis=0)\n",
    "events[-n_batch:] = arr"
   ]
  },
  {
   "cell_type": "code",
   "execution_count": 142,
   "id": "f6974191-9ace-4708-9b1b-4728bbdf712e",
   "metadata": {},
   "outputs": [
    {
     "data": {
      "text/html": [
       "<div>\n",
       "<style scoped>\n",
       "    .dataframe tbody tr th:only-of-type {\n",
       "        vertical-align: middle;\n",
       "    }\n",
       "\n",
       "    .dataframe tbody tr th {\n",
       "        vertical-align: top;\n",
       "    }\n",
       "\n",
       "    .dataframe thead th {\n",
       "        text-align: right;\n",
       "    }\n",
       "</style>\n",
       "<table border=\"1\" class=\"dataframe\">\n",
       "  <thead>\n",
       "    <tr style=\"text-align: right;\">\n",
       "      <th></th>\n",
       "      <th>jet_pt_lead</th>\n",
       "      <th>jet_eta_lead</th>\n",
       "      <th>jet_phi_lead</th>\n",
       "      <th>jet_GN2_pu_lead</th>\n",
       "      <th>jet_GN2_pb_lead</th>\n",
       "      <th>jet_GN2_pc_lead</th>\n",
       "      <th>jet_truthflavExtended_lead</th>\n",
       "      <th>wt</th>\n",
       "      <th>dsid</th>\n",
       "    </tr>\n",
       "    <tr>\n",
       "      <th>entry</th>\n",
       "      <th></th>\n",
       "      <th></th>\n",
       "      <th></th>\n",
       "      <th></th>\n",
       "      <th></th>\n",
       "      <th></th>\n",
       "      <th></th>\n",
       "      <th></th>\n",
       "      <th></th>\n",
       "    </tr>\n",
       "  </thead>\n",
       "  <tbody>\n",
       "    <tr>\n",
       "      <th>0</th>\n",
       "      <td>163825.390625</td>\n",
       "      <td>0.877953</td>\n",
       "      <td>-2.997266</td>\n",
       "      <td>0.764071</td>\n",
       "      <td>0.005337</td>\n",
       "      <td>0.161482</td>\n",
       "      <td>0</td>\n",
       "      <td>0.036745</td>\n",
       "      <td>506193</td>\n",
       "    </tr>\n",
       "    <tr>\n",
       "      <th>1</th>\n",
       "      <td>80900.328125</td>\n",
       "      <td>-0.518391</td>\n",
       "      <td>0.629305</td>\n",
       "      <td>0.114592</td>\n",
       "      <td>0.333799</td>\n",
       "      <td>0.547613</td>\n",
       "      <td>5</td>\n",
       "      <td>0.081536</td>\n",
       "      <td>506193</td>\n",
       "    </tr>\n",
       "    <tr>\n",
       "      <th>2</th>\n",
       "      <td>29493.052734</td>\n",
       "      <td>-0.923786</td>\n",
       "      <td>1.229845</td>\n",
       "      <td>0.002792</td>\n",
       "      <td>0.716793</td>\n",
       "      <td>0.276269</td>\n",
       "      <td>5</td>\n",
       "      <td>0.152672</td>\n",
       "      <td>506193</td>\n",
       "    </tr>\n",
       "    <tr>\n",
       "      <th>3</th>\n",
       "      <td>77220.539062</td>\n",
       "      <td>-1.026000</td>\n",
       "      <td>-2.609300</td>\n",
       "      <td>0.000046</td>\n",
       "      <td>0.999764</td>\n",
       "      <td>0.000190</td>\n",
       "      <td>5</td>\n",
       "      <td>0.050907</td>\n",
       "      <td>506193</td>\n",
       "    </tr>\n",
       "    <tr>\n",
       "      <th>4</th>\n",
       "      <td>35160.125000</td>\n",
       "      <td>-0.141383</td>\n",
       "      <td>2.725976</td>\n",
       "      <td>0.001161</td>\n",
       "      <td>0.997806</td>\n",
       "      <td>0.001031</td>\n",
       "      <td>5</td>\n",
       "      <td>-0.209198</td>\n",
       "      <td>506193</td>\n",
       "    </tr>\n",
       "    <tr>\n",
       "      <th>...</th>\n",
       "      <td>...</td>\n",
       "      <td>...</td>\n",
       "      <td>...</td>\n",
       "      <td>...</td>\n",
       "      <td>...</td>\n",
       "      <td>...</td>\n",
       "      <td>...</td>\n",
       "      <td>...</td>\n",
       "      <td>...</td>\n",
       "    </tr>\n",
       "    <tr>\n",
       "      <th>95</th>\n",
       "      <td>70783.046875</td>\n",
       "      <td>1.137471</td>\n",
       "      <td>-1.616167</td>\n",
       "      <td>0.000120</td>\n",
       "      <td>0.999799</td>\n",
       "      <td>0.000082</td>\n",
       "      <td>5</td>\n",
       "      <td>-0.106816</td>\n",
       "      <td>506193</td>\n",
       "    </tr>\n",
       "    <tr>\n",
       "      <th>96</th>\n",
       "      <td>87626.492188</td>\n",
       "      <td>-1.441725</td>\n",
       "      <td>1.401968</td>\n",
       "      <td>0.824275</td>\n",
       "      <td>0.019480</td>\n",
       "      <td>0.132676</td>\n",
       "      <td>0</td>\n",
       "      <td>0.039105</td>\n",
       "      <td>506193</td>\n",
       "    </tr>\n",
       "    <tr>\n",
       "      <th>97</th>\n",
       "      <td>59225.324219</td>\n",
       "      <td>0.445325</td>\n",
       "      <td>3.050378</td>\n",
       "      <td>0.000809</td>\n",
       "      <td>0.109908</td>\n",
       "      <td>0.885373</td>\n",
       "      <td>5</td>\n",
       "      <td>0.111674</td>\n",
       "      <td>506193</td>\n",
       "    </tr>\n",
       "    <tr>\n",
       "      <th>98</th>\n",
       "      <td>87677.898438</td>\n",
       "      <td>2.019866</td>\n",
       "      <td>2.334046</td>\n",
       "      <td>0.880971</td>\n",
       "      <td>0.001716</td>\n",
       "      <td>0.094800</td>\n",
       "      <td>0</td>\n",
       "      <td>-0.015232</td>\n",
       "      <td>506193</td>\n",
       "    </tr>\n",
       "    <tr>\n",
       "      <th>99</th>\n",
       "      <td>125236.960938</td>\n",
       "      <td>-0.610315</td>\n",
       "      <td>-2.658844</td>\n",
       "      <td>0.818822</td>\n",
       "      <td>0.002471</td>\n",
       "      <td>0.177478</td>\n",
       "      <td>0</td>\n",
       "      <td>-0.029123</td>\n",
       "      <td>506193</td>\n",
       "    </tr>\n",
       "  </tbody>\n",
       "</table>\n",
       "<p>100 rows × 9 columns</p>\n",
       "</div>"
      ],
      "text/plain": [
       "         jet_pt_lead  jet_eta_lead  jet_phi_lead  jet_GN2_pu_lead  \\\n",
       "entry                                                               \n",
       "0      163825.390625      0.877953     -2.997266         0.764071   \n",
       "1       80900.328125     -0.518391      0.629305         0.114592   \n",
       "2       29493.052734     -0.923786      1.229845         0.002792   \n",
       "3       77220.539062     -1.026000     -2.609300         0.000046   \n",
       "4       35160.125000     -0.141383      2.725976         0.001161   \n",
       "...              ...           ...           ...              ...   \n",
       "95      70783.046875      1.137471     -1.616167         0.000120   \n",
       "96      87626.492188     -1.441725      1.401968         0.824275   \n",
       "97      59225.324219      0.445325      3.050378         0.000809   \n",
       "98      87677.898438      2.019866      2.334046         0.880971   \n",
       "99     125236.960938     -0.610315     -2.658844         0.818822   \n",
       "\n",
       "       jet_GN2_pb_lead  jet_GN2_pc_lead  jet_truthflavExtended_lead        wt  \\\n",
       "entry                                                                           \n",
       "0             0.005337         0.161482                           0  0.036745   \n",
       "1             0.333799         0.547613                           5  0.081536   \n",
       "2             0.716793         0.276269                           5  0.152672   \n",
       "3             0.999764         0.000190                           5  0.050907   \n",
       "4             0.997806         0.001031                           5 -0.209198   \n",
       "...                ...              ...                         ...       ...   \n",
       "95            0.999799         0.000082                           5 -0.106816   \n",
       "96            0.019480         0.132676                           0  0.039105   \n",
       "97            0.109908         0.885373                           5  0.111674   \n",
       "98            0.001716         0.094800                           0 -0.015232   \n",
       "99            0.002471         0.177478                           0 -0.029123   \n",
       "\n",
       "         dsid  \n",
       "entry          \n",
       "0      506193  \n",
       "1      506193  \n",
       "2      506193  \n",
       "3      506193  \n",
       "4      506193  \n",
       "...       ...  \n",
       "95     506193  \n",
       "96     506193  \n",
       "97     506193  \n",
       "98     506193  \n",
       "99     506193  \n",
       "\n",
       "[100 rows x 9 columns]"
      ]
     },
     "execution_count": 142,
     "metadata": {},
     "output_type": "execute_result"
    }
   ],
   "source": [
    "arr"
   ]
  },
  {
   "cell_type": "code",
   "execution_count": 130,
   "id": "deece5e3-b3bb-485a-bbdd-72dcd8c5402c",
   "metadata": {},
   "outputs": [
    {
     "data": {
      "text/plain": [
       "<HDF5 dataset \"feature_names\": shape (9,), type \"|S10\">"
      ]
     },
     "execution_count": 130,
     "metadata": {},
     "output_type": "execute_result"
    }
   ],
   "source": [
    "outfile.create_dataset(\"feature_names\",data=[f.encode(\"ascii\", \"ignore\") for f in feat_mc],dtype='S10')"
   ]
  },
  {
   "cell_type": "code",
   "execution_count": 26,
   "id": "0154c085-8d67-43db-92ed-0742d8364da1",
   "metadata": {},
   "outputs": [
    {
     "name": "stdout",
     "output_type": "stream",
     "text": [
      "100 * {\n",
      "    jet_pt_lead: float32,\n",
      "    jet_eta_lead: float32,\n",
      "    jet_phi_lead: float32,\n",
      "    jet_GN2_pu_lead: float64,\n",
      "    jet_GN2_pb_lead: float64,\n",
      "    jet_GN2_pc_lead: float64,\n",
      "    jet_truthflavExtended_lead: int32,\n",
      "    wt: float32,\n",
      "    dsid: string\n",
      "}\n"
     ]
    }
   ],
   "source": [
    "samples.type.show()"
   ]
  },
  {
   "cell_type": "code",
   "execution_count": 27,
   "id": "48059b77-b929-4db6-86ce-c166686b34cc",
   "metadata": {},
   "outputs": [
    {
     "data": {
      "text/plain": [
       "['__class__',\n",
       " '__delattr__',\n",
       " '__dict__',\n",
       " '__dir__',\n",
       " '__doc__',\n",
       " '__eq__',\n",
       " '__format__',\n",
       " '__ge__',\n",
       " '__getattribute__',\n",
       " '__gt__',\n",
       " '__hash__',\n",
       " '__init__',\n",
       " '__init_subclass__',\n",
       " '__le__',\n",
       " '__lt__',\n",
       " '__module__',\n",
       " '__ne__',\n",
       " '__new__',\n",
       " '__reduce__',\n",
       " '__reduce_ex__',\n",
       " '__repr__',\n",
       " '__setattr__',\n",
       " '__sizeof__',\n",
       " '__str__',\n",
       " '__subclasshook__',\n",
       " '__weakref__',\n",
       " '_behavior',\n",
       " '_content',\n",
       " '_length',\n",
       " '_str',\n",
       " 'behavior',\n",
       " 'content',\n",
       " 'is_equal_to',\n",
       " 'length',\n",
       " 'show']"
      ]
     },
     "execution_count": 27,
     "metadata": {},
     "output_type": "execute_result"
    }
   ],
   "source": [
    "dir(samples.type)"
   ]
  },
  {
   "cell_type": "code",
   "execution_count": 29,
   "id": "b4dce6cc-d16a-443c-8652-d4ea0cd17db3",
   "metadata": {},
   "outputs": [],
   "source": [
    "samples.type.behavior"
   ]
  },
  {
   "cell_type": "code",
   "execution_count": 30,
   "id": "8a2a6fde-9b94-4fea-93ba-6a9d624ae749",
   "metadata": {},
   "outputs": [
    {
     "data": {
      "text/plain": [
       "RecordType([NumpyType('float32'), NumpyType('float32'), NumpyType('float32'), NumpyType('float64'), NumpyType('float64'), NumpyType('float64'), NumpyType('int32'), NumpyType('float32'), ListType(NumpyType('uint8', parameters={'__array__': 'char'}), parameters={'__array__': 'string'})], ['jet_pt_lead', 'jet_eta_lead', 'jet_phi_lead', 'jet_GN2_pu_lead', 'jet_GN2_pb_lead', 'jet_GN2_pc_lead', 'jet_truthflavExtended_lead', 'wt', 'dsid'])"
      ]
     },
     "execution_count": 30,
     "metadata": {},
     "output_type": "execute_result"
    }
   ],
   "source": [
    "samples.type.content"
   ]
  },
  {
   "cell_type": "code",
   "execution_count": 31,
   "id": "6bd75f4b-2c22-4665-b70e-ef1858ef5766",
   "metadata": {},
   "outputs": [
    {
     "data": {
      "text/plain": [
       "ArrayType(RecordType([NumpyType('float32'), NumpyType('float32'), NumpyType('float32'), NumpyType('float64'), NumpyType('float64'), NumpyType('float64'), NumpyType('int32'), NumpyType('float32'), ListType(NumpyType('uint8', parameters={'__array__': 'char'}), parameters={'__array__': 'string'})], ['jet_pt_lead', 'jet_eta_lead', 'jet_phi_lead', 'jet_GN2_pu_lead', 'jet_GN2_pb_lead', 'jet_GN2_pc_lead', 'jet_truthflavExtended_lead', 'wt', 'dsid']), 100, None)"
      ]
     },
     "execution_count": 31,
     "metadata": {},
     "output_type": "execute_result"
    }
   ],
   "source": [
    "samples.type"
   ]
  },
  {
   "cell_type": "code",
   "execution_count": 39,
   "id": "036077f9-813b-4f33-a00f-6df6b0a8d258",
   "metadata": {},
   "outputs": [
    {
     "data": {
      "text/plain": [
       "['__annotations__',\n",
       " '__class__',\n",
       " '__delattr__',\n",
       " '__dict__',\n",
       " '__dir__',\n",
       " '__doc__',\n",
       " '__eq__',\n",
       " '__format__',\n",
       " '__ge__',\n",
       " '__getattribute__',\n",
       " '__gt__',\n",
       " '__hash__',\n",
       " '__init__',\n",
       " '__init_subclass__',\n",
       " '__le__',\n",
       " '__lt__',\n",
       " '__module__',\n",
       " '__ne__',\n",
       " '__new__',\n",
       " '__reduce__',\n",
       " '__reduce_ex__',\n",
       " '__repr__',\n",
       " '__setattr__',\n",
       " '__sizeof__',\n",
       " '__str__',\n",
       " '__subclasshook__',\n",
       " '__weakref__',\n",
       " '_get_typestr',\n",
       " '_is_equal_to',\n",
       " '_parameters',\n",
       " '_primitive',\n",
       " '_repr_args',\n",
       " '_str',\n",
       " '_str_categorical_begin',\n",
       " '_str_categorical_end',\n",
       " '_str_parameters',\n",
       " '_str_parameters_exclude',\n",
       " 'copy',\n",
       " 'is_equal_to',\n",
       " 'parameter',\n",
       " 'parameters',\n",
       " 'primitive',\n",
       " 'show']"
      ]
     },
     "execution_count": 39,
     "metadata": {},
     "output_type": "execute_result"
    }
   ],
   "source": [
    "dir(samples.type.content.contents[0])"
   ]
  },
  {
   "cell_type": "code",
   "execution_count": 38,
   "id": "eb4e067d-865b-4f35-9fd2-a2132f998b36",
   "metadata": {},
   "outputs": [
    {
     "name": "stdout",
     "output_type": "stream",
     "text": [
      "[NumpyType('float32'), NumpyType('float32'), NumpyType('float32'), NumpyType('float64'), NumpyType('float64'), NumpyType('float64'), NumpyType('int32'), NumpyType('float32'), ListType(NumpyType('uint8', parameters={'__array__': 'char'}), parameters={'__array__': 'string'})]\n"
     ]
    }
   ],
   "source": [
    "print(samples.type.content.contents)"
   ]
  },
  {
   "cell_type": "code",
   "execution_count": 65,
   "id": "f683a262-fe8f-4857-9578-29cf76e69c6b",
   "metadata": {},
   "outputs": [],
   "source": [
    "outfile = h5py.File('test.h5', 'w')"
   ]
  },
  {
   "cell_type": "code",
   "execution_count": 66,
   "id": "565cba9e-aeaf-4ed3-8dc1-022ed3bd3acb",
   "metadata": {},
   "outputs": [
    {
     "data": {
      "text/plain": [
       "['jet_pt_lead',\n",
       " 'jet_eta_lead',\n",
       " 'jet_phi_lead',\n",
       " 'jet_GN2_pu_lead',\n",
       " 'jet_GN2_pb_lead',\n",
       " 'jet_GN2_pc_lead',\n",
       " 'jet_truthflavExtended_lead',\n",
       " 'wt',\n",
       " 'dsid']"
      ]
     },
     "execution_count": 66,
     "metadata": {},
     "output_type": "execute_result"
    }
   ],
   "source": [
    "samples.fields"
   ]
  },
  {
   "cell_type": "code",
   "execution_count": 68,
   "id": "e08fb20c-2957-4268-9353-c758d9707e30",
   "metadata": {},
   "outputs": [
    {
     "data": {
      "text/plain": [
       "[('jet_pt_lead', 'float32'),\n",
       " ('jet_eta_lead', 'float32'),\n",
       " ('jet_phi_lead', 'float32'),\n",
       " ('jet_GN2_pu_lead', 'float64'),\n",
       " ('jet_GN2_pb_lead', 'float64'),\n",
       " ('jet_GN2_pc_lead', 'float64'),\n",
       " ('jet_truthflavExtended_lead', 'int32'),\n",
       " ('wt', 'float32'),\n",
       " ('dsid', 'str')]"
      ]
     },
     "execution_count": 68,
     "metadata": {},
     "output_type": "execute_result"
    }
   ],
   "source": [
    "list(zip(samples.fields,dtypes))"
   ]
  },
  {
   "cell_type": "code",
   "execution_count": null,
   "id": "a64e0d72-d590-44c9-8176-294ac739bffb",
   "metadata": {},
   "outputs": [],
   "source": []
  }
 ],
 "metadata": {
  "kernelspec": {
   "display_name": "Python 3",
   "language": "python",
   "name": "python3"
  },
  "language_info": {
   "codemirror_mode": {
    "name": "ipython",
    "version": 3
   },
   "file_extension": ".py",
   "mimetype": "text/x-python",
   "name": "python",
   "nbconvert_exporter": "python",
   "pygments_lexer": "ipython3",
   "version": "3.10.13"
  }
 },
 "nbformat": 4,
 "nbformat_minor": 5
}
