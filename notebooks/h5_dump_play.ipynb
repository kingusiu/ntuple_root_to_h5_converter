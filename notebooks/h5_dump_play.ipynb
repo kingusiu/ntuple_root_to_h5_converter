{
 "cells": [
  {
   "cell_type": "code",
   "execution_count": 1,
   "id": "b9da8b4a-804f-4a70-afaa-b1de9118e8e3",
   "metadata": {},
   "outputs": [],
   "source": [
    "import h5py\n",
    "import matplotlib.pyplot as plt\n",
    "import sys\n",
    "sys.path.append('..')\n",
    "import awkward as awk\n",
    "import os\n",
    "import argparse\n",
    "from heputl import logging as heplog\n",
    "import gc\n",
    "import numpy as np\n",
    "\n",
    "import src.reader as read\n",
    "import src.generator as gene\n",
    "import src.selection as sele\n",
    "import src.string_constants as stco\n",
    "import src.util as util"
   ]
  },
  {
   "cell_type": "code",
   "execution_count": 2,
   "id": "8e97e4a1-2b40-4665-878e-1a43db080eef",
   "metadata": {},
   "outputs": [],
   "source": [
    "N = int(1e2)\n",
    "feat_mc = ['jet_pt_lead','jet_eta_lead','jet_phi_lead', 'jet_GN2_pu_lead', 'jet_GN2_pb_lead', 'jet_GN2_pc_lead', 'jet_truthflavExtended_lead', 'wt', 'dsid']\n",
    "dsids = stco.ds_ids_sig['tautau']        "
   ]
  },
  {
   "cell_type": "code",
   "execution_count": 3,
   "id": "37f540dd-7787-4296-90ec-b8db1b1785b7",
   "metadata": {},
   "outputs": [
    {
     "name": "stderr",
     "output_type": "stream",
     "text": [
      "2024-06-10 20:35:25 [reader.py:read_samples_for_dsid] reading samples for dsid 512198 from /eos/atlas/atlascerngroupdisk/perf-flavtag/calib/negtag/Rel24_GN2v01/Ntuples_Nominal/mc20d/user.ltoffoli.mc20_13T.512198.MGPy8EG_FxFx_Ztautau_3jets_HT2bias_BF.D_FTAG2.e8382_s3681_r13144_p5981.GN2v01_Nom_output.root\n"
     ]
    }
   ],
   "source": [
    "# read one chunk to get dtype\n",
    "dsid = dsids[0]\n",
    "samples = read.read_samples_for_dsid(dsid,N=N,filtered=True)\n",
    "weights = util.compute_w_samples(samples, dsid)\n",
    "samples['dsid'] = np.int32(dsid)\n",
    "samples['wt'] = weights\n",
    "samples = samples[feat_mc]"
   ]
  },
  {
   "cell_type": "code",
   "execution_count": 4,
   "id": "cbbabaf1-a5ba-4e45-8ebb-1ee2bbc3696a",
   "metadata": {},
   "outputs": [],
   "source": [
    "field_types = [s._primitive for s in samples.type.content.contents]"
   ]
  },
  {
   "cell_type": "code",
   "execution_count": 5,
   "id": "f66dab86-cdbd-43f8-8fa7-9673c5b838e7",
   "metadata": {},
   "outputs": [
    {
     "data": {
      "text/plain": [
       "['float32',\n",
       " 'float32',\n",
       " 'float32',\n",
       " 'float64',\n",
       " 'float64',\n",
       " 'float64',\n",
       " 'int32',\n",
       " 'float32',\n",
       " 'int32']"
      ]
     },
     "execution_count": 5,
     "metadata": {},
     "output_type": "execute_result"
    }
   ],
   "source": [
    "field_types"
   ]
  },
  {
   "cell_type": "code",
   "execution_count": 6,
   "id": "84b56f44-9733-4b25-a006-ad750e45363b",
   "metadata": {},
   "outputs": [],
   "source": [
    "import numpy as np\n",
    "dtype = np.dtype(list(zip(samples.fields,field_types)))"
   ]
  },
  {
   "cell_type": "code",
   "execution_count": 7,
   "id": "6757c31e-a9d1-4fb8-84af-e363753e4705",
   "metadata": {},
   "outputs": [
    {
     "ename": "NameError",
     "evalue": "name 'outfile' is not defined",
     "output_type": "error",
     "traceback": [
      "\u001b[0;31m---------------------------------------------------------------------------\u001b[0m",
      "\u001b[0;31mNameError\u001b[0m                                 Traceback (most recent call last)",
      "Cell \u001b[0;32mIn[7], line 1\u001b[0m\n\u001b[0;32m----> 1\u001b[0m \u001b[43moutfile\u001b[49m\u001b[38;5;241m.\u001b[39mclose()\n",
      "\u001b[0;31mNameError\u001b[0m: name 'outfile' is not defined"
     ]
    }
   ],
   "source": [
    "outfile.close()"
   ]
  },
  {
   "cell_type": "code",
   "execution_count": 8,
   "id": "92a8c4b1-1e80-4d1e-9210-f622528a18c9",
   "metadata": {},
   "outputs": [],
   "source": [
    "outfile = h5py.File('test3.h5', 'w')"
   ]
  },
  {
   "cell_type": "code",
   "execution_count": 9,
   "id": "52e5c5a5-59c4-4716-8cc0-91cc5d7938fc",
   "metadata": {},
   "outputs": [
    {
     "data": {
      "text/plain": [
       "<HDF5 dataset \"feature_names\": shape (9,), type \"|S10\">"
      ]
     },
     "execution_count": 9,
     "metadata": {},
     "output_type": "execute_result"
    }
   ],
   "source": [
    "outfile.create_dataset(\"feature_names\",data=[f.encode(\"ascii\", \"ignore\") for f in feat_mc],dtype='S10')"
   ]
  },
  {
   "cell_type": "code",
   "execution_count": 10,
   "id": "e2836d59-2ae3-4447-9e40-291793d96aa9",
   "metadata": {},
   "outputs": [],
   "source": [
    "events = outfile.create_dataset(\"events\", shape=(0,), maxshape=(None,), dtype=dtype)"
   ]
  },
  {
   "cell_type": "code",
   "execution_count": 11,
   "id": "a7645374-0fc6-4a60-bc77-c4bf0bcf41ea",
   "metadata": {},
   "outputs": [],
   "source": [
    "arr = awk.to_numpy(samples) # "
   ]
  },
  {
   "cell_type": "code",
   "execution_count": 12,
   "id": "ccf6b3fa-ae9d-469e-9c43-421cbe1ae14c",
   "metadata": {},
   "outputs": [],
   "source": [
    "n_batch = len(arr)"
   ]
  },
  {
   "cell_type": "code",
   "execution_count": 13,
   "id": "4b0ee077-2164-4292-a092-b1d011d7521d",
   "metadata": {},
   "outputs": [],
   "source": [
    "events.resize(len(events) + n_batch, axis=0)\n",
    "events[-n_batch:] = arr"
   ]
  },
  {
   "cell_type": "code",
   "execution_count": 65,
   "id": "e4e3eecb-ae0e-4dbe-ad43-f57e6d428a9a",
   "metadata": {},
   "outputs": [],
   "source": [
    "stored = np.asarray(outfile.get('events'))"
   ]
  },
  {
   "cell_type": "code",
   "execution_count": 66,
   "id": "0d0f8dd7-b520-46b1-bfa8-0b6fb2dc4b17",
   "metadata": {},
   "outputs": [
    {
     "data": {
      "text/plain": [
       "array([( 483322.5  ,  1.535242  ,  1.9861127 , 8.27455819e-01, 4.49066702e-03, 1.67810813e-01,  0, -7.6693860e-03, 512198),\n",
       "       ( 235857.48 ,  0.61030924,  0.19391856, 8.67007256e-01, 4.94682323e-03, 1.24805592e-01,  0,  2.5655649e-04, 512198),\n",
       "       (  57461.965, -0.10597106,  2.4264474 , 3.77439141e-01, 3.88574507e-03, 5.50803468e-02,  0, -0.0000000e+00, 512198),\n",
       "       (  42946.773, -1.002219  ,  0.6662743 , 5.78052461e-01, 9.48273484e-03, 1.28476799e-01,  0, -8.4549934e-02, 512198),\n",
       "       (  52920.152, -2.1599023 ,  1.8263744 , 5.50543737e-05, 9.89185810e-01, 1.07495589e-02,  5,  1.8320690e-01, 512198),\n",
       "       ( 328711.53 , -1.7040517 ,  0.1992111 , 3.13512646e-02, 6.48143470e-01, 3.17299575e-01,  5,  7.5993217e-03, 512198),\n",
       "       ( 588772.6  , -1.7727304 , -1.8933219 , 9.04745638e-01, 3.30231548e-03, 9.18665081e-02,  0, -3.2865198e-03, 512198),\n",
       "       (  74488.69 , -1.2563554 ,  3.118481  , 8.04134834e-05, 9.99806345e-01, 1.13178306e-04,  5, -1.9061382e-01, 512198),\n",
       "       ( 248863.36 , -1.3357967 ,  3.089969  , 2.72509828e-03, 3.95973474e-01, 6.01272345e-01, 55,  1.7019330e-02, 512198),\n",
       "       ( 115295.63 ,  0.87774265, -0.98816943, 8.82067919e-01, 4.09380905e-03, 9.20093954e-02,  0, -3.7673730e-02, 512198),\n",
       "       (  81585.586, -1.8475412 , -0.6948672 , 1.09660446e-04, 9.99822915e-01, 6.74155453e-05,  5, -8.5302256e-02, 512198),\n",
       "       ( 233026.77 ,  0.28265858, -0.343505  , 1.70827634e-03, 4.41616803e-01, 5.56632757e-01,  5, -3.0238232e-02, 512198),\n",
       "       (  81635.1  , -2.2637672 , -3.007731  , 4.56363754e-03, 7.00380981e-01, 2.94617027e-01,  5,  7.8624614e-02, 512198),\n",
       "       ( 188258.39 ,  0.7461757 , -2.9477026 , 6.50731818e-05, 9.99909759e-01, 2.51216807e-05,  5,  4.3048244e-02, 512198),\n",
       "       ( 194237.69 , -1.4409803 ,  1.025197  , 2.49404056e-05, 9.99914765e-01, 6.03729131e-05,  5,  3.6729403e-02, 512198),\n",
       "       (  82891.51 ,  1.319155  ,  1.5706872 , 1.04125073e-04, 9.99632239e-01, 2.63582304e-04,  5, -5.4421864e-02, 512198),\n",
       "       ( 386829.22 ,  0.0538836 ,  0.55876017, 5.31206429e-02, 4.04365540e-01, 5.42506337e-01,  5,  6.8210620e-03, 512198),\n",
       "       (  82296.43 ,  1.1433467 ,  0.84035   , 4.32071480e-04, 9.88593936e-01, 1.09613230e-02,  5,  7.1323141e-02, 512198),\n",
       "       ( 165681.4  , -1.4942292 , -1.218502  , 2.74597169e-05, 9.99893188e-01, 7.93362487e-05, 55,  2.7646996e-02, 512198),\n",
       "       ( 387166.5  , -1.9084911 ,  2.215806  , 8.57009172e-01, 1.07830521e-02, 1.31563485e-01,  0,  6.0563283e-03, 512198),\n",
       "       (  62603.473,  0.560796  ,  1.3235165 , 8.94235730e-01, 7.28083914e-03, 9.18072164e-02,  0, -2.5298351e-01, 512198),\n",
       "       (  88323.984,  0.94056815, -0.0322338 , 1.25440463e-04, 9.99541879e-01, 3.32664640e-04,  5, -1.0106664e-01, 512198),\n",
       "       ( 364031.47 , -0.441557  , -2.333458  , 8.20904672e-01, 2.45359354e-02, 1.52228177e-01,  0,  4.5734672e-03, 512198),\n",
       "       ( 617852.06 ,  0.49712014,  1.0335135 , 8.82557392e-01, 4.44440963e-03, 1.12826213e-01,  0,  5.9720897e-03, 512198),\n",
       "       (  65589.65 , -2.1630235 , -2.0870612 , 8.04355562e-01, 1.60802919e-02, 1.61780030e-01,  0, -8.2857318e-02, 512198),\n",
       "       ( 217727.61 , -1.3120488 ,  1.9182857 , 2.58702003e-05, 9.95758593e-01, 4.21553291e-03,  5,  3.3586703e-02, 512198),\n",
       "       ( 238827.47 ,  0.16523482, -1.3124969 , 8.42218459e-01, 3.84072610e-03, 1.53333992e-01,  0,  1.9920550e-02, 512198),\n",
       "       (  74139.625, -1.559636  ,  0.51554936, 8.27086091e-01, 8.88911635e-03, 1.57978058e-01,  0,  1.0530912e-01, 512198),\n",
       "       ( 110107.74 ,  1.666625  ,  1.6723007 , 5.01447830e-05, 9.99943376e-01, 6.43065096e-06,  5,  3.0427700e-02, 512198),\n",
       "       ( 333156.16 , -0.17847462,  1.9868492 , 7.14910567e-01, 2.06350032e-02, 2.64289886e-01,  0, -1.5712921e-02, 512198),\n",
       "       (  72307.98 ,  0.54519963, -2.845389  , 1.14341965e-04, 8.23656082e-01, 1.76229164e-01,  5, -1.3930640e-01, 512198),\n",
       "       ( 201446.94 , -0.02545247,  0.3197765 , 1.02484971e-02, 9.85110044e-01, 4.62126732e-03, 55,  2.0251209e-02, 512198),\n",
       "       (  42235.28 ,  1.8133689 , -3.12597   , 1.81888381e-03, 9.69418943e-01, 2.84530316e-02,  5, -8.1158668e-02, 512198),\n",
       "       (  26500.598, -0.86522293,  1.470889  , 4.44720878e-04, 9.90037918e-01, 9.35258623e-03,  5,  3.4049001e-01, 512198),\n",
       "       ( 487525.25 ,  0.74683785,  1.0277845 , 3.70627373e-01, 1.24471940e-01, 5.04623115e-01,  0, -3.2120147e-03, 512198),\n",
       "       (  97288.4  , -1.0450255 ,  2.935179  , 6.60525441e-01, 1.80816613e-02, 3.14333588e-01,  0, -1.9535664e-03, 512198),\n",
       "       ( 631287.3  ,  0.3594652 , -2.1435003 , 4.62033000e-04, 9.87450123e-01, 1.20876962e-02, 55, -2.2343241e-03, 512198),\n",
       "       (  96784.16 ,  0.47088847, -0.64035624, 8.51343513e-01, 9.14223585e-03, 1.34406269e-01,  0, -9.2081204e-02, 512198),\n",
       "       ( 995160.4  ,  0.59419197,  1.4157691 , 7.82323360e-01, 1.19919572e-02, 2.05644265e-01,  0,  2.0315500e-03, 512198),\n",
       "       (  79649.234, -1.4400861 ,  1.9581496 , 1.49296131e-04, 9.99252737e-01, 5.97926497e-04,  5, -1.0886227e-01, 512198),\n",
       "       (  22896.693,  2.2712054 , -1.7060546 , 7.56721139e-01, 1.07823545e-02, 2.24160850e-01,  5, -5.8019370e-01, 512198),\n",
       "       (  87905.11 , -0.33744758, -2.6819582 , 1.10797070e-01, 3.70514601e-01, 5.16589403e-01,  5,  2.1783888e-01, 512198),\n",
       "       ( 103800.75 ,  0.42425185, -2.4969804 , 8.49169970e-01, 2.56625866e-03, 1.45476535e-01,  0,  0.0000000e+00, 512198),\n",
       "       (  79504.78 , -1.0087062 ,  2.3908567 , 8.39564204e-01, 2.31879088e-03, 1.51696011e-01,  0,  5.2861050e-02, 512198),\n",
       "       ( 391112.4  , -2.3363178 ,  0.09972917, 8.60311985e-01, 8.03517178e-03, 1.31548434e-01,  0,  8.7983683e-03, 512198),\n",
       "       ( 247551.14 , -0.8149354 ,  1.7874461 , 9.44929838e-01, 2.97470368e-03, 5.19140251e-02,  0,  2.4893088e-04, 512198),\n",
       "       ( 285704.4  ,  0.19029981,  0.7645155 , 1.41994908e-01, 1.59247264e-01, 6.18038476e-01,  0, -9.6296566e-03, 512198),\n",
       "       ( 225995.14 , -2.0953276 ,  2.6288652 , 9.13722873e-01, 5.94956754e-03, 7.64930397e-02,  0, -2.7247580e-02, 512198),\n",
       "       (  42917.74 , -0.16936924, -2.0953648 , 4.65277761e-01, 4.00604792e-02, 2.87950873e-01,  0,  1.6245919e-01, 512198),\n",
       "       (  94022.57 , -0.5067948 , -1.8211433 , 6.44617379e-01, 2.33741719e-02, 3.19294512e-01,  0, -1.1445714e-01, 512198),\n",
       "       ( 123318.664,  0.01683722,  0.9656451 , 1.76161736e-01, 8.01909447e-01, 2.08471026e-02,  5,  1.1254992e-01, 512198),\n",
       "       ( 171071.42 , -0.7582391 ,  1.0624998 , 1.60857171e-01, 3.52535009e-01, 4.86239284e-01,  5,  6.3369684e-02, 512198),\n",
       "       (  20050.93 , -0.53012013, -2.7443843 , 2.43735686e-01, 3.78227502e-01, 3.37814987e-01,  5,  3.4717891e-01, 512198),\n",
       "       ( 401715.1  , -0.6197104 , -1.5680497 , 7.30593801e-01, 5.72845060e-03, 2.62869388e-01,  0, -1.1386046e-02, 512198),\n",
       "       (  55222.23 , -0.4619775 , -1.8069078 , 4.56243346e-04, 7.25467205e-02, 9.15074110e-01,  5,  8.1786424e-02, 512198),\n",
       "       (  94749.06 ,  0.46314928, -0.76135564, 9.09109235e-01, 8.00836657e-04, 8.53042305e-02,  0,  6.5947168e-02, 512198),\n",
       "       (  72525.27 ,  1.8958697 , -1.9033705 , 1.25001013e-01, 2.10303515e-01, 6.50197744e-01,  5,  2.5785345e-01, 512198),\n",
       "       ( 229880.22 , -0.43993345, -1.0733026 , 8.07764471e-01, 3.29946494e-03, 1.88608080e-01,  0,  3.0204449e-02, 512198),\n",
       "       ( 110874.37 ,  0.4944766 ,  0.6652149 , 5.29354811e-01, 5.25097102e-02, 3.90567660e-01,  4, -5.0959624e-02, 512198),\n",
       "       ( 124929.54 ,  0.6736948 ,  1.88738   , 8.91621828e-01, 4.27626539e-03, 9.26128328e-02,  0,  3.9433450e-02, 512198),\n",
       "       (  82256.02 ,  0.28228137, -0.31938118, 1.86085552e-01, 3.38389277e-01, 4.55787212e-01,  5,  4.6699602e-02, 512198),\n",
       "       ( 187830.98 , -0.63427085, -0.9608948 , 7.56764948e-01, 1.14496294e-02, 2.29032278e-01,  0,  2.8812557e-02, 512198),\n",
       "       ( 745875.5  , -0.431542  , -1.7295921 , 6.02231085e-01, 2.07254384e-02, 3.77031028e-01,  0,  2.9368228e-03, 512198),\n",
       "       ( 282800.7  ,  1.5895487 ,  0.90152913, 9.10919428e-01, 2.48180819e-03, 8.61458853e-02,  0, -1.3534426e-02, 512198),\n",
       "       ( 257215.53 ,  1.3951137 , -0.04665642, 8.84852409e-01, 2.10729404e-03, 1.12183250e-01,  0, -1.4131527e-02, 512198),\n",
       "       (  83230.09 ,  0.15443322,  0.76203793, 2.46890035e-04, 9.99747932e-01, 5.09887650e-06,  5, -3.8417134e-02, 512198),\n",
       "       (  62350.266,  1.2996273 ,  3.1274874 , 6.47381902e-01, 7.42660277e-03, 3.23123723e-01,  5,  1.8357228e-01, 512198),\n",
       "       ( 260629.73 ,  1.5543636 ,  0.30987227, 7.47037768e-01, 2.18017027e-02, 2.28650838e-01, 55,  1.9805219e-02, 512198),\n",
       "       ( 219444.98 ,  1.351035  ,  1.3642719 , 2.65530070e-05, 9.99875903e-01, 9.75141738e-05,  5,  1.7900823e-02, 512198),\n",
       "       ( 496535.06 , -2.1995897 ,  1.8432453 , 8.85332525e-01, 9.92096588e-03, 1.04650371e-01,  0, -4.4923830e-03, 512198),\n",
       "       ( 176090.06 , -1.6119848 , -2.448227  , 4.35850948e-01, 3.09952766e-01, 2.33343512e-01,  0, -3.6168057e-02, 512198),\n",
       "       (1060389.2  , -0.8011922 ,  0.6374707 , 1.46545784e-03, 7.72577643e-01, 2.25956574e-01,  5,  2.6005064e-05, 512198),\n",
       "       ( 195112.62 , -1.8978903 ,  0.7336892 , 1.97682634e-01, 1.08858850e-02, 7.86077738e-01,  4,  4.6197876e-02, 512198),\n",
       "       ( 133097.23 , -0.23714374, -0.46432522, 9.79816318e-02, 5.53121030e-01, 3.33382219e-01,  5, -6.5245360e-02, 512198),\n",
       "       (  50437.39 ,  0.59316206, -1.7846956 , 1.12424195e-01, 2.93509606e-02, 8.53143454e-01,  5, -1.1127244e-01, 512198),\n",
       "       ( 449765.94 , -1.6233811 ,  1.3006687 , 9.10722375e-01, 5.82102034e-03, 8.33198726e-02,  0,  0.0000000e+00, 512198),\n",
       "       (  66641.46 ,  1.8280547 ,  2.0560818 , 1.36756629e-04, 9.46930587e-01, 5.27363457e-02,  5, -1.6903067e-01, 512198),\n",
       "       ( 144617.1  ,  0.03110626,  2.870702  , 1.41497804e-02, 3.55746895e-01, 6.28502309e-01,  5, -7.8257613e-02, 512198),\n",
       "       ( 261826.56 ,  1.3007852 ,  0.67444813, 9.39311343e-04, 9.87863421e-01, 1.11973323e-02,  5, -5.2343789e-02, 512198),\n",
       "       (  53657.55 , -0.41741762,  2.9640186 , 1.00283523e-03, 6.68131411e-01, 3.25590342e-01,  5, -3.2951114e-01, 512198),\n",
       "       ( 101090.51 ,  1.8307616 ,  0.4770874 , 5.47746713e-05, 9.99943614e-01, 1.53402834e-06,  5,  9.6038885e-02, 512198),\n",
       "       (  37071.93 , -0.5336269 ,  1.5874008 , 9.13011014e-01, 1.11386087e-03, 8.21309164e-02,  0,  1.4104849e-01, 512198),\n",
       "       ( 142633.03 ,  1.7895824 ,  1.6493758 , 9.28260446e-01, 1.87744841e-03, 6.45199567e-02,  0, -4.9805328e-02, 512198),\n",
       "       ( 200153.9  ,  0.64125985,  0.29266685, 8.07505194e-03, 9.91220653e-01, 3.73670191e-04,  5,  2.1420132e-02, 512198),\n",
       "       ( 171775.52 ,  1.4632704 ,  0.62429667, 6.48259640e-01, 1.74655095e-02, 1.50613040e-01,  5, -9.8639689e-03, 512198),\n",
       "       ( 679027.25 ,  0.9281205 ,  0.4416326 , 8.74208391e-01, 7.73253571e-03, 1.17625132e-01,  0,  3.5364642e-03, 512198),\n",
       "       (  94917.055,  0.40830776, -2.803052  , 4.31063354e-01, 9.18847471e-02, 4.67440993e-01,  0, -5.5290405e-02, 512198),\n",
       "       (  87267.06 ,  1.071485  , -1.5480826 , 3.56264343e-03, 9.78192687e-01, 1.76369287e-02,  5, -2.6241499e-03, 512198),\n",
       "       ( 151339.69 ,  1.1968606 ,  0.23053688, 5.44564903e-01, 2.33957125e-03, 5.05671203e-02,  0,  8.5865103e-02, 512198),\n",
       "       ( 184686.86 , -0.22676569,  0.09252221, 3.96876800e-04, 2.61668324e-01, 6.97602510e-01,  5, -1.3881047e-01, 512198),\n",
       "       (  38686.51 , -0.6678888 , -0.52427256, 8.06496501e-01, 6.86070370e-03, 1.78755671e-01,  5,  4.2938467e-02, 512198),\n",
       "       ( 178253.39 ,  0.92035943,  2.810248  , 4.87122685e-01, 6.90379292e-02, 4.43616807e-01,  0,  2.4801360e-02, 512198),\n",
       "       (  22566.746, -1.8244923 ,  1.1817603 , 4.99596260e-03, 9.53059018e-01, 3.92539203e-02,  5, -2.8407153e-01, 512198),\n",
       "       ( 202081.94 ,  1.0285333 ,  2.8936777 , 7.72796988e-01, 8.98931734e-03, 2.11783588e-01,  5,  2.3725288e-02, 512198),\n",
       "       (  79160.59 ,  0.3446633 ,  3.0448601 , 3.16902646e-04, 9.99529243e-01, 1.53861925e-04,  5, -2.5762516e-01, 512198),\n",
       "       ( 359393.94 ,  1.6259668 ,  2.3130488 , 4.22511339e-01, 9.87780169e-02, 4.78635281e-01,  0,  5.1483186e-03, 512198),\n",
       "       (  41568.67 , -0.9547842 ,  0.22097893, 8.16177666e-01, 2.09465288e-02, 1.54822737e-01,  0,  1.1410804e-01, 512198),\n",
       "       (  31963.209,  0.9435211 , -0.42994758, 8.07907805e-03, 8.92052650e-01, 9.57115144e-02,  5, -2.4351119e-01, 512198),\n",
       "       (  69307.28 , -1.1732895 ,  2.5715911 , 8.74738812e-01, 4.64116316e-03, 1.15089692e-01,  0,  1.4757204e-01, 512198),\n",
       "       ( 437648.47 ,  0.65477204, -2.5692563 , 3.24890192e-04, 9.98147845e-01, 1.52738590e-03,  5,  4.7177630e-03, 512198)],\n",
       "      dtype=[('jet_pt_lead', '<f4'), ('jet_eta_lead', '<f4'), ('jet_phi_lead', '<f4'), ('jet_GN2_pu_lead', '<f8'), ('jet_GN2_pb_lead', '<f8'), ('jet_GN2_pc_lead', '<f8'), ('jet_truthflavExtended_lead', '<i4'), ('wt', '<f4'), ('dsid', '<i4')])"
      ]
     },
     "execution_count": 66,
     "metadata": {},
     "output_type": "execute_result"
    }
   ],
   "source": [
    "stored"
   ]
  },
  {
   "cell_type": "code",
   "execution_count": 20,
   "id": "f6974191-9ace-4708-9b1b-4728bbdf712e",
   "metadata": {},
   "outputs": [],
   "source": [
    "ff.close()"
   ]
  },
  {
   "cell_type": "code",
   "execution_count": 14,
   "id": "deece5e3-b3bb-485a-bbdd-72dcd8c5402c",
   "metadata": {},
   "outputs": [],
   "source": [
    "ff = h5py.File('test3.h5', 'r')"
   ]
  },
  {
   "cell_type": "code",
   "execution_count": 22,
   "id": "0154c085-8d67-43db-92ed-0742d8364da1",
   "metadata": {},
   "outputs": [],
   "source": [
    "cols = list(f.decode('ascii') for f in ff.get('feature_names'))"
   ]
  },
  {
   "cell_type": "code",
   "execution_count": 23,
   "id": "a9567e03-f394-4dd5-82f0-36c77ca98800",
   "metadata": {},
   "outputs": [
    {
     "data": {
      "text/plain": [
       "['jet_pt_lea',\n",
       " 'jet_eta_le',\n",
       " 'jet_phi_le',\n",
       " 'jet_GN2_pu',\n",
       " 'jet_GN2_pb',\n",
       " 'jet_GN2_pc',\n",
       " 'jet_truthf',\n",
       " 'wt',\n",
       " 'dsid']"
      ]
     },
     "execution_count": 23,
     "metadata": {},
     "output_type": "execute_result"
    }
   ],
   "source": [
    "cols"
   ]
  },
  {
   "cell_type": "code",
   "execution_count": 17,
   "id": "a84802dc-beb8-4757-a9ed-68329a7fd267",
   "metadata": {},
   "outputs": [],
   "source": [
    "retrieved = np.array(ff.get('events'))"
   ]
  },
  {
   "cell_type": "code",
   "execution_count": 15,
   "id": "48059b77-b929-4db6-86ce-c166686b34cc",
   "metadata": {},
   "outputs": [],
   "source": [
    "import pandas as pd\n",
    "evts = pd.DataFrame(np.array(ff.get('events')))"
   ]
  },
  {
   "cell_type": "code",
   "execution_count": 16,
   "id": "b4dce6cc-d16a-443c-8652-d4ea0cd17db3",
   "metadata": {},
   "outputs": [
    {
     "data": {
      "text/html": [
       "<div>\n",
       "<style scoped>\n",
       "    .dataframe tbody tr th:only-of-type {\n",
       "        vertical-align: middle;\n",
       "    }\n",
       "\n",
       "    .dataframe tbody tr th {\n",
       "        vertical-align: top;\n",
       "    }\n",
       "\n",
       "    .dataframe thead th {\n",
       "        text-align: right;\n",
       "    }\n",
       "</style>\n",
       "<table border=\"1\" class=\"dataframe\">\n",
       "  <thead>\n",
       "    <tr style=\"text-align: right;\">\n",
       "      <th></th>\n",
       "      <th>jet_pt_lead</th>\n",
       "      <th>jet_eta_lead</th>\n",
       "      <th>jet_phi_lead</th>\n",
       "      <th>jet_GN2_pu_lead</th>\n",
       "      <th>jet_GN2_pb_lead</th>\n",
       "      <th>jet_GN2_pc_lead</th>\n",
       "      <th>jet_truthflavExtended_lead</th>\n",
       "      <th>wt</th>\n",
       "      <th>dsid</th>\n",
       "    </tr>\n",
       "  </thead>\n",
       "  <tbody>\n",
       "    <tr>\n",
       "      <th>0</th>\n",
       "      <td>483322.500000</td>\n",
       "      <td>1.535242</td>\n",
       "      <td>1.986113</td>\n",
       "      <td>0.827456</td>\n",
       "      <td>0.004491</td>\n",
       "      <td>0.167811</td>\n",
       "      <td>0</td>\n",
       "      <td>-0.007669</td>\n",
       "      <td>512198</td>\n",
       "    </tr>\n",
       "    <tr>\n",
       "      <th>1</th>\n",
       "      <td>235857.484375</td>\n",
       "      <td>0.610309</td>\n",
       "      <td>0.193919</td>\n",
       "      <td>0.867007</td>\n",
       "      <td>0.004947</td>\n",
       "      <td>0.124806</td>\n",
       "      <td>0</td>\n",
       "      <td>0.000257</td>\n",
       "      <td>512198</td>\n",
       "    </tr>\n",
       "    <tr>\n",
       "      <th>2</th>\n",
       "      <td>57461.964844</td>\n",
       "      <td>-0.105971</td>\n",
       "      <td>2.426447</td>\n",
       "      <td>0.377439</td>\n",
       "      <td>0.003886</td>\n",
       "      <td>0.055080</td>\n",
       "      <td>0</td>\n",
       "      <td>-0.000000</td>\n",
       "      <td>512198</td>\n",
       "    </tr>\n",
       "    <tr>\n",
       "      <th>3</th>\n",
       "      <td>42946.773438</td>\n",
       "      <td>-1.002219</td>\n",
       "      <td>0.666274</td>\n",
       "      <td>0.578052</td>\n",
       "      <td>0.009483</td>\n",
       "      <td>0.128477</td>\n",
       "      <td>0</td>\n",
       "      <td>-0.084550</td>\n",
       "      <td>512198</td>\n",
       "    </tr>\n",
       "    <tr>\n",
       "      <th>4</th>\n",
       "      <td>52920.152344</td>\n",
       "      <td>-2.159902</td>\n",
       "      <td>1.826374</td>\n",
       "      <td>0.000055</td>\n",
       "      <td>0.989186</td>\n",
       "      <td>0.010750</td>\n",
       "      <td>5</td>\n",
       "      <td>0.183207</td>\n",
       "      <td>512198</td>\n",
       "    </tr>\n",
       "    <tr>\n",
       "      <th>...</th>\n",
       "      <td>...</td>\n",
       "      <td>...</td>\n",
       "      <td>...</td>\n",
       "      <td>...</td>\n",
       "      <td>...</td>\n",
       "      <td>...</td>\n",
       "      <td>...</td>\n",
       "      <td>...</td>\n",
       "      <td>...</td>\n",
       "    </tr>\n",
       "    <tr>\n",
       "      <th>95</th>\n",
       "      <td>359393.937500</td>\n",
       "      <td>1.625967</td>\n",
       "      <td>2.313049</td>\n",
       "      <td>0.422511</td>\n",
       "      <td>0.098778</td>\n",
       "      <td>0.478635</td>\n",
       "      <td>0</td>\n",
       "      <td>0.005148</td>\n",
       "      <td>512198</td>\n",
       "    </tr>\n",
       "    <tr>\n",
       "      <th>96</th>\n",
       "      <td>41568.671875</td>\n",
       "      <td>-0.954784</td>\n",
       "      <td>0.220979</td>\n",
       "      <td>0.816178</td>\n",
       "      <td>0.020947</td>\n",
       "      <td>0.154823</td>\n",
       "      <td>0</td>\n",
       "      <td>0.114108</td>\n",
       "      <td>512198</td>\n",
       "    </tr>\n",
       "    <tr>\n",
       "      <th>97</th>\n",
       "      <td>31963.208984</td>\n",
       "      <td>0.943521</td>\n",
       "      <td>-0.429948</td>\n",
       "      <td>0.008079</td>\n",
       "      <td>0.892053</td>\n",
       "      <td>0.095712</td>\n",
       "      <td>5</td>\n",
       "      <td>-0.243511</td>\n",
       "      <td>512198</td>\n",
       "    </tr>\n",
       "    <tr>\n",
       "      <th>98</th>\n",
       "      <td>69307.281250</td>\n",
       "      <td>-1.173290</td>\n",
       "      <td>2.571591</td>\n",
       "      <td>0.874739</td>\n",
       "      <td>0.004641</td>\n",
       "      <td>0.115090</td>\n",
       "      <td>0</td>\n",
       "      <td>0.147572</td>\n",
       "      <td>512198</td>\n",
       "    </tr>\n",
       "    <tr>\n",
       "      <th>99</th>\n",
       "      <td>437648.468750</td>\n",
       "      <td>0.654772</td>\n",
       "      <td>-2.569256</td>\n",
       "      <td>0.000325</td>\n",
       "      <td>0.998148</td>\n",
       "      <td>0.001527</td>\n",
       "      <td>5</td>\n",
       "      <td>0.004718</td>\n",
       "      <td>512198</td>\n",
       "    </tr>\n",
       "  </tbody>\n",
       "</table>\n",
       "<p>100 rows × 9 columns</p>\n",
       "</div>"
      ],
      "text/plain": [
       "      jet_pt_lead  jet_eta_lead  jet_phi_lead  jet_GN2_pu_lead  \\\n",
       "0   483322.500000      1.535242      1.986113         0.827456   \n",
       "1   235857.484375      0.610309      0.193919         0.867007   \n",
       "2    57461.964844     -0.105971      2.426447         0.377439   \n",
       "3    42946.773438     -1.002219      0.666274         0.578052   \n",
       "4    52920.152344     -2.159902      1.826374         0.000055   \n",
       "..            ...           ...           ...              ...   \n",
       "95  359393.937500      1.625967      2.313049         0.422511   \n",
       "96   41568.671875     -0.954784      0.220979         0.816178   \n",
       "97   31963.208984      0.943521     -0.429948         0.008079   \n",
       "98   69307.281250     -1.173290      2.571591         0.874739   \n",
       "99  437648.468750      0.654772     -2.569256         0.000325   \n",
       "\n",
       "    jet_GN2_pb_lead  jet_GN2_pc_lead  jet_truthflavExtended_lead        wt  \\\n",
       "0          0.004491         0.167811                           0 -0.007669   \n",
       "1          0.004947         0.124806                           0  0.000257   \n",
       "2          0.003886         0.055080                           0 -0.000000   \n",
       "3          0.009483         0.128477                           0 -0.084550   \n",
       "4          0.989186         0.010750                           5  0.183207   \n",
       "..              ...              ...                         ...       ...   \n",
       "95         0.098778         0.478635                           0  0.005148   \n",
       "96         0.020947         0.154823                           0  0.114108   \n",
       "97         0.892053         0.095712                           5 -0.243511   \n",
       "98         0.004641         0.115090                           0  0.147572   \n",
       "99         0.998148         0.001527                           5  0.004718   \n",
       "\n",
       "      dsid  \n",
       "0   512198  \n",
       "1   512198  \n",
       "2   512198  \n",
       "3   512198  \n",
       "4   512198  \n",
       "..     ...  \n",
       "95  512198  \n",
       "96  512198  \n",
       "97  512198  \n",
       "98  512198  \n",
       "99  512198  \n",
       "\n",
       "[100 rows x 9 columns]"
      ]
     },
     "execution_count": 16,
     "metadata": {},
     "output_type": "execute_result"
    }
   ],
   "source": [
    "evts"
   ]
  },
  {
   "cell_type": "code",
   "execution_count": 30,
   "id": "8a2a6fde-9b94-4fea-93ba-6a9d624ae749",
   "metadata": {},
   "outputs": [
    {
     "data": {
      "text/plain": [
       "RecordType([NumpyType('float32'), NumpyType('float32'), NumpyType('float32'), NumpyType('float64'), NumpyType('float64'), NumpyType('float64'), NumpyType('int32'), NumpyType('float32'), ListType(NumpyType('uint8', parameters={'__array__': 'char'}), parameters={'__array__': 'string'})], ['jet_pt_lead', 'jet_eta_lead', 'jet_phi_lead', 'jet_GN2_pu_lead', 'jet_GN2_pb_lead', 'jet_GN2_pc_lead', 'jet_truthflavExtended_lead', 'wt', 'dsid'])"
      ]
     },
     "execution_count": 30,
     "metadata": {},
     "output_type": "execute_result"
    }
   ],
   "source": [
    "samples.type.content"
   ]
  },
  {
   "cell_type": "code",
   "execution_count": 31,
   "id": "6bd75f4b-2c22-4665-b70e-ef1858ef5766",
   "metadata": {},
   "outputs": [
    {
     "data": {
      "text/plain": [
       "ArrayType(RecordType([NumpyType('float32'), NumpyType('float32'), NumpyType('float32'), NumpyType('float64'), NumpyType('float64'), NumpyType('float64'), NumpyType('int32'), NumpyType('float32'), ListType(NumpyType('uint8', parameters={'__array__': 'char'}), parameters={'__array__': 'string'})], ['jet_pt_lead', 'jet_eta_lead', 'jet_phi_lead', 'jet_GN2_pu_lead', 'jet_GN2_pb_lead', 'jet_GN2_pc_lead', 'jet_truthflavExtended_lead', 'wt', 'dsid']), 100, None)"
      ]
     },
     "execution_count": 31,
     "metadata": {},
     "output_type": "execute_result"
    }
   ],
   "source": [
    "samples.type"
   ]
  },
  {
   "cell_type": "code",
   "execution_count": 39,
   "id": "036077f9-813b-4f33-a00f-6df6b0a8d258",
   "metadata": {},
   "outputs": [
    {
     "data": {
      "text/plain": [
       "['__annotations__',\n",
       " '__class__',\n",
       " '__delattr__',\n",
       " '__dict__',\n",
       " '__dir__',\n",
       " '__doc__',\n",
       " '__eq__',\n",
       " '__format__',\n",
       " '__ge__',\n",
       " '__getattribute__',\n",
       " '__gt__',\n",
       " '__hash__',\n",
       " '__init__',\n",
       " '__init_subclass__',\n",
       " '__le__',\n",
       " '__lt__',\n",
       " '__module__',\n",
       " '__ne__',\n",
       " '__new__',\n",
       " '__reduce__',\n",
       " '__reduce_ex__',\n",
       " '__repr__',\n",
       " '__setattr__',\n",
       " '__sizeof__',\n",
       " '__str__',\n",
       " '__subclasshook__',\n",
       " '__weakref__',\n",
       " '_get_typestr',\n",
       " '_is_equal_to',\n",
       " '_parameters',\n",
       " '_primitive',\n",
       " '_repr_args',\n",
       " '_str',\n",
       " '_str_categorical_begin',\n",
       " '_str_categorical_end',\n",
       " '_str_parameters',\n",
       " '_str_parameters_exclude',\n",
       " 'copy',\n",
       " 'is_equal_to',\n",
       " 'parameter',\n",
       " 'parameters',\n",
       " 'primitive',\n",
       " 'show']"
      ]
     },
     "execution_count": 39,
     "metadata": {},
     "output_type": "execute_result"
    }
   ],
   "source": [
    "dir(samples.type.content.contents[0])"
   ]
  },
  {
   "cell_type": "code",
   "execution_count": 38,
   "id": "eb4e067d-865b-4f35-9fd2-a2132f998b36",
   "metadata": {},
   "outputs": [
    {
     "name": "stdout",
     "output_type": "stream",
     "text": [
      "[NumpyType('float32'), NumpyType('float32'), NumpyType('float32'), NumpyType('float64'), NumpyType('float64'), NumpyType('float64'), NumpyType('int32'), NumpyType('float32'), ListType(NumpyType('uint8', parameters={'__array__': 'char'}), parameters={'__array__': 'string'})]\n"
     ]
    }
   ],
   "source": [
    "print(samples.type.content.contents)"
   ]
  },
  {
   "cell_type": "code",
   "execution_count": 65,
   "id": "f683a262-fe8f-4857-9578-29cf76e69c6b",
   "metadata": {},
   "outputs": [],
   "source": [
    "outfile = h5py.File('test.h5', 'w')"
   ]
  },
  {
   "cell_type": "code",
   "execution_count": 66,
   "id": "565cba9e-aeaf-4ed3-8dc1-022ed3bd3acb",
   "metadata": {},
   "outputs": [
    {
     "data": {
      "text/plain": [
       "['jet_pt_lead',\n",
       " 'jet_eta_lead',\n",
       " 'jet_phi_lead',\n",
       " 'jet_GN2_pu_lead',\n",
       " 'jet_GN2_pb_lead',\n",
       " 'jet_GN2_pc_lead',\n",
       " 'jet_truthflavExtended_lead',\n",
       " 'wt',\n",
       " 'dsid']"
      ]
     },
     "execution_count": 66,
     "metadata": {},
     "output_type": "execute_result"
    }
   ],
   "source": [
    "samples.fields"
   ]
  },
  {
   "cell_type": "code",
   "execution_count": 68,
   "id": "e08fb20c-2957-4268-9353-c758d9707e30",
   "metadata": {},
   "outputs": [
    {
     "data": {
      "text/plain": [
       "[('jet_pt_lead', 'float32'),\n",
       " ('jet_eta_lead', 'float32'),\n",
       " ('jet_phi_lead', 'float32'),\n",
       " ('jet_GN2_pu_lead', 'float64'),\n",
       " ('jet_GN2_pb_lead', 'float64'),\n",
       " ('jet_GN2_pc_lead', 'float64'),\n",
       " ('jet_truthflavExtended_lead', 'int32'),\n",
       " ('wt', 'float32'),\n",
       " ('dsid', 'str')]"
      ]
     },
     "execution_count": 68,
     "metadata": {},
     "output_type": "execute_result"
    }
   ],
   "source": [
    "list(zip(samples.fields,dtypes))"
   ]
  },
  {
   "cell_type": "code",
   "execution_count": 18,
   "id": "a64e0d72-d590-44c9-8176-294ac739bffb",
   "metadata": {},
   "outputs": [
    {
     "data": {
      "text/plain": [
       "['__array__',\n",
       " '__bool__',\n",
       " '__class__',\n",
       " '__delattr__',\n",
       " '__dict__',\n",
       " '__dir__',\n",
       " '__doc__',\n",
       " '__eq__',\n",
       " '__format__',\n",
       " '__ge__',\n",
       " '__getattribute__',\n",
       " '__getitem__',\n",
       " '__getnewargs__',\n",
       " '__getstate__',\n",
       " '__gt__',\n",
       " '__hash__',\n",
       " '__init__',\n",
       " '__init_subclass__',\n",
       " '__iter__',\n",
       " '__le__',\n",
       " '__len__',\n",
       " '__lt__',\n",
       " '__module__',\n",
       " '__ne__',\n",
       " '__new__',\n",
       " '__nonzero__',\n",
       " '__reduce__',\n",
       " '__reduce_ex__',\n",
       " '__repr__',\n",
       " '__setattr__',\n",
       " '__setitem__',\n",
       " '__sizeof__',\n",
       " '__str__',\n",
       " '__subclasshook__',\n",
       " '__weakref__',\n",
       " '_cache_props',\n",
       " '_d',\n",
       " '_dcpl',\n",
       " '_dxpl',\n",
       " '_e',\n",
       " '_extent_type',\n",
       " '_fast_read_ok',\n",
       " '_fast_reader',\n",
       " '_filters',\n",
       " '_id',\n",
       " '_is_empty',\n",
       " '_lapl',\n",
       " '_lcpl',\n",
       " '_readonly',\n",
       " '_selector',\n",
       " 'asstr',\n",
       " 'astype',\n",
       " 'attrs',\n",
       " 'chunks',\n",
       " 'compression',\n",
       " 'compression_opts',\n",
       " 'dims',\n",
       " 'dtype',\n",
       " 'external',\n",
       " 'fields',\n",
       " 'file',\n",
       " 'fillvalue',\n",
       " 'fletcher32',\n",
       " 'flush',\n",
       " 'id',\n",
       " 'is_scale',\n",
       " 'is_virtual',\n",
       " 'iter_chunks',\n",
       " 'len',\n",
       " 'make_scale',\n",
       " 'maxshape',\n",
       " 'name',\n",
       " 'nbytes',\n",
       " 'ndim',\n",
       " 'parent',\n",
       " 'read_direct',\n",
       " 'ref',\n",
       " 'refresh',\n",
       " 'regionref',\n",
       " 'resize',\n",
       " 'scaleoffset',\n",
       " 'shape',\n",
       " 'shuffle',\n",
       " 'size',\n",
       " 'virtual_sources',\n",
       " 'write_direct']"
      ]
     },
     "execution_count": 18,
     "metadata": {},
     "output_type": "execute_result"
    }
   ],
   "source": [
    "dir(ds)"
   ]
  },
  {
   "cell_type": "code",
   "execution_count": 24,
   "id": "df9ea205-c55e-4427-a0a6-f5f5856dc42e",
   "metadata": {},
   "outputs": [
    {
     "data": {
      "text/plain": [
       "'test.h5'"
      ]
     },
     "execution_count": 24,
     "metadata": {},
     "output_type": "execute_result"
    }
   ],
   "source": [
    "os.path.basename(ds.file.filename)"
   ]
  },
  {
   "cell_type": "code",
   "execution_count": 22,
   "id": "0fdab582-adbc-4b99-a96e-b848e5dddce9",
   "metadata": {},
   "outputs": [
    {
     "data": {
      "text/plain": [
       "h5py._hl.dataset.Dataset"
      ]
     },
     "execution_count": 22,
     "metadata": {},
     "output_type": "execute_result"
    }
   ],
   "source": [
    "h5py.Dataset"
   ]
  },
  {
   "cell_type": "code",
   "execution_count": null,
   "id": "35c81767-1479-4655-8981-04352f1064c4",
   "metadata": {},
   "outputs": [],
   "source": []
  }
 ],
 "metadata": {
  "kernelspec": {
   "display_name": "Python 3",
   "language": "python",
   "name": "python3"
  },
  "language_info": {
   "codemirror_mode": {
    "name": "ipython",
    "version": 3
   },
   "file_extension": ".py",
   "mimetype": "text/x-python",
   "name": "python",
   "nbconvert_exporter": "python",
   "pygments_lexer": "ipython3",
   "version": "3.10.13"
  }
 },
 "nbformat": 4,
 "nbformat_minor": 5
}
