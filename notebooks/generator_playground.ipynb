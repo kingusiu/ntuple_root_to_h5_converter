{
 "cells": [
  {
   "cell_type": "code",
   "execution_count": 2,
   "id": "7925fb9b",
   "metadata": {},
   "outputs": [],
   "source": [
    "import uproot\n",
    "import h5py\n",
    "import numpy as np\n",
    "import os\n",
    "import fnmatch\n",
    "import awkward as awk\n",
    "import glob"
   ]
  },
  {
   "cell_type": "code",
   "execution_count": 3,
   "id": "27b62bfb",
   "metadata": {},
   "outputs": [],
   "source": [
    "import sys\n",
    "sys.path.append('../src/')"
   ]
  },
  {
   "cell_type": "code",
   "execution_count": 5,
   "id": "960e93b5",
   "metadata": {},
   "outputs": [],
   "source": [
    "from heplot import plotting as heplt\n",
    "import selection as sele\n",
    "import string_constants as stco\n",
    "import reader as read"
   ]
  },
  {
   "cell_type": "code",
   "execution_count": 7,
   "id": "386fbf1d",
   "metadata": {},
   "outputs": [],
   "source": [
    "# read electron files\n",
    "path_ee = glob.glob(os.path.join(stco.generator_in_dir_lightjet,'*'+stco.ds_ids['ee'][0]+'*'))[0]"
   ]
  },
  {
   "cell_type": "code",
   "execution_count": 8,
   "id": "498b253f",
   "metadata": {},
   "outputs": [
    {
     "data": {
      "text/plain": [
       "'/eos/atlas/atlascerngroupdisk/perf-flavtag/calib/negtag/Rel24_GN2/mc20_Run2/Ntuples/PeriodE/ZJets_MG/user.ltoffoli.mc20_13TeV.506193.MGPy8EG_3jets_HT2bias_BFilter.deriv.DAOD_PHYS.e8382_s3681_r13145_p5631.toffoGN2_v1_output.root'"
      ]
     },
     "execution_count": 8,
     "metadata": {},
     "output_type": "execute_result"
    }
   ],
   "source": [
    "path_ee"
   ]
  },
  {
   "cell_type": "code",
   "execution_count": 9,
   "id": "71dc29d3",
   "metadata": {},
   "outputs": [],
   "source": [
    "fnames_ee = os.listdir(path_ee)"
   ]
  },
  {
   "cell_type": "code",
   "execution_count": 10,
   "id": "2c316656",
   "metadata": {},
   "outputs": [
    {
     "data": {
      "text/plain": [
       "['user.ltoffoli.35090069._000001.output.root',\n",
       " 'user.ltoffoli.35090069._000002.output.root',\n",
       " 'user.ltoffoli.35094310._000001.output.root',\n",
       " 'user.ltoffoli.35094310._000002.output.root']"
      ]
     },
     "execution_count": 10,
     "metadata": {},
     "output_type": "execute_result"
    }
   ],
   "source": [
    "fnames_ee"
   ]
  },
  {
   "cell_type": "code",
   "execution_count": 11,
   "id": "70584a7f",
   "metadata": {},
   "outputs": [],
   "source": [
    "feature_names = ['el_e','mu_e','el_charge','mu_charge','el_pt','mu_pt', 'el_phi','mu_phi',\\\n",
    "                      'el_eta', 'mu_eta', 'jet_e', 'jet_GN2_pu', 'jet_GN2_pb', 'jet_GN2_pc']"
   ]
  },
  {
   "cell_type": "code",
   "execution_count": 38,
   "id": "d2cdbbe8",
   "metadata": {},
   "outputs": [],
   "source": [
    "batch_sz = 1000"
   ]
  },
  {
   "cell_type": "code",
   "execution_count": 45,
   "id": "b64d646b",
   "metadata": {},
   "outputs": [],
   "source": [
    "def sample_generator(path, batch_sz):\n",
    "    \n",
    "    samples_concat = None\n",
    "\n",
    "    # for ff in uproot.iterate([pp+'/*.root:nominal' for pp in path_ee]):\n",
    "    for next_chunk in uproot.iterate([path+'/*.root:nominal'],feature_names):\n",
    "\n",
    "        #print(len(next_chunk))\n",
    "\n",
    "        # select lightjets\n",
    "        selected = sele.select_lightjets(next_chunk)\n",
    "\n",
    "        if samples_concat is None: \n",
    "            samples_concat = selected\n",
    "        else:\n",
    "            samples_concat = awk.concatenate([samples_concat,selected])\n",
    "\n",
    "        while(len(samples_concat) >= batch_sz):\n",
    "            samples_batch = samples_concat[:batch_sz]\n",
    "            samples_concat = samples_concat[batch_sz:]\n",
    "            yield samples_batch\n",
    "\n",
    "        # if data left, yield it\n",
    "        if len(samples_concat) > 0:\n",
    "            yield samples_concat"
   ]
  },
  {
   "cell_type": "code",
   "execution_count": 46,
   "id": "90f815fa",
   "metadata": {},
   "outputs": [],
   "source": [
    "gen = sample_generator(path_ee, batch_sz)"
   ]
  },
  {
   "cell_type": "code",
   "execution_count": 48,
   "id": "6955d7e8",
   "metadata": {},
   "outputs": [
    {
     "name": "stdout",
     "output_type": "stream",
     "text": [
      "1000\n",
      "[{el_e: [1.51e+05, 8.89e+04], mu_e: [], ... jet_GN2_pc: [0.111, 0.000377, 0.132]}]\n",
      "1000\n",
      "[{el_e: [2.8e+05, 2.69e+05], mu_e: [], ... jet_GN2_pc: [0.207, 0.181, 0.0364]}]\n",
      "1000\n",
      "[{el_e: [1.44e+05, 1.42e+05], mu_e: [], ... jet_GN2_pc: [0.176, 0.0219, 0.224]}]\n",
      "1000\n",
      "[{el_e: [2.66e+05, 4.16e+05], mu_e: [], ... 1], jet_GN2_pc: [5.36e-06]}]\n",
      "1000\n",
      "[{el_e: [6.94e+04, 4.52e+04], mu_e: [], ... 0.157, 0.127, 0.136, 0.0345]}]\n",
      "1000\n",
      "[{el_e: [1.43e+05, 3.91e+04], mu_e: [], ... 0.000352, 0.00204, 0.244, 0.177, 0.217]}]\n",
      "1000\n",
      "[{el_e: [1.19e+05, 4.8e+04], mu_e: [], ... 0.201, 0.09, 1.71e-05, 0.189, 0.0291]}]\n",
      "1000\n",
      "[{el_e: [1.74e+05, 4.23e+04], mu_e: [], ... jet_GN2_pc: [0.388, 0.00354, 0.185]}]\n",
      "1000\n",
      "[{el_e: [7.35e+05, 1.99e+05], mu_e: [], ... jet_GN2_pc: [0.109, 0.0906, 0.159]}]\n",
      "1000\n",
      "[{el_e: [8.98e+04, 3.9e+04], mu_e: [], ... jet_GN2_pc: [0.162, 0.16, 0.267]}]\n",
      "1000\n",
      "[{el_e: [1.72e+05, 4.64e+04], mu_e: [], ... 1], jet_GN2_pc: [2.47e-05]}]\n"
     ]
    }
   ],
   "source": [
    "i = 0\n",
    "for sample in gen:\n",
    "    print(len(sample))\n",
    "    print(sample)\n",
    "    i = i+1\n",
    "    if i > 10: break"
   ]
  },
  {
   "cell_type": "code",
   "execution_count": null,
   "id": "38fc68f2",
   "metadata": {},
   "outputs": [],
   "source": [
    "i = 0\n",
    "for next_chunk in uproot.iterate([path+'/*.root:nominal']):\n",
    "    "
   ]
  }
 ],
 "metadata": {
  "kernelspec": {
   "display_name": "Python 3",
   "language": "python",
   "name": "python3"
  },
  "language_info": {
   "codemirror_mode": {
    "name": "ipython",
    "version": 3
   },
   "file_extension": ".py",
   "mimetype": "text/x-python",
   "name": "python",
   "nbconvert_exporter": "python",
   "pygments_lexer": "ipython3",
   "version": "3.7.11"
  }
 },
 "nbformat": 4,
 "nbformat_minor": 5
}
