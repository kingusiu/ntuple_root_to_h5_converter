{
 "cells": [
  {
   "cell_type": "code",
   "execution_count": 1,
   "id": "7eaa2427",
   "metadata": {},
   "outputs": [],
   "source": [
    "import uproot\n",
    "import h5py\n",
    "import numpy as np\n",
    "import os\n",
    "import fnmatch"
   ]
  },
  {
   "cell_type": "code",
   "execution_count": 2,
   "id": "38e9096a",
   "metadata": {},
   "outputs": [],
   "source": [
    "dir_h5_mc16 = '/eos/user/m/malgren/ftag_data/'"
   ]
  },
  {
   "cell_type": "code",
   "execution_count": 3,
   "id": "a1135988",
   "metadata": {},
   "outputs": [
    {
     "name": "stdout",
     "output_type": "stream",
     "text": [
      "eval_data.pth\t\t\t     FTAG2_ttbar_PowHW7_merged.h5\r\n",
      "FTAG2_ttbar_PhPy8_nominal_merged.h5\r\n"
     ]
    }
   ],
   "source": [
    "!ls $dir_h5_mc16"
   ]
  },
  {
   "cell_type": "code",
   "execution_count": 5,
   "id": "e0be589e",
   "metadata": {},
   "outputs": [],
   "source": [
    "ff = h5py.File(os.path.join(dir_h5_mc16,'FTAG2_ttbar_PowHW7_merged.h5'))"
   ]
  },
  {
   "cell_type": "code",
   "execution_count": 6,
   "id": "a371c496",
   "metadata": {},
   "outputs": [
    {
     "data": {
      "text/plain": [
       "<HDF5 file \"FTAG2_ttbar_PowHW7_merged.h5\" (mode r)>"
      ]
     },
     "execution_count": 6,
     "metadata": {},
     "output_type": "execute_result"
    }
   ],
   "source": [
    "ff"
   ]
  },
  {
   "cell_type": "code",
   "execution_count": 7,
   "id": "511d509a",
   "metadata": {},
   "outputs": [
    {
     "data": {
      "text/plain": [
       "<KeysViewHDF5 ['df']>"
      ]
     },
     "execution_count": 7,
     "metadata": {},
     "output_type": "execute_result"
    }
   ],
   "source": [
    "ff.keys()"
   ]
  },
  {
   "cell_type": "code",
   "execution_count": 8,
   "id": "3f45f0a1",
   "metadata": {},
   "outputs": [],
   "source": [
    "df = ff.get('df')"
   ]
  },
  {
   "cell_type": "code",
   "execution_count": 10,
   "id": "5d1d351d",
   "metadata": {},
   "outputs": [
    {
     "data": {
      "text/plain": [
       "<KeysViewHDF5 ['axis0', 'axis1', 'block0_items', 'block0_values', 'block1_items', 'block1_values', 'block2_items', 'block2_values']>"
      ]
     },
     "execution_count": 10,
     "metadata": {},
     "output_type": "execute_result"
    }
   ],
   "source": [
    "df.keys()"
   ]
  },
  {
   "cell_type": "code",
   "execution_count": 11,
   "id": "579590b2",
   "metadata": {},
   "outputs": [],
   "source": [
    "dir_root_mc20 = '/eos/atlas/unpledged/group-tokyo/users/wojang/qt/wonho_samples_run2'"
   ]
  },
  {
   "cell_type": "code",
   "execution_count": 12,
   "id": "13d777ee",
   "metadata": {},
   "outputs": [
    {
     "name": "stdout",
     "output_type": "stream",
     "text": [
      "user.wojang.345705.Sherpa.DAOD_PHYS.e6213_s3681_r13144_p5631.AT24.2.4_2023.07.01_mc20d_v1_output_root.txt\r\n",
      "user.wojang.345705.Sherpa.DAOD_PHYS.e6213_s3681_r13145_p5631.AT24.2.4_2023.06.27_mc20e_v4_output_root.txt\r\n",
      "user.wojang.345705.Sherpa.DAOD_PHYS.e6213_s3681_r13167_p5631.AT24.2.4_2023.06.29_mc20a_v1_output_root.txt\r\n",
      "user.wojang.345706.Sherpa.DAOD_PHYS.e6213_s3681_r13144_p5631.AT24.2.4_2023.07.01_mc20d_v1_output_root.txt\r\n",
      "user.wojang.345706.Sherpa.DAOD_PHYS.e6213_s3681_r13145_p5631.AT24.2.4_2023.06.27_mc20e_v4_output_root.txt\r\n",
      "user.wojang.345706.Sherpa.DAOD_PHYS.e6213_s3681_r13167_p5631.AT24.2.4_2023.06.29_mc20a_v1_output_root.txt\r\n",
      "user.wojang.345718.Sherpa.DAOD_PHYS.e6525_s3681_r13144_p5631.AT24.2.4_2023.07.01_mc20d_v1_output_root.txt\r\n",
      "user.wojang.345718.Sherpa.DAOD_PHYS.e6525_s3681_r13145_p5631.AT24.2.4_2023.06.27_mc20e_v4_output_root.txt\r\n",
      "user.wojang.345718.Sherpa.DAOD_PHYS.e6525_s3681_r13167_p5631.AT24.2.4_2023.06.29_mc20a_v1_output_root.txt\r\n",
      "user.wojang.345723.Sherpa.DAOD_PHYS.e6213_s3681_r13144_p5631.AT24.2.4_2023.07.01_mc20d_v1_output_root.txt\r\n",
      "ls: write error: Broken pipe\r\n"
     ]
    }
   ],
   "source": [
    "!ls $dir_root_mc20 | head"
   ]
  },
  {
   "cell_type": "code",
   "execution_count": 13,
   "id": "ec7788f7",
   "metadata": {},
   "outputs": [],
   "source": [
    "fname = os.listdir(dir_root_mc20)[0]"
   ]
  },
  {
   "cell_type": "code",
   "execution_count": 14,
   "id": "4540b552",
   "metadata": {},
   "outputs": [
    {
     "data": {
      "text/plain": [
       "'user.wojang.345705.Sherpa.DAOD_PHYS.e6213_s3681_r13144_p5631.AT24.2.4_2023.07.01_mc20d_v1_output_root.txt'"
      ]
     },
     "execution_count": 14,
     "metadata": {},
     "output_type": "execute_result"
    }
   ],
   "source": [
    "fname"
   ]
  },
  {
   "cell_type": "code",
   "execution_count": 17,
   "id": "82cef3f6",
   "metadata": {},
   "outputs": [
    {
     "ename": "OSError",
     "evalue": "expected Chunk of length 140,\nreceived Chunk of length 403\nfor file path /eos/atlas/unpledged/group-tokyo/users/wojang/qt/wonho_samples_run2/user.wojang.345705.Sherpa.DAOD_PHYS.e6213_s3681_r13144_p5631.AT24.2.4_2023.07.01_mc20d_v1_output_root.txt",
     "output_type": "error",
     "traceback": [
      "\u001b[0;31m---------------------------------------------------------------------------\u001b[0m",
      "\u001b[0;31mOSError\u001b[0m                                   Traceback (most recent call last)",
      "\u001b[0;32m/tmp/kiwoznia/ipykernel_15852/919282649.py\u001b[0m in \u001b[0;36m<module>\u001b[0;34m\u001b[0m\n\u001b[0;32m----> 1\u001b[0;31m \u001b[0mff\u001b[0m \u001b[0;34m=\u001b[0m \u001b[0muproot\u001b[0m\u001b[0;34m.\u001b[0m\u001b[0mopen\u001b[0m\u001b[0;34m(\u001b[0m\u001b[0mos\u001b[0m\u001b[0;34m.\u001b[0m\u001b[0mpath\u001b[0m\u001b[0;34m.\u001b[0m\u001b[0mjoin\u001b[0m\u001b[0;34m(\u001b[0m\u001b[0mdir_root_mc20\u001b[0m\u001b[0;34m,\u001b[0m\u001b[0mfname\u001b[0m\u001b[0;34m)\u001b[0m\u001b[0;34m)\u001b[0m\u001b[0;34m\u001b[0m\u001b[0;34m\u001b[0m\u001b[0m\n\u001b[0m",
      "\u001b[0;32m~/.pyenv/versions/3.7.11/lib/python3.7/site-packages/uproot/reading.py\u001b[0m in \u001b[0;36mopen\u001b[0;34m(path, object_cache, array_cache, custom_classes, decompression_executor, interpretation_executor, **options)\u001b[0m\n\u001b[1;32m    143\u001b[0m         \u001b[0mdecompression_executor\u001b[0m\u001b[0;34m=\u001b[0m\u001b[0mdecompression_executor\u001b[0m\u001b[0;34m,\u001b[0m\u001b[0;34m\u001b[0m\u001b[0;34m\u001b[0m\u001b[0m\n\u001b[1;32m    144\u001b[0m         \u001b[0minterpretation_executor\u001b[0m\u001b[0;34m=\u001b[0m\u001b[0minterpretation_executor\u001b[0m\u001b[0;34m,\u001b[0m\u001b[0;34m\u001b[0m\u001b[0;34m\u001b[0m\u001b[0m\n\u001b[0;32m--> 145\u001b[0;31m         \u001b[0;34m**\u001b[0m\u001b[0moptions\u001b[0m  \u001b[0;31m# NOTE: a comma after **options breaks Python 2\u001b[0m\u001b[0;34m\u001b[0m\u001b[0;34m\u001b[0m\u001b[0m\n\u001b[0m\u001b[1;32m    146\u001b[0m     )\n\u001b[1;32m    147\u001b[0m \u001b[0;34m\u001b[0m\u001b[0m\n",
      "\u001b[0;32m~/.pyenv/versions/3.7.11/lib/python3.7/site-packages/uproot/reading.py\u001b[0m in \u001b[0;36m__init__\u001b[0;34m(self, file_path, object_cache, array_cache, custom_classes, decompression_executor, interpretation_executor, **options)\u001b[0m\n\u001b[1;32m    584\u001b[0m             \u001b[0mself\u001b[0m\u001b[0;34m.\u001b[0m\u001b[0m_fUUID\u001b[0m\u001b[0;34m,\u001b[0m\u001b[0;34m\u001b[0m\u001b[0;34m\u001b[0m\u001b[0m\n\u001b[1;32m    585\u001b[0m         \u001b[0;34m)\u001b[0m \u001b[0;34m=\u001b[0m \u001b[0muproot\u001b[0m\u001b[0;34m.\u001b[0m\u001b[0msource\u001b[0m\u001b[0;34m.\u001b[0m\u001b[0mcursor\u001b[0m\u001b[0;34m.\u001b[0m\u001b[0mCursor\u001b[0m\u001b[0;34m(\u001b[0m\u001b[0;36m0\u001b[0m\u001b[0;34m)\u001b[0m\u001b[0;34m.\u001b[0m\u001b[0mfields\u001b[0m\u001b[0;34m(\u001b[0m\u001b[0;34m\u001b[0m\u001b[0;34m\u001b[0m\u001b[0m\n\u001b[0;32m--> 586\u001b[0;31m             \u001b[0mself\u001b[0m\u001b[0;34m.\u001b[0m\u001b[0m_begin_chunk\u001b[0m\u001b[0;34m,\u001b[0m \u001b[0m_file_header_fields_small\u001b[0m\u001b[0;34m,\u001b[0m \u001b[0;34m{\u001b[0m\u001b[0;34m}\u001b[0m\u001b[0;34m\u001b[0m\u001b[0;34m\u001b[0m\u001b[0m\n\u001b[0m\u001b[1;32m    587\u001b[0m         )\n\u001b[1;32m    588\u001b[0m \u001b[0;34m\u001b[0m\u001b[0m\n",
      "\u001b[0;32m~/.pyenv/versions/3.7.11/lib/python3.7/site-packages/uproot/source/cursor.py\u001b[0m in \u001b[0;36mfields\u001b[0;34m(self, chunk, format, context, move)\u001b[0m\n\u001b[1;32m    191\u001b[0m         \u001b[0;32mif\u001b[0m \u001b[0mmove\u001b[0m\u001b[0;34m:\u001b[0m\u001b[0;34m\u001b[0m\u001b[0;34m\u001b[0m\u001b[0m\n\u001b[1;32m    192\u001b[0m             \u001b[0mself\u001b[0m\u001b[0;34m.\u001b[0m\u001b[0m_index\u001b[0m \u001b[0;34m=\u001b[0m \u001b[0mstop\u001b[0m\u001b[0;34m\u001b[0m\u001b[0;34m\u001b[0m\u001b[0m\n\u001b[0;32m--> 193\u001b[0;31m         \u001b[0;32mreturn\u001b[0m \u001b[0mformat\u001b[0m\u001b[0;34m.\u001b[0m\u001b[0munpack\u001b[0m\u001b[0;34m(\u001b[0m\u001b[0mchunk\u001b[0m\u001b[0;34m.\u001b[0m\u001b[0mget\u001b[0m\u001b[0;34m(\u001b[0m\u001b[0mstart\u001b[0m\u001b[0;34m,\u001b[0m \u001b[0mstop\u001b[0m\u001b[0;34m,\u001b[0m \u001b[0mself\u001b[0m\u001b[0;34m,\u001b[0m \u001b[0mcontext\u001b[0m\u001b[0;34m)\u001b[0m\u001b[0;34m)\u001b[0m\u001b[0;34m\u001b[0m\u001b[0;34m\u001b[0m\u001b[0m\n\u001b[0m\u001b[1;32m    194\u001b[0m \u001b[0;34m\u001b[0m\u001b[0m\n\u001b[1;32m    195\u001b[0m     \u001b[0;32mdef\u001b[0m \u001b[0mfield\u001b[0m\u001b[0;34m(\u001b[0m\u001b[0mself\u001b[0m\u001b[0;34m,\u001b[0m \u001b[0mchunk\u001b[0m\u001b[0;34m,\u001b[0m \u001b[0mformat\u001b[0m\u001b[0;34m,\u001b[0m \u001b[0mcontext\u001b[0m\u001b[0;34m,\u001b[0m \u001b[0mmove\u001b[0m\u001b[0;34m=\u001b[0m\u001b[0;32mTrue\u001b[0m\u001b[0;34m)\u001b[0m\u001b[0;34m:\u001b[0m\u001b[0;34m\u001b[0m\u001b[0;34m\u001b[0m\u001b[0m\n",
      "\u001b[0;32m~/.pyenv/versions/3.7.11/lib/python3.7/site-packages/uproot/source/chunk.py\u001b[0m in \u001b[0;36mget\u001b[0;34m(self, start, stop, cursor, context)\u001b[0m\n\u001b[1;32m    359\u001b[0m         \u001b[0malready\u001b[0m\u001b[0;34m.\u001b[0m\u001b[0;34m\u001b[0m\u001b[0;34m\u001b[0m\u001b[0m\n\u001b[1;32m    360\u001b[0m         \"\"\"\n\u001b[0;32m--> 361\u001b[0;31m         \u001b[0mself\u001b[0m\u001b[0;34m.\u001b[0m\u001b[0mwait\u001b[0m\u001b[0;34m(\u001b[0m\u001b[0;34m)\u001b[0m\u001b[0;34m\u001b[0m\u001b[0;34m\u001b[0m\u001b[0m\n\u001b[0m\u001b[1;32m    362\u001b[0m \u001b[0;34m\u001b[0m\u001b[0m\n\u001b[1;32m    363\u001b[0m         \u001b[0;32mif\u001b[0m \u001b[0;34m(\u001b[0m\u001b[0mstart\u001b[0m\u001b[0;34m,\u001b[0m \u001b[0mstop\u001b[0m\u001b[0;34m)\u001b[0m \u001b[0;32min\u001b[0m \u001b[0mself\u001b[0m\u001b[0;34m:\u001b[0m\u001b[0;34m\u001b[0m\u001b[0;34m\u001b[0m\u001b[0m\n",
      "\u001b[0;32m~/.pyenv/versions/3.7.11/lib/python3.7/site-packages/uproot/source/chunk.py\u001b[0m in \u001b[0;36mwait\u001b[0;34m(self)\u001b[0m\n\u001b[1;32m    320\u001b[0m                         \u001b[0mlen\u001b[0m\u001b[0;34m(\u001b[0m\u001b[0mself\u001b[0m\u001b[0;34m.\u001b[0m\u001b[0m_raw_data\u001b[0m\u001b[0;34m)\u001b[0m\u001b[0;34m,\u001b[0m\u001b[0;34m\u001b[0m\u001b[0;34m\u001b[0m\u001b[0m\n\u001b[1;32m    321\u001b[0m                         \u001b[0mself\u001b[0m\u001b[0;34m.\u001b[0m\u001b[0m_stop\u001b[0m \u001b[0;34m-\u001b[0m \u001b[0mself\u001b[0m\u001b[0;34m.\u001b[0m\u001b[0m_start\u001b[0m\u001b[0;34m,\u001b[0m\u001b[0;34m\u001b[0m\u001b[0;34m\u001b[0m\u001b[0m\n\u001b[0;32m--> 322\u001b[0;31m                         \u001b[0mself\u001b[0m\u001b[0;34m.\u001b[0m\u001b[0m_source\u001b[0m\u001b[0;34m.\u001b[0m\u001b[0mfile_path\u001b[0m\u001b[0;34m,\u001b[0m\u001b[0;34m\u001b[0m\u001b[0;34m\u001b[0m\u001b[0m\n\u001b[0m\u001b[1;32m    323\u001b[0m                     )\n\u001b[1;32m    324\u001b[0m                 )\n",
      "\u001b[0;31mOSError\u001b[0m: expected Chunk of length 140,\nreceived Chunk of length 403\nfor file path /eos/atlas/unpledged/group-tokyo/users/wojang/qt/wonho_samples_run2/user.wojang.345705.Sherpa.DAOD_PHYS.e6213_s3681_r13144_p5631.AT24.2.4_2023.07.01_mc20d_v1_output_root.txt"
     ]
    }
   ],
   "source": [
    "ff = uproot.open(os.path.join(dir_root_mc20,fname))"
   ]
  },
  {
   "cell_type": "code",
   "execution_count": 22,
   "id": "6ae76c66",
   "metadata": {},
   "outputs": [],
   "source": [
    "dir_root_lightjet = '/eos/atlas/atlascerngroupdisk/perf-flavtag/calib/negtag/Rel24_GN2/mc20_Run2/Ntuples/PeriodE/ZJets_MG'"
   ]
  },
  {
   "cell_type": "code",
   "execution_count": 23,
   "id": "134d16a3",
   "metadata": {},
   "outputs": [
    {
     "name": "stdout",
     "output_type": "stream",
     "text": [
      "user.ltoffoli.mc20_13TeV.506193.MGPy8EG_3jets_HT2bias_BFilter.deriv.DAOD_PHYS.e8382_s3681_r13145_p5631.toffoGN2_v1_output.root\r\n",
      "user.ltoffoli.mc20_13TeV.506194.MGPy8EG_HT2bias_CFilterBVeto.deriv.DAOD_PHYS.e8382_s3681_r13145_p5631.toffoGN2_v1_output.root\r\n",
      "user.ltoffoli.mc20_13TeV.506195.MGPy8EG_HT2bias_CVetoBVeto.deriv.DAOD_PHYS.e8382_s3681_r13145_p5631.toffoGN2_v1_output.root\r\n",
      "user.ltoffoli.mc20_13TeV.506196.MGPy8EG_3jets_HT2bias_BFilter.deriv.DAOD_PHYS.e8382_s3681_r13145_p5631.toffoGN2_v1_output.root\r\n",
      "user.ltoffoli.mc20_13TeV.506197.MGPy8EG_HT2bias_CFilterBVeto.deriv.DAOD_PHYS.e8382_s3681_r13145_p5631.toffoGN2_v1_output.root\r\n",
      "user.ltoffoli.mc20_13TeV.506198.MGPy8EG_HT2bias_CVetoBVeto.deriv.DAOD_PHYS.e8382_s3681_r13145_p5631.toffoGN2_v1_output.root\r\n",
      "user.ltoffoli.mc20_13TeV.512198.MGPy8EG_3jets_HT2bias_BFilter.deriv.DAOD_PHYS.e8382_s3681_r13145_p5631.toffoGN2_v1_output.root\r\n",
      "user.ltoffoli.mc20_13TeV.512199.MGPy8EG_HT2bias_CFilterBVeto.deriv.DAOD_PHYS.e8382_s3681_r13145_p5631.toffoGN2_v1_output.root\r\n",
      "user.ltoffoli.mc20_13TeV.512200.MGPy8EG_HT2bias_CVetoBVeto.deriv.DAOD_PHYS.e8382_s3681_r13145_p5631.toffoGN2_v1_output.root\r\n"
     ]
    }
   ],
   "source": [
    "!ls $dir_root_lightjet | head"
   ]
  },
  {
   "cell_type": "code",
   "execution_count": 37,
   "id": "484f13ff",
   "metadata": {},
   "outputs": [],
   "source": [
    "subdir = os.listdir(dir_root_lightjet)[0]"
   ]
  },
  {
   "cell_type": "code",
   "execution_count": 38,
   "id": "02e44f09",
   "metadata": {},
   "outputs": [
    {
     "data": {
      "text/plain": [
       "'user.ltoffoli.mc20_13TeV.506193.MGPy8EG_3jets_HT2bias_BFilter.deriv.DAOD_PHYS.e8382_s3681_r13145_p5631.toffoGN2_v1_output.root'"
      ]
     },
     "execution_count": 38,
     "metadata": {},
     "output_type": "execute_result"
    }
   ],
   "source": [
    "subdir"
   ]
  },
  {
   "cell_type": "code",
   "execution_count": 41,
   "id": "dd6147fb",
   "metadata": {},
   "outputs": [
    {
     "data": {
      "text/plain": [
       "'/eos/atlas/atlascerngroupdisk/perf-flavtag/calib/negtag/Rel24_GN2/mc20_Run2/Ntuples/PeriodE/ZJets_MG/user.ltoffoli.mc20_13TeV.506193.MGPy8EG_3jets_HT2bias_BFilter.deriv.DAOD_PHYS.e8382_s3681_r13145_p5631.toffoGN2_v1_output.root'"
      ]
     },
     "execution_count": 41,
     "metadata": {},
     "output_type": "execute_result"
    }
   ],
   "source": [
    "os.path.join(dir_root_lightjet,subdir)"
   ]
  },
  {
   "cell_type": "code",
   "execution_count": 42,
   "id": "ae14188a",
   "metadata": {},
   "outputs": [],
   "source": [
    "fname = os.listdir(os.path.join(dir_root_lightjet,subdir))[0]"
   ]
  },
  {
   "cell_type": "code",
   "execution_count": 43,
   "id": "953d2c7b",
   "metadata": {},
   "outputs": [
    {
     "data": {
      "text/plain": [
       "'user.ltoffoli.35090069._000001.output.root'"
      ]
     },
     "execution_count": 43,
     "metadata": {},
     "output_type": "execute_result"
    }
   ],
   "source": [
    "fname"
   ]
  },
  {
   "cell_type": "code",
   "execution_count": 44,
   "id": "6fd80a3a",
   "metadata": {},
   "outputs": [],
   "source": [
    "ff = uproot.open(os.path.join(dir_root_lightjet,subdir,fname))"
   ]
  },
  {
   "cell_type": "code",
   "execution_count": 46,
   "id": "8d53e2b5",
   "metadata": {},
   "outputs": [
    {
     "ename": "KeyInFileError",
     "evalue": "not found: 'tree' (with any cycle number)\n\n    Available keys: 'truth;1', 'ee_2018;1', 'nominal;1', 'sumWeights;1', 'mumu_2018;1', 'ee_2018/cutflow;1', 'AnalysisTracking;1', 'ee_2018/cutflow_mc;1', 'ee_2018/cutflow_pu;1', 'mumu_2018/cutflow;1', 'ee_2018/cutflow_mc_pu;1'...\n\nin file /eos/atlas/atlascerngroupdisk/perf-flavtag/calib/negtag/Rel24_GN2/mc20_Run2/Ntuples/PeriodE/ZJets_MG/user.ltoffoli.mc20_13TeV.506193.MGPy8EG_3jets_HT2bias_BFilter.deriv.DAOD_PHYS.e8382_s3681_r13145_p5631.toffoGN2_v1_output.root/user.ltoffoli.35090069._000001.output.root",
     "output_type": "error",
     "traceback": [
      "\u001b[0;31m---------------------------------------------------------------------------\u001b[0m",
      "\u001b[0;31mKeyInFileError\u001b[0m                            Traceback (most recent call last)",
      "\u001b[0;32m/tmp/kiwoznia/ipykernel_15852/4206760704.py\u001b[0m in \u001b[0;36m<module>\u001b[0;34m\u001b[0m\n\u001b[0;32m----> 1\u001b[0;31m \u001b[0mtree\u001b[0m \u001b[0;34m=\u001b[0m \u001b[0mff\u001b[0m\u001b[0;34m[\u001b[0m\u001b[0;34m\"tree\"\u001b[0m\u001b[0;34m]\u001b[0m\u001b[0;34m\u001b[0m\u001b[0;34m\u001b[0m\u001b[0m\n\u001b[0m",
      "\u001b[0;32m~/.pyenv/versions/3.7.11/lib/python3.7/site-packages/uproot/reading.py\u001b[0m in \u001b[0;36m__getitem__\u001b[0;34m(self, where)\u001b[0m\n\u001b[1;32m   1975\u001b[0m \u001b[0;34m\u001b[0m\u001b[0m\n\u001b[1;32m   1976\u001b[0m         \u001b[0;32melse\u001b[0m\u001b[0;34m:\u001b[0m\u001b[0;34m\u001b[0m\u001b[0;34m\u001b[0m\u001b[0m\n\u001b[0;32m-> 1977\u001b[0;31m             \u001b[0;32mreturn\u001b[0m \u001b[0mself\u001b[0m\u001b[0;34m.\u001b[0m\u001b[0mkey\u001b[0m\u001b[0;34m(\u001b[0m\u001b[0mwhere\u001b[0m\u001b[0;34m)\u001b[0m\u001b[0;34m.\u001b[0m\u001b[0mget\u001b[0m\u001b[0;34m(\u001b[0m\u001b[0;34m)\u001b[0m\u001b[0;34m\u001b[0m\u001b[0;34m\u001b[0m\u001b[0m\n\u001b[0m\u001b[1;32m   1978\u001b[0m \u001b[0;34m\u001b[0m\u001b[0m\n\u001b[1;32m   1979\u001b[0m     \u001b[0;34m@\u001b[0m\u001b[0mproperty\u001b[0m\u001b[0;34m\u001b[0m\u001b[0;34m\u001b[0m\u001b[0m\n",
      "\u001b[0;32m~/.pyenv/versions/3.7.11/lib/python3.7/site-packages/uproot/reading.py\u001b[0m in \u001b[0;36mkey\u001b[0;34m(self, where)\u001b[0m\n\u001b[1;32m   1926\u001b[0m         \u001b[0;32melif\u001b[0m \u001b[0mcycle\u001b[0m \u001b[0;32mis\u001b[0m \u001b[0;32mNone\u001b[0m\u001b[0;34m:\u001b[0m\u001b[0;34m\u001b[0m\u001b[0;34m\u001b[0m\u001b[0m\n\u001b[1;32m   1927\u001b[0m             raise uproot.KeyInFileError(\n\u001b[0;32m-> 1928\u001b[0;31m                 \u001b[0mitem\u001b[0m\u001b[0;34m,\u001b[0m \u001b[0mcycle\u001b[0m\u001b[0;34m=\u001b[0m\u001b[0;34m\"any\"\u001b[0m\u001b[0;34m,\u001b[0m \u001b[0mkeys\u001b[0m\u001b[0;34m=\u001b[0m\u001b[0mself\u001b[0m\u001b[0;34m.\u001b[0m\u001b[0mkeys\u001b[0m\u001b[0;34m(\u001b[0m\u001b[0;34m)\u001b[0m\u001b[0;34m,\u001b[0m \u001b[0mfile_path\u001b[0m\u001b[0;34m=\u001b[0m\u001b[0mself\u001b[0m\u001b[0;34m.\u001b[0m\u001b[0m_file\u001b[0m\u001b[0;34m.\u001b[0m\u001b[0mfile_path\u001b[0m\u001b[0;34m\u001b[0m\u001b[0;34m\u001b[0m\u001b[0m\n\u001b[0m\u001b[1;32m   1929\u001b[0m             )\n\u001b[1;32m   1930\u001b[0m         \u001b[0;32melse\u001b[0m\u001b[0;34m:\u001b[0m\u001b[0;34m\u001b[0m\u001b[0;34m\u001b[0m\u001b[0m\n",
      "\u001b[0;31mKeyInFileError\u001b[0m: not found: 'tree' (with any cycle number)\n\n    Available keys: 'truth;1', 'ee_2018;1', 'nominal;1', 'sumWeights;1', 'mumu_2018;1', 'ee_2018/cutflow;1', 'AnalysisTracking;1', 'ee_2018/cutflow_mc;1', 'ee_2018/cutflow_pu;1', 'mumu_2018/cutflow;1', 'ee_2018/cutflow_mc_pu;1'...\n\nin file /eos/atlas/atlascerngroupdisk/perf-flavtag/calib/negtag/Rel24_GN2/mc20_Run2/Ntuples/PeriodE/ZJets_MG/user.ltoffoli.mc20_13TeV.506193.MGPy8EG_3jets_HT2bias_BFilter.deriv.DAOD_PHYS.e8382_s3681_r13145_p5631.toffoGN2_v1_output.root/user.ltoffoli.35090069._000001.output.root"
     ]
    }
   ],
   "source": [
    "tree = ff[\"tree\"]"
   ]
  },
  {
   "cell_type": "code",
   "execution_count": null,
   "id": "f43764e2",
   "metadata": {},
   "outputs": [],
   "source": []
  }
 ],
 "metadata": {
  "kernelspec": {
   "display_name": "Python 3",
   "language": "python",
   "name": "python3"
  },
  "language_info": {
   "codemirror_mode": {
    "name": "ipython",
    "version": 3
   },
   "file_extension": ".py",
   "mimetype": "text/x-python",
   "name": "python",
   "nbconvert_exporter": "python",
   "pygments_lexer": "ipython3",
   "version": "3.7.11"
  }
 },
 "nbformat": 4,
 "nbformat_minor": 5
}
