{
 "cells": [
  {
   "cell_type": "code",
   "execution_count": 31,
   "id": "7eaa2427",
   "metadata": {},
   "outputs": [],
   "source": [
    "import uproot\n",
    "import h5py\n",
    "import numpy as np\n",
    "import os\n",
    "import fnmatch\n",
    "import awkward as ak"
   ]
  },
  {
   "cell_type": "code",
   "execution_count": 32,
   "id": "38e9096a",
   "metadata": {},
   "outputs": [],
   "source": [
    "dir_h5_mc16 = '/eos/user/m/malgren/ftag_data/'"
   ]
  },
  {
   "cell_type": "code",
   "execution_count": 33,
   "id": "a1135988",
   "metadata": {},
   "outputs": [
    {
     "name": "stdout",
     "output_type": "stream",
     "text": [
      "eval_data.pth\t\t\t     FTAG2_ttbar_PowHW7_merged.h5\r\n",
      "FTAG2_ttbar_PhPy8_nominal_merged.h5\r\n"
     ]
    }
   ],
   "source": [
    "!ls $dir_h5_mc16"
   ]
  },
  {
   "cell_type": "code",
   "execution_count": 34,
   "id": "e0be589e",
   "metadata": {},
   "outputs": [],
   "source": [
    "ff = h5py.File(os.path.join(dir_h5_mc16,'FTAG2_ttbar_PowHW7_merged.h5'))"
   ]
  },
  {
   "cell_type": "code",
   "execution_count": 35,
   "id": "a371c496",
   "metadata": {},
   "outputs": [
    {
     "data": {
      "text/plain": [
       "<HDF5 file \"FTAG2_ttbar_PowHW7_merged.h5\" (mode r)>"
      ]
     },
     "execution_count": 35,
     "metadata": {},
     "output_type": "execute_result"
    }
   ],
   "source": [
    "ff"
   ]
  },
  {
   "cell_type": "code",
   "execution_count": 36,
   "id": "511d509a",
   "metadata": {},
   "outputs": [
    {
     "data": {
      "text/plain": [
       "<KeysViewHDF5 ['df']>"
      ]
     },
     "execution_count": 36,
     "metadata": {},
     "output_type": "execute_result"
    }
   ],
   "source": [
    "ff.keys()"
   ]
  },
  {
   "cell_type": "code",
   "execution_count": 37,
   "id": "3f45f0a1",
   "metadata": {},
   "outputs": [],
   "source": [
    "df = ff.get('df')"
   ]
  },
  {
   "cell_type": "code",
   "execution_count": 38,
   "id": "5d1d351d",
   "metadata": {},
   "outputs": [
    {
     "data": {
      "text/plain": [
       "<KeysViewHDF5 ['axis0', 'axis1', 'block0_items', 'block0_values', 'block1_items', 'block1_values', 'block2_items', 'block2_values']>"
      ]
     },
     "execution_count": 38,
     "metadata": {},
     "output_type": "execute_result"
    }
   ],
   "source": [
    "df.keys()"
   ]
  },
  {
   "cell_type": "code",
   "execution_count": 39,
   "id": "579590b2",
   "metadata": {},
   "outputs": [],
   "source": [
    "dir_root_mc20 = '/eos/atlas/unpledged/group-tokyo/users/wojang/qt/wonho_samples_run2'"
   ]
  },
  {
   "cell_type": "code",
   "execution_count": 40,
   "id": "13d777ee",
   "metadata": {},
   "outputs": [
    {
     "name": "stdout",
     "output_type": "stream",
     "text": [
      "user.wojang.345705.Sherpa.DAOD_PHYS.e6213_s3681_r13144_p5631.AT24.2.4_2023.07.01_mc20d_v1_output_root.txt\r\n",
      "user.wojang.345705.Sherpa.DAOD_PHYS.e6213_s3681_r13145_p5631.AT24.2.4_2023.06.27_mc20e_v4_output_root.txt\r\n",
      "user.wojang.345705.Sherpa.DAOD_PHYS.e6213_s3681_r13167_p5631.AT24.2.4_2023.06.29_mc20a_v1_output_root.txt\r\n",
      "user.wojang.345706.Sherpa.DAOD_PHYS.e6213_s3681_r13144_p5631.AT24.2.4_2023.07.01_mc20d_v1_output_root.txt\r\n",
      "user.wojang.345706.Sherpa.DAOD_PHYS.e6213_s3681_r13145_p5631.AT24.2.4_2023.06.27_mc20e_v4_output_root.txt\r\n",
      "user.wojang.345706.Sherpa.DAOD_PHYS.e6213_s3681_r13167_p5631.AT24.2.4_2023.06.29_mc20a_v1_output_root.txt\r\n",
      "user.wojang.345718.Sherpa.DAOD_PHYS.e6525_s3681_r13144_p5631.AT24.2.4_2023.07.01_mc20d_v1_output_root.txt\r\n",
      "user.wojang.345718.Sherpa.DAOD_PHYS.e6525_s3681_r13145_p5631.AT24.2.4_2023.06.27_mc20e_v4_output_root.txt\r\n",
      "user.wojang.345718.Sherpa.DAOD_PHYS.e6525_s3681_r13167_p5631.AT24.2.4_2023.06.29_mc20a_v1_output_root.txt\r\n",
      "user.wojang.345723.Sherpa.DAOD_PHYS.e6213_s3681_r13144_p5631.AT24.2.4_2023.07.01_mc20d_v1_output_root.txt\r\n",
      "ls: write error: Broken pipe\r\n"
     ]
    }
   ],
   "source": [
    "!ls $dir_root_mc20 | head"
   ]
  },
  {
   "cell_type": "code",
   "execution_count": 67,
   "id": "fe38a45d",
   "metadata": {},
   "outputs": [],
   "source": [
    "os.listdir(dir_root_mc20).sort()"
   ]
  },
  {
   "cell_type": "code",
   "execution_count": 41,
   "id": "ec7788f7",
   "metadata": {},
   "outputs": [],
   "source": [
    "fname = os.listdir(dir_root_mc20)[0]"
   ]
  },
  {
   "cell_type": "code",
   "execution_count": 42,
   "id": "4540b552",
   "metadata": {},
   "outputs": [
    {
     "data": {
      "text/plain": [
       "'user.wojang.345705.Sherpa.DAOD_PHYS.e6213_s3681_r13144_p5631.AT24.2.4_2023.07.01_mc20d_v1_output_root.txt'"
      ]
     },
     "execution_count": 42,
     "metadata": {},
     "output_type": "execute_result"
    }
   ],
   "source": [
    "fname"
   ]
  },
  {
   "cell_type": "code",
   "execution_count": 43,
   "id": "17d2488e",
   "metadata": {},
   "outputs": [],
   "source": [
    "def read_example_file(dir_path):\n",
    "    fname = os.listdir(dir_path)[0]\n",
    "    ff = uproot.open(os.path.join(dir_path,fname))\n",
    "    tree = ff['nominal;1']\n",
    "    pu = ak.to_numpy(ak.flatten(tree['jet_GN2_pu'].array()))\n",
    "    pb = ak.to_numpy(ak.flatten(tree['jet_GN2_pb'].array()))\n",
    "    pc = ak.to_numpy(ak.flatten(tree['jet_GN2_pc'].array()))\n",
    "    return pu, pb, pc"
   ]
  },
  {
   "cell_type": "code",
   "execution_count": 44,
   "id": "6ae76c66",
   "metadata": {},
   "outputs": [],
   "source": [
    "dir_root_lightjet = '/eos/atlas/atlascerngroupdisk/perf-flavtag/calib/negtag/Rel24_GN2/mc20_Run2/Ntuples/PeriodE/ZJets_MG'"
   ]
  },
  {
   "cell_type": "code",
   "execution_count": 45,
   "id": "134d16a3",
   "metadata": {},
   "outputs": [
    {
     "name": "stdout",
     "output_type": "stream",
     "text": [
      "user.ltoffoli.mc20_13TeV.506193.MGPy8EG_3jets_HT2bias_BFilter.deriv.DAOD_PHYS.e8382_s3681_r13145_p5631.toffoGN2_v1_output.root\r\n",
      "user.ltoffoli.mc20_13TeV.506194.MGPy8EG_HT2bias_CFilterBVeto.deriv.DAOD_PHYS.e8382_s3681_r13145_p5631.toffoGN2_v1_output.root\r\n",
      "user.ltoffoli.mc20_13TeV.506195.MGPy8EG_HT2bias_CVetoBVeto.deriv.DAOD_PHYS.e8382_s3681_r13145_p5631.toffoGN2_v1_output.root\r\n",
      "user.ltoffoli.mc20_13TeV.506196.MGPy8EG_3jets_HT2bias_BFilter.deriv.DAOD_PHYS.e8382_s3681_r13145_p5631.toffoGN2_v1_output.root\r\n",
      "user.ltoffoli.mc20_13TeV.506197.MGPy8EG_HT2bias_CFilterBVeto.deriv.DAOD_PHYS.e8382_s3681_r13145_p5631.toffoGN2_v1_output.root\r\n",
      "user.ltoffoli.mc20_13TeV.506198.MGPy8EG_HT2bias_CVetoBVeto.deriv.DAOD_PHYS.e8382_s3681_r13145_p5631.toffoGN2_v1_output.root\r\n",
      "user.ltoffoli.mc20_13TeV.512198.MGPy8EG_3jets_HT2bias_BFilter.deriv.DAOD_PHYS.e8382_s3681_r13145_p5631.toffoGN2_v1_output.root\r\n",
      "user.ltoffoli.mc20_13TeV.512199.MGPy8EG_HT2bias_CFilterBVeto.deriv.DAOD_PHYS.e8382_s3681_r13145_p5631.toffoGN2_v1_output.root\r\n",
      "user.ltoffoli.mc20_13TeV.512200.MGPy8EG_HT2bias_CVetoBVeto.deriv.DAOD_PHYS.e8382_s3681_r13145_p5631.toffoGN2_v1_output.root\r\n"
     ]
    }
   ],
   "source": [
    "!ls $dir_root_lightjet | head"
   ]
  },
  {
   "cell_type": "code",
   "execution_count": 46,
   "id": "484f13ff",
   "metadata": {},
   "outputs": [],
   "source": [
    "subdir = os.listdir(dir_root_lightjet)[0]"
   ]
  },
  {
   "cell_type": "code",
   "execution_count": 47,
   "id": "02e44f09",
   "metadata": {},
   "outputs": [
    {
     "data": {
      "text/plain": [
       "'user.ltoffoli.mc20_13TeV.506193.MGPy8EG_3jets_HT2bias_BFilter.deriv.DAOD_PHYS.e8382_s3681_r13145_p5631.toffoGN2_v1_output.root'"
      ]
     },
     "execution_count": 47,
     "metadata": {},
     "output_type": "execute_result"
    }
   ],
   "source": [
    "subdir"
   ]
  },
  {
   "cell_type": "code",
   "execution_count": 48,
   "id": "dd6147fb",
   "metadata": {},
   "outputs": [],
   "source": [
    "lightjet_dir_mc = os.path.join(dir_root_lightjet,subdir)"
   ]
  },
  {
   "cell_type": "code",
   "execution_count": 49,
   "id": "9897a343",
   "metadata": {},
   "outputs": [],
   "source": [
    "pu_mc, pb_mc, pc_mc = read_example_file(lightjet_dir_mc)"
   ]
  },
  {
   "cell_type": "code",
   "execution_count": 50,
   "id": "ae14188a",
   "metadata": {},
   "outputs": [],
   "source": [
    "fname = os.listdir(os.path.join(dir_root_lightjet,subdir))[0]"
   ]
  },
  {
   "cell_type": "code",
   "execution_count": 51,
   "id": "953d2c7b",
   "metadata": {},
   "outputs": [
    {
     "data": {
      "text/plain": [
       "'user.ltoffoli.35090069._000001.output.root'"
      ]
     },
     "execution_count": 51,
     "metadata": {},
     "output_type": "execute_result"
    }
   ],
   "source": [
    "fname"
   ]
  },
  {
   "cell_type": "code",
   "execution_count": 52,
   "id": "c53c3621",
   "metadata": {},
   "outputs": [
    {
     "data": {
      "text/plain": [
       "'/eos/atlas/atlascerngroupdisk/perf-flavtag/calib/negtag/Rel24_GN2/mc20_Run2/Ntuples/PeriodE/ZJets_MG/user.ltoffoli.mc20_13TeV.506193.MGPy8EG_3jets_HT2bias_BFilter.deriv.DAOD_PHYS.e8382_s3681_r13145_p5631.toffoGN2_v1_output.root/user.ltoffoli.35090069._000001.output.root'"
      ]
     },
     "execution_count": 52,
     "metadata": {},
     "output_type": "execute_result"
    }
   ],
   "source": [
    "os.path.join(dir_root_lightjet,subdir,fname)"
   ]
  },
  {
   "cell_type": "code",
   "execution_count": 53,
   "id": "6fd80a3a",
   "metadata": {},
   "outputs": [],
   "source": [
    "tree = uproot.open(os.path.join(dir_root_lightjet,subdir,fname)+':nominal')"
   ]
  },
  {
   "cell_type": "code",
   "execution_count": 54,
   "id": "d2c7fbe9",
   "metadata": {},
   "outputs": [
    {
     "data": {
      "text/plain": [
       "['mc_generator_weights',\n",
       " 'weight_mc',\n",
       " 'weight_pileup',\n",
       " 'weight_beamspot',\n",
       " 'weight_leptonSF',\n",
       " 'weight_trigger',\n",
       " 'weight_jvt',\n",
       " 'weight_pileup_UP',\n",
       " 'weight_pileup_DOWN',\n",
       " 'weight_leptonSF_EL_SF_Reco_UP',\n",
       " 'weight_leptonSF_EL_SF_Reco_DOWN',\n",
       " 'weight_leptonSF_EL_SF_ID_UP',\n",
       " 'weight_leptonSF_EL_SF_ID_DOWN',\n",
       " 'weight_leptonSF_EL_SF_Isol_UP',\n",
       " 'weight_leptonSF_EL_SF_Isol_DOWN',\n",
       " 'weight_trigger_EL_SF_Trigger_UP',\n",
       " 'weight_trigger_EL_SF_Trigger_DOWN',\n",
       " 'weight_trigger_MU_SF_STAT_UP',\n",
       " 'weight_trigger_MU_SF_STAT_DOWN',\n",
       " 'weight_trigger_MU_SF_SYST_UP',\n",
       " 'weight_trigger_MU_SF_SYST_DOWN',\n",
       " 'weight_leptonSF_MU_SF_ID_STAT_UP',\n",
       " 'weight_leptonSF_MU_SF_ID_STAT_DOWN',\n",
       " 'weight_leptonSF_MU_SF_ID_STAT_LOWPT_UP',\n",
       " 'weight_leptonSF_MU_SF_ID_STAT_LOWPT_DOWN',\n",
       " 'weight_leptonSF_MU_SF_ID_SYST_LOWPT_UP',\n",
       " 'weight_leptonSF_MU_SF_ID_SYST_LOWPT_DOWN',\n",
       " 'weight_leptonSF_MU_SF_ID_SYST_UP',\n",
       " 'weight_leptonSF_MU_SF_ID_SYST_DOWN',\n",
       " 'weight_leptonSF_MU_SF_Isol_STAT_UP',\n",
       " 'weight_leptonSF_MU_SF_Isol_STAT_DOWN',\n",
       " 'weight_leptonSF_MU_SF_TTVA_STAT_UP',\n",
       " 'weight_leptonSF_MU_SF_TTVA_STAT_DOWN',\n",
       " 'weight_leptonSF_MU_SF_Isol_SYST_UP',\n",
       " 'weight_leptonSF_MU_SF_Isol_SYST_DOWN',\n",
       " 'weight_leptonSF_MU_SF_TTVA_SYST_UP',\n",
       " 'weight_leptonSF_MU_SF_TTVA_SYST_DOWN',\n",
       " 'weight_jvt_UP',\n",
       " 'weight_jvt_DOWN',\n",
       " 'eventNumber',\n",
       " 'runNumber',\n",
       " 'randomRunNumber',\n",
       " 'mcChannelNumber',\n",
       " 'mu',\n",
       " 'mu_actual',\n",
       " 'backgroundFlags',\n",
       " 'hasBadMuon',\n",
       " 'el_pt',\n",
       " 'el_eta',\n",
       " 'el_cl_eta',\n",
       " 'el_phi',\n",
       " 'el_e',\n",
       " 'el_charge',\n",
       " 'el_topoetcone20',\n",
       " 'el_ptvarcone20',\n",
       " 'el_CF',\n",
       " 'el_d0sig',\n",
       " 'el_delta_z0_sintheta',\n",
       " 'el_true_type',\n",
       " 'el_true_origin',\n",
       " 'el_true_firstEgMotherTruthType',\n",
       " 'el_true_firstEgMotherTruthOrigin',\n",
       " 'el_true_firstEgMotherPdgId',\n",
       " 'el_true_isPrompt',\n",
       " 'el_true_isChargeFl',\n",
       " 'mu_pt',\n",
       " 'mu_eta',\n",
       " 'mu_phi',\n",
       " 'mu_e',\n",
       " 'mu_charge',\n",
       " 'mu_topoetcone20',\n",
       " 'mu_ptvarcone30',\n",
       " 'mu_d0sig',\n",
       " 'mu_delta_z0_sintheta',\n",
       " 'mu_true_type',\n",
       " 'mu_true_origin',\n",
       " 'mu_true_isPrompt',\n",
       " 'jet_pt',\n",
       " 'jet_eta',\n",
       " 'jet_phi',\n",
       " 'jet_e',\n",
       " 'jet_jvt',\n",
       " 'jet_truthflav',\n",
       " 'jet_truthPartonLabel',\n",
       " 'jet_isTrueHS',\n",
       " 'jet_truthflavExtended',\n",
       " 'met_met',\n",
       " 'met_sumet',\n",
       " 'met_phi',\n",
       " 'ee_2018',\n",
       " 'mumu_2018',\n",
       " 'HLT_mu50',\n",
       " 'HLT_e60_lhmedium_nod0',\n",
       " 'HLT_mu26_ivarmedium',\n",
       " 'HLT_e26_lhtight_nod0_ivarloose',\n",
       " 'HLT_e140_lhloose_nod0',\n",
       " 'el_trigMatch_HLT_e60_lhmedium_nod0',\n",
       " 'el_trigMatch_HLT_e26_lhtight_nod0_ivarloose',\n",
       " 'el_trigMatch_HLT_e140_lhloose_nod0',\n",
       " 'mu_trigMatch_HLT_mu50',\n",
       " 'mu_trigMatch_HLT_mu26_ivarmedium',\n",
       " 'jet_truthflavExtended',\n",
       " 'jet_SV1_masssvx',\n",
       " 'jet_SV1_NGTinSvx',\n",
       " 'jet_dips_pu',\n",
       " 'jet_dips_pb',\n",
       " 'jet_dips_pc',\n",
       " 'jet_dipsflip_pu',\n",
       " 'jet_dipsflip_pb',\n",
       " 'jet_dipsflip_pc',\n",
       " 'jet_DL1d_pu',\n",
       " 'jet_DL1d_pb',\n",
       " 'jet_DL1d_pc',\n",
       " 'jet_DL1dflip_pu',\n",
       " 'jet_DL1dflip_pb',\n",
       " 'jet_DL1dflip_pc',\n",
       " 'jet_GN2_pu',\n",
       " 'jet_GN2_pb',\n",
       " 'jet_GN2_pc']"
      ]
     },
     "execution_count": 54,
     "metadata": {},
     "output_type": "execute_result"
    }
   ],
   "source": [
    "tree.keys()"
   ]
  },
  {
   "cell_type": "code",
   "execution_count": 55,
   "id": "28ab782b",
   "metadata": {},
   "outputs": [
    {
     "name": "stdout",
     "output_type": "stream",
     "text": [
      "name                 | typename                 | interpretation                \n",
      "---------------------+--------------------------+-------------------------------\n",
      "mc_generator_weights | std::vector<float>       | AsJagged(AsDtype('>f4'), he...\n",
      "weight_mc            | float                    | AsDtype('>f4')\n",
      "weight_pileup        | float                    | AsDtype('>f4')\n",
      "weight_beamspot      | float                    | AsDtype('>f4')\n",
      "weight_leptonSF      | float                    | AsDtype('>f4')\n",
      "weight_trigger       | float                    | AsDtype('>f4')\n",
      "weight_jvt           | float                    | AsDtype('>f4')\n",
      "weight_pileup_UP     | float                    | AsDtype('>f4')\n",
      "weight_pileup_DOWN   | float                    | AsDtype('>f4')\n",
      "weight_leptonSF_E... | float                    | AsDtype('>f4')\n",
      "weight_leptonSF_E... | float                    | AsDtype('>f4')\n",
      "weight_leptonSF_E... | float                    | AsDtype('>f4')\n",
      "weight_leptonSF_E... | float                    | AsDtype('>f4')\n",
      "weight_leptonSF_E... | float                    | AsDtype('>f4')\n",
      "weight_leptonSF_E... | float                    | AsDtype('>f4')\n",
      "weight_trigger_EL... | float                    | AsDtype('>f4')\n",
      "weight_trigger_EL... | float                    | AsDtype('>f4')\n",
      "weight_trigger_MU... | float                    | AsDtype('>f4')\n",
      "weight_trigger_MU... | float                    | AsDtype('>f4')\n",
      "weight_trigger_MU... | float                    | AsDtype('>f4')\n",
      "weight_trigger_MU... | float                    | AsDtype('>f4')\n",
      "weight_leptonSF_M... | float                    | AsDtype('>f4')\n",
      "weight_leptonSF_M... | float                    | AsDtype('>f4')\n",
      "weight_leptonSF_M... | float                    | AsDtype('>f4')\n",
      "weight_leptonSF_M... | float                    | AsDtype('>f4')\n",
      "weight_leptonSF_M... | float                    | AsDtype('>f4')\n",
      "weight_leptonSF_M... | float                    | AsDtype('>f4')\n",
      "weight_leptonSF_M... | float                    | AsDtype('>f4')\n",
      "weight_leptonSF_M... | float                    | AsDtype('>f4')\n",
      "weight_leptonSF_M... | float                    | AsDtype('>f4')\n",
      "weight_leptonSF_M... | float                    | AsDtype('>f4')\n",
      "weight_leptonSF_M... | float                    | AsDtype('>f4')\n",
      "weight_leptonSF_M... | float                    | AsDtype('>f4')\n",
      "weight_leptonSF_M... | float                    | AsDtype('>f4')\n",
      "weight_leptonSF_M... | float                    | AsDtype('>f4')\n",
      "weight_leptonSF_M... | float                    | AsDtype('>f4')\n",
      "weight_leptonSF_M... | float                    | AsDtype('>f4')\n",
      "weight_jvt_UP        | float                    | AsDtype('>f4')\n",
      "weight_jvt_DOWN      | float                    | AsDtype('>f4')\n",
      "eventNumber          | uint64_t                 | AsDtype('>u8')\n",
      "runNumber            | uint32_t                 | AsDtype('>u4')\n",
      "randomRunNumber      | uint32_t                 | AsDtype('>u4')\n",
      "mcChannelNumber      | uint32_t                 | AsDtype('>u4')\n",
      "mu                   | float                    | AsDtype('>f4')\n",
      "mu_actual            | float                    | AsDtype('>f4')\n",
      "backgroundFlags      | uint32_t                 | AsDtype('>u4')\n",
      "hasBadMuon           | uint32_t                 | AsDtype('>u4')\n",
      "el_pt                | std::vector<float>       | AsJagged(AsDtype('>f4'), he...\n",
      "el_eta               | std::vector<float>       | AsJagged(AsDtype('>f4'), he...\n",
      "el_cl_eta            | std::vector<float>       | AsJagged(AsDtype('>f4'), he...\n",
      "el_phi               | std::vector<float>       | AsJagged(AsDtype('>f4'), he...\n",
      "el_e                 | std::vector<float>       | AsJagged(AsDtype('>f4'), he...\n",
      "el_charge            | std::vector<float>       | AsJagged(AsDtype('>f4'), he...\n",
      "el_topoetcone20      | std::vector<float>       | AsJagged(AsDtype('>f4'), he...\n",
      "el_ptvarcone20       | std::vector<float>       | AsJagged(AsDtype('>f4'), he...\n",
      "el_CF                | std::vector<int8_t>      | AsJagged(AsDtype('int8'), h...\n",
      "el_d0sig             | std::vector<float>       | AsJagged(AsDtype('>f4'), he...\n",
      "el_delta_z0_sintheta | std::vector<float>       | AsJagged(AsDtype('>f4'), he...\n",
      "el_true_type         | std::vector<int32_t>     | AsJagged(AsDtype('>i4'), he...\n",
      "el_true_origin       | std::vector<int32_t>     | AsJagged(AsDtype('>i4'), he...\n",
      "el_true_firstEgMo... | std::vector<int32_t>     | AsJagged(AsDtype('>i4'), he...\n",
      "el_true_firstEgMo... | std::vector<int32_t>     | AsJagged(AsDtype('>i4'), he...\n",
      "el_true_firstEgMo... | std::vector<int32_t>     | AsJagged(AsDtype('>i4'), he...\n",
      "el_true_isPrompt     | std::vector<int8_t>      | AsJagged(AsDtype('int8'), h...\n",
      "el_true_isChargeFl   | std::vector<int8_t>      | AsJagged(AsDtype('int8'), h...\n",
      "mu_pt                | std::vector<float>       | AsJagged(AsDtype('>f4'), he...\n",
      "mu_eta               | std::vector<float>       | AsJagged(AsDtype('>f4'), he...\n",
      "mu_phi               | std::vector<float>       | AsJagged(AsDtype('>f4'), he...\n",
      "mu_e                 | std::vector<float>       | AsJagged(AsDtype('>f4'), he...\n",
      "mu_charge            | std::vector<float>       | AsJagged(AsDtype('>f4'), he...\n",
      "mu_topoetcone20      | std::vector<float>       | AsJagged(AsDtype('>f4'), he...\n",
      "mu_ptvarcone30       | std::vector<float>       | AsJagged(AsDtype('>f4'), he...\n",
      "mu_d0sig             | std::vector<float>       | AsJagged(AsDtype('>f4'), he...\n",
      "mu_delta_z0_sintheta | std::vector<float>       | AsJagged(AsDtype('>f4'), he...\n",
      "mu_true_type         | std::vector<int32_t>     | AsJagged(AsDtype('>i4'), he...\n",
      "mu_true_origin       | std::vector<int32_t>     | AsJagged(AsDtype('>i4'), he...\n",
      "mu_true_isPrompt     | std::vector<int8_t>      | AsJagged(AsDtype('int8'), h...\n",
      "jet_pt               | std::vector<float>       | AsJagged(AsDtype('>f4'), he...\n",
      "jet_eta              | std::vector<float>       | AsJagged(AsDtype('>f4'), he...\n",
      "jet_phi              | std::vector<float>       | AsJagged(AsDtype('>f4'), he...\n",
      "jet_e                | std::vector<float>       | AsJagged(AsDtype('>f4'), he...\n",
      "jet_jvt              | std::vector<float>       | AsJagged(AsDtype('>f4'), he...\n",
      "jet_truthflav        | std::vector<int32_t>     | AsJagged(AsDtype('>i4'), he...\n",
      "jet_truthPartonLabel | std::vector<int32_t>     | AsJagged(AsDtype('>i4'), he...\n",
      "jet_isTrueHS         | std::vector<int8_t>      | AsJagged(AsDtype('int8'), h...\n",
      "jet_truthflavExte... | std::vector<int32_t>     | AsJagged(AsDtype('>i4'), he...\n",
      "met_met              | float                    | AsDtype('>f4')\n",
      "met_sumet            | float                    | AsDtype('>f4')\n",
      "met_phi              | float                    | AsDtype('>f4')\n",
      "ee_2018              | int32_t                  | AsDtype('>i4')\n",
      "mumu_2018            | int32_t                  | AsDtype('>i4')\n",
      "HLT_mu50             | int8_t                   | AsDtype('int8')\n",
      "HLT_e60_lhmedium_... | int8_t                   | AsDtype('int8')\n",
      "HLT_mu26_ivarmedium  | int8_t                   | AsDtype('int8')\n",
      "HLT_e26_lhtight_n... | int8_t                   | AsDtype('int8')\n",
      "HLT_e140_lhloose_... | int8_t                   | AsDtype('int8')\n",
      "el_trigMatch_HLT_... | std::vector<int8_t>      | AsJagged(AsDtype('int8'), h...\n",
      "el_trigMatch_HLT_... | std::vector<int8_t>      | AsJagged(AsDtype('int8'), h...\n",
      "el_trigMatch_HLT_... | std::vector<int8_t>      | AsJagged(AsDtype('int8'), h...\n",
      "mu_trigMatch_HLT_... | std::vector<int8_t>      | AsJagged(AsDtype('int8'), h...\n",
      "mu_trigMatch_HLT_... | std::vector<int8_t>      | AsJagged(AsDtype('int8'), h...\n",
      "jet_truthflavExte... | std::vector<int32_t>     | AsJagged(AsDtype('>i4'), he...\n",
      "jet_SV1_masssvx      | std::vector<float>       | AsJagged(AsDtype('>f4'), he...\n",
      "jet_SV1_NGTinSvx     | std::vector<int32_t>     | AsJagged(AsDtype('>i4'), he...\n",
      "jet_dips_pu          | std::vector<double>      | AsJagged(AsDtype('>f8'), he...\n",
      "jet_dips_pb          | std::vector<double>      | AsJagged(AsDtype('>f8'), he...\n",
      "jet_dips_pc          | std::vector<double>      | AsJagged(AsDtype('>f8'), he...\n",
      "jet_dipsflip_pu      | std::vector<double>      | AsJagged(AsDtype('>f8'), he...\n",
      "jet_dipsflip_pb      | std::vector<double>      | AsJagged(AsDtype('>f8'), he...\n",
      "jet_dipsflip_pc      | std::vector<double>      | AsJagged(AsDtype('>f8'), he...\n",
      "jet_DL1d_pu          | std::vector<double>      | AsJagged(AsDtype('>f8'), he...\n",
      "jet_DL1d_pb          | std::vector<double>      | AsJagged(AsDtype('>f8'), he...\n",
      "jet_DL1d_pc          | std::vector<double>      | AsJagged(AsDtype('>f8'), he...\n",
      "jet_DL1dflip_pu      | std::vector<double>      | AsJagged(AsDtype('>f8'), he...\n",
      "jet_DL1dflip_pb      | std::vector<double>      | AsJagged(AsDtype('>f8'), he...\n",
      "jet_DL1dflip_pc      | std::vector<double>      | AsJagged(AsDtype('>f8'), he...\n",
      "jet_GN2_pu           | std::vector<double>      | AsJagged(AsDtype('>f8'), he...\n",
      "jet_GN2_pb           | std::vector<double>      | AsJagged(AsDtype('>f8'), he...\n",
      "jet_GN2_pc           | std::vector<double>      | AsJagged(AsDtype('>f8'), he...\n"
     ]
    }
   ],
   "source": [
    "tree.show()"
   ]
  },
  {
   "cell_type": "code",
   "execution_count": 56,
   "id": "d262d49a",
   "metadata": {},
   "outputs": [
    {
     "data": {
      "text/plain": [
       "<TBranchElement 'el_e' at 0x7f501a2ca650>"
      ]
     },
     "execution_count": 56,
     "metadata": {},
     "output_type": "execute_result"
    }
   ],
   "source": [
    "tree['el_e']"
   ]
  },
  {
   "cell_type": "code",
   "execution_count": 57,
   "id": "35b114db",
   "metadata": {},
   "outputs": [
    {
     "data": {
      "text/plain": [
       "119"
      ]
     },
     "execution_count": 57,
     "metadata": {},
     "output_type": "execute_result"
    }
   ],
   "source": [
    "len(tree)"
   ]
  },
  {
   "cell_type": "code",
   "execution_count": 58,
   "id": "32763fb9",
   "metadata": {},
   "outputs": [],
   "source": [
    "el_e = tree['el_e'].array()"
   ]
  },
  {
   "cell_type": "code",
   "execution_count": 59,
   "id": "1f4df331",
   "metadata": {},
   "outputs": [
    {
     "data": {
      "text/plain": [
       "['Mask',\n",
       " '__class__',\n",
       " '__delattr__',\n",
       " '__dir__',\n",
       " '__doc__',\n",
       " '__eq__',\n",
       " '__format__',\n",
       " '__ge__',\n",
       " '__get__',\n",
       " '__getattribute__',\n",
       " '__gt__',\n",
       " '__hash__',\n",
       " '__init__',\n",
       " '__init_subclass__',\n",
       " '__le__',\n",
       " '__lt__',\n",
       " '__ne__',\n",
       " '__new__',\n",
       " '__reduce__',\n",
       " '__reduce_ex__',\n",
       " '__repr__',\n",
       " '__self__',\n",
       " '__self_class__',\n",
       " '__setattr__',\n",
       " '__sizeof__',\n",
       " '__str__',\n",
       " '__subclasshook__',\n",
       " '__thisclass__',\n",
       " '_behavior',\n",
       " '_caches',\n",
       " '_layout',\n",
       " '_numbaview',\n",
       " 'behavior',\n",
       " 'caches',\n",
       " 'fields',\n",
       " 'layout',\n",
       " 'mask',\n",
       " 'nbytes',\n",
       " 'ndim',\n",
       " 'numba_type',\n",
       " 'slot0',\n",
       " 'slot1',\n",
       " 'slot2',\n",
       " 'slot3',\n",
       " 'slot4',\n",
       " 'slot5',\n",
       " 'slot6',\n",
       " 'slot7',\n",
       " 'slot8',\n",
       " 'slot9',\n",
       " 'to_list',\n",
       " 'to_numpy',\n",
       " 'tolist',\n",
       " 'type']"
      ]
     },
     "execution_count": 59,
     "metadata": {},
     "output_type": "execute_result"
    }
   ],
   "source": [
    "dir(el_e)"
   ]
  },
  {
   "cell_type": "code",
   "execution_count": 63,
   "id": "56884046",
   "metadata": {},
   "outputs": [
    {
     "data": {
      "text/plain": [
       "0"
      ]
     },
     "execution_count": 63,
     "metadata": {},
     "output_type": "execute_result"
    }
   ],
   "source": [
    "sum(ak.num(el_e) == 1)"
   ]
  },
  {
   "cell_type": "code",
   "execution_count": 68,
   "id": "f4147b15",
   "metadata": {},
   "outputs": [],
   "source": [
    "ak.num?"
   ]
  },
  {
   "cell_type": "code",
   "execution_count": 69,
   "id": "bc0a4c4b",
   "metadata": {},
   "outputs": [
    {
     "data": {
      "text/plain": [
       "<Array [1.87e+05, 8.46e+04] type='2 * float32'>"
      ]
     },
     "execution_count": 69,
     "metadata": {},
     "output_type": "execute_result"
    }
   ],
   "source": [
    "el_e[1]"
   ]
  },
  {
   "cell_type": "code",
   "execution_count": 70,
   "id": "5d95b2ff",
   "metadata": {},
   "outputs": [],
   "source": [
    "jet_pt = tree['jet_pt'].array()"
   ]
  },
  {
   "cell_type": "code",
   "execution_count": 71,
   "id": "69306da4",
   "metadata": {},
   "outputs": [],
   "source": [
    "pu_mc = tree['jet_GN2_pu'].array()"
   ]
  },
  {
   "cell_type": "code",
   "execution_count": 72,
   "id": "b6a20619",
   "metadata": {},
   "outputs": [
    {
     "data": {
      "text/plain": [
       "[[0.17604859173297882, 2.342813058930915e-05, 0.8168246746063232],\n",
       " [0.7152257561683655,\n",
       "  0.8468704223632812,\n",
       "  0.00014860281953588128,\n",
       "  0.6304003596305847]]"
      ]
     },
     "execution_count": 72,
     "metadata": {},
     "output_type": "execute_result"
    }
   ],
   "source": [
    "pu_mc[:2].to_list()"
   ]
  },
  {
   "cell_type": "code",
   "execution_count": null,
   "id": "97a2cc7c",
   "metadata": {},
   "outputs": [],
   "source": [
    "pu_mc = ak.flatten(pu_mc)"
   ]
  },
  {
   "cell_type": "code",
   "execution_count": null,
   "id": "3537bbdd",
   "metadata": {},
   "outputs": [],
   "source": [
    "pu_mc = ak.to_numpy(pu_mc)"
   ]
  },
  {
   "cell_type": "code",
   "execution_count": null,
   "id": "e0cb2582",
   "metadata": {},
   "outputs": [],
   "source": [
    "pu_mc"
   ]
  },
  {
   "cell_type": "code",
   "execution_count": null,
   "id": "04303630",
   "metadata": {},
   "outputs": [],
   "source": [
    "pb_mc = ak.to_numpy(ak.flatten(tree['jet_GN2_pb'].array()))\n",
    "pc_mc = ak.to_numpy(ak.flatten(tree['jet_GN2_pc'].array()))"
   ]
  },
  {
   "cell_type": "code",
   "execution_count": null,
   "id": "0f84aa3f",
   "metadata": {},
   "outputs": [],
   "source": [
    "pb.ndim"
   ]
  },
  {
   "cell_type": "code",
   "execution_count": null,
   "id": "debd6611",
   "metadata": {},
   "outputs": [],
   "source": [
    "type(pu)"
   ]
  },
  {
   "cell_type": "code",
   "execution_count": null,
   "id": "d9b1d80f",
   "metadata": {},
   "outputs": [],
   "source": [
    "pu.shape"
   ]
  },
  {
   "cell_type": "code",
   "execution_count": null,
   "id": "a2b5937f",
   "metadata": {},
   "outputs": [],
   "source": [
    "import matplotlib.pyplot as plt\n",
    "from matplotlib import colors\n",
    "import os\n",
    "import numpy as np\n",
    "import mplhep as hep"
   ]
  },
  {
   "cell_type": "code",
   "execution_count": null,
   "id": "eec5b3fb",
   "metadata": {},
   "outputs": [],
   "source": [
    "_ = plt.hist(pu[:1000],bins=100)"
   ]
  },
  {
   "cell_type": "code",
   "execution_count": null,
   "id": "53032f51",
   "metadata": {},
   "outputs": [],
   "source": [
    "pu[:3].flatten()"
   ]
  },
  {
   "cell_type": "code",
   "execution_count": null,
   "id": "d72f3832",
   "metadata": {},
   "outputs": [],
   "source": [
    "palette = ['#3E96A1', '#EC4E20', '#FF9505', '#713E5A', '#D62828', '#5F0F40']"
   ]
  },
  {
   "cell_type": "code",
   "execution_count": null,
   "id": "59b27a24",
   "metadata": {},
   "outputs": [],
   "source": [
    "def get_bg_idx(sample_names, bg_name):\n",
    "\n",
    "    if bg_name is not None:\n",
    "        return [i for (i,s) in enumerate(sample_names) if bg_name in s][0]\n",
    "    else:\n",
    "        return -1"
   ]
  },
  {
   "cell_type": "code",
   "execution_count": null,
   "id": "3ef36bb2",
   "metadata": {},
   "outputs": [],
   "source": [
    "def plot_feature_for_n_samples(data, sample_names, bins=100, xlabel='x', ylabel='fraction events', title=None, clip_outlier=False, normed=True, \\\n",
    "    ylogscale=True, xlim=None, plot_name='feature_hist', fig_dir=None, fig_format='.pdf', fig_size=(7,7), bg_name=None, histtype_bg='stepfilled', \\\n",
    "    show_plt=False, legend_outside=True):\n",
    "    '''\n",
    "    plots single feature distribution for multiple samples as 1D histogram\n",
    "    :param data: list of J ndarrays of each N feature values\n",
    "    :param bg_name: if not None, one sample will be treated as background and plotted in histtype_bg style\n",
    "    '''\n",
    "\n",
    "    # import ipdb; ipdb.set_trace()\n",
    "\n",
    "    # if one sample is to be treated as background sample\n",
    "    bg_idx = get_bg_idx(sample_names, bg_name)\n",
    "\n",
    "    plt.style.use(hep.style.CMS)\n",
    "\n",
    "    fig = plt.figure(figsize=(7,5))\n",
    "    if ylogscale:\n",
    "        plt.yscale('log')\n",
    "\n",
    "    for i, (dat, col) in enumerate(zip(data, palette)):\n",
    "        if i == bg_idx:\n",
    "            plt.hist(dat, bins=bins, density=normed, alpha=0.5, histtype=histtype_bg, label=sample_names[i], color=col)\n",
    "        else:\n",
    "            plt.hist(dat, bins=bins, density=normed, alpha=1.0, histtype='step', label=sample_names[i], color=col)\n",
    "\n",
    "    if xlim:\n",
    "        plt.xlim(xlim)\n",
    "    plt.grid()\n",
    "    plt.gca().tick_params(axis='both', which='major', labelsize=14)\n",
    "    plt.ylabel(ylabel, fontsize=16)\n",
    "    plt.xlabel(xlabel, fontsize=16)\n",
    "    if legend_outside:\n",
    "        handles, labels = plt.gca().get_legend_handles_labels()\n",
    "        lgd = fig.legend(handles, labels, bbox_to_anchor=(0.5,-0.1), loc=\"lower center\", ncol=len(data), labelspacing=0.8, fontsize=16)\n",
    "        bbox_extra_artists = (lgd,)\n",
    "    else:\n",
    "        plt.legend(loc='best', fontsize=15)\n",
    "        bbox_extra_artists = None\n",
    "    plt.tight_layout()\n",
    "    if show_plt:\n",
    "        plt.show()\n",
    "    if fig_dir:\n",
    "        print('writing figure to ' + os.path.join(fig_dir, plot_name + fig_format))\n",
    "        fig.savefig(os.path.join(fig_dir, plot_name + fig_format), bbox_extra_artists=bbox_extra_artists, bbox_inches='tight')\n",
    "    plt.close(fig)\n"
   ]
  },
  {
   "cell_type": "code",
   "execution_count": null,
   "id": "bf0f386c",
   "metadata": {},
   "outputs": [],
   "source": [
    "data = [pu_mc,pb_mc,pc_mc]\n",
    "sample_names = ['pu mc','pb mc','pc mc']\n",
    "plot_feature_for_n_samples(data,sample_names,show_plt=True)"
   ]
  },
  {
   "cell_type": "code",
   "execution_count": null,
   "id": "06164774",
   "metadata": {},
   "outputs": [],
   "source": [
    "len(pu_mc)"
   ]
  },
  {
   "cell_type": "code",
   "execution_count": null,
   "id": "9c0aa4c6",
   "metadata": {},
   "outputs": [],
   "source": [
    "light_jet_data_dir = '/eos/atlas/atlascerngroupdisk/perf-flavtag/calib/negtag/Rel24_GN2/mc20_Run2/Ntuples/PeriodE/data/user.ltoffoli.data18_13TeV.periodAllYear.physics_Main.PhysCont.DAOD_PHYS.grp18_v01_p5631.toffoGN2_v1_output.root/'"
   ]
  },
  {
   "cell_type": "code",
   "execution_count": null,
   "id": "8b60d4cf",
   "metadata": {},
   "outputs": [],
   "source": [
    "!ls $light_jet_data_dir"
   ]
  },
  {
   "cell_type": "code",
   "execution_count": null,
   "id": "9c22ca94",
   "metadata": {},
   "outputs": [],
   "source": [
    "fname = os.listdir(light_jet_data_dir)[0]"
   ]
  },
  {
   "cell_type": "code",
   "execution_count": null,
   "id": "91a2fce7",
   "metadata": {},
   "outputs": [],
   "source": [
    "ff = uproot.open(os.path.join(light_jet_data_dir,fname))"
   ]
  },
  {
   "cell_type": "code",
   "execution_count": null,
   "id": "6f121e75",
   "metadata": {},
   "outputs": [],
   "source": [
    "tree = ff['nominal;1']"
   ]
  },
  {
   "cell_type": "code",
   "execution_count": null,
   "id": "ffb4d7ff",
   "metadata": {},
   "outputs": [],
   "source": [
    "pu = ak.to_numpy(ak.flatten(tree['jet_GN2_pu'].array()))\n",
    "pb = ak.to_numpy(ak.flatten(tree['jet_GN2_pb'].array()))\n",
    "pc = ak.to_numpy(ak.flatten(tree['jet_GN2_pc'].array()))"
   ]
  },
  {
   "cell_type": "code",
   "execution_count": null,
   "id": "db71b02e",
   "metadata": {},
   "outputs": [],
   "source": [
    "data = [pu,pb,pc]\n",
    "sample_names = ['pu','pb','pc']\n",
    "plot_feature_for_n_samples(data,sample_names,show_plt=True,xlabel='p')"
   ]
  },
  {
   "cell_type": "code",
   "execution_count": null,
   "id": "8ef8c41b",
   "metadata": {},
   "outputs": [],
   "source": [
    "data = [pu_mc,pb_mc,pc_mc]\n",
    "sample_names = ['pu mc','pb mc','pc mc']\n",
    "plot_feature_for_n_samples(data,sample_names,show_plt=True,xlabel='p')"
   ]
  },
  {
   "cell_type": "code",
   "execution_count": null,
   "id": "9fbc09c3",
   "metadata": {},
   "outputs": [],
   "source": []
  }
 ],
 "metadata": {
  "kernelspec": {
   "display_name": "Python 3",
   "language": "python",
   "name": "python3"
  },
  "language_info": {
   "codemirror_mode": {
    "name": "ipython",
    "version": 3
   },
   "file_extension": ".py",
   "mimetype": "text/x-python",
   "name": "python",
   "nbconvert_exporter": "python",
   "pygments_lexer": "ipython3",
   "version": "3.7.11"
  }
 },
 "nbformat": 4,
 "nbformat_minor": 5
}
