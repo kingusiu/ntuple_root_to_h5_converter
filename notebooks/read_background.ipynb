{
 "cells": [
  {
   "cell_type": "code",
   "execution_count": 1,
   "id": "3b8ba4ac-19ff-4f90-bb31-06e21cd1ef81",
   "metadata": {},
   "outputs": [],
   "source": [
    "import sys\n",
    "sys.path.append('..')\n",
    "import awkward as awk\n",
    "from heputl import logging as heplog"
   ]
  },
  {
   "cell_type": "code",
   "execution_count": 2,
   "id": "aa6d72a1-02d7-4b4b-8f25-4cf4ba0076fb",
   "metadata": {},
   "outputs": [],
   "source": [
    "import src.reader as read\n",
    "import src.selection as sele\n",
    "import src.string_constants as stco\n",
    "import src.util as util"
   ]
  },
  {
   "cell_type": "code",
   "execution_count": 4,
   "id": "d0058580-cb0c-4009-af02-8f11a644d408",
   "metadata": {},
   "outputs": [],
   "source": [
    "dsids = list(stco.ds_ids_bg.values())"
   ]
  },
  {
   "cell_type": "code",
   "execution_count": 5,
   "id": "b320dcea-ee4c-41f7-a929-a0f7e6d2cd24",
   "metadata": {},
   "outputs": [],
   "source": [
    "N=int(1e5)\n",
    "samples_concat = None\n",
    "weights_concat = None"
   ]
  },
  {
   "cell_type": "code",
   "execution_count": null,
   "id": "2ec25aea-0b17-437e-9083-c4aefc252543",
   "metadata": {},
   "outputs": [],
   "source": [
    "for dsid in dsids:\n",
    "    samples = read.read_samples_for_dsid(dsid,N=N)\n",
    "    selected = sele.select_lightjets(samples)\n",
    "    weights = util.compute_w_samples(selected, dsid)\n",
    "    if weights_concat is None:\n",
    "        weights_concat = weights\n",
    "        samples_concat = selected[feature_filter]\n",
    "    else:    \n",
    "        weights_concat = awk.concatenate([weights_concat,weights])\n",
    "        samples_concat = awk.concatenate([samples_concat,selected[feature_filter]])"
   ]
  }
 ],
 "metadata": {
  "kernelspec": {
   "display_name": "Python 3",
   "language": "python",
   "name": "python3"
  },
  "language_info": {
   "codemirror_mode": {
    "name": "ipython",
    "version": 3
   },
   "file_extension": ".py",
   "mimetype": "text/x-python",
   "name": "python",
   "nbconvert_exporter": "python",
   "pygments_lexer": "ipython3",
   "version": "3.10.13"
  }
 },
 "nbformat": 4,
 "nbformat_minor": 5
}
