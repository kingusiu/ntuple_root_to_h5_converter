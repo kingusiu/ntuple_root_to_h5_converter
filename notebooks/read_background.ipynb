{
 "cells": [
  {
   "cell_type": "code",
   "execution_count": 1,
   "id": "3b8ba4ac-19ff-4f90-bb31-06e21cd1ef81",
   "metadata": {},
   "outputs": [],
   "source": [
    "import sys\n",
    "sys.path.append('..')\n",
    "import awkward as awk\n",
    "from heputl import logging as heplog\n",
    "import matplotlib.pyplot as plt"
   ]
  },
  {
   "cell_type": "code",
   "execution_count": 13,
   "id": "aa6d72a1-02d7-4b4b-8f25-4cf4ba0076fb",
   "metadata": {},
   "outputs": [],
   "source": [
    "import src.reader as read\n",
    "import src.generator as gene\n",
    "import src.selection as sele\n",
    "import src.string_constants as stco\n",
    "import src.util as util"
   ]
  },
  {
   "cell_type": "code",
   "execution_count": 6,
   "id": "8b2a79fd-6796-4417-b629-880d497e1cad",
   "metadata": {},
   "outputs": [],
   "source": [
    "ss = '_Nom_output.root/user.ltoffoli.37351503._000003.output.root'"
   ]
  },
  {
   "cell_type": "code",
   "execution_count": 8,
   "id": "c3172c89-eb7c-4b1a-aced-7f1450d60b34",
   "metadata": {},
   "outputs": [
    {
     "data": {
      "text/plain": [
       "False"
      ]
     },
     "execution_count": 8,
     "metadata": {},
     "output_type": "execute_result"
    }
   ],
   "source": [
    "'37305915._000003.output.root' in ss"
   ]
  },
  {
   "cell_type": "code",
   "execution_count": 11,
   "id": "b80cddf3-4ccc-4ac7-b341-eb259fb99475",
   "metadata": {},
   "outputs": [],
   "source": [
    "logger = heplog.get_logger(__name__)"
   ]
  },
  {
   "cell_type": "code",
   "execution_count": 3,
   "id": "d0058580-cb0c-4009-af02-8f11a644d408",
   "metadata": {},
   "outputs": [],
   "source": [
    "dsids = list(stco.ds_ids_bg.values())"
   ]
  },
  {
   "cell_type": "code",
   "execution_count": 4,
   "id": "b320dcea-ee4c-41f7-a929-a0f7e6d2cd24",
   "metadata": {},
   "outputs": [],
   "source": [
    "feature_filter = ['jet_pt_lead','dsid','wt']\n",
    "N=int(1e3)\n",
    "samples_concat = None"
   ]
  },
  {
   "cell_type": "code",
   "execution_count": 5,
   "id": "2ec25aea-0b17-437e-9083-c4aefc252543",
   "metadata": {},
   "outputs": [
    {
     "name": "stdout",
     "output_type": "stream",
     "text": [
      "reading samples for dsid 410472 from /eos/atlas/atlascerngroupdisk/perf-flavtag/calib/negtag/Rel24_GN2v01/Ntuples_Nominal/mc20d/user.ltoffoli.mc20_13T.410472.PhPy8EG_A14_ttbar_hdamp258p75_dil.D_FTAG2.e6348_s3681_r13144_p5981.GN2v01_Nom_output.root\n",
      "reading samples for dsid 363356 from /eos/atlas/atlascerngroupdisk/perf-flavtag/calib/negtag/Rel24_GN2v01/Ntuples_Nominal/mc20d/user.ltoffoli.mc20_13T.363356.Sherpa_221_NNPDF30NNLO_ZqqZll.D_FTAG2.e5525_s3681_r13144_p5981.GN2v01_Nom_output.root\n",
      "reading samples for dsid 363358 from /eos/atlas/atlascerngroupdisk/perf-flavtag/calib/negtag/Rel24_GN2v01/Ntuples_Nominal/mc20d/user.ltoffoli.mc20_13T.363358.Sherpa_221_NNPDF30NNLO_WqqZll.D_FTAG2.e5525_s3681_r13144_p5981.GN2v01_Nom_output.root\n",
      "reading samples for dsid 364302 from /eos/atlas/atlascerngroupdisk/perf-flavtag/calib/negtag/Rel24_GN2v01/Ntuples_Nominal/mc20d/user.ltoffoli.mc20_13T.364302.Sherpa_222_NNPDF30NNLO_ggZllZqq.D_FTAG2.e6273_s3681_r13144_p5981.GN2v01_Nom_output.root\n"
     ]
    }
   ],
   "source": [
    "for dsid in dsids:\n",
    "    samples = read.read_samples_for_dsid(dsid,N=N)\n",
    "    selected = sele.select_lightjets(samples)\n",
    "    weights = util.compute_w_samples(selected, dsid)\n",
    "    selected['dsid'] = dsid\n",
    "    selected['wt'] = weights\n",
    "    if samples_concat is None:\n",
    "        samples_concat = selected[feature_filter]\n",
    "    else:    \n",
    "        samples_concat = awk.concatenate([samples_concat,selected[feature_filter]])"
   ]
  },
  {
   "cell_type": "code",
   "execution_count": 6,
   "id": "b0855edf-1b7a-4258-bce6-f74894a8f5e4",
   "metadata": {},
   "outputs": [
    {
     "data": {
      "text/html": [
       "<pre>[{jet_pt_lead: 4.89e+04, dsid: &#x27;410472&#x27;, wt: 0.0269},\n",
       " {jet_pt_lead: 1.4e+05, dsid: &#x27;410472&#x27;, wt: 0.0269},\n",
       " {jet_pt_lead: 8.46e+04, dsid: &#x27;410472&#x27;, wt: 0.0282},\n",
       " {jet_pt_lead: 2.95e+04, dsid: &#x27;410472&#x27;, wt: 0.0174},\n",
       " {jet_pt_lead: 6.17e+04, dsid: &#x27;410472&#x27;, wt: 0.0113},\n",
       " {jet_pt_lead: 5.76e+04, dsid: &#x27;410472&#x27;, wt: 0.00278},\n",
       " {jet_pt_lead: 5.66e+04, dsid: &#x27;410472&#x27;, wt: 0.0207},\n",
       " {jet_pt_lead: 1.42e+05, dsid: &#x27;410472&#x27;, wt: 0.021},\n",
       " {jet_pt_lead: 1.07e+05, dsid: &#x27;410472&#x27;, wt: 0.0209},\n",
       " {jet_pt_lead: 6.55e+04, dsid: &#x27;410472&#x27;, wt: 0.0205},\n",
       " ...,\n",
       " {jet_pt_lead: 1.44e+05, dsid: &#x27;364302&#x27;, wt: 0.0107},\n",
       " {jet_pt_lead: 9.26e+04, dsid: &#x27;364302&#x27;, wt: 0.00883},\n",
       " {jet_pt_lead: 8.09e+04, dsid: &#x27;364302&#x27;, wt: 0.00928},\n",
       " {jet_pt_lead: 1.27e+05, dsid: &#x27;364302&#x27;, wt: 0.00709},\n",
       " {jet_pt_lead: 4.11e+04, dsid: &#x27;364302&#x27;, wt: 0.0088},\n",
       " {jet_pt_lead: 2.73e+04, dsid: &#x27;364302&#x27;, wt: 0.00669},\n",
       " {jet_pt_lead: 7.12e+04, dsid: &#x27;364302&#x27;, wt: 0.00836},\n",
       " {jet_pt_lead: 8.75e+04, dsid: &#x27;364302&#x27;, wt: 0.0103},\n",
       " {jet_pt_lead: 1.09e+05, dsid: &#x27;364302&#x27;, wt: 0.0106}]\n",
       "------------------------------------------------------\n",
       "type: 211293 * {\n",
       "    jet_pt_lead: float32,\n",
       "    dsid: string,\n",
       "    wt: float32\n",
       "}</pre>"
      ],
      "text/plain": [
       "<Array [{jet_pt_lead: 4.89e+04, ...}, ...] type='211293 * {jet_pt_lead: flo...'>"
      ]
     },
     "execution_count": 6,
     "metadata": {},
     "output_type": "execute_result"
    }
   ],
   "source": [
    "samples_concat"
   ]
  },
  {
   "cell_type": "code",
   "execution_count": 7,
   "id": "94e04690-6149-464f-bf0a-7d81eaebd388",
   "metadata": {},
   "outputs": [],
   "source": [
    "ttb, zz, wz = util.split_into_ttbar_zz_wz(samples_concat)"
   ]
  },
  {
   "cell_type": "code",
   "execution_count": 8,
   "id": "61604de0-e03b-4f7e-8ef2-4873191f8f61",
   "metadata": {},
   "outputs": [],
   "source": [
    "dats = [ttb.jet_pt_lead, zz.jet_pt_lead, wz.jet_pt_lead]\n",
    "weights = [ttb.wt, zz.wt, wz.wt]\n",
    "labels = ['ttb', 'zz', 'wz']"
   ]
  },
  {
   "cell_type": "code",
   "execution_count": 9,
   "id": "aa1848dc-2eca-4caa-b37a-70755f40cd32",
   "metadata": {},
   "outputs": [
    {
     "data": {
      "text/html": [
       "<pre>[{jet_pt_lead: 4.89e+04, dsid: &#x27;410472&#x27;, wt: 0.0269},\n",
       " {jet_pt_lead: 1.4e+05, dsid: &#x27;410472&#x27;, wt: 0.0269},\n",
       " {jet_pt_lead: 8.46e+04, dsid: &#x27;410472&#x27;, wt: 0.0282},\n",
       " {jet_pt_lead: 2.95e+04, dsid: &#x27;410472&#x27;, wt: 0.0174},\n",
       " {jet_pt_lead: 6.17e+04, dsid: &#x27;410472&#x27;, wt: 0.0113},\n",
       " {jet_pt_lead: 5.76e+04, dsid: &#x27;410472&#x27;, wt: 0.00278},\n",
       " {jet_pt_lead: 5.66e+04, dsid: &#x27;410472&#x27;, wt: 0.0207},\n",
       " {jet_pt_lead: 1.42e+05, dsid: &#x27;410472&#x27;, wt: 0.021},\n",
       " {jet_pt_lead: 1.07e+05, dsid: &#x27;410472&#x27;, wt: 0.0209},\n",
       " {jet_pt_lead: 6.55e+04, dsid: &#x27;410472&#x27;, wt: 0.0205},\n",
       " ...,\n",
       " {jet_pt_lead: 5.73e+04, dsid: &#x27;410472&#x27;, wt: 0.0267},\n",
       " {jet_pt_lead: 9.81e+04, dsid: &#x27;410472&#x27;, wt: 0.0358},\n",
       " {jet_pt_lead: 9.55e+04, dsid: &#x27;410472&#x27;, wt: 0.0323},\n",
       " {jet_pt_lead: 4.65e+04, dsid: &#x27;410472&#x27;, wt: 0.026},\n",
       " {jet_pt_lead: 7.58e+04, dsid: &#x27;410472&#x27;, wt: 0.0283},\n",
       " {jet_pt_lead: 1.14e+05, dsid: &#x27;410472&#x27;, wt: 0.0251},\n",
       " {jet_pt_lead: 3.8e+04, dsid: &#x27;410472&#x27;, wt: 0.0245},\n",
       " {jet_pt_lead: 8.46e+04, dsid: &#x27;410472&#x27;, wt: 0.0269},\n",
       " {jet_pt_lead: 1.35e+05, dsid: &#x27;410472&#x27;, wt: 0.00102}]\n",
       "------------------------------------------------------\n",
       "type: 59776 * {\n",
       "    jet_pt_lead: float32,\n",
       "    dsid: string,\n",
       "    wt: float32\n",
       "}</pre>"
      ],
      "text/plain": [
       "<Array [{jet_pt_lead: 4.89e+04, ...}, ...] type='59776 * {jet_pt_lead: floa...'>"
      ]
     },
     "execution_count": 9,
     "metadata": {},
     "output_type": "execute_result"
    }
   ],
   "source": [
    "ttb"
   ]
  },
  {
   "cell_type": "code",
   "execution_count": 10,
   "id": "8dc774e1-5630-4d7f-ac0b-ce3d6f621137",
   "metadata": {},
   "outputs": [
    {
     "data": {
      "image/png": "[encoded data removed]",
      "text/plain": [
       "<Figure size 640x480 with 1 Axes>"
      ]
     },
     "metadata": {},
     "output_type": "display_data"
    }
   ],
   "source": [
    "plt.figure()\n",
    "_ = plt.hist(dats, weights=weights, stacked=True, label=labels, bins=100)\n",
    "plt.legend()\n",
    "plt.show()"
   ]
  },
  {
   "cell_type": "markdown",
   "id": "d90e63dd-7525-4cd8-8555-7236fe7908e6",
   "metadata": {},
   "source": [
    "# read data"
   ]
  },
  {
   "cell_type": "code",
   "execution_count": 14,
   "id": "e5bd67a2-e12a-4524-92a7-5dea6af488c6",
   "metadata": {},
   "outputs": [
    {
     "name": "stderr",
     "output_type": "stream",
     "text": [
      "2024-05-21 16:19:11 [1877505216.py:<module>] 10732 data samples read\n"
     ]
    }
   ],
   "source": [
    "N_batch = int(1e3)\n",
    "N_total = int(1e4)\n",
    "generator_ee = gene.sample_generator(stco.in_dir_data, N=N_batch, selection_fun=sele.select_lightjets, feature_names_in=stco.feature_names_dat)\n",
    "\n",
    "samples_concat = None\n",
    "\n",
    "for sample_batch in generator_ee:\n",
    "\n",
    "    if samples_concat is None:\n",
    "        samples_concat = sample_batch\n",
    "    else:\n",
    "        samples_concat = awk.concatenate([samples_concat,sample_batch])\n",
    "\n",
    "    if N_total and len(samples_concat) >= N_total:\n",
    "        break\n",
    "\n",
    "logger.info(f'{len(samples_concat)} data samples read')"
   ]
  },
  {
   "cell_type": "code",
   "execution_count": 15,
   "id": "3f8502c4-f5dd-41d0-a12f-62a18d24a17b",
   "metadata": {},
   "outputs": [],
   "source": [
    "style_target = {\"marker\":\"o\", \"color\":\"black\", \"label\":\"Data\", \"linewidth\":0}"
   ]
  },
  {
   "cell_type": "code",
   "execution_count": 18,
   "id": "6719ae29-3770-4fc6-96e9-1ba4535df8b6",
   "metadata": {},
   "outputs": [
    {
     "data": {
      "image/png": "[encoded data removed]",
      "text/plain": [
       "<Figure size 640x480 with 1 Axes>"
      ]
     },
     "metadata": {},
     "output_type": "display_data"
    }
   ],
   "source": [
    "n,bins,patches=plt.hist(samples_concat.jet_pt_lead,bins=100)"
   ]
  },
  {
   "cell_type": "code",
   "execution_count": 20,
   "id": "f44d1be7-f010-4566-968e-ea45235d7606",
   "metadata": {},
   "outputs": [
    {
     "data": {
      "image/png": "[encoded data removed]",
      "text/plain": [
       "<Figure size 640x480 with 1 Axes>"
      ]
     },
     "metadata": {},
     "output_type": "display_data"
    }
   ],
   "source": [
    "plt.figure()\n",
    "_ = plt.hist(dats, weights=weights, stacked=True, label=labels, bins=bins)\n",
    "plt.scatter(bins[:-1]+ 0.5*(bins[1:] - bins[:-1]), n, marker='o', c='black', s=4, alpha=1)\n",
    "plt.legend()\n",
    "plt.show()"
   ]
  },
  {
   "cell_type": "code",
   "execution_count": 21,
   "id": "ef5fbee9-e077-42cd-a47b-d6af0cb456e6",
   "metadata": {},
   "outputs": [
    {
     "name": "stderr",
     "output_type": "stream",
     "text": [
      "2024-05-21 16:33:04 [reader.py:read_data_samples] 10732 data samples read\n"
     ]
    }
   ],
   "source": [
    "data = read.read_data_samples(N=N_total)"
   ]
  },
  {
   "cell_type": "code",
   "execution_count": null,
   "id": "19c800bd-fb16-4692-bf89-87d2ee75c121",
   "metadata": {},
   "outputs": [],
   "source": []
  }
 ],
 "metadata": {
  "kernelspec": {
   "display_name": "Python 3",
   "language": "python",
   "name": "python3"
  },
  "language_info": {
   "codemirror_mode": {
    "name": "ipython",
    "version": 3
   },
   "file_extension": ".py",
   "mimetype": "text/x-python",
   "name": "python",
   "nbconvert_exporter": "python",
   "pygments_lexer": "ipython3",
   "version": "3.10.13"
  }
 },
 "nbformat": 4,
 "nbformat_minor": 5
}
