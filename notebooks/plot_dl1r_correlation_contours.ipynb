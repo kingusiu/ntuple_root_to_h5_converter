{
 "cells": [
  {
   "cell_type": "code",
   "execution_count": 1,
   "id": "8f0ed028-e3e8-49d1-a4bb-c29ab6a1c895",
   "metadata": {},
   "outputs": [],
   "source": [
    "import matplotlib as mlp"
   ]
  },
  {
   "cell_type": "markdown",
   "id": "f11f0635-3098-42f7-b9a8-3e2764c69565",
   "metadata": {},
   "source": [
    "# read samples"
   ]
  },
  {
   "cell_type": "code",
   "execution_count": null,
   "id": "296097fb-758b-4f4b-9ed1-f12ba048a9a9",
   "metadata": {},
   "outputs": [],
   "source": []
  }
 ],
 "metadata": {
  "kernelspec": {
   "display_name": "Python 3",
   "language": "python",
   "name": "python3"
  },
  "language_info": {
   "codemirror_mode": {
    "name": "ipython",
    "version": 3
   },
   "file_extension": ".py",
   "mimetype": "text/x-python",
   "name": "python",
   "nbconvert_exporter": "python",
   "pygments_lexer": "ipython3",
   "version": "3.10.13"
  }
 },
 "nbformat": 4,
 "nbformat_minor": 5
}
