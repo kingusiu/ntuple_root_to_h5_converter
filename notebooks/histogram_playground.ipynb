{
 "cells": [
  {
   "cell_type": "code",
   "execution_count": 1,
   "id": "91efb4db-daed-45ce-b1ae-5016abbed71c",
   "metadata": {},
   "outputs": [],
   "source": [
    "import uproot\n",
    "import h5py\n",
    "import numpy as np\n",
    "import os\n",
    "import re\n",
    "import awkward as awk\n",
    "import heplot as hepl\n",
    "import matplotlib.pyplot as plt\n",
    "import importlib\n",
    "import glob\n",
    "from heplot import plotting as heplt\n",
    "import sys\n",
    "sys.path.append('..')"
   ]
  },
  {
   "cell_type": "code",
   "execution_count": 2,
   "id": "3da38497-dca8-401f-bafc-0e38c2bab4de",
   "metadata": {},
   "outputs": [],
   "source": [
    "import src.selection as sele\n",
    "import src.string_constants as stco\n",
    "import src.generator as gene\n",
    "import src.reader as read"
   ]
  },
  {
   "cell_type": "markdown",
   "id": "cd5fd406-532f-480b-80e2-004393935edc",
   "metadata": {},
   "source": [
    "# read all MC by dsid weighted"
   ]
  },
  {
   "cell_type": "code",
   "execution_count": 3,
   "id": "60fdf794-fa44-4b91-bfb4-8aba6c92810c",
   "metadata": {},
   "outputs": [],
   "source": [
    "feat_in = ['el_e','mu_e','el_charge','mu_charge','el_pt','mu_pt', 'el_phi','mu_phi',\\\n",
    "                    'el_eta', 'mu_eta', 'jet_e', 'jet_pt', 'jet_truthflav',\\\n",
    "                \t'weight_mc', 'weight_pileup', 'weight_jvt', 'weight_leptonSF']\n",
    "feat_out = ['jet_pt_lead','jet_truthflav_lead',\\\n",
    "                \t'weight_mc', 'weight_pileup', 'weight_jvt', 'weight_leptonSF']"
   ]
  },
  {
   "cell_type": "code",
   "execution_count": 4,
   "id": "76462148-2eca-464d-b573-f7803a4e6491",
   "metadata": {},
   "outputs": [],
   "source": [
    "def generate_all_evts_for_dsid(dsid, path, feat_in, feat_out, N=int(1e5)):\n",
    "    \n",
    "    gen = gene.sample_generator([path], N, selection_fun=sele.select_lightjets, feature_names_in=feat_in, feature_names_out=feat_out)\n",
    "\n",
    "    samples = None\n",
    "    i = 0\n",
    "    \n",
    "    for sample_batch in gen:\n",
    "    \n",
    "        if samples is None:\n",
    "            samples = sample_batch\n",
    "        else:\n",
    "            samples = awk.concatenate([samples,sample_batch])\n",
    "    \n",
    "        i = i+1\n",
    "        if i > 5:\n",
    "            break\n",
    "    \n",
    "    print(f'{len(samples)} samples read for dsid {dsid}')\n",
    "\n",
    "    return samples"
   ]
  },
  {
   "cell_type": "code",
   "execution_count": 5,
   "id": "4bac209b-82bd-4157-9299-600934371688",
   "metadata": {},
   "outputs": [],
   "source": [
    "paths = {dsid : glob.glob(os.path.join(stco.in_dir_mc,'*'+dsid+'*'))[0] for dsid in stco.ds_ids_all}"
   ]
  },
  {
   "cell_type": "code",
   "execution_count": null,
   "id": "2a17a98f-d1a6-4bf9-99ad-92df6ff53def",
   "metadata": {},
   "outputs": [
    {
     "name": "stdout",
     "output_type": "stream",
     "text": [
      "600 samples read for dsid 410472\n",
      "600 samples read for dsid 363356\n",
      "600 samples read for dsid 363358\n",
      "600 samples read for dsid 364302\n",
      "600 samples read for dsid 506193\n",
      "600 samples read for dsid 506194\n"
     ]
    }
   ],
   "source": [
    "sample_dd = {}\n",
    "\n",
    "for dsid, path in paths.items():\n",
    "\n",
    "    # read samples from all files for a dsid\n",
    "    samples = generate_all_evts_for_dsid(dsid, path, feat_in, feat_out, N=int(1e2))\n",
    "    # compute and apply event weights\n",
    "    # add to dict\n",
    "    sample_dd[dsid] = samples"
   ]
  },
  {
   "cell_type": "code",
   "execution_count": 8,
   "id": "82407cce-1c65-4775-9f73-caa273f7f39c",
   "metadata": {},
   "outputs": [
    {
     "data": {
      "text/plain": [
       "['/eos/atlas/atlascerngroupdisk/perf-flavtag/calib/negtag/Rel24_GN2v01/Ntuples_Nominal/mc20d/user.ltoffoli.mc20_13T.410472.PhPy8EG_A14_ttbar_hdamp258p75_dil.D_FTAG2.e6348_s3681_r13144_p5981.GN2v01_Nom_output.root',\n",
       " '/eos/atlas/atlascerngroupdisk/perf-flavtag/calib/negtag/Rel24_GN2v01/Ntuples_Nominal/mc20d/user.ltoffoli.mc20_13T.363356.Sherpa_221_NNPDF30NNLO_ZqqZll.D_FTAG2.e5525_s3681_r13144_p5981.GN2v01_Nom_output.root',\n",
       " '/eos/atlas/atlascerngroupdisk/perf-flavtag/calib/negtag/Rel24_GN2v01/Ntuples_Nominal/mc20d/user.ltoffoli.mc20_13T.363358.Sherpa_221_NNPDF30NNLO_WqqZll.D_FTAG2.e5525_s3681_r13144_p5981.GN2v01_Nom_output.root',\n",
       " '/eos/atlas/atlascerngroupdisk/perf-flavtag/calib/negtag/Rel24_GN2v01/Ntuples_Nominal/mc20d/user.ltoffoli.mc20_13T.364302.Sherpa_222_NNPDF30NNLO_ggZllZqq.D_FTAG2.e6273_s3681_r13144_p5981.GN2v01_Nom_output.root',\n",
       " '/eos/atlas/atlascerngroupdisk/perf-flavtag/calib/negtag/Rel24_GN2v01/Ntuples_Nominal/mc20d/user.ltoffoli.mc20_13T.506193.MGPy8EG_Zee_FxFx_3jets_HT2bias_BF.D_FTAG2.e8382_s3681_r13144_p5981.GN2v01_Nom_output.root',\n",
       " '/eos/atlas/atlascerngroupdisk/perf-flavtag/calib/negtag/Rel24_GN2v01/Ntuples_Nominal/mc20d/user.ltoffoli.mc20_13T.506194.MGPy8EG_Zee_FxFx_3jets_HT2bias_CFBV.D_FTAG2.e8382_s3681_r13144_p5981.GN2v01_Nom_output.root',\n",
       " '/eos/atlas/atlascerngroupdisk/perf-flavtag/calib/negtag/Rel24_GN2v01/Ntuples_Nominal/mc20d/user.ltoffoli.mc20_13T.506195.MGPy8EG_Zee_FxFx_3jets_HT2bias_CVBV.D_FTAG2.e8382_s3681_r13144_p5981.GN2v01_Nom_output.root',\n",
       " '/eos/atlas/atlascerngroupdisk/perf-flavtag/calib/negtag/Rel24_GN2v01/Ntuples_Nominal/mc20d/user.ltoffoli.mc20_13T.506196.MGPy8EG_Zmumu_FxFx_3jets_HT2bias_BF.D_FTAG2.e8382_s3681_r13144_p5981.GN2v01_Nom_output.root',\n",
       " '/eos/atlas/atlascerngroupdisk/perf-flavtag/calib/negtag/Rel24_GN2v01/Ntuples_Nominal/mc20d/user.ltoffoli.mc20_13T.506197.MGPy8EG_Zmumu_FxFx_3jets_HT2bias_CFBV.D_FTAG2.e8382_s3681_r13144_p5981.GN2v01_Nom_output.root',\n",
       " '/eos/atlas/atlascerngroupdisk/perf-flavtag/calib/negtag/Rel24_GN2v01/Ntuples_Nominal/mc20d/user.ltoffoli.mc20_13T.506198.MGPy8EG_Zmumu_FxFx_3jets_HT2bias_CVBV.D_FTAG2.e8382_s3681_r13144_p5981.GN2v01_Nom_output.root',\n",
       " '/eos/atlas/atlascerngroupdisk/perf-flavtag/calib/negtag/Rel24_GN2v01/Ntuples_Nominal/mc20d/user.ltoffoli.mc20_13T.512198.MGPy8EG_FxFx_Ztautau_3jets_HT2bias_BF.D_FTAG2.e8382_s3681_r13144_p5981.GN2v01_Nom_output.root',\n",
       " '/eos/atlas/atlascerngroupdisk/perf-flavtag/calib/negtag/Rel24_GN2v01/Ntuples_Nominal/mc20d/user.ltoffoli.mc20_13T.512199.MGPy8EG_FxFx_Ztautau_3jets_HT2bias_CFBV.D_FTAG2.e8382_s3681_r13144_p5981.GN2v01_Nom_output.root',\n",
       " '/eos/atlas/atlascerngroupdisk/perf-flavtag/calib/negtag/Rel24_GN2v01/Ntuples_Nominal/mc20d/user.ltoffoli.mc20_13T.512200.MGPy8EG_FxFx_Ztautau_3jets_HT2bias_CVBV.D_FTAG2.e8382_s3681_r13144_p5981.GN2v01_Nom_output.root']"
      ]
     },
     "execution_count": 8,
     "metadata": {},
     "output_type": "execute_result"
    }
   ],
   "source": [
    "paths"
   ]
  },
  {
   "cell_type": "code",
   "execution_count": 9,
   "id": "6f5f398a-4305-4871-a95f-45784e396299",
   "metadata": {},
   "outputs": [
    {
     "data": {
      "text/plain": [
       "['410472',\n",
       " '363356',\n",
       " '363358',\n",
       " '364302',\n",
       " '506193',\n",
       " '506194',\n",
       " '506195',\n",
       " '506196',\n",
       " '506197',\n",
       " '506198',\n",
       " '512198',\n",
       " '512199',\n",
       " '512200']"
      ]
     },
     "execution_count": 9,
     "metadata": {},
     "output_type": "execute_result"
    }
   ],
   "source": [
    "stco.ds_ids_all"
   ]
  },
  {
   "cell_type": "code",
   "execution_count": 13,
   "id": "c066b812-2016-4d66-bd11-7e5d85ac1f8f",
   "metadata": {},
   "outputs": [
    {
     "data": {
      "text/plain": [
       "{'410472': '/eos/atlas/atlascerngroupdisk/perf-flavtag/calib/negtag/Rel24_GN2v01/Ntuples_Nominal/mc20d/user.ltoffoli.mc20_13T.410472.PhPy8EG_A14_ttbar_hdamp258p75_dil.D_FTAG2.e6348_s3681_r13144_p5981.GN2v01_Nom_output.root',\n",
       " '363356': '/eos/atlas/atlascerngroupdisk/perf-flavtag/calib/negtag/Rel24_GN2v01/Ntuples_Nominal/mc20d/user.ltoffoli.mc20_13T.363356.Sherpa_221_NNPDF30NNLO_ZqqZll.D_FTAG2.e5525_s3681_r13144_p5981.GN2v01_Nom_output.root',\n",
       " '363358': '/eos/atlas/atlascerngroupdisk/perf-flavtag/calib/negtag/Rel24_GN2v01/Ntuples_Nominal/mc20d/user.ltoffoli.mc20_13T.363358.Sherpa_221_NNPDF30NNLO_WqqZll.D_FTAG2.e5525_s3681_r13144_p5981.GN2v01_Nom_output.root',\n",
       " '364302': '/eos/atlas/atlascerngroupdisk/perf-flavtag/calib/negtag/Rel24_GN2v01/Ntuples_Nominal/mc20d/user.ltoffoli.mc20_13T.364302.Sherpa_222_NNPDF30NNLO_ggZllZqq.D_FTAG2.e6273_s3681_r13144_p5981.GN2v01_Nom_output.root',\n",
       " '506193': '/eos/atlas/atlascerngroupdisk/perf-flavtag/calib/negtag/Rel24_GN2v01/Ntuples_Nominal/mc20d/user.ltoffoli.mc20_13T.506193.MGPy8EG_Zee_FxFx_3jets_HT2bias_BF.D_FTAG2.e8382_s3681_r13144_p5981.GN2v01_Nom_output.root',\n",
       " '506194': '/eos/atlas/atlascerngroupdisk/perf-flavtag/calib/negtag/Rel24_GN2v01/Ntuples_Nominal/mc20d/user.ltoffoli.mc20_13T.506194.MGPy8EG_Zee_FxFx_3jets_HT2bias_CFBV.D_FTAG2.e8382_s3681_r13144_p5981.GN2v01_Nom_output.root',\n",
       " '506195': '/eos/atlas/atlascerngroupdisk/perf-flavtag/calib/negtag/Rel24_GN2v01/Ntuples_Nominal/mc20d/user.ltoffoli.mc20_13T.506195.MGPy8EG_Zee_FxFx_3jets_HT2bias_CVBV.D_FTAG2.e8382_s3681_r13144_p5981.GN2v01_Nom_output.root',\n",
       " '506196': '/eos/atlas/atlascerngroupdisk/perf-flavtag/calib/negtag/Rel24_GN2v01/Ntuples_Nominal/mc20d/user.ltoffoli.mc20_13T.506196.MGPy8EG_Zmumu_FxFx_3jets_HT2bias_BF.D_FTAG2.e8382_s3681_r13144_p5981.GN2v01_Nom_output.root',\n",
       " '506197': '/eos/atlas/atlascerngroupdisk/perf-flavtag/calib/negtag/Rel24_GN2v01/Ntuples_Nominal/mc20d/user.ltoffoli.mc20_13T.506197.MGPy8EG_Zmumu_FxFx_3jets_HT2bias_CFBV.D_FTAG2.e8382_s3681_r13144_p5981.GN2v01_Nom_output.root',\n",
       " '506198': '/eos/atlas/atlascerngroupdisk/perf-flavtag/calib/negtag/Rel24_GN2v01/Ntuples_Nominal/mc20d/user.ltoffoli.mc20_13T.506198.MGPy8EG_Zmumu_FxFx_3jets_HT2bias_CVBV.D_FTAG2.e8382_s3681_r13144_p5981.GN2v01_Nom_output.root',\n",
       " '512198': '/eos/atlas/atlascerngroupdisk/perf-flavtag/calib/negtag/Rel24_GN2v01/Ntuples_Nominal/mc20d/user.ltoffoli.mc20_13T.512198.MGPy8EG_FxFx_Ztautau_3jets_HT2bias_BF.D_FTAG2.e8382_s3681_r13144_p5981.GN2v01_Nom_output.root',\n",
       " '512199': '/eos/atlas/atlascerngroupdisk/perf-flavtag/calib/negtag/Rel24_GN2v01/Ntuples_Nominal/mc20d/user.ltoffoli.mc20_13T.512199.MGPy8EG_FxFx_Ztautau_3jets_HT2bias_CFBV.D_FTAG2.e8382_s3681_r13144_p5981.GN2v01_Nom_output.root',\n",
       " '512200': '/eos/atlas/atlascerngroupdisk/perf-flavtag/calib/negtag/Rel24_GN2v01/Ntuples_Nominal/mc20d/user.ltoffoli.mc20_13T.512200.MGPy8EG_FxFx_Ztautau_3jets_HT2bias_CVBV.D_FTAG2.e8382_s3681_r13144_p5981.GN2v01_Nom_output.root'}"
      ]
     },
     "execution_count": 13,
     "metadata": {},
     "output_type": "execute_result"
    }
   ],
   "source": [
    "{dsid : glob.glob(os.path.join(stco.in_dir_mc,'*'+dsid+'*'))[0] for dsid in stco.ds_ids_all}"
   ]
  },
  {
   "cell_type": "code",
   "execution_count": null,
   "id": "20e4f96d-871c-4348-bcdc-7bd089d8448e",
   "metadata": {},
   "outputs": [],
   "source": []
  }
 ],
 "metadata": {
  "kernelspec": {
   "display_name": "Python 3",
   "language": "python",
   "name": "python3"
  },
  "language_info": {
   "codemirror_mode": {
    "name": "ipython",
    "version": 3
   },
   "file_extension": ".py",
   "mimetype": "text/x-python",
   "name": "python",
   "nbconvert_exporter": "python",
   "pygments_lexer": "ipython3",
   "version": "3.10.13"
  }
 },
 "nbformat": 4,
 "nbformat_minor": 5
}
