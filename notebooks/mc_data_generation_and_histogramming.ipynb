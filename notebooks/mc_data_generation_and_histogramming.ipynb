{
 "cells": [
  {
   "cell_type": "code",
   "execution_count": 1,
   "id": "93976cd2-f416-440d-8eb0-bf0fe298b5ff",
   "metadata": {},
   "outputs": [],
   "source": [
    "import uproot\n",
    "import h5py\n",
    "import numpy as np\n",
    "import os\n",
    "import re\n",
    "import awkward as awk\n",
    "import heplot as hepl\n",
    "import matplotlib.pyplot as plt\n",
    "import importlib\n",
    "import glob\n",
    "from heplot import plotting as heplt\n",
    "import sys\n",
    "sys.path.append('..')"
   ]
  },
  {
   "cell_type": "code",
   "execution_count": 2,
   "id": "60d9913c-a69f-47d1-a0a4-81086ca66b69",
   "metadata": {},
   "outputs": [],
   "source": [
    "import src.selection as sele\n",
    "import src.string_constants as stco\n",
    "import src.generator as gene\n",
    "import src.reader as read\n",
    "import src.util as util"
   ]
  },
  {
   "cell_type": "markdown",
   "id": "01c0ca63-5142-4065-90f5-d651d8ab03df",
   "metadata": {},
   "source": [
    "# generate samples"
   ]
  },
  {
   "cell_type": "markdown",
   "id": "51fceea0-e415-48fe-a0a1-aa765fb0f2ea",
   "metadata": {},
   "source": [
    "## MC"
   ]
  },
  {
   "cell_type": "code",
   "execution_count": 3,
   "id": "521ce958-f574-42fb-a9ab-52db37fc09a8",
   "metadata": {},
   "outputs": [],
   "source": [
    "feature_names_in = ['el_e','mu_e','el_charge','mu_charge','el_pt','mu_pt', 'el_phi','mu_phi',\\\n",
    "                    'el_eta', 'mu_eta', 'jet_e', 'jet_pt', 'jet_truthflav',\\\n",
    "                \t'weight_mc', 'weight_pileup', 'weight_jvt', 'weight_leptonSF']\n",
    "feature_names_out = ['jet_pt_lead','jet_truthflav_lead',\\\n",
    "                \t'weight_mc', 'weight_pileup', 'weight_jvt', 'weight_leptonSF']"
   ]
  },
  {
   "cell_type": "code",
   "execution_count": 4,
   "id": "b952fd02-31e2-455a-ad6e-3e0f6d3700a5",
   "metadata": {},
   "outputs": [],
   "source": [
    "ds_ids_sig_bg = sum(list(stco.ds_ids_sig.values()),[])+list(stco.ds_ids_bg.values())"
   ]
  },
  {
   "cell_type": "code",
   "execution_count": 5,
   "id": "f3b7975f-fbb1-4ffb-9631-8ec5327ed925",
   "metadata": {},
   "outputs": [],
   "source": [
    "paths = [glob.glob(os.path.join(stco.in_dir_mc,'*'+ds_id+'*')) for ds_id in ds_ids_sig_bg]\n",
    "paths = sum(paths,[])\n",
    "N = int(1e3)"
   ]
  },
  {
   "cell_type": "code",
   "execution_count": 6,
   "id": "776eaa0a-7a0c-4994-8db5-894a13e1018a",
   "metadata": {},
   "outputs": [
    {
     "data": {
      "text/plain": [
       "['/eos/atlas/atlascerngroupdisk/perf-flavtag/calib/negtag/Rel24_GN2v01/Ntuples_Nominal/mc20d/user.ltoffoli.mc20_13T.506193.MGPy8EG_Zee_FxFx_3jets_HT2bias_BF.D_FTAG2.e8382_s3681_r13144_p5981.GN2v01_Nom_output.root',\n",
       " '/eos/atlas/atlascerngroupdisk/perf-flavtag/calib/negtag/Rel24_GN2v01/Ntuples_Nominal/mc20d/user.ltoffoli.mc20_13T.506194.MGPy8EG_Zee_FxFx_3jets_HT2bias_CFBV.D_FTAG2.e8382_s3681_r13144_p5981.GN2v01_Nom_output.root',\n",
       " '/eos/atlas/atlascerngroupdisk/perf-flavtag/calib/negtag/Rel24_GN2v01/Ntuples_Nominal/mc20d/user.ltoffoli.mc20_13T.506195.MGPy8EG_Zee_FxFx_3jets_HT2bias_CVBV.D_FTAG2.e8382_s3681_r13144_p5981.GN2v01_Nom_output.root',\n",
       " '/eos/atlas/atlascerngroupdisk/perf-flavtag/calib/negtag/Rel24_GN2v01/Ntuples_Nominal/mc20d/user.ltoffoli.mc20_13T.506196.MGPy8EG_Zmumu_FxFx_3jets_HT2bias_BF.D_FTAG2.e8382_s3681_r13144_p5981.GN2v01_Nom_output.root',\n",
       " '/eos/atlas/atlascerngroupdisk/perf-flavtag/calib/negtag/Rel24_GN2v01/Ntuples_Nominal/mc20d/user.ltoffoli.mc20_13T.506197.MGPy8EG_Zmumu_FxFx_3jets_HT2bias_CFBV.D_FTAG2.e8382_s3681_r13144_p5981.GN2v01_Nom_output.root',\n",
       " '/eos/atlas/atlascerngroupdisk/perf-flavtag/calib/negtag/Rel24_GN2v01/Ntuples_Nominal/mc20d/user.ltoffoli.mc20_13T.506198.MGPy8EG_Zmumu_FxFx_3jets_HT2bias_CVBV.D_FTAG2.e8382_s3681_r13144_p5981.GN2v01_Nom_output.root',\n",
       " '/eos/atlas/atlascerngroupdisk/perf-flavtag/calib/negtag/Rel24_GN2v01/Ntuples_Nominal/mc20d/user.ltoffoli.mc20_13T.512198.MGPy8EG_FxFx_Ztautau_3jets_HT2bias_BF.D_FTAG2.e8382_s3681_r13144_p5981.GN2v01_Nom_output.root',\n",
       " '/eos/atlas/atlascerngroupdisk/perf-flavtag/calib/negtag/Rel24_GN2v01/Ntuples_Nominal/mc20d/user.ltoffoli.mc20_13T.512199.MGPy8EG_FxFx_Ztautau_3jets_HT2bias_CFBV.D_FTAG2.e8382_s3681_r13144_p5981.GN2v01_Nom_output.root',\n",
       " '/eos/atlas/atlascerngroupdisk/perf-flavtag/calib/negtag/Rel24_GN2v01/Ntuples_Nominal/mc20d/user.ltoffoli.mc20_13T.512200.MGPy8EG_FxFx_Ztautau_3jets_HT2bias_CVBV.D_FTAG2.e8382_s3681_r13144_p5981.GN2v01_Nom_output.root',\n",
       " '/eos/atlas/atlascerngroupdisk/perf-flavtag/calib/negtag/Rel24_GN2v01/Ntuples_Nominal/mc20d/user.ltoffoli.mc20_13T.410472.PhPy8EG_A14_ttbar_hdamp258p75_dil.D_FTAG2.e6348_s3681_r13144_p5981.GN2v01_Nom_output.root',\n",
       " '/eos/atlas/atlascerngroupdisk/perf-flavtag/calib/negtag/Rel24_GN2v01/Ntuples_Nominal/mc20d/user.ltoffoli.mc20_13T.363356.Sherpa_221_NNPDF30NNLO_ZqqZll.D_FTAG2.e5525_s3681_r13144_p5981.GN2v01_Nom_output.root',\n",
       " '/eos/atlas/atlascerngroupdisk/perf-flavtag/calib/negtag/Rel24_GN2v01/Ntuples_Nominal/mc20d/user.ltoffoli.mc20_13T.363358.Sherpa_221_NNPDF30NNLO_WqqZll.D_FTAG2.e5525_s3681_r13144_p5981.GN2v01_Nom_output.root',\n",
       " '/eos/atlas/atlascerngroupdisk/perf-flavtag/calib/negtag/Rel24_GN2v01/Ntuples_Nominal/mc20d/user.ltoffoli.mc20_13T.364302.Sherpa_222_NNPDF30NNLO_ggZllZqq.D_FTAG2.e6273_s3681_r13144_p5981.GN2v01_Nom_output.root']"
      ]
     },
     "execution_count": 6,
     "metadata": {},
     "output_type": "execute_result"
    }
   ],
   "source": [
    "paths"
   ]
  },
  {
   "cell_type": "code",
   "execution_count": 7,
   "id": "f60b3e11-3aad-4a9c-8fd8-4ae7fbfe1457",
   "metadata": {},
   "outputs": [],
   "source": [
    "generator = gene.sample_generator(paths, N, selection_fun=sele.select_lightjets, feature_names_in=feature_names_in, feature_names_out=feature_names_out)"
   ]
  },
  {
   "cell_type": "code",
   "execution_count": 8,
   "id": "0eb3f45b-cbb5-45e8-b52a-4a092464453a",
   "metadata": {},
   "outputs": [
    {
     "name": "stdout",
     "output_type": "stream",
     "text": [
      "21000 samples read\n"
     ]
    }
   ],
   "source": [
    "samples = None\n",
    "i = 0\n",
    "\n",
    "for sample_batch in generator:\n",
    "\n",
    "    if samples is None:\n",
    "        samples = sample_batch\n",
    "    else:\n",
    "        samples = awk.concatenate([samples,sample_batch])\n",
    "\n",
    "    i = i+1\n",
    "    if i > 20:\n",
    "        break\n",
    "\n",
    "print(f'{len(samples)} samples read')"
   ]
  },
  {
   "cell_type": "code",
   "execution_count": 9,
   "id": "5c3e10c1-6a7a-4591-b656-34c890af1ff4",
   "metadata": {},
   "outputs": [],
   "source": [
    "samples['wt'] = util.compute_mc_event_weights(samples)"
   ]
  },
  {
   "cell_type": "code",
   "execution_count": 10,
   "id": "47a0b71a-b151-4fa3-8972-fff9d41792e3",
   "metadata": {},
   "outputs": [],
   "source": [
    "jetU, jetC, jetB, jetT = util.split_by_jet_flavor(samples)"
   ]
  },
  {
   "cell_type": "code",
   "execution_count": 11,
   "id": "512cfb79-37f1-49ab-8515-2b05ab6a0a78",
   "metadata": {},
   "outputs": [],
   "source": [
    "jetU, jetUNot = util.split_light_vs_nonlight_jet(samples)"
   ]
  },
  {
   "cell_type": "code",
   "execution_count": 12,
   "id": "31529c6c-02c5-4a6f-8e61-93488868a1fa",
   "metadata": {},
   "outputs": [
    {
     "data": {
      "text/plain": [
       "True"
      ]
     },
     "execution_count": 12,
     "metadata": {},
     "output_type": "execute_result"
    }
   ],
   "source": [
    "all(jetU.jet_truthflav_lead == 0)"
   ]
  },
  {
   "cell_type": "code",
   "execution_count": 13,
   "id": "e245e3b8-d275-42dd-b83f-ed0d5f2e3e9a",
   "metadata": {},
   "outputs": [
    {
     "data": {
      "text/plain": [
       "True"
      ]
     },
     "execution_count": 13,
     "metadata": {},
     "output_type": "execute_result"
    }
   ],
   "source": [
    "all(jetUNot.jet_truthflav_lead != 0)"
   ]
  },
  {
   "cell_type": "code",
   "execution_count": 14,
   "id": "fc073cd2-4ab7-41fe-965d-cab2c3a5c939",
   "metadata": {},
   "outputs": [
    {
     "data": {
      "text/html": [
       "<pre>[{jet_pt_lead: 1.64e+05, jet_truthflav_lead: 0, weight_mc: 1.36e+03, ...},\n",
       " {jet_pt_lead: 5.15e+05, jet_truthflav_lead: 0, weight_mc: 165, ...},\n",
       " {jet_pt_lead: 1.08e+05, jet_truthflav_lead: 0, weight_mc: -2.8e+03, ...},\n",
       " {jet_pt_lead: 1.93e+05, jet_truthflav_lead: 0, weight_mc: -1.52e+03, ...},\n",
       " {jet_pt_lead: 2.36e+04, jet_truthflav_lead: 0, weight_mc: 3.43e+03, ...},\n",
       " {jet_pt_lead: 3.28e+04, jet_truthflav_lead: 0, weight_mc: 726, ...},\n",
       " {jet_pt_lead: 1.67e+05, jet_truthflav_lead: 0, weight_mc: -998, ...},\n",
       " {jet_pt_lead: 9.99e+04, jet_truthflav_lead: 0, weight_mc: 2.61e+03, ...},\n",
       " {jet_pt_lead: 6.18e+04, jet_truthflav_lead: 0, weight_mc: -3.35e+03, ...},\n",
       " {jet_pt_lead: 3.12e+04, jet_truthflav_lead: 0, weight_mc: 1.84e+03, ...},\n",
       " ...,\n",
       " {jet_pt_lead: 6.63e+05, jet_truthflav_lead: 0, weight_mc: 121, ...},\n",
       " {jet_pt_lead: 2.57e+05, jet_truthflav_lead: 0, weight_mc: 308, ...},\n",
       " {jet_pt_lead: 3.91e+05, jet_truthflav_lead: 0, weight_mc: 102, ...},\n",
       " {jet_pt_lead: 1.79e+05, jet_truthflav_lead: 0, weight_mc: 2.24e+03, ...},\n",
       " {jet_pt_lead: 2.78e+05, jet_truthflav_lead: 0, weight_mc: 336, ...},\n",
       " {jet_pt_lead: 1.87e+05, jet_truthflav_lead: 0, weight_mc: 858, ...},\n",
       " {jet_pt_lead: 1.02e+05, jet_truthflav_lead: 0, weight_mc: -658, ...},\n",
       " {jet_pt_lead: 6.25e+05, jet_truthflav_lead: 0, weight_mc: -128, ...},\n",
       " {jet_pt_lead: 3.87e+05, jet_truthflav_lead: 0, weight_mc: 375, ...}]\n",
       "---------------------------------------------------------------------------\n",
       "type: 9157 * ?{\n",
       "    jet_pt_lead: ?float32,\n",
       "    jet_truthflav_lead: ?int32,\n",
       "    weight_mc: float32,\n",
       "    weight_pileup: float32,\n",
       "    weight_jvt: float32,\n",
       "    weight_leptonSF: float32,\n",
       "    wt: float32\n",
       "}</pre>"
      ],
      "text/plain": [
       "<Array [{jet_pt_lead: 1.64e+05, ...}, ...] type='9157 * ?{jet_pt_lead: ?flo...'>"
      ]
     },
     "execution_count": 14,
     "metadata": {},
     "output_type": "execute_result"
    }
   ],
   "source": [
    "jetU"
   ]
  },
  {
   "cell_type": "code",
   "execution_count": 15,
   "id": "c33d29bc-ca27-48d0-8a9e-5a88e016a126",
   "metadata": {},
   "outputs": [
    {
     "name": "stdout",
     "output_type": "stream",
     "text": [
      "9157 * ?{\n",
      "    jet_pt_lead: ?float32,\n",
      "    jet_truthflav_lead: ?int32,\n",
      "    weight_mc: float32,\n",
      "    weight_pileup: float32,\n",
      "    weight_jvt: float32,\n",
      "    weight_leptonSF: float32,\n",
      "    wt: float32\n",
      "}\n"
     ]
    }
   ],
   "source": [
    "jetU.type.show()"
   ]
  },
  {
   "cell_type": "code",
   "execution_count": 24,
   "id": "9b0833e9-1582-4f18-a073-a8d9224499af",
   "metadata": {},
   "outputs": [
    {
     "data": {
      "text/plain": [
       "9157"
      ]
     },
     "execution_count": 24,
     "metadata": {},
     "output_type": "execute_result"
    }
   ],
   "source": [
    "len(awk.to_numpy(jetU).data)"
   ]
  },
  {
   "cell_type": "code",
   "execution_count": 19,
   "id": "f6e4e819-6a5b-4ebe-9338-47bf4da918cd",
   "metadata": {},
   "outputs": [
    {
     "ename": "TypeError",
     "evalue": "Iterator operand 1 dtype could not be cast from dtype([('jet_pt_lead', '?'), ('jet_truthflav_lead', '?'), ('weight_mc', '?'), ('weight_pileup', '?'), ('weight_jvt', '?'), ('weight_leptonSF', '?'), ('wt', '?')]) to dtype('bool') according to the rule 'unsafe'\n\nThis error occurred while calling\n\n    ak.to_dataframe(\n        <Array [{jet_pt_lead: 1.64e+05, ...}, ...] type='9157 * ?{jet_pt_le...'>\n    )",
     "output_type": "error",
     "traceback": [
      "\u001b[0;31m---------------------------------------------------------------------------\u001b[0m",
      "\u001b[0;31mTypeError\u001b[0m                                 Traceback (most recent call last)",
      "File \u001b[0;32m/eos/home-k/kiwoznia/software/.pyenv/versions/3.10.13/lib/python3.10/site-packages/awkward/_dispatch.py:62\u001b[0m, in \u001b[0;36mnamed_high_level_function.<locals>.dispatch\u001b[0;34m(*args, **kwargs)\u001b[0m\n\u001b[1;32m     61\u001b[0m \u001b[38;5;28;01mtry\u001b[39;00m:\n\u001b[0;32m---> 62\u001b[0m     \u001b[38;5;28;43mnext\u001b[39;49m\u001b[43m(\u001b[49m\u001b[43mgen_or_result\u001b[49m\u001b[43m)\u001b[49m\n\u001b[1;32m     63\u001b[0m \u001b[38;5;28;01mexcept\u001b[39;00m \u001b[38;5;167;01mStopIteration\u001b[39;00m \u001b[38;5;28;01mas\u001b[39;00m err:\n",
      "File \u001b[0;32m/eos/home-k/kiwoznia/software/.pyenv/versions/3.10.13/lib/python3.10/site-packages/awkward/operations/ak_to_dataframe.py:138\u001b[0m, in \u001b[0;36mto_dataframe\u001b[0;34m(array, how, levelname, anonymous)\u001b[0m\n\u001b[1;32m    137\u001b[0m \u001b[38;5;66;03m# Implementation\u001b[39;00m\n\u001b[0;32m--> 138\u001b[0m \u001b[38;5;28;01mreturn\u001b[39;00m \u001b[43m_impl\u001b[49m\u001b[43m(\u001b[49m\u001b[43marray\u001b[49m\u001b[43m,\u001b[49m\u001b[43m \u001b[49m\u001b[43mhow\u001b[49m\u001b[43m,\u001b[49m\u001b[43m \u001b[49m\u001b[43mlevelname\u001b[49m\u001b[43m,\u001b[49m\u001b[43m \u001b[49m\u001b[43manonymous\u001b[49m\u001b[43m)\u001b[49m\n",
      "File \u001b[0;32m/eos/home-k/kiwoznia/software/.pyenv/versions/3.10.13/lib/python3.10/site-packages/awkward/operations/ak_to_dataframe.py:157\u001b[0m, in \u001b[0;36m_impl\u001b[0;34m(array, how, levelname, anonymous)\u001b[0m\n\u001b[1;32m    156\u001b[0m out \u001b[38;5;241m=\u001b[39m \u001b[38;5;28;01mNone\u001b[39;00m\n\u001b[0;32m--> 157\u001b[0m \u001b[38;5;28;01mfor\u001b[39;00m df \u001b[38;5;129;01min\u001b[39;00m \u001b[43mto_dataframe\u001b[49m\u001b[43m(\u001b[49m\n\u001b[1;32m    158\u001b[0m \u001b[43m    \u001b[49m\u001b[43marray\u001b[49m\u001b[43m,\u001b[49m\u001b[43m \u001b[49m\u001b[43mhow\u001b[49m\u001b[38;5;241;43m=\u001b[39;49m\u001b[38;5;28;43;01mNone\u001b[39;49;00m\u001b[43m,\u001b[49m\u001b[43m \u001b[49m\u001b[43mlevelname\u001b[49m\u001b[38;5;241;43m=\u001b[39;49m\u001b[43mlevelname\u001b[49m\u001b[43m,\u001b[49m\u001b[43m \u001b[49m\u001b[43manonymous\u001b[49m\u001b[38;5;241;43m=\u001b[39;49m\u001b[43manonymous\u001b[49m\n\u001b[1;32m    159\u001b[0m \u001b[43m\u001b[49m\u001b[43m)\u001b[49m:\n\u001b[1;32m    160\u001b[0m     \u001b[38;5;28;01mif\u001b[39;00m out \u001b[38;5;129;01mis\u001b[39;00m \u001b[38;5;28;01mNone\u001b[39;00m:\n",
      "File \u001b[0;32m/eos/home-k/kiwoznia/software/.pyenv/versions/3.10.13/lib/python3.10/site-packages/awkward/_dispatch.py:62\u001b[0m, in \u001b[0;36mnamed_high_level_function.<locals>.dispatch\u001b[0;34m(*args, **kwargs)\u001b[0m\n\u001b[1;32m     61\u001b[0m \u001b[38;5;28;01mtry\u001b[39;00m:\n\u001b[0;32m---> 62\u001b[0m     \u001b[38;5;28;43mnext\u001b[39;49m\u001b[43m(\u001b[49m\u001b[43mgen_or_result\u001b[49m\u001b[43m)\u001b[49m\n\u001b[1;32m     63\u001b[0m \u001b[38;5;28;01mexcept\u001b[39;00m \u001b[38;5;167;01mStopIteration\u001b[39;00m \u001b[38;5;28;01mas\u001b[39;00m err:\n",
      "File \u001b[0;32m/eos/home-k/kiwoznia/software/.pyenv/versions/3.10.13/lib/python3.10/site-packages/awkward/operations/ak_to_dataframe.py:138\u001b[0m, in \u001b[0;36mto_dataframe\u001b[0;34m(array, how, levelname, anonymous)\u001b[0m\n\u001b[1;32m    137\u001b[0m \u001b[38;5;66;03m# Implementation\u001b[39;00m\n\u001b[0;32m--> 138\u001b[0m \u001b[38;5;28;01mreturn\u001b[39;00m \u001b[43m_impl\u001b[49m\u001b[43m(\u001b[49m\u001b[43marray\u001b[49m\u001b[43m,\u001b[49m\u001b[43m \u001b[49m\u001b[43mhow\u001b[49m\u001b[43m,\u001b[49m\u001b[43m \u001b[49m\u001b[43mlevelname\u001b[49m\u001b[43m,\u001b[49m\u001b[43m \u001b[49m\u001b[43manonymous\u001b[49m\u001b[43m)\u001b[49m\n",
      "File \u001b[0;32m/eos/home-k/kiwoznia/software/.pyenv/versions/3.10.13/lib/python3.10/site-packages/awkward/operations/ak_to_dataframe.py:274\u001b[0m, in \u001b[0;36m_impl\u001b[0;34m(array, how, levelname, anonymous)\u001b[0m\n\u001b[1;32m    271\u001b[0m         index \u001b[38;5;241m=\u001b[39m pandas\u001b[38;5;241m.\u001b[39mMultiIndex\u001b[38;5;241m.\u001b[39mfrom_arrays(\n\u001b[1;32m    272\u001b[0m             row_arrays, names\u001b[38;5;241m=\u001b[39m[levelname(i) \u001b[38;5;28;01mfor\u001b[39;00m i \u001b[38;5;129;01min\u001b[39;00m \u001b[38;5;28mrange\u001b[39m(\u001b[38;5;28mlen\u001b[39m(row_arrays))]\n\u001b[1;32m    273\u001b[0m         )\n\u001b[0;32m--> 274\u001b[0m     tables\u001b[38;5;241m.\u001b[39mappend(\u001b[43mpandas\u001b[49m\u001b[38;5;241;43m.\u001b[39;49m\u001b[43mDataFrame\u001b[49m\u001b[43m(\u001b[49m\u001b[43mdata\u001b[49m\u001b[38;5;241;43m=\u001b[39;49m\u001b[43mcolumn\u001b[49m\u001b[43m,\u001b[49m\u001b[43m \u001b[49m\u001b[43mindex\u001b[49m\u001b[38;5;241;43m=\u001b[39;49m\u001b[43mindex\u001b[49m\u001b[43m,\u001b[49m\u001b[43m \u001b[49m\u001b[43mcolumns\u001b[49m\u001b[38;5;241;43m=\u001b[39;49m\u001b[43mcolumns\u001b[49m\u001b[43m)\u001b[49m)\n\u001b[1;32m    276\u001b[0m last_row_arrays \u001b[38;5;241m=\u001b[39m row_arrays\n",
      "File \u001b[0;32m/eos/home-k/kiwoznia/software/.pyenv/versions/3.10.13/lib/python3.10/site-packages/pandas/core/frame.py:780\u001b[0m, in \u001b[0;36mDataFrame.__init__\u001b[0;34m(self, data, index, columns, dtype, copy)\u001b[0m\n\u001b[1;32m    779\u001b[0m \u001b[38;5;66;03m# a masked array\u001b[39;00m\n\u001b[0;32m--> 780\u001b[0m data \u001b[38;5;241m=\u001b[39m \u001b[43msanitize_masked_array\u001b[49m\u001b[43m(\u001b[49m\u001b[43mdata\u001b[49m\u001b[43m)\u001b[49m\n\u001b[1;32m    781\u001b[0m mgr \u001b[38;5;241m=\u001b[39m ndarray_to_mgr(\n\u001b[1;32m    782\u001b[0m     data,\n\u001b[1;32m    783\u001b[0m     index,\n\u001b[0;32m   (...)\u001b[0m\n\u001b[1;32m    787\u001b[0m     typ\u001b[38;5;241m=\u001b[39mmanager,\n\u001b[1;32m    788\u001b[0m )\n",
      "File \u001b[0;32m/eos/home-k/kiwoznia/software/.pyenv/versions/3.10.13/lib/python3.10/site-packages/pandas/core/construction.py:506\u001b[0m, in \u001b[0;36msanitize_masked_array\u001b[0;34m(data)\u001b[0m\n\u001b[1;32m    505\u001b[0m mask \u001b[38;5;241m=\u001b[39m ma\u001b[38;5;241m.\u001b[39mgetmaskarray(data)\n\u001b[0;32m--> 506\u001b[0m \u001b[38;5;28;01mif\u001b[39;00m \u001b[43mmask\u001b[49m\u001b[38;5;241;43m.\u001b[39;49m\u001b[43many\u001b[49m\u001b[43m(\u001b[49m\u001b[43m)\u001b[49m:\n\u001b[1;32m    507\u001b[0m     dtype, fill_value \u001b[38;5;241m=\u001b[39m maybe_promote(data\u001b[38;5;241m.\u001b[39mdtype, np\u001b[38;5;241m.\u001b[39mnan)\n",
      "File \u001b[0;32m/eos/home-k/kiwoznia/software/.pyenv/versions/3.10.13/lib/python3.10/site-packages/numpy/core/_methods.py:58\u001b[0m, in \u001b[0;36m_any\u001b[0;34m(a, axis, dtype, out, keepdims, where)\u001b[0m\n\u001b[1;32m     57\u001b[0m \u001b[38;5;28;01mif\u001b[39;00m where \u001b[38;5;129;01mis\u001b[39;00m \u001b[38;5;28;01mTrue\u001b[39;00m:\n\u001b[0;32m---> 58\u001b[0m     \u001b[38;5;28;01mreturn\u001b[39;00m \u001b[43mumr_any\u001b[49m\u001b[43m(\u001b[49m\u001b[43ma\u001b[49m\u001b[43m,\u001b[49m\u001b[43m \u001b[49m\u001b[43maxis\u001b[49m\u001b[43m,\u001b[49m\u001b[43m \u001b[49m\u001b[43mdtype\u001b[49m\u001b[43m,\u001b[49m\u001b[43m \u001b[49m\u001b[43mout\u001b[49m\u001b[43m,\u001b[49m\u001b[43m \u001b[49m\u001b[43mkeepdims\u001b[49m\u001b[43m)\u001b[49m\n\u001b[1;32m     59\u001b[0m \u001b[38;5;28;01mreturn\u001b[39;00m umr_any(a, axis, dtype, out, keepdims, where\u001b[38;5;241m=\u001b[39mwhere)\n",
      "\u001b[0;31mTypeError\u001b[0m: Iterator operand 1 dtype could not be cast from dtype([('jet_pt_lead', '?'), ('jet_truthflav_lead', '?'), ('weight_mc', '?'), ('weight_pileup', '?'), ('weight_jvt', '?'), ('weight_leptonSF', '?'), ('wt', '?')]) to dtype('bool') according to the rule 'unsafe'",
      "\nThe above exception was the direct cause of the following exception:\n",
      "\u001b[0;31mTypeError\u001b[0m                                 Traceback (most recent call last)",
      "Cell \u001b[0;32mIn[19], line 2\u001b[0m\n\u001b[1;32m      1\u001b[0m \u001b[38;5;28;01mimport\u001b[39;00m \u001b[38;5;21;01mpandas\u001b[39;00m \u001b[38;5;28;01mas\u001b[39;00m \u001b[38;5;21;01mpd\u001b[39;00m\n\u001b[0;32m----> 2\u001b[0m df_jetU \u001b[38;5;241m=\u001b[39m \u001b[43mawk\u001b[49m\u001b[38;5;241;43m.\u001b[39;49m\u001b[43mto_dataframe\u001b[49m\u001b[43m(\u001b[49m\u001b[43mjetU\u001b[49m\u001b[43m)\u001b[49m\n",
      "File \u001b[0;32m/eos/home-k/kiwoznia/software/.pyenv/versions/3.10.13/lib/python3.10/site-packages/awkward/_dispatch.py:38\u001b[0m, in \u001b[0;36mnamed_high_level_function.<locals>.dispatch\u001b[0;34m(*args, **kwargs)\u001b[0m\n\u001b[1;32m     35\u001b[0m \u001b[38;5;129m@wraps\u001b[39m(func)\n\u001b[1;32m     36\u001b[0m \u001b[38;5;28;01mdef\u001b[39;00m \u001b[38;5;21mdispatch\u001b[39m(\u001b[38;5;241m*\u001b[39margs, \u001b[38;5;241m*\u001b[39m\u001b[38;5;241m*\u001b[39mkwargs):\n\u001b[1;32m     37\u001b[0m     \u001b[38;5;66;03m# NOTE: this decorator assumes that the operation is exposed under `ak.`\u001b[39;00m\n\u001b[0;32m---> 38\u001b[0m     \u001b[38;5;28;01mwith\u001b[39;00m OperationErrorContext(name, args, kwargs):\n\u001b[1;32m     39\u001b[0m         gen_or_result \u001b[38;5;241m=\u001b[39m func(\u001b[38;5;241m*\u001b[39margs, \u001b[38;5;241m*\u001b[39m\u001b[38;5;241m*\u001b[39mkwargs)\n\u001b[1;32m     40\u001b[0m         \u001b[38;5;28;01mif\u001b[39;00m isgenerator(gen_or_result):\n",
      "File \u001b[0;32m/eos/home-k/kiwoznia/software/.pyenv/versions/3.10.13/lib/python3.10/site-packages/awkward/_errors.py:85\u001b[0m, in \u001b[0;36mErrorContext.__exit__\u001b[0;34m(self, exception_type, exception_value, traceback)\u001b[0m\n\u001b[1;32m     78\u001b[0m \u001b[38;5;28;01mtry\u001b[39;00m:\n\u001b[1;32m     79\u001b[0m     \u001b[38;5;66;03m# Handle caught exception\u001b[39;00m\n\u001b[1;32m     80\u001b[0m     \u001b[38;5;28;01mif\u001b[39;00m (\n\u001b[1;32m     81\u001b[0m         exception_type \u001b[38;5;129;01mis\u001b[39;00m \u001b[38;5;129;01mnot\u001b[39;00m \u001b[38;5;28;01mNone\u001b[39;00m\n\u001b[1;32m     82\u001b[0m         \u001b[38;5;129;01mand\u001b[39;00m \u001b[38;5;28missubclass\u001b[39m(exception_type, \u001b[38;5;167;01mException\u001b[39;00m)\n\u001b[1;32m     83\u001b[0m         \u001b[38;5;129;01mand\u001b[39;00m \u001b[38;5;28mself\u001b[39m\u001b[38;5;241m.\u001b[39mprimary() \u001b[38;5;129;01mis\u001b[39;00m \u001b[38;5;28mself\u001b[39m\n\u001b[1;32m     84\u001b[0m     ):\n\u001b[0;32m---> 85\u001b[0m         \u001b[38;5;28;43mself\u001b[39;49m\u001b[38;5;241;43m.\u001b[39;49m\u001b[43mhandle_exception\u001b[49m\u001b[43m(\u001b[49m\u001b[43mexception_type\u001b[49m\u001b[43m,\u001b[49m\u001b[43m \u001b[49m\u001b[43mexception_value\u001b[49m\u001b[43m)\u001b[49m\n\u001b[1;32m     86\u001b[0m \u001b[38;5;28;01mfinally\u001b[39;00m:\n\u001b[1;32m     87\u001b[0m     \u001b[38;5;66;03m# Step out of the way so that another ErrorContext can become primary.\u001b[39;00m\n\u001b[1;32m     88\u001b[0m     \u001b[38;5;28;01mif\u001b[39;00m \u001b[38;5;28mself\u001b[39m\u001b[38;5;241m.\u001b[39mprimary() \u001b[38;5;129;01mis\u001b[39;00m \u001b[38;5;28mself\u001b[39m:\n",
      "File \u001b[0;32m/eos/home-k/kiwoznia/software/.pyenv/versions/3.10.13/lib/python3.10/site-packages/awkward/_errors.py:95\u001b[0m, in \u001b[0;36mErrorContext.handle_exception\u001b[0;34m(self, cls, exception)\u001b[0m\n\u001b[1;32m     93\u001b[0m     \u001b[38;5;28mself\u001b[39m\u001b[38;5;241m.\u001b[39mdecorate_exception(\u001b[38;5;28mcls\u001b[39m, exception)\n\u001b[1;32m     94\u001b[0m \u001b[38;5;28;01melse\u001b[39;00m:\n\u001b[0;32m---> 95\u001b[0m     \u001b[38;5;28;01mraise\u001b[39;00m \u001b[38;5;28mself\u001b[39m\u001b[38;5;241m.\u001b[39mdecorate_exception(\u001b[38;5;28mcls\u001b[39m, exception)\n",
      "\u001b[0;31mTypeError\u001b[0m: Iterator operand 1 dtype could not be cast from dtype([('jet_pt_lead', '?'), ('jet_truthflav_lead', '?'), ('weight_mc', '?'), ('weight_pileup', '?'), ('weight_jvt', '?'), ('weight_leptonSF', '?'), ('wt', '?')]) to dtype('bool') according to the rule 'unsafe'\n\nThis error occurred while calling\n\n    ak.to_dataframe(\n        <Array [{jet_pt_lead: 1.64e+05, ...}, ...] type='9157 * ?{jet_pt_le...'>\n    )"
     ]
    }
   ],
   "source": [
    "import pandas as pd\n",
    "df_jetU = awk.to_dataframe(jetU)"
   ]
  },
  {
   "cell_type": "code",
   "execution_count": null,
   "id": "4d8949ca-d3c2-4fb8-95c6-0be9003d1589",
   "metadata": {},
   "outputs": [],
   "source": []
  },
  {
   "cell_type": "markdown",
   "id": "56a18fca-508f-4ac1-adba-3d1bd78b49c0",
   "metadata": {},
   "source": [
    "## Data"
   ]
  },
  {
   "cell_type": "code",
   "execution_count": 17,
   "id": "4db46553-dea9-4603-bc93-d4961e7d5259",
   "metadata": {},
   "outputs": [],
   "source": [
    "feature_names_in = ['jet_pt', 'jet_e','el_e','mu_e', 'el_pt', 'el_eta', 'el_phi', 'el_charge', 'mu_pt', 'mu_eta', 'mu_phi', 'mu_charge']\n",
    "feature_names_out = ['jet_pt_lead']"
   ]
  },
  {
   "cell_type": "code",
   "execution_count": 18,
   "id": "d9475e01-f2d6-43be-a43a-0de6e3d3406e",
   "metadata": {},
   "outputs": [],
   "source": [
    "generator_data = gene.sample_generator([stco.in_dir_data], N, selection_fun=sele.select_lightjets, feature_names_in=feature_names_in, feature_names_out=feature_names_out)"
   ]
  },
  {
   "cell_type": "code",
   "execution_count": 19,
   "id": "d98ee63b-1287-42d8-ada9-2fbfdc59efa3",
   "metadata": {},
   "outputs": [
    {
     "name": "stdout",
     "output_type": "stream",
     "text": [
      "139413 data samples read\n"
     ]
    }
   ],
   "source": [
    "samples_data = None\n",
    "i = 0\n",
    "\n",
    "for sample_batch in generator_data:\n",
    "\n",
    "    if samples_data is None:\n",
    "        samples_data = sample_batch\n",
    "    else:\n",
    "        samples_data = awk.concatenate([samples_data,sample_batch])\n",
    "\n",
    "    i = i+1\n",
    "    if i > 20:\n",
    "        break\n",
    "\n",
    "print(f'{len(samples_data)} data samples read')"
   ]
  },
  {
   "cell_type": "code",
   "execution_count": 20,
   "id": "9da40d95-6c5b-4fbe-b3d9-f394436a2d36",
   "metadata": {},
   "outputs": [
    {
     "data": {
      "text/html": [
       "<pre>[{jet_pt_lead: [9.54e+04]},\n",
       " {jet_pt_lead: [2.96e+05]},\n",
       " {jet_pt_lead: [6.57e+04]},\n",
       " {jet_pt_lead: [5.87e+04]},\n",
       " {jet_pt_lead: [8.33e+04]},\n",
       " {jet_pt_lead: [1.07e+05]},\n",
       " {jet_pt_lead: [2.62e+04]},\n",
       " {jet_pt_lead: [2.75e+04]},\n",
       " {jet_pt_lead: [2.86e+04]},\n",
       " {jet_pt_lead: [3.58e+04]},\n",
       " ...,\n",
       " {jet_pt_lead: [5.25e+04]},\n",
       " {jet_pt_lead: [8.45e+04]},\n",
       " {jet_pt_lead: [6.31e+04]},\n",
       " {jet_pt_lead: [5.65e+04]},\n",
       " {jet_pt_lead: [1.69e+05]},\n",
       " {jet_pt_lead: [1.09e+05]},\n",
       " {jet_pt_lead: [5.33e+04]},\n",
       " {jet_pt_lead: [1.08e+05]},\n",
       " {jet_pt_lead: [3.99e+04]}]\n",
       "-------------------------------\n",
       "type: 139413 * {\n",
       "    jet_pt_lead: var * ?float32\n",
       "}</pre>"
      ],
      "text/plain": [
       "<Array [{jet_pt_lead: [9.54e+04]}, ..., {...}] type='139413 * {jet_pt_lead:...'>"
      ]
     },
     "execution_count": 20,
     "metadata": {},
     "output_type": "execute_result"
    }
   ],
   "source": [
    "samples_data"
   ]
  },
  {
   "cell_type": "markdown",
   "id": "7a7a7481-a0b2-40c9-a7b8-8ca73a95cf9c",
   "metadata": {},
   "source": [
    "# PLOT"
   ]
  },
  {
   "cell_type": "code",
   "execution_count": 24,
   "id": "f1cec40f-359b-457d-bc76-603bf38558a6",
   "metadata": {},
   "outputs": [],
   "source": [
    "ZUpt,ZCpt,ZBpt,Ztpt = awk.flatten(jetU.jet_pt_lead),awk.flatten(jetC.jet_pt_lead),awk.flatten(jetB.jet_pt_lead),awk.flatten(jetT.jet_pt_lead)\n",
    "weights = [jetC.wt, jetB.wt, jetT.wt, jetU.wt]"
   ]
  },
  {
   "cell_type": "code",
   "execution_count": 22,
   "id": "dcc06399-46a2-487b-9913-af6d7da2f46a",
   "metadata": {},
   "outputs": [
    {
     "data": {
      "image/png": "[encoded data removed]",
      "text/plain": [
       "<Figure size 640x480 with 1 Axes>"
      ]
     },
     "metadata": {},
     "output_type": "display_data"
    }
   ],
   "source": [
    "n_dat, bins_dat, patches = plt.hist(samples_data.jet_pt_lead/10000.,100)\n",
    "bins_mean = [0.5 * (bins_dat[i] + bins_dat[i+1]) for i in range(len(n_dat))]"
   ]
  },
  {
   "cell_type": "code",
   "execution_count": 29,
   "id": "d21fe320-f0af-4332-9d09-b1e784892481",
   "metadata": {},
   "outputs": [
    {
     "ename": "ValueError",
     "evalue": "x and y must be the same size",
     "output_type": "error",
     "traceback": [
      "\u001b[0;31m---------------------------------------------------------------------------\u001b[0m",
      "\u001b[0;31mValueError\u001b[0m                                Traceback (most recent call last)",
      "Cell \u001b[0;32mIn[29], line 3\u001b[0m\n\u001b[1;32m      1\u001b[0m plt\u001b[38;5;241m.\u001b[39mfigure()\n\u001b[1;32m      2\u001b[0m n, bins, patches \u001b[38;5;241m=\u001b[39m plt\u001b[38;5;241m.\u001b[39mhist([ZCpt\u001b[38;5;241m/\u001b[39m\u001b[38;5;241m10000.\u001b[39m,ZBpt\u001b[38;5;241m/\u001b[39m\u001b[38;5;241m10000.\u001b[39m,Ztpt\u001b[38;5;241m/\u001b[39m\u001b[38;5;241m10000.\u001b[39m,ZUpt\u001b[38;5;241m/\u001b[39m\u001b[38;5;241m10000.\u001b[39m], \u001b[38;5;241m100\u001b[39m, stacked\u001b[38;5;241m=\u001b[39m\u001b[38;5;28;01mTrue\u001b[39;00m, weights\u001b[38;5;241m=\u001b[39mweights)\n\u001b[0;32m----> 3\u001b[0m \u001b[43mplt\u001b[49m\u001b[38;5;241;43m.\u001b[39;49m\u001b[43mscatter\u001b[49m\u001b[43m(\u001b[49m\u001b[43mbins_mean\u001b[49m\u001b[43m,\u001b[49m\u001b[43m \u001b[49m\u001b[43mn\u001b[49m\u001b[43m)\u001b[49m\n\u001b[1;32m      4\u001b[0m plt\u001b[38;5;241m.\u001b[39mlegend(labels\u001b[38;5;241m=\u001b[39m[\u001b[38;5;124m'\u001b[39m\u001b[38;5;124mZ+charm\u001b[39m\u001b[38;5;124m'\u001b[39m,\u001b[38;5;124m'\u001b[39m\u001b[38;5;124mZ+b\u001b[39m\u001b[38;5;124m'\u001b[39m,\u001b[38;5;124m'\u001b[39m\u001b[38;5;124mZ+tau\u001b[39m\u001b[38;5;124m'\u001b[39m,\u001b[38;5;124m'\u001b[39m\u001b[38;5;124mZ+light\u001b[39m\u001b[38;5;124m'\u001b[39m])\n\u001b[1;32m      5\u001b[0m plt\u001b[38;5;241m.\u001b[39myscale(\u001b[38;5;124m'\u001b[39m\u001b[38;5;124mlog\u001b[39m\u001b[38;5;124m'\u001b[39m)\n",
      "File \u001b[0;32m/eos/home-k/kiwoznia/software/.pyenv/versions/3.10.13/lib/python3.10/site-packages/matplotlib/pyplot.py:3684\u001b[0m, in \u001b[0;36mscatter\u001b[0;34m(x, y, s, c, marker, cmap, norm, vmin, vmax, alpha, linewidths, edgecolors, plotnonfinite, data, **kwargs)\u001b[0m\n\u001b[1;32m   3665\u001b[0m \u001b[38;5;129m@_copy_docstring_and_deprecators\u001b[39m(Axes\u001b[38;5;241m.\u001b[39mscatter)\n\u001b[1;32m   3666\u001b[0m \u001b[38;5;28;01mdef\u001b[39;00m \u001b[38;5;21mscatter\u001b[39m(\n\u001b[1;32m   3667\u001b[0m     x: \u001b[38;5;28mfloat\u001b[39m \u001b[38;5;241m|\u001b[39m ArrayLike,\n\u001b[0;32m   (...)\u001b[0m\n\u001b[1;32m   3682\u001b[0m     \u001b[38;5;241m*\u001b[39m\u001b[38;5;241m*\u001b[39mkwargs,\n\u001b[1;32m   3683\u001b[0m ) \u001b[38;5;241m-\u001b[39m\u001b[38;5;241m>\u001b[39m PathCollection:\n\u001b[0;32m-> 3684\u001b[0m     __ret \u001b[38;5;241m=\u001b[39m \u001b[43mgca\u001b[49m\u001b[43m(\u001b[49m\u001b[43m)\u001b[49m\u001b[38;5;241;43m.\u001b[39;49m\u001b[43mscatter\u001b[49m\u001b[43m(\u001b[49m\n\u001b[1;32m   3685\u001b[0m \u001b[43m        \u001b[49m\u001b[43mx\u001b[49m\u001b[43m,\u001b[49m\n\u001b[1;32m   3686\u001b[0m \u001b[43m        \u001b[49m\u001b[43my\u001b[49m\u001b[43m,\u001b[49m\n\u001b[1;32m   3687\u001b[0m \u001b[43m        \u001b[49m\u001b[43ms\u001b[49m\u001b[38;5;241;43m=\u001b[39;49m\u001b[43ms\u001b[49m\u001b[43m,\u001b[49m\n\u001b[1;32m   3688\u001b[0m \u001b[43m        \u001b[49m\u001b[43mc\u001b[49m\u001b[38;5;241;43m=\u001b[39;49m\u001b[43mc\u001b[49m\u001b[43m,\u001b[49m\n\u001b[1;32m   3689\u001b[0m \u001b[43m        \u001b[49m\u001b[43mmarker\u001b[49m\u001b[38;5;241;43m=\u001b[39;49m\u001b[43mmarker\u001b[49m\u001b[43m,\u001b[49m\n\u001b[1;32m   3690\u001b[0m \u001b[43m        \u001b[49m\u001b[43mcmap\u001b[49m\u001b[38;5;241;43m=\u001b[39;49m\u001b[43mcmap\u001b[49m\u001b[43m,\u001b[49m\n\u001b[1;32m   3691\u001b[0m \u001b[43m        \u001b[49m\u001b[43mnorm\u001b[49m\u001b[38;5;241;43m=\u001b[39;49m\u001b[43mnorm\u001b[49m\u001b[43m,\u001b[49m\n\u001b[1;32m   3692\u001b[0m \u001b[43m        \u001b[49m\u001b[43mvmin\u001b[49m\u001b[38;5;241;43m=\u001b[39;49m\u001b[43mvmin\u001b[49m\u001b[43m,\u001b[49m\n\u001b[1;32m   3693\u001b[0m \u001b[43m        \u001b[49m\u001b[43mvmax\u001b[49m\u001b[38;5;241;43m=\u001b[39;49m\u001b[43mvmax\u001b[49m\u001b[43m,\u001b[49m\n\u001b[1;32m   3694\u001b[0m \u001b[43m        \u001b[49m\u001b[43malpha\u001b[49m\u001b[38;5;241;43m=\u001b[39;49m\u001b[43malpha\u001b[49m\u001b[43m,\u001b[49m\n\u001b[1;32m   3695\u001b[0m \u001b[43m        \u001b[49m\u001b[43mlinewidths\u001b[49m\u001b[38;5;241;43m=\u001b[39;49m\u001b[43mlinewidths\u001b[49m\u001b[43m,\u001b[49m\n\u001b[1;32m   3696\u001b[0m \u001b[43m        \u001b[49m\u001b[43medgecolors\u001b[49m\u001b[38;5;241;43m=\u001b[39;49m\u001b[43medgecolors\u001b[49m\u001b[43m,\u001b[49m\n\u001b[1;32m   3697\u001b[0m \u001b[43m        \u001b[49m\u001b[43mplotnonfinite\u001b[49m\u001b[38;5;241;43m=\u001b[39;49m\u001b[43mplotnonfinite\u001b[49m\u001b[43m,\u001b[49m\n\u001b[1;32m   3698\u001b[0m \u001b[43m        \u001b[49m\u001b[38;5;241;43m*\u001b[39;49m\u001b[38;5;241;43m*\u001b[39;49m\u001b[43m(\u001b[49m\u001b[43m{\u001b[49m\u001b[38;5;124;43m\"\u001b[39;49m\u001b[38;5;124;43mdata\u001b[39;49m\u001b[38;5;124;43m\"\u001b[39;49m\u001b[43m:\u001b[49m\u001b[43m \u001b[49m\u001b[43mdata\u001b[49m\u001b[43m}\u001b[49m\u001b[43m \u001b[49m\u001b[38;5;28;43;01mif\u001b[39;49;00m\u001b[43m \u001b[49m\u001b[43mdata\u001b[49m\u001b[43m \u001b[49m\u001b[38;5;129;43;01mis\u001b[39;49;00m\u001b[43m \u001b[49m\u001b[38;5;129;43;01mnot\u001b[39;49;00m\u001b[43m \u001b[49m\u001b[38;5;28;43;01mNone\u001b[39;49;00m\u001b[43m \u001b[49m\u001b[38;5;28;43;01melse\u001b[39;49;00m\u001b[43m \u001b[49m\u001b[43m{\u001b[49m\u001b[43m}\u001b[49m\u001b[43m)\u001b[49m\u001b[43m,\u001b[49m\n\u001b[1;32m   3699\u001b[0m \u001b[43m        \u001b[49m\u001b[38;5;241;43m*\u001b[39;49m\u001b[38;5;241;43m*\u001b[39;49m\u001b[43mkwargs\u001b[49m\u001b[43m,\u001b[49m\n\u001b[1;32m   3700\u001b[0m \u001b[43m    \u001b[49m\u001b[43m)\u001b[49m\n\u001b[1;32m   3701\u001b[0m     sci(__ret)\n\u001b[1;32m   3702\u001b[0m     \u001b[38;5;28;01mreturn\u001b[39;00m __ret\n",
      "File \u001b[0;32m/eos/home-k/kiwoznia/software/.pyenv/versions/3.10.13/lib/python3.10/site-packages/matplotlib/__init__.py:1465\u001b[0m, in \u001b[0;36m_preprocess_data.<locals>.inner\u001b[0;34m(ax, data, *args, **kwargs)\u001b[0m\n\u001b[1;32m   1462\u001b[0m \u001b[38;5;129m@functools\u001b[39m\u001b[38;5;241m.\u001b[39mwraps(func)\n\u001b[1;32m   1463\u001b[0m \u001b[38;5;28;01mdef\u001b[39;00m \u001b[38;5;21minner\u001b[39m(ax, \u001b[38;5;241m*\u001b[39margs, data\u001b[38;5;241m=\u001b[39m\u001b[38;5;28;01mNone\u001b[39;00m, \u001b[38;5;241m*\u001b[39m\u001b[38;5;241m*\u001b[39mkwargs):\n\u001b[1;32m   1464\u001b[0m     \u001b[38;5;28;01mif\u001b[39;00m data \u001b[38;5;129;01mis\u001b[39;00m \u001b[38;5;28;01mNone\u001b[39;00m:\n\u001b[0;32m-> 1465\u001b[0m         \u001b[38;5;28;01mreturn\u001b[39;00m \u001b[43mfunc\u001b[49m\u001b[43m(\u001b[49m\u001b[43max\u001b[49m\u001b[43m,\u001b[49m\u001b[43m \u001b[49m\u001b[38;5;241;43m*\u001b[39;49m\u001b[38;5;28;43mmap\u001b[39;49m\u001b[43m(\u001b[49m\u001b[43msanitize_sequence\u001b[49m\u001b[43m,\u001b[49m\u001b[43m \u001b[49m\u001b[43margs\u001b[49m\u001b[43m)\u001b[49m\u001b[43m,\u001b[49m\u001b[43m \u001b[49m\u001b[38;5;241;43m*\u001b[39;49m\u001b[38;5;241;43m*\u001b[39;49m\u001b[43mkwargs\u001b[49m\u001b[43m)\u001b[49m\n\u001b[1;32m   1467\u001b[0m     bound \u001b[38;5;241m=\u001b[39m new_sig\u001b[38;5;241m.\u001b[39mbind(ax, \u001b[38;5;241m*\u001b[39margs, \u001b[38;5;241m*\u001b[39m\u001b[38;5;241m*\u001b[39mkwargs)\n\u001b[1;32m   1468\u001b[0m     auto_label \u001b[38;5;241m=\u001b[39m (bound\u001b[38;5;241m.\u001b[39marguments\u001b[38;5;241m.\u001b[39mget(label_namer)\n\u001b[1;32m   1469\u001b[0m                   \u001b[38;5;129;01mor\u001b[39;00m bound\u001b[38;5;241m.\u001b[39mkwargs\u001b[38;5;241m.\u001b[39mget(label_namer))\n",
      "File \u001b[0;32m/eos/home-k/kiwoznia/software/.pyenv/versions/3.10.13/lib/python3.10/site-packages/matplotlib/axes/_axes.py:4652\u001b[0m, in \u001b[0;36mAxes.scatter\u001b[0;34m(self, x, y, s, c, marker, cmap, norm, vmin, vmax, alpha, linewidths, edgecolors, plotnonfinite, **kwargs)\u001b[0m\n\u001b[1;32m   4650\u001b[0m y \u001b[38;5;241m=\u001b[39m np\u001b[38;5;241m.\u001b[39mma\u001b[38;5;241m.\u001b[39mravel(y)\n\u001b[1;32m   4651\u001b[0m \u001b[38;5;28;01mif\u001b[39;00m x\u001b[38;5;241m.\u001b[39msize \u001b[38;5;241m!=\u001b[39m y\u001b[38;5;241m.\u001b[39msize:\n\u001b[0;32m-> 4652\u001b[0m     \u001b[38;5;28;01mraise\u001b[39;00m \u001b[38;5;167;01mValueError\u001b[39;00m(\u001b[38;5;124m\"\u001b[39m\u001b[38;5;124mx and y must be the same size\u001b[39m\u001b[38;5;124m\"\u001b[39m)\n\u001b[1;32m   4654\u001b[0m \u001b[38;5;28;01mif\u001b[39;00m s \u001b[38;5;129;01mis\u001b[39;00m \u001b[38;5;28;01mNone\u001b[39;00m:\n\u001b[1;32m   4655\u001b[0m     s \u001b[38;5;241m=\u001b[39m (\u001b[38;5;241m20\u001b[39m \u001b[38;5;28;01mif\u001b[39;00m mpl\u001b[38;5;241m.\u001b[39mrcParams[\u001b[38;5;124m'\u001b[39m\u001b[38;5;124m_internal.classic_mode\u001b[39m\u001b[38;5;124m'\u001b[39m] \u001b[38;5;28;01melse\u001b[39;00m\n\u001b[1;32m   4656\u001b[0m          mpl\u001b[38;5;241m.\u001b[39mrcParams[\u001b[38;5;124m'\u001b[39m\u001b[38;5;124mlines.markersize\u001b[39m\u001b[38;5;124m'\u001b[39m] \u001b[38;5;241m*\u001b[39m\u001b[38;5;241m*\u001b[39m \u001b[38;5;241m2.0\u001b[39m)\n",
      "\u001b[0;31mValueError\u001b[0m: x and y must be the same size"
     ]
    },
    {
     "data": {
      "image/png": "[encoded data removed]",
      "text/plain": [
       "<Figure size 640x480 with 1 Axes>"
      ]
     },
     "metadata": {},
     "output_type": "display_data"
    }
   ],
   "source": [
    "plt.figure()\n",
    "n, bins, patches = plt.hist([ZCpt/10000.,ZBpt/10000.,Ztpt/10000.,ZUpt/10000.], 100, stacked=True, weights=weights)\n",
    "n_dat, bins_dat, patches = plt.hist(samples_data.jet_pt_lead/10000.,100)\n",
    "\n",
    "plt.scatter(bins_mean, n)\n",
    "plt.legend(labels=['Z+charm','Z+b','Z+tau','Z+light'])\n",
    "plt.yscale('log')\n"
   ]
  },
  {
   "cell_type": "code",
   "execution_count": null,
   "id": "1a939c8e-f482-464c-88e2-3854ce97f08e",
   "metadata": {},
   "outputs": [],
   "source": []
  }
 ],
 "metadata": {
  "kernelspec": {
   "display_name": "Python 3",
   "language": "python",
   "name": "python3"
  },
  "language_info": {
   "codemirror_mode": {
    "name": "ipython",
    "version": 3
   },
   "file_extension": ".py",
   "mimetype": "text/x-python",
   "name": "python",
   "nbconvert_exporter": "python",
   "pygments_lexer": "ipython3",
   "version": "3.10.13"
  }
 },
 "nbformat": 4,
 "nbformat_minor": 5
}
