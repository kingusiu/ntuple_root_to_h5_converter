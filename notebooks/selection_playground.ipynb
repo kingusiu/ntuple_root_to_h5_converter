{
 "cells": [
  {
   "cell_type": "code",
   "execution_count": 1,
   "id": "37413efa",
   "metadata": {},
   "outputs": [],
   "source": [
    "import uproot\n",
    "import h5py\n",
    "import numpy as np\n",
    "import os\n",
    "import awkward as awk"
   ]
  },
  {
   "cell_type": "code",
   "execution_count": 2,
   "id": "84257b33",
   "metadata": {},
   "outputs": [],
   "source": [
    "# pick random file\n",
    "dir_root_lightjet = '/eos/atlas/atlascerngroupdisk/perf-flavtag/calib/negtag/Rel24_GN2/mc20_Run2/Ntuples/PeriodE/ZJets_MG'"
   ]
  },
  {
   "cell_type": "markdown",
   "id": "3700c2f4",
   "metadata": {},
   "source": [
    "## di-electron"
   ]
  },
  {
   "cell_type": "code",
   "execution_count": 3,
   "id": "c3ecf82a",
   "metadata": {},
   "outputs": [],
   "source": [
    "subdir_ee = 'user.ltoffoli.mc20_13TeV.506193.MGPy8EG_3jets_HT2bias_BFilter.deriv.DAOD_PHYS.e8382_s3681_r13145_p5631.toffoGN2_v1_output.root'"
   ]
  },
  {
   "cell_type": "code",
   "execution_count": 4,
   "id": "5ded6f3c",
   "metadata": {},
   "outputs": [],
   "source": [
    "fname_ee = os.listdir(os.path.join(dir_root_lightjet,subdir_ee))[3]"
   ]
  },
  {
   "cell_type": "code",
   "execution_count": 5,
   "id": "28be1ceb",
   "metadata": {},
   "outputs": [],
   "source": [
    "tree = uproot.open(os.path.join(dir_root_lightjet,subdir_ee,fname_ee)+':nominal')"
   ]
  },
  {
   "cell_type": "code",
   "execution_count": 6,
   "id": "a5f15c1e",
   "metadata": {},
   "outputs": [],
   "source": [
    "samples_ee = tree.arrays(['el_e','mu_e','el_charge','mu_charge','el_pt','mu_pt', 'el_phi','mu_phi',\\\n",
    "                      'el_eta', 'mu_eta', 'jet_e'])"
   ]
  },
  {
   "cell_type": "code",
   "execution_count": 7,
   "id": "4799f553",
   "metadata": {},
   "outputs": [
    {
     "data": {
      "text/plain": [
       "<Array [{el_e: [2.04e+05, ... 5.28e+05]}] type='1594528 * {\"el_e\": var * float32...'>"
      ]
     },
     "execution_count": 7,
     "metadata": {},
     "output_type": "execute_result"
    }
   ],
   "source": [
    "samples_ee"
   ]
  },
  {
   "cell_type": "code",
   "execution_count": 8,
   "id": "b7e88b4f",
   "metadata": {},
   "outputs": [
    {
     "data": {
      "text/plain": [
       "<Array [1.25, 0.2] type='2 * float32'>"
      ]
     },
     "execution_count": 8,
     "metadata": {},
     "output_type": "execute_result"
    }
   ],
   "source": [
    "samples_ee[2].el_phi"
   ]
  },
  {
   "cell_type": "code",
   "execution_count": 9,
   "id": "a4c4666b",
   "metadata": {},
   "outputs": [],
   "source": [
    "# sum over both electrons\n",
    "ee_px = awk.sum(samples_ee.el_pt * np.cos(samples_ee.el_phi),axis=1)\n",
    "ee_py = awk.sum(samples_ee.el_pt * np.sin(samples_ee.el_phi),axis=1)\n",
    "ee_pz = awk.sum(samples_ee.el_pt * np.sinh(samples_ee.el_eta),axis=1)"
   ]
  },
  {
   "cell_type": "code",
   "execution_count": 10,
   "id": "a4f0d83b",
   "metadata": {},
   "outputs": [
    {
     "data": {
      "text/plain": [
       "<Array [1.74e+05, 4.15e+05, ... -1.03e+05] type='1594528 * float32'>"
      ]
     },
     "execution_count": 10,
     "metadata": {},
     "output_type": "execute_result"
    }
   ],
   "source": [
    "ee_px"
   ]
  },
  {
   "cell_type": "code",
   "execution_count": 11,
   "id": "bd857c2c",
   "metadata": {},
   "outputs": [],
   "source": [
    "ee_pt3d = ee_px**2 + ee_py**2 + ee_pz**2\n",
    "ee_e3d = awk.sum(np.sqrt((samples_ee.el_pt*np.cosh(samples_ee.el_eta))**2 + (511e-3)**2),axis=1)"
   ]
  },
  {
   "cell_type": "code",
   "execution_count": 12,
   "id": "26bd2c0c",
   "metadata": {},
   "outputs": [
    {
     "data": {
      "text/plain": [
       "<Array [2.55e+05, 5.51e+05, ... 2.2e+05] type='1594528 * float32'>"
      ]
     },
     "execution_count": 12,
     "metadata": {},
     "output_type": "execute_result"
    }
   ],
   "source": [
    "ee_e3d"
   ]
  },
  {
   "cell_type": "code",
   "execution_count": 13,
   "id": "853b5592",
   "metadata": {},
   "outputs": [
    {
     "data": {
      "text/plain": [
       "<Array [7.54e+09, 8.05e+09, ... 7.95e+09] type='1594528 * float32'>"
      ]
     },
     "execution_count": 13,
     "metadata": {},
     "output_type": "execute_result"
    }
   ],
   "source": [
    "ee_e3d**2 - ee_pt3d"
   ]
  },
  {
   "cell_type": "code",
   "execution_count": 14,
   "id": "79f18e80",
   "metadata": {},
   "outputs": [],
   "source": [
    "samples_ee['ee_m'] = np.sqrt(ee_e3d**2 - ee_pt3d)"
   ]
  },
  {
   "cell_type": "code",
   "execution_count": 15,
   "id": "aa49a682",
   "metadata": {},
   "outputs": [],
   "source": [
    "ee_m = samples_ee['ee_m']"
   ]
  },
  {
   "cell_type": "code",
   "execution_count": 16,
   "id": "c05c03b5",
   "metadata": {},
   "outputs": [
    {
     "data": {
      "text/plain": [
       "awkward.highlevel.Array"
      ]
     },
     "execution_count": 16,
     "metadata": {},
     "output_type": "execute_result"
    }
   ],
   "source": [
    "type(ee_m)"
   ]
  },
  {
   "cell_type": "markdown",
   "id": "9d614697",
   "metadata": {},
   "source": [
    "## di-muon"
   ]
  },
  {
   "cell_type": "code",
   "execution_count": 17,
   "id": "a7358cab",
   "metadata": {},
   "outputs": [],
   "source": [
    "subdir_mumu = 'user.ltoffoli.mc20_13TeV.506196.MGPy8EG_3jets_HT2bias_BFilter.deriv.DAOD_PHYS.e8382_s3681_r13145_p5631.toffoGN2_v1_output.root'\n",
    "fname_mumu = os.listdir(os.path.join(dir_root_lightjet,subdir_mumu))[2]"
   ]
  },
  {
   "cell_type": "code",
   "execution_count": 18,
   "id": "70274f70",
   "metadata": {},
   "outputs": [],
   "source": [
    "tree = uproot.open(os.path.join(dir_root_lightjet,subdir_mumu,fname_mumu)+':nominal')"
   ]
  },
  {
   "cell_type": "code",
   "execution_count": 19,
   "id": "ef55035b",
   "metadata": {},
   "outputs": [],
   "source": [
    "samples_mumu = tree.arrays(['el_e','mu_e','el_charge','mu_charge','el_pt','mu_pt', 'el_phi','mu_phi',\\\n",
    "                      'el_eta', 'mu_eta', 'jet_e'])"
   ]
  },
  {
   "cell_type": "code",
   "execution_count": 20,
   "id": "e42475c0",
   "metadata": {},
   "outputs": [
    {
     "data": {
      "text/plain": [
       "<Array [{el_e: [], mu_e: [, ... 2.35e+04]}] type='2943751 * {\"el_e\": var * float...'>"
      ]
     },
     "execution_count": 20,
     "metadata": {},
     "output_type": "execute_result"
    }
   ],
   "source": [
    "samples_mumu"
   ]
  },
  {
   "cell_type": "code",
   "execution_count": 21,
   "id": "3c18ce26",
   "metadata": {},
   "outputs": [
    {
     "data": {
      "text/plain": [
       "<Array [2.77, -0.297] type='2 * float32'>"
      ]
     },
     "execution_count": 21,
     "metadata": {},
     "output_type": "execute_result"
    }
   ],
   "source": [
    "samples_mumu[2].mu_phi"
   ]
  },
  {
   "cell_type": "code",
   "execution_count": 22,
   "id": "28560ab4",
   "metadata": {},
   "outputs": [],
   "source": [
    "# sum over both muons\n",
    "mu_px = awk.sum(samples_mumu.mu_pt * np.cos(samples_mumu.mu_phi),axis=1)\n",
    "mu_py = awk.sum(samples_mumu.mu_pt * np.sin(samples_mumu.mu_phi),axis=1)\n",
    "mu_pz = awk.sum(samples_mumu.mu_pt * np.sinh(samples_mumu.mu_eta),axis=1)"
   ]
  },
  {
   "cell_type": "code",
   "execution_count": 23,
   "id": "a0c4c229",
   "metadata": {},
   "outputs": [],
   "source": [
    "mu_pt3d = mu_px**2 + mu_py**2 + mu_pz**2\n",
    "mu_e3d = awk.sum(np.sqrt((samples_mumu.mu_pt*np.cosh(samples_mumu.mu_eta))**2 + (105.7)**2),axis=1)"
   ]
  },
  {
   "cell_type": "code",
   "execution_count": 24,
   "id": "96b9b0d9",
   "metadata": {},
   "outputs": [],
   "source": [
    "samples_mumu['mumu_m'] = np.sqrt(mu_e3d**2 - mu_pt3d)"
   ]
  },
  {
   "cell_type": "code",
   "execution_count": 25,
   "id": "91b26364",
   "metadata": {},
   "outputs": [],
   "source": [
    "mumu_m = samples_mumu['mumu_m']"
   ]
  },
  {
   "cell_type": "code",
   "execution_count": 26,
   "id": "bfdf6cfd",
   "metadata": {},
   "outputs": [],
   "source": [
    "import matplotlib.pyplot as plt\n",
    "from matplotlib import colors\n",
    "import os\n",
    "import numpy as np\n",
    "import mplhep as hep"
   ]
  },
  {
   "cell_type": "code",
   "execution_count": 27,
   "id": "76c29d02",
   "metadata": {},
   "outputs": [],
   "source": [
    "palette = ['#3E96A1', '#EC4E20', '#FF9505', '#713E5A', '#D62828', '#5F0F40']"
   ]
  },
  {
   "cell_type": "code",
   "execution_count": 28,
   "id": "59b27a24",
   "metadata": {
    "scrolled": true
   },
   "outputs": [],
   "source": [
    "def get_bg_idx(sample_names, bg_name):\n",
    "\n",
    "    if bg_name is not None:\n",
    "        return [i for (i,s) in enumerate(sample_names) if bg_name in s][0]\n",
    "    else:\n",
    "        return -1"
   ]
  },
  {
   "cell_type": "code",
   "execution_count": 29,
   "id": "3ef36bb2",
   "metadata": {
    "scrolled": true
   },
   "outputs": [],
   "source": [
    "def plot_feature_for_n_samples(data, sample_names, bins=100, xlabel='x', ylabel='fraction events', title=None, clip_outlier=False, normed=True, \\\n",
    "    ylogscale=True, xlim=None, plot_name='feature_hist', fig_dir=None, fig_format='.pdf', fig_size=(7,7), bg_name=None, histtype_bg='stepfilled', \\\n",
    "    show_plt=False, legend_outside=True):\n",
    "    '''\n",
    "    plots single feature distribution for multiple samples as 1D histogram\n",
    "    :param data: list of J ndarrays of each N feature values\n",
    "    :param bg_name: if not None, one sample will be treated as background and plotted in histtype_bg style\n",
    "    '''\n",
    "\n",
    "    # import ipdb; ipdb.set_trace()\n",
    "\n",
    "    # if one sample is to be treated as background sample\n",
    "    bg_idx = get_bg_idx(sample_names, bg_name)\n",
    "\n",
    "    plt.style.use(hep.style.CMS)\n",
    "\n",
    "    fig = plt.figure(figsize=(7,5))\n",
    "    if ylogscale:\n",
    "        plt.yscale('log')\n",
    "\n",
    "    for i, (dat, col) in enumerate(zip(data, palette)):\n",
    "        if i == bg_idx:\n",
    "            plt.hist(dat, bins=bins, density=normed, alpha=0.5, histtype=histtype_bg, label=sample_names[i], color=col)\n",
    "        else:\n",
    "            plt.hist(dat, bins=bins, density=normed, alpha=1.0, histtype='step', label=sample_names[i], color=col)\n",
    "\n",
    "    if xlim:\n",
    "        plt.xlim(xlim)\n",
    "    plt.grid()\n",
    "    plt.gca().tick_params(axis='both', which='major', labelsize=14)\n",
    "    plt.ylabel(ylabel, fontsize=16)\n",
    "    plt.xlabel(xlabel, fontsize=16)\n",
    "    if legend_outside:\n",
    "        handles, labels = plt.gca().get_legend_handles_labels()\n",
    "        lgd = fig.legend(handles, labels, bbox_to_anchor=(0.5,-0.1), loc=\"lower center\", ncol=len(data), labelspacing=0.8, fontsize=16)\n",
    "        bbox_extra_artists = (lgd,)\n",
    "    else:\n",
    "        plt.legend(loc='best', fontsize=15)\n",
    "        bbox_extra_artists = None\n",
    "    plt.tight_layout()\n",
    "    if show_plt:\n",
    "        plt.show()\n",
    "    if fig_dir:\n",
    "        print('writing figure to ' + os.path.join(fig_dir, plot_name + fig_format))\n",
    "        fig.savefig(os.path.join(fig_dir, plot_name + fig_format), bbox_extra_artists=bbox_extra_artists, bbox_inches='tight')\n",
    "    plt.close(fig)\n"
   ]
  },
  {
   "cell_type": "code",
   "execution_count": 30,
   "id": "9a8e3b51",
   "metadata": {},
   "outputs": [
    {
     "data": {
      "image/png": "[encoded data removed]",
      "text/plain": [
       "<Figure size 700x500 with 1 Axes>"
      ]
     },
     "metadata": {},
     "output_type": "display_data"
    }
   ],
   "source": [
    "data = [ee_m, mumu_m]\n",
    "sample_names = ['ee','mumu']\n",
    "plot_feature_for_n_samples(data,sample_names,xlabel='invariant mass',show_plt=True)"
   ]
  },
  {
   "cell_type": "code",
   "execution_count": 31,
   "id": "1d7fef97",
   "metadata": {},
   "outputs": [
    {
     "data": {
      "text/plain": [
       "1584543"
      ]
     },
     "execution_count": 31,
     "metadata": {},
     "output_type": "execute_result"
    }
   ],
   "source": [
    "sum((ee_m > 80e3) & (ee_m < 100e3))"
   ]
  },
  {
   "cell_type": "code",
   "execution_count": 33,
   "id": "9780df14",
   "metadata": {},
   "outputs": [],
   "source": [
    "mask_mumu = (awk.num(samples_mumu['mu_e']) == 2) & (awk.sum(samples_mumu['mu_charge'],axis=1) == 0)"
   ]
  },
  {
   "cell_type": "code",
   "execution_count": 34,
   "id": "fef60e3b",
   "metadata": {},
   "outputs": [
    {
     "data": {
      "text/plain": [
       "2943751"
      ]
     },
     "execution_count": 34,
     "metadata": {},
     "output_type": "execute_result"
    }
   ],
   "source": [
    "sum(mask_mumu)"
   ]
  },
  {
   "cell_type": "code",
   "execution_count": 35,
   "id": "6eaf5af0",
   "metadata": {},
   "outputs": [],
   "source": [
    "from typing import Tuple\n",
    "\n",
    "def calc_dilepton_px_py_pz(pt:awk.highlevel.Array, eta:awk.highlevel.Array, phi:awk.highlevel.Array) -> Tuple[awk.highlevel.Array]:\n",
    "\n",
    "\t# compute x,y,z momenta of each lepton and sum -> px,py,pz of dilepton system\n",
    "\tpx = awk.sum(pt * np.cos(phi),axis=1)\n",
    "\tpy = awk.sum(pt * np.sin(phi),axis=1)\n",
    "\tpz = awk.sum(pt * np.sinh(eta),axis=1)\n",
    "\n",
    "\treturn px, py, pz\n",
    "\n",
    "\n",
    "def calc_invariant_mass(pt:awk.highlevel.Array, eta:awk.highlevel.Array, phi:awk.highlevel.Array, part_m:float) -> awk.highlevel.Array:\n",
    "\n",
    "\tpx, py, pz = calc_dilepton_px_py_pz(pt, eta, phi)\n",
    "\n",
    "\tmoment2 = px**2 + py**2 + pz**2\n",
    "\tenergy = awk.sum(np.sqrt((pt*np.cosh(eta))**2 + part_m**2),axis=1)\n",
    "\n",
    "\treturn np.sqrt(energy**2 - moment2)\n",
    "\t\n",
    "\n",
    "def calc_dilepton_pt(pt:awk.highlevel.Array, eta:awk.highlevel.Array, phi:awk.highlevel.Array) -> float:\n",
    "\n",
    "\tpx, py, pz = calc_dilepton_px_py_pz(pt, eta, phi)\n",
    "\n",
    "\treturn np.sqrt(px**2 + py**2)\n"
   ]
  },
  {
   "cell_type": "code",
   "execution_count": 36,
   "id": "7e4e45f6",
   "metadata": {},
   "outputs": [],
   "source": [
    "# z mass window\n",
    "z_m_min, z_m_max = 80e3, 100e3\n",
    "# particle masses\n",
    "ele_m, mu_m = 511e-3, 105.7"
   ]
  },
  {
   "cell_type": "code",
   "execution_count": 37,
   "id": "44ba41c7",
   "metadata": {},
   "outputs": [],
   "source": [
    "feature_names = ['el_e','mu_e','el_charge','mu_charge','el_pt','mu_pt', 'el_phi','mu_phi',\\\n",
    "                      'el_eta', 'mu_eta', 'jet_e']"
   ]
  },
  {
   "cell_type": "code",
   "execution_count": 38,
   "id": "8a722d47",
   "metadata": {},
   "outputs": [],
   "source": [
    "tree_ee = uproot.open(os.path.join(dir_root_lightjet,subdir_ee,fname_ee)+':nominal')"
   ]
  },
  {
   "cell_type": "code",
   "execution_count": 39,
   "id": "5d70dab0",
   "metadata": {},
   "outputs": [],
   "source": [
    "samples_ee = tree_ee.arrays(feature_names)"
   ]
  },
  {
   "cell_type": "code",
   "execution_count": 40,
   "id": "30130a1d",
   "metadata": {},
   "outputs": [],
   "source": [
    "tree_mumu = uproot.open(os.path.join(dir_root_lightjet,subdir_mumu,fname_mumu)+':nominal')"
   ]
  },
  {
   "cell_type": "code",
   "execution_count": 41,
   "id": "22dc570d",
   "metadata": {},
   "outputs": [],
   "source": [
    "samples_mumu = tree_mumu.arrays(feature_names)"
   ]
  },
  {
   "cell_type": "code",
   "execution_count": 43,
   "id": "d66dfef7",
   "metadata": {},
   "outputs": [],
   "source": [
    "samples = awk.concatenate([samples_ee,samples_mumu])"
   ]
  },
  {
   "cell_type": "code",
   "execution_count": 44,
   "id": "bce08215",
   "metadata": {},
   "outputs": [
    {
     "data": {
      "text/plain": [
       "1594528"
      ]
     },
     "execution_count": 44,
     "metadata": {},
     "output_type": "execute_result"
    }
   ],
   "source": [
    "len(samples_ee)"
   ]
  },
  {
   "cell_type": "code",
   "execution_count": 45,
   "id": "a0f2ae8d",
   "metadata": {},
   "outputs": [
    {
     "data": {
      "text/plain": [
       "2943751"
      ]
     },
     "execution_count": 45,
     "metadata": {},
     "output_type": "execute_result"
    }
   ],
   "source": [
    "len(samples_mumu)"
   ]
  },
  {
   "cell_type": "code",
   "execution_count": 46,
   "id": "ecac91ab",
   "metadata": {},
   "outputs": [
    {
     "data": {
      "text/plain": [
       "4538279"
      ]
     },
     "execution_count": 46,
     "metadata": {},
     "output_type": "execute_result"
    }
   ],
   "source": [
    "len(samples)"
   ]
  },
  {
   "cell_type": "code",
   "execution_count": 47,
   "id": "773daa80",
   "metadata": {},
   "outputs": [],
   "source": [
    "# compute invariant mass of electrons\n",
    "samples['ee_m'] = calc_invariant_mass(samples.el_pt, samples.el_eta, samples.el_phi, part_m=ele_m)\n",
    "samples_ee['ee_m'] = calc_invariant_mass(samples_ee.el_pt, samples_ee.el_eta, samples_ee.el_phi, part_m=ele_m)\n",
    "samples_mumu['ee_m'] = calc_invariant_mass(samples_mumu.el_pt, samples_mumu.el_eta, samples_mumu.el_phi, part_m=ele_m)\n",
    "# compute invariant mass of muons\n",
    "samples['mumu_m'] = calc_invariant_mass(samples.mu_pt, samples.mu_eta, samples.mu_phi, part_m=mu_m)\n",
    "samples_ee['mumu_m'] = calc_invariant_mass(samples_ee.mu_pt, samples_ee.mu_eta, samples_ee.mu_phi, part_m=mu_m)\n",
    "samples_mumu['mumu_m'] = calc_invariant_mass(samples_mumu.mu_pt, samples_mumu.mu_eta, samples_mumu.mu_phi, part_m=mu_m)"
   ]
  },
  {
   "cell_type": "code",
   "execution_count": 48,
   "id": "16fc66b2",
   "metadata": {},
   "outputs": [
    {
     "data": {
      "text/plain": [
       "4538279"
      ]
     },
     "execution_count": 48,
     "metadata": {},
     "output_type": "execute_result"
    }
   ],
   "source": [
    "len(samples)"
   ]
  },
  {
   "cell_type": "code",
   "execution_count": 49,
   "id": "350e333f",
   "metadata": {},
   "outputs": [
    {
     "data": {
      "text/plain": [
       "1594528"
      ]
     },
     "execution_count": 49,
     "metadata": {},
     "output_type": "execute_result"
    }
   ],
   "source": [
    "len(samples_ee)"
   ]
  },
  {
   "cell_type": "code",
   "execution_count": 50,
   "id": "21d73a2a",
   "metadata": {},
   "outputs": [],
   "source": [
    "# invariant mass of electrons 80-100 GeV\n",
    "mask_ee_m = (samples['ee_m'] > z_m_min) & (samples['ee_m'] < z_m_max)"
   ]
  },
  {
   "cell_type": "code",
   "execution_count": 51,
   "id": "e00315c6",
   "metadata": {},
   "outputs": [
    {
     "data": {
      "text/plain": [
       "1584543"
      ]
     },
     "execution_count": 51,
     "metadata": {},
     "output_type": "execute_result"
    }
   ],
   "source": [
    "sum(mask_ee_m)"
   ]
  },
  {
   "cell_type": "code",
   "execution_count": 52,
   "id": "789c4fff",
   "metadata": {},
   "outputs": [],
   "source": [
    "# invariant mass of muons 80-100 GeV\n",
    "mask_mumu_m = (samples['mumu_m'] > z_m_min) & (samples['mumu_m'] < z_m_max)"
   ]
  },
  {
   "cell_type": "code",
   "execution_count": 53,
   "id": "ae6eb178",
   "metadata": {},
   "outputs": [
    {
     "data": {
      "text/plain": [
       "2922544"
      ]
     },
     "execution_count": 53,
     "metadata": {},
     "output_type": "execute_result"
    }
   ],
   "source": [
    "sum(mask_mumu_m)"
   ]
  },
  {
   "cell_type": "code",
   "execution_count": 54,
   "id": "e19f70cb",
   "metadata": {},
   "outputs": [],
   "source": [
    "# exactly two electrons of opposite charge\n",
    "mask_ee = (awk.num(samples['el_e']) == 2) & (awk.sum(samples['el_charge'],axis=1) == 0) "
   ]
  },
  {
   "cell_type": "code",
   "execution_count": 55,
   "id": "33a1f9c6",
   "metadata": {},
   "outputs": [
    {
     "data": {
      "text/plain": [
       "1594528"
      ]
     },
     "execution_count": 55,
     "metadata": {},
     "output_type": "execute_result"
    }
   ],
   "source": [
    "sum(mask_ee)"
   ]
  },
  {
   "cell_type": "code",
   "execution_count": 56,
   "id": "4ae060fe",
   "metadata": {},
   "outputs": [
    {
     "data": {
      "text/plain": [
       "<Array [True, True, True, ... False, False] type='4538279 * bool'>"
      ]
     },
     "execution_count": 56,
     "metadata": {},
     "output_type": "execute_result"
    }
   ],
   "source": [
    "mask_ee"
   ]
  },
  {
   "cell_type": "code",
   "execution_count": 57,
   "id": "1dacaa22",
   "metadata": {},
   "outputs": [],
   "source": [
    "# exactly two muons of opposite charge\n",
    "mask_mumu = (awk.num(samples['mu_e']) == 2) & (awk.sum(samples['mu_charge'],axis=1) == 0)"
   ]
  },
  {
   "cell_type": "code",
   "execution_count": 58,
   "id": "4dee2b72",
   "metadata": {},
   "outputs": [
    {
     "data": {
      "text/plain": [
       "2943751"
      ]
     },
     "execution_count": 58,
     "metadata": {},
     "output_type": "execute_result"
    }
   ],
   "source": [
    "sum(mask_mumu)"
   ]
  },
  {
   "cell_type": "code",
   "execution_count": 59,
   "id": "b846f74f",
   "metadata": {},
   "outputs": [],
   "source": [
    "# exclude events with four leptons\n",
    "mask_4l = mask_ee & mask_mumu"
   ]
  },
  {
   "cell_type": "code",
   "execution_count": 60,
   "id": "6c397488",
   "metadata": {},
   "outputs": [
    {
     "data": {
      "text/plain": [
       "0"
      ]
     },
     "execution_count": 60,
     "metadata": {},
     "output_type": "execute_result"
    }
   ],
   "source": [
    "sum(mask_4l)"
   ]
  },
  {
   "cell_type": "code",
   "execution_count": 61,
   "id": "75e3882a",
   "metadata": {},
   "outputs": [
    {
     "data": {
      "text/plain": [
       "<Array [True, True, True, ... True, True, True] type='4538279 * bool'>"
      ]
     },
     "execution_count": 61,
     "metadata": {},
     "output_type": "execute_result"
    }
   ],
   "source": [
    "~mask_4l"
   ]
  },
  {
   "cell_type": "code",
   "execution_count": 62,
   "id": "1fbac130",
   "metadata": {},
   "outputs": [
    {
     "data": {
      "text/plain": [
       "<Array [True, True, True, ... False, False] type='4538279 * bool'>"
      ]
     },
     "execution_count": 62,
     "metadata": {},
     "output_type": "execute_result"
    }
   ],
   "source": [
    "mask_ee & (~mask_4l)"
   ]
  },
  {
   "cell_type": "code",
   "execution_count": 63,
   "id": "a1d70c74",
   "metadata": {},
   "outputs": [
    {
     "data": {
      "text/plain": [
       "<Array [True, True, True, ... False, False] type='4538279 * bool'>"
      ]
     },
     "execution_count": 63,
     "metadata": {},
     "output_type": "execute_result"
    }
   ],
   "source": [
    "mask_ee"
   ]
  },
  {
   "cell_type": "code",
   "execution_count": 64,
   "id": "b974afe6",
   "metadata": {},
   "outputs": [],
   "source": [
    "mask_ee = mask_ee & ~mask_4l\n",
    "mask_mumu = mask_mumu & ~mask_4l"
   ]
  },
  {
   "cell_type": "code",
   "execution_count": 65,
   "id": "264f5d8b",
   "metadata": {},
   "outputs": [
    {
     "data": {
      "text/plain": [
       "1594528"
      ]
     },
     "execution_count": 65,
     "metadata": {},
     "output_type": "execute_result"
    }
   ],
   "source": [
    "sum(mask_ee)"
   ]
  },
  {
   "cell_type": "code",
   "execution_count": 66,
   "id": "6875f929",
   "metadata": {},
   "outputs": [
    {
     "data": {
      "text/plain": [
       "2943751"
      ]
     },
     "execution_count": 66,
     "metadata": {},
     "output_type": "execute_result"
    }
   ],
   "source": [
    "sum(mask_mumu)"
   ]
  },
  {
   "cell_type": "code",
   "execution_count": 67,
   "id": "310246ea",
   "metadata": {},
   "outputs": [],
   "source": [
    "mask_ee_pt = calc_dilepton_pt(samples.el_pt, samples.el_eta, samples.el_phi) > 50e3"
   ]
  },
  {
   "cell_type": "code",
   "execution_count": 68,
   "id": "924d5b92",
   "metadata": {},
   "outputs": [],
   "source": [
    "mask_mumu_pt = calc_dilepton_pt(samples.mu_pt, samples.mu_eta, samples.mu_phi) > 50e3"
   ]
  },
  {
   "cell_type": "code",
   "execution_count": 69,
   "id": "d8fa7a66",
   "metadata": {},
   "outputs": [
    {
     "data": {
      "text/plain": [
       "<Array [True, True, True, ... False, False] type='4538279 * bool'>"
      ]
     },
     "execution_count": 69,
     "metadata": {},
     "output_type": "execute_result"
    }
   ],
   "source": [
    "mask_ee_pt"
   ]
  },
  {
   "cell_type": "code",
   "execution_count": 70,
   "id": "964a1bcf",
   "metadata": {},
   "outputs": [],
   "source": [
    "z_pt_min = 50e3"
   ]
  },
  {
   "cell_type": "code",
   "execution_count": 71,
   "id": "14e8f256",
   "metadata": {},
   "outputs": [],
   "source": [
    "# electrons in Z invariant mass window and transverse momentum > 50GeV\n",
    "mask_ee = mask_ee & mask_ee_m & mask_ee_pt"
   ]
  },
  {
   "cell_type": "code",
   "execution_count": 72,
   "id": "cefd208a",
   "metadata": {},
   "outputs": [],
   "source": [
    "# muons in Z invariant mass window\n",
    "mask_mumu = mask_mumu & mask_mumu_m & mask_mumu_pt"
   ]
  },
  {
   "cell_type": "code",
   "execution_count": 73,
   "id": "e84fec37",
   "metadata": {},
   "outputs": [
    {
     "data": {
      "text/plain": [
       "2818923"
      ]
     },
     "execution_count": 73,
     "metadata": {},
     "output_type": "execute_result"
    }
   ],
   "source": [
    "sum(mask_ee) + sum(mask_mumu)"
   ]
  },
  {
   "cell_type": "code",
   "execution_count": 74,
   "id": "cce116c8",
   "metadata": {},
   "outputs": [],
   "source": [
    "mask = mask_ee | mask_mumu"
   ]
  },
  {
   "cell_type": "code",
   "execution_count": 75,
   "id": "2ac30265",
   "metadata": {},
   "outputs": [
    {
     "data": {
      "text/plain": [
       "2818923"
      ]
     },
     "execution_count": 75,
     "metadata": {},
     "output_type": "execute_result"
    }
   ],
   "source": [
    "sum(mask)"
   ]
  },
  {
   "cell_type": "code",
   "execution_count": 76,
   "id": "886edbc0",
   "metadata": {},
   "outputs": [],
   "source": [
    "mask_test = mask_ee[:5]"
   ]
  },
  {
   "cell_type": "code",
   "execution_count": 77,
   "id": "dbc211d3",
   "metadata": {},
   "outputs": [
    {
     "data": {
      "text/plain": [
       "<Array [True, True, True, True, True] type='5 * bool'>"
      ]
     },
     "execution_count": 77,
     "metadata": {},
     "output_type": "execute_result"
    }
   ],
   "source": [
    "mask_test"
   ]
  },
  {
   "cell_type": "code",
   "execution_count": 78,
   "id": "e8072d40",
   "metadata": {},
   "outputs": [],
   "source": [
    "ee_pt = calc_dilepton_pt(samples.el_pt, samples.el_eta, samples.el_phi)\n",
    "mumu_pt = calc_dilepton_pt(samples.mu_pt, samples.mu_eta, samples.mu_phi)"
   ]
  },
  {
   "cell_type": "code",
   "execution_count": 79,
   "id": "116d6a05",
   "metadata": {},
   "outputs": [
    {
     "data": {
      "image/png": "[encoded data removed]",
      "text/plain": [
       "<Figure size 700x500 with 1 Axes>"
      ]
     },
     "metadata": {},
     "output_type": "display_data"
    }
   ],
   "source": [
    "data = [ee_pt, mumu_pt]\n",
    "sample_names = ['ee','mumu']\n",
    "plot_feature_for_n_samples(data,sample_names,xlabel='transverse momentum',show_plt=True)"
   ]
  },
  {
   "cell_type": "code",
   "execution_count": 80,
   "id": "43a82d74",
   "metadata": {},
   "outputs": [
    {
     "data": {
      "text/plain": [
       "1888126.875"
      ]
     },
     "execution_count": 80,
     "metadata": {},
     "output_type": "execute_result"
    }
   ],
   "source": [
    "max(ee_pt)"
   ]
  },
  {
   "cell_type": "code",
   "execution_count": 81,
   "id": "a19fe02c",
   "metadata": {},
   "outputs": [],
   "source": [
    "mask_test = mask_test & [False, True, True, False, True]"
   ]
  },
  {
   "cell_type": "code",
   "execution_count": 82,
   "id": "a90628d4",
   "metadata": {},
   "outputs": [
    {
     "data": {
      "text/plain": [
       "<Array [False, True, True, False, True] type='5 * bool'>"
      ]
     },
     "execution_count": 82,
     "metadata": {},
     "output_type": "execute_result"
    }
   ],
   "source": [
    "mask_test"
   ]
  },
  {
   "cell_type": "code",
   "execution_count": 83,
   "id": "7bce8711",
   "metadata": {},
   "outputs": [],
   "source": [
    "mask_inv = ~mask_test"
   ]
  },
  {
   "cell_type": "code",
   "execution_count": 84,
   "id": "b17cd17b",
   "metadata": {},
   "outputs": [
    {
     "data": {
      "text/plain": [
       "<Array [True, False, False, True, False] type='5 * bool'>"
      ]
     },
     "execution_count": 84,
     "metadata": {},
     "output_type": "execute_result"
    }
   ],
   "source": [
    "mask_inv"
   ]
  },
  {
   "cell_type": "code",
   "execution_count": 85,
   "id": "1c068b22",
   "metadata": {},
   "outputs": [
    {
     "data": {
      "text/plain": [
       "<Array [True, False, False, True, False] type='5 * bool'>"
      ]
     },
     "execution_count": 85,
     "metadata": {},
     "output_type": "execute_result"
    }
   ],
   "source": [
    "mask_inv & [True, True, True, True, True]"
   ]
  },
  {
   "cell_type": "code",
   "execution_count": 86,
   "id": "b93ac101",
   "metadata": {},
   "outputs": [
    {
     "data": {
      "text/plain": [
       "<Array [False, True, True, False, True] type='5 * bool'>"
      ]
     },
     "execution_count": 86,
     "metadata": {},
     "output_type": "execute_result"
    }
   ],
   "source": [
    "~mask_inv & [True, True, True, True, True]"
   ]
  },
  {
   "cell_type": "code",
   "execution_count": 88,
   "id": "f2b39815",
   "metadata": {},
   "outputs": [],
   "source": [
    "import sys\n",
    "sys.path.append('/eos/home-k/kiwoznia/dev/phys_global')"
   ]
  },
  {
   "cell_type": "code",
   "execution_count": 96,
   "id": "8b8f98c6",
   "metadata": {},
   "outputs": [],
   "source": [
    "import physkiplot.src.plotting as heplt"
   ]
  },
  {
   "cell_type": "code",
   "execution_count": 99,
   "id": "d3d90865",
   "metadata": {},
   "outputs": [
    {
     "data": {
      "text/plain": [
       "<module 'physkiplot.src.plotting' from '/eos/home-k/kiwoznia/dev/phys_global/physkiplot/src/plotting.py'>"
      ]
     },
     "execution_count": 99,
     "metadata": {},
     "output_type": "execute_result"
    }
   ],
   "source": [
    "import importlib\n",
    "importlib.reload(heplt)"
   ]
  },
  {
   "cell_type": "code",
   "execution_count": 100,
   "id": "72d75e99",
   "metadata": {},
   "outputs": [
    {
     "data": {
      "image/png": "[encoded data removed]",
      "text/plain": [
       "<Figure size 700x500 with 1 Axes>"
      ]
     },
     "metadata": {},
     "output_type": "display_data"
    }
   ],
   "source": [
    "heplt.plot_feature_for_n_samples(data,sample_names,xlabel='transverse momentum',show_plt=True)"
   ]
  },
  {
   "cell_type": "code",
   "execution_count": null,
   "id": "cab9544d",
   "metadata": {},
   "outputs": [],
   "source": []
  }
 ],
 "metadata": {
  "kernelspec": {
   "display_name": "Python 3",
   "language": "python",
   "name": "python3"
  },
  "language_info": {
   "codemirror_mode": {
    "name": "ipython",
    "version": 3
   },
   "file_extension": ".py",
   "mimetype": "text/x-python",
   "name": "python",
   "nbconvert_exporter": "python",
   "pygments_lexer": "ipython3",
   "version": "3.7.11"
  }
 },
 "nbformat": 4,
 "nbformat_minor": 5
}
