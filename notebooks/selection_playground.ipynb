{
 "cells": [
  {
   "cell_type": "code",
   "execution_count": 15,
   "id": "37413efa",
   "metadata": {},
   "outputs": [],
   "source": [
    "import uproot\n",
    "import h5py\n",
    "import numpy as np\n",
    "import os\n",
    "import awkward as ak"
   ]
  },
  {
   "cell_type": "code",
   "execution_count": 16,
   "id": "8a8d7143",
   "metadata": {},
   "outputs": [],
   "source": [
    "# pick random file\n",
    "dir_root_lightjet = '/eos/atlas/atlascerngroupdisk/perf-flavtag/calib/negtag/Rel24_GN2/mc20_Run2/Ntuples/PeriodE/ZJets_MG/user.ltoffoli.mc20_13TeV.506193.MGPy8EG_3jets_HT2bias_BFilter.deriv.DAOD_PHYS.e8382_s3681_r13145_p5631.toffoGN2_v1_output.root'\n",
    "fname = os.listdir(dir_root_lightjet)[3]"
   ]
  },
  {
   "cell_type": "code",
   "execution_count": 17,
   "id": "41eaa855",
   "metadata": {},
   "outputs": [
    {
     "data": {
      "text/plain": [
       "'user.ltoffoli.35094310._000002.output.root'"
      ]
     },
     "execution_count": 17,
     "metadata": {},
     "output_type": "execute_result"
    }
   ],
   "source": [
    "fname"
   ]
  },
  {
   "cell_type": "code",
   "execution_count": 18,
   "id": "70274f70",
   "metadata": {},
   "outputs": [],
   "source": [
    "tree = uproot.open(os.path.join(dir_root_lightjet,fname)+':nominal')"
   ]
  },
  {
   "cell_type": "code",
   "execution_count": 19,
   "id": "976c00b5",
   "metadata": {},
   "outputs": [
    {
     "data": {
      "text/plain": [
       "<TTree 'nominal' (119 branches) at 0x7f769e6b9c50>"
      ]
     },
     "execution_count": 19,
     "metadata": {},
     "output_type": "execute_result"
    }
   ],
   "source": [
    "tree"
   ]
  },
  {
   "cell_type": "code",
   "execution_count": 68,
   "id": "a5f15c1e",
   "metadata": {},
   "outputs": [],
   "source": [
    "samples = tree.arrays(['el_e','mu_e','el_charge','mu_charge','el_pt','mu_pt', 'el_phi','mu_phi',\\\n",
    "                      'el_eta', 'mu_eta', 'jet_e'])[:3]"
   ]
  },
  {
   "cell_type": "code",
   "execution_count": 70,
   "id": "0e96747f",
   "metadata": {},
   "outputs": [
    {
     "data": {
      "text/plain": [
       "['Mask',\n",
       " '__class__',\n",
       " '__delattr__',\n",
       " '__dir__',\n",
       " '__doc__',\n",
       " '__eq__',\n",
       " '__format__',\n",
       " '__ge__',\n",
       " '__get__',\n",
       " '__getattribute__',\n",
       " '__gt__',\n",
       " '__hash__',\n",
       " '__init__',\n",
       " '__init_subclass__',\n",
       " '__le__',\n",
       " '__lt__',\n",
       " '__ne__',\n",
       " '__new__',\n",
       " '__reduce__',\n",
       " '__reduce_ex__',\n",
       " '__repr__',\n",
       " '__self__',\n",
       " '__self_class__',\n",
       " '__setattr__',\n",
       " '__sizeof__',\n",
       " '__str__',\n",
       " '__subclasshook__',\n",
       " '__thisclass__',\n",
       " '_behavior',\n",
       " '_caches',\n",
       " '_layout',\n",
       " '_numbaview',\n",
       " 'behavior',\n",
       " 'caches',\n",
       " 'el_charge',\n",
       " 'el_e',\n",
       " 'el_eta',\n",
       " 'el_phi',\n",
       " 'el_pt',\n",
       " 'fields',\n",
       " 'jet_e',\n",
       " 'layout',\n",
       " 'mask',\n",
       " 'mu_charge',\n",
       " 'mu_e',\n",
       " 'mu_eta',\n",
       " 'mu_phi',\n",
       " 'mu_pt',\n",
       " 'nbytes',\n",
       " 'ndim',\n",
       " 'numba_type',\n",
       " 'slot0',\n",
       " 'slot1',\n",
       " 'slot2',\n",
       " 'slot3',\n",
       " 'slot4',\n",
       " 'slot5',\n",
       " 'slot6',\n",
       " 'slot7',\n",
       " 'slot8',\n",
       " 'slot9',\n",
       " 'to_list',\n",
       " 'to_numpy',\n",
       " 'tolist',\n",
       " 'type']"
      ]
     },
     "execution_count": 70,
     "metadata": {},
     "output_type": "execute_result"
    }
   ],
   "source": [
    "dir(samples)"
   ]
  },
  {
   "cell_type": "code",
   "execution_count": 73,
   "id": "fd94b55f",
   "metadata": {},
   "outputs": [],
   "source": [
    "samples = tree.arrays(['el_e','el_charge','el_pt', 'el_phi','el_eta'])[:3]"
   ]
  },
  {
   "cell_type": "code",
   "execution_count": 74,
   "id": "758923ba",
   "metadata": {},
   "outputs": [
    {
     "data": {
      "text/plain": [
       "<RecordArray length=\"3\">\n",
       "    <field index=\"0\" key=\"el_e\">\n",
       "        <ListOffsetArray64>\n",
       "            <offsets><Index64 i=\"[0 2 4 6]\" offset=\"0\" length=\"4\" at=\"0x00002c16ca90\"/></offsets>\n",
       "            <content><NumpyArray format=\"f\" shape=\"3189056\" data=\"203773 51661.3 315710 235376 185047 ... 44652.5 251212 204755 141797 78415.8\" at=\"0x00002cd96fa0\"/></content>\n",
       "        </ListOffsetArray64>\n",
       "    </field>\n",
       "    <field index=\"1\" key=\"el_charge\">\n",
       "        <ListOffsetArray64>\n",
       "            <offsets><Index64 i=\"[0 2 4 6]\" offset=\"0\" length=\"4\" at=\"0x000025299010\"/></offsets>\n",
       "            <content><NumpyArray format=\"f\" shape=\"3189056\" data=\"-1 1 1 -1 1 ... 1 -1 1 -1 1\" at=\"0x000025ec3520\"/></content>\n",
       "        </ListOffsetArray64>\n",
       "    </field>\n",
       "    <field index=\"2\" key=\"el_pt\">\n",
       "        <ListOffsetArray64>\n",
       "            <offsets><Index64 i=\"[0 2 4 6]\" offset=\"0\" length=\"4\" at=\"0x000026aeda30\"/></offsets>\n",
       "            <content><NumpyArray format=\"f\" shape=\"3189056\" data=\"178379 47609.6 263095 162134 124998 ... 32408.2 146270 52634.4 98420.5 58263.9\" at=\"0x000027717f40\"/></content>\n",
       "        </ListOffsetArray64>\n",
       "    </field>\n",
       "    <field index=\"3\" key=\"el_phi\">\n",
       "        <ListOffsetArray64>\n",
       "            <offsets><Index64 i=\"[0 2 4 6]\" offset=\"0\" length=\"4\" at=\"0x0000322f61c0\"/></offsets>\n",
       "            <content><NumpyArray format=\"f\" shape=\"3189056\" data=\"0.400159 1.3731 0.272109 -0.0465751 1.24943 ... 0.840571 1.74578 1.40234 -2.05572 2.97331\" at=\"0x000032f206d0\"/></content>\n",
       "        </ListOffsetArray64>\n",
       "    </field>\n",
       "    <field index=\"4\" key=\"el_eta\">\n",
       "        <ListOffsetArray64>\n",
       "            <offsets><Index64 i=\"[0 2 4 6]\" offset=\"0\" length=\"4\" at=\"0x00001720ab40\"/></offsets>\n",
       "            <content><NumpyArray format=\"f\" shape=\"3189056\" data=\"0.527457 0.409688 -0.622338 -0.917943 -0.944684 ... 0.843993 1.13583 2.03464 -0.907407 -0.809435\" at=\"0x00001853b940\"/></content>\n",
       "        </ListOffsetArray64>\n",
       "    </field>\n",
       "</RecordArray>"
      ]
     },
     "execution_count": 74,
     "metadata": {},
     "output_type": "execute_result"
    }
   ],
   "source": [
    "samples.layout"
   ]
  },
  {
   "cell_type": "code",
   "execution_count": 75,
   "id": "4799f553",
   "metadata": {},
   "outputs": [
    {
     "data": {
      "text/plain": [
       "<Array [{el_e: [2.04e+05, ... 0.115]}] type='3 * {\"el_e\": var * float32, \"el_cha...'>"
      ]
     },
     "execution_count": 75,
     "metadata": {},
     "output_type": "execute_result"
    }
   ],
   "source": [
    "samples"
   ]
  },
  {
   "cell_type": "code",
   "execution_count": 76,
   "id": "b7e88b4f",
   "metadata": {},
   "outputs": [
    {
     "data": {
      "text/plain": [
       "<Array [1.25, 0.2] type='2 * float32'>"
      ]
     },
     "execution_count": 76,
     "metadata": {},
     "output_type": "execute_result"
    }
   ],
   "source": [
    "samples[2].el_phi"
   ]
  },
  {
   "cell_type": "code",
   "execution_count": 91,
   "id": "a4c4666b",
   "metadata": {},
   "outputs": [],
   "source": [
    "# sum over both electrons\n",
    "ee_px = ak.sum(samples.el_pt * np.cos(samples.el_phi),axis=1)\n",
    "ee_py = ak.sum(samples.el_pt * np.sin(samples.el_phi),axis=1)\n",
    "ee_pz = ak.sum(samples.el_pt * np.sinh(samples.el_eta),axis=1)"
   ]
  },
  {
   "cell_type": "code",
   "execution_count": 92,
   "id": "a4f0d83b",
   "metadata": {},
   "outputs": [
    {
     "data": {
      "text/plain": [
       "<Array [1.74e+05, 4.15e+05, 6.47e+04] type='3 * float32'>"
      ]
     },
     "execution_count": 92,
     "metadata": {},
     "output_type": "execute_result"
    }
   ],
   "source": [
    "ee_px"
   ]
  },
  {
   "cell_type": "code",
   "execution_count": 95,
   "id": "bd857c2c",
   "metadata": {},
   "outputs": [],
   "source": [
    "ee_pt3d = ee_px**2 + ee_py**2 + ee_pz**2\n",
    "ee_e3d = ak.sum(np.sqrt((samples.el_pt*np.cosh(samples.el_eta))**2 + (511e-3)**2),axis=1)"
   ]
  },
  {
   "cell_type": "code",
   "execution_count": 96,
   "id": "26bd2c0c",
   "metadata": {},
   "outputs": [
    {
     "data": {
      "text/plain": [
       "<Array [2.55e+05, 5.51e+05, 2.11e+05] type='3 * float32'>"
      ]
     },
     "execution_count": 96,
     "metadata": {},
     "output_type": "execute_result"
    }
   ],
   "source": [
    "ee_e3d"
   ]
  },
  {
   "cell_type": "code",
   "execution_count": 97,
   "id": "853b5592",
   "metadata": {},
   "outputs": [
    {
     "data": {
      "text/plain": [
       "<Array [-5.77e+10, -2.96e+11, -3.73e+10] type='3 * float32'>"
      ]
     },
     "execution_count": 97,
     "metadata": {},
     "output_type": "execute_result"
    }
   ],
   "source": [
    "ee_e3d**2 - (ee_pt3d+ee_e3d**2)"
   ]
  },
  {
   "cell_type": "code",
   "execution_count": 40,
   "id": "79f18e80",
   "metadata": {},
   "outputs": [],
   "source": [
    "samples['ee_m'] = ak.sum(np.sqrt(ee_e3d**2 - el_pt3d**2), axis=1)"
   ]
  },
  {
   "cell_type": "code",
   "execution_count": 41,
   "id": "a28c1bd4",
   "metadata": {},
   "outputs": [
    {
     "data": {
      "text/plain": [
       "<Array [[nan, 0], [0, 128], [64, nan]] type='3 * var * float32'>"
      ]
     },
     "execution_count": 41,
     "metadata": {},
     "output_type": "execute_result"
    }
   ],
   "source": [
    "np.sqrt(el_e3d**2 - el_pt3d**2)"
   ]
  },
  {
   "cell_type": "code",
   "execution_count": 42,
   "id": "aa49a682",
   "metadata": {},
   "outputs": [
    {
     "data": {
      "text/plain": [
       "<Array [[2.04e+05, 5.17e+04, ... 2.59e+04]] type='3 * var * float32'>"
      ]
     },
     "execution_count": 42,
     "metadata": {},
     "output_type": "execute_result"
    }
   ],
   "source": [
    "el_pt3d"
   ]
  },
  {
   "cell_type": "code",
   "execution_count": 43,
   "id": "bfdf6cfd",
   "metadata": {},
   "outputs": [
    {
     "data": {
      "text/plain": [
       "<Array [[2.04e+05, 5.17e+04, ... 2.59e+04]] type='3 * var * float32'>"
      ]
     },
     "execution_count": 43,
     "metadata": {},
     "output_type": "execute_result"
    }
   ],
   "source": [
    "el_e3d"
   ]
  },
  {
   "cell_type": "code",
   "execution_count": 44,
   "id": "76c29d02",
   "metadata": {},
   "outputs": [
    {
     "data": {
      "text/plain": [
       "<Array [[-8.19e+03, 0], ... [4.1e+03, -64]] type='3 * var * float32'>"
      ]
     },
     "execution_count": 44,
     "metadata": {},
     "output_type": "execute_result"
    }
   ],
   "source": [
    "el_e3d**2 - el_pt3d**2"
   ]
  },
  {
   "cell_type": "code",
   "execution_count": null,
   "id": "9a8e3b51",
   "metadata": {},
   "outputs": [],
   "source": []
  }
 ],
 "metadata": {
  "kernelspec": {
   "display_name": "Python 3",
   "language": "python",
   "name": "python3"
  },
  "language_info": {
   "codemirror_mode": {
    "name": "ipython",
    "version": 3
   },
   "file_extension": ".py",
   "mimetype": "text/x-python",
   "name": "python",
   "nbconvert_exporter": "python",
   "pygments_lexer": "ipython3",
   "version": "3.7.11"
  }
 },
 "nbformat": 4,
 "nbformat_minor": 5
}
