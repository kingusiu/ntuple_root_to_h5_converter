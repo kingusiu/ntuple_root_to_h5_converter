{
 "cells": [
  {
   "cell_type": "code",
   "execution_count": 72,
   "id": "37413efa",
   "metadata": {},
   "outputs": [],
   "source": [
    "import uproot\n",
    "import h5py\n",
    "import numpy as np\n",
    "import os\n",
    "import awkward as ak"
   ]
  },
  {
   "cell_type": "code",
   "execution_count": 73,
   "id": "8a8d7143",
   "metadata": {},
   "outputs": [],
   "source": [
    "# pick random file\n",
    "dir_root_lightjet = '/eos/atlas/atlascerngroupdisk/perf-flavtag/calib/negtag/Rel24_GN2/mc20_Run2/Ntuples/PeriodE/ZJets_MG'\n",
    "subdir_ee = 'user.ltoffoli.mc20_13TeV.506193.MGPy8EG_3jets_HT2bias_BFilter.deriv.DAOD_PHYS.e8382_s3681_r13145_p5631.toffoGN2_v1_output.root'"
   ]
  },
  {
   "cell_type": "code",
   "execution_count": 74,
   "id": "3eba98a1",
   "metadata": {},
   "outputs": [],
   "source": [
    "fname_ee = os.listdir(os.path.join(dir_root_lightjet,subdir_ee))[3]"
   ]
  },
  {
   "cell_type": "markdown",
   "id": "d567f7c3",
   "metadata": {},
   "source": [
    "## di-electron"
   ]
  },
  {
   "cell_type": "code",
   "execution_count": 75,
   "id": "70274f70",
   "metadata": {},
   "outputs": [],
   "source": [
    "tree = uproot.open(os.path.join(dir_root_lightjet,subdir_ee,fname_ee)+':nominal')"
   ]
  },
  {
   "cell_type": "code",
   "execution_count": 76,
   "id": "a5f15c1e",
   "metadata": {},
   "outputs": [],
   "source": [
    "samples = tree.arrays(['el_e','mu_e','el_charge','mu_charge','el_pt','mu_pt', 'el_phi','mu_phi',\\\n",
    "                      'el_eta', 'mu_eta', 'jet_e'])"
   ]
  },
  {
   "cell_type": "code",
   "execution_count": 77,
   "id": "4799f553",
   "metadata": {},
   "outputs": [
    {
     "data": {
      "text/plain": [
       "<Array [{el_e: [2.04e+05, ... 5.28e+05]}] type='1594528 * {\"el_e\": var * float32...'>"
      ]
     },
     "execution_count": 77,
     "metadata": {},
     "output_type": "execute_result"
    }
   ],
   "source": [
    "samples"
   ]
  },
  {
   "cell_type": "code",
   "execution_count": 78,
   "id": "b7e88b4f",
   "metadata": {},
   "outputs": [
    {
     "data": {
      "text/plain": [
       "<Array [1.25, 0.2] type='2 * float32'>"
      ]
     },
     "execution_count": 78,
     "metadata": {},
     "output_type": "execute_result"
    }
   ],
   "source": [
    "samples[2].el_phi"
   ]
  },
  {
   "cell_type": "code",
   "execution_count": 79,
   "id": "a4c4666b",
   "metadata": {},
   "outputs": [],
   "source": [
    "# sum over both electrons\n",
    "ee_px = ak.sum(samples.el_pt * np.cos(samples.el_phi),axis=1)\n",
    "ee_py = ak.sum(samples.el_pt * np.sin(samples.el_phi),axis=1)\n",
    "ee_pz = ak.sum(samples.el_pt * np.sinh(samples.el_eta),axis=1)"
   ]
  },
  {
   "cell_type": "code",
   "execution_count": 80,
   "id": "a4f0d83b",
   "metadata": {},
   "outputs": [
    {
     "data": {
      "text/plain": [
       "<Array [1.74e+05, 4.15e+05, ... -1.03e+05] type='1594528 * float32'>"
      ]
     },
     "execution_count": 80,
     "metadata": {},
     "output_type": "execute_result"
    }
   ],
   "source": [
    "ee_px"
   ]
  },
  {
   "cell_type": "code",
   "execution_count": 81,
   "id": "bd857c2c",
   "metadata": {},
   "outputs": [],
   "source": [
    "ee_pt3d = ee_px**2 + ee_py**2 + ee_pz**2\n",
    "ee_e3d = ak.sum(np.sqrt((samples.el_pt*np.cosh(samples.el_eta))**2 + (511e-3)**2),axis=1)"
   ]
  },
  {
   "cell_type": "code",
   "execution_count": 82,
   "id": "26bd2c0c",
   "metadata": {},
   "outputs": [
    {
     "data": {
      "text/plain": [
       "<Array [2.55e+05, 5.51e+05, ... 2.2e+05] type='1594528 * float32'>"
      ]
     },
     "execution_count": 82,
     "metadata": {},
     "output_type": "execute_result"
    }
   ],
   "source": [
    "ee_e3d"
   ]
  },
  {
   "cell_type": "code",
   "execution_count": 83,
   "id": "853b5592",
   "metadata": {},
   "outputs": [
    {
     "data": {
      "text/plain": [
       "<Array [7.54e+09, 8.05e+09, ... 7.95e+09] type='1594528 * float32'>"
      ]
     },
     "execution_count": 83,
     "metadata": {},
     "output_type": "execute_result"
    }
   ],
   "source": [
    "ee_e3d**2 - ee_pt3d"
   ]
  },
  {
   "cell_type": "code",
   "execution_count": 84,
   "id": "79f18e80",
   "metadata": {},
   "outputs": [],
   "source": [
    "samples['ee_m'] = np.sqrt(ee_e3d**2 - ee_pt3d)"
   ]
  },
  {
   "cell_type": "code",
   "execution_count": 85,
   "id": "aa49a682",
   "metadata": {},
   "outputs": [],
   "source": [
    "ee_m = samples['ee_m']"
   ]
  },
  {
   "cell_type": "markdown",
   "id": "60c4aad2",
   "metadata": {},
   "source": [
    "## di-muon"
   ]
  },
  {
   "cell_type": "code",
   "execution_count": 91,
   "id": "1623278e",
   "metadata": {},
   "outputs": [],
   "source": [
    "subdir_mumu = 'user.ltoffoli.mc20_13TeV.506196.MGPy8EG_3jets_HT2bias_BFilter.deriv.DAOD_PHYS.e8382_s3681_r13145_p5631.toffoGN2_v1_output.root'\n",
    "fname_mumu = os.listdir(os.path.join(dir_root_lightjet,subdir_mumu))[2]"
   ]
  },
  {
   "cell_type": "code",
   "execution_count": 92,
   "id": "1d411d3c",
   "metadata": {},
   "outputs": [],
   "source": [
    "tree = uproot.open(os.path.join(dir_root_lightjet,subdir_mumu,fname_mumu)+':nominal')"
   ]
  },
  {
   "cell_type": "code",
   "execution_count": 93,
   "id": "c1bb9fa1",
   "metadata": {},
   "outputs": [],
   "source": [
    "samples = tree.arrays(['el_e','mu_e','el_charge','mu_charge','el_pt','mu_pt', 'el_phi','mu_phi',\\\n",
    "                      'el_eta', 'mu_eta', 'jet_e'])"
   ]
  },
  {
   "cell_type": "code",
   "execution_count": 94,
   "id": "82121541",
   "metadata": {},
   "outputs": [
    {
     "data": {
      "text/plain": [
       "<Array [{el_e: [], mu_e: [, ... 2.35e+04]}] type='2943751 * {\"el_e\": var * float...'>"
      ]
     },
     "execution_count": 94,
     "metadata": {},
     "output_type": "execute_result"
    }
   ],
   "source": [
    "samples"
   ]
  },
  {
   "cell_type": "code",
   "execution_count": 95,
   "id": "50df7843",
   "metadata": {},
   "outputs": [
    {
     "data": {
      "text/plain": [
       "<Array [2.77, -0.297] type='2 * float32'>"
      ]
     },
     "execution_count": 95,
     "metadata": {},
     "output_type": "execute_result"
    }
   ],
   "source": [
    "samples[2].mu_phi"
   ]
  },
  {
   "cell_type": "code",
   "execution_count": 96,
   "id": "7d367566",
   "metadata": {},
   "outputs": [],
   "source": [
    "# sum over both muons\n",
    "mu_px = ak.sum(samples.mu_pt * np.cos(samples.mu_phi),axis=1)\n",
    "mu_py = ak.sum(samples.mu_pt * np.sin(samples.mu_phi),axis=1)\n",
    "mu_pz = ak.sum(samples.mu_pt * np.sinh(samples.mu_eta),axis=1)"
   ]
  },
  {
   "cell_type": "code",
   "execution_count": 97,
   "id": "6e7a5a05",
   "metadata": {},
   "outputs": [],
   "source": [
    "mu_pt3d = mu_px**2 + mu_py**2 + mu_pz**2\n",
    "mu_e3d = ak.sum(np.sqrt((samples.mu_pt*np.cosh(samples.mu_eta))**2 + (105.7)**2),axis=1)"
   ]
  },
  {
   "cell_type": "code",
   "execution_count": 99,
   "id": "6d923143",
   "metadata": {},
   "outputs": [],
   "source": [
    "samples['mumu_m'] = np.sqrt(mu_e3d**2 - mu_pt3d)"
   ]
  },
  {
   "cell_type": "code",
   "execution_count": 100,
   "id": "b7661c61",
   "metadata": {},
   "outputs": [],
   "source": [
    "mumu_m = samples['mumu_m']"
   ]
  },
  {
   "cell_type": "code",
   "execution_count": 101,
   "id": "bfdf6cfd",
   "metadata": {},
   "outputs": [],
   "source": [
    "import matplotlib.pyplot as plt\n",
    "from matplotlib import colors\n",
    "import os\n",
    "import numpy as np\n",
    "import mplhep as hep"
   ]
  },
  {
   "cell_type": "code",
   "execution_count": 102,
   "id": "76c29d02",
   "metadata": {},
   "outputs": [],
   "source": [
    "palette = ['#3E96A1', '#EC4E20', '#FF9505', '#713E5A', '#D62828', '#5F0F40']"
   ]
  },
  {
   "cell_type": "code",
   "execution_count": 103,
   "id": "59b27a24",
   "metadata": {
    "scrolled": true
   },
   "outputs": [],
   "source": [
    "def get_bg_idx(sample_names, bg_name):\n",
    "\n",
    "    if bg_name is not None:\n",
    "        return [i for (i,s) in enumerate(sample_names) if bg_name in s][0]\n",
    "    else:\n",
    "        return -1"
   ]
  },
  {
   "cell_type": "code",
   "execution_count": 104,
   "id": "3ef36bb2",
   "metadata": {
    "scrolled": true
   },
   "outputs": [],
   "source": [
    "def plot_feature_for_n_samples(data, sample_names, bins=100, xlabel='x', ylabel='fraction events', title=None, clip_outlier=False, normed=True, \\\n",
    "    ylogscale=True, xlim=None, plot_name='feature_hist', fig_dir=None, fig_format='.pdf', fig_size=(7,7), bg_name=None, histtype_bg='stepfilled', \\\n",
    "    show_plt=False, legend_outside=True):\n",
    "    '''\n",
    "    plots single feature distribution for multiple samples as 1D histogram\n",
    "    :param data: list of J ndarrays of each N feature values\n",
    "    :param bg_name: if not None, one sample will be treated as background and plotted in histtype_bg style\n",
    "    '''\n",
    "\n",
    "    # import ipdb; ipdb.set_trace()\n",
    "\n",
    "    # if one sample is to be treated as background sample\n",
    "    bg_idx = get_bg_idx(sample_names, bg_name)\n",
    "\n",
    "    plt.style.use(hep.style.CMS)\n",
    "\n",
    "    fig = plt.figure(figsize=(7,5))\n",
    "    if ylogscale:\n",
    "        plt.yscale('log')\n",
    "\n",
    "    for i, (dat, col) in enumerate(zip(data, palette)):\n",
    "        if i == bg_idx:\n",
    "            plt.hist(dat, bins=bins, density=normed, alpha=0.5, histtype=histtype_bg, label=sample_names[i], color=col)\n",
    "        else:\n",
    "            plt.hist(dat, bins=bins, density=normed, alpha=1.0, histtype='step', label=sample_names[i], color=col)\n",
    "\n",
    "    if xlim:\n",
    "        plt.xlim(xlim)\n",
    "    plt.grid()\n",
    "    plt.gca().tick_params(axis='both', which='major', labelsize=14)\n",
    "    plt.ylabel(ylabel, fontsize=16)\n",
    "    plt.xlabel(xlabel, fontsize=16)\n",
    "    if legend_outside:\n",
    "        handles, labels = plt.gca().get_legend_handles_labels()\n",
    "        lgd = fig.legend(handles, labels, bbox_to_anchor=(0.5,-0.1), loc=\"lower center\", ncol=len(data), labelspacing=0.8, fontsize=16)\n",
    "        bbox_extra_artists = (lgd,)\n",
    "    else:\n",
    "        plt.legend(loc='best', fontsize=15)\n",
    "        bbox_extra_artists = None\n",
    "    plt.tight_layout()\n",
    "    if show_plt:\n",
    "        plt.show()\n",
    "    if fig_dir:\n",
    "        print('writing figure to ' + os.path.join(fig_dir, plot_name + fig_format))\n",
    "        fig.savefig(os.path.join(fig_dir, plot_name + fig_format), bbox_extra_artists=bbox_extra_artists, bbox_inches='tight')\n",
    "    plt.close(fig)\n"
   ]
  },
  {
   "cell_type": "code",
   "execution_count": 106,
   "id": "9a8e3b51",
   "metadata": {},
   "outputs": [
    {
     "data": {
      "image/png": "[encoded data removed]",
      "text/plain": [
       "<Figure size 700x500 with 1 Axes>"
      ]
     },
     "metadata": {},
     "output_type": "display_data"
    }
   ],
   "source": [
    "data = [ee_m, mumu_m]\n",
    "sample_names = ['ee','mumu']\n",
    "plot_feature_for_n_samples(data,sample_names,xlabel='invariant mass',show_plt=True)"
   ]
  },
  {
   "cell_type": "code",
   "execution_count": 119,
   "id": "469e63c8",
   "metadata": {},
   "outputs": [
    {
     "data": {
      "text/plain": [
       "1584543"
      ]
     },
     "execution_count": 119,
     "metadata": {},
     "output_type": "execute_result"
    }
   ],
   "source": [
    "sum((ee_m > 80e3) & (ee_m < 100e3))"
   ]
  }
 ],
 "metadata": {
  "kernelspec": {
   "display_name": "Python 3",
   "language": "python",
   "name": "python3"
  },
  "language_info": {
   "codemirror_mode": {
    "name": "ipython",
    "version": 3
   },
   "file_extension": ".py",
   "mimetype": "text/x-python",
   "name": "python",
   "nbconvert_exporter": "python",
   "pygments_lexer": "ipython3",
   "version": "3.7.11"
  }
 },
 "nbformat": 4,
 "nbformat_minor": 5
}
