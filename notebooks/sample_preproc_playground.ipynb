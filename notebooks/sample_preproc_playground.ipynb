{
 "cells": [
  {
   "cell_type": "code",
   "execution_count": 1,
   "id": "2dbce47a-ae54-4574-a712-e46b5bd88c0a",
   "metadata": {},
   "outputs": [],
   "source": [
    "import uproot\n",
    "import h5py\n",
    "import numpy as np\n",
    "import os\n",
    "import pandas as pd\n",
    "import awkward as awk\n",
    "import glob\n",
    "import heplot as hepl\n",
    "import importlib\n",
    "import sys\n",
    "sys.path.append('..')"
   ]
  },
  {
   "cell_type": "code",
   "execution_count": 2,
   "id": "c79fd01e-393e-4035-9200-37c353bf9c39",
   "metadata": {},
   "outputs": [],
   "source": [
    "import src.selection as sele\n",
    "import src.string_constants as stco\n",
    "import src.generator as gene\n",
    "import src.reader as read\n",
    "import src.util as util"
   ]
  },
  {
   "cell_type": "markdown",
   "id": "38af42c1-df5c-4063-bfbe-9cbbf54fbc90",
   "metadata": {},
   "source": [
    "## read file"
   ]
  },
  {
   "cell_type": "code",
   "execution_count": 3,
   "id": "052c5969-cb09-499d-a138-a52c69e02f4e",
   "metadata": {},
   "outputs": [],
   "source": [
    "feature_names = ['el_e','mu_e','el_charge','mu_charge','el_pt','mu_pt', 'el_phi','mu_phi',\\\n",
    "                      'el_eta', 'mu_eta', 'jet_e', 'jet_pt', 'jet_GN2_pu', 'jet_GN2_pb', 'jet_GN2_pc', 'jet_truthflav',\\\n",
    "                'weight_mc', 'weight_pileup', 'weight_jvt', 'weight_leptonSF']"
   ]
  },
  {
   "cell_type": "code",
   "execution_count": 7,
   "id": "7fd07c9f-6433-4c56-986f-ef593a198879",
   "metadata": {},
   "outputs": [],
   "source": [
    "## read signal MC (one file per ee, mumu, tautau)\n",
    "\n",
    "# read electron samples\n",
    "path_ee = glob.glob(os.path.join(stco.in_dir_mc,'*'+stco.ds_ids_sig['ee'][0]+'*'))[0]\n",
    "fname_ee = os.listdir(path_ee)[2]"
   ]
  },
  {
   "cell_type": "code",
   "execution_count": 5,
   "id": "dd18ae39-0b1c-4482-99ac-da421fe0c7ba",
   "metadata": {},
   "outputs": [],
   "source": [
    "tree = uproot.open(os.path.join(path_ee,fname_ee)+':nominal')\n",
    "samples = tree.arrays(feature_names)"
   ]
  },
  {
   "cell_type": "code",
   "execution_count": 6,
   "id": "caf09cb3-bd49-4d19-aa96-3c87fdd7f231",
   "metadata": {},
   "outputs": [],
   "source": [
    "#samples = samples[:10]"
   ]
  },
  {
   "cell_type": "code",
   "execution_count": 7,
   "id": "6b5360e9-ad64-4aa1-b0b3-890e3e69ceed",
   "metadata": {},
   "outputs": [
    {
     "data": {
      "text/html": [
       "<pre>[{el_e: [1.33e+05, 4.16e+04], mu_e: [], el_charge: [-1, ...], ...},\n",
       " {el_e: [1.19e+05, 9.25e+04], mu_e: [], el_charge: [1, ...], ...},\n",
       " {el_e: [1.05e+05, 4.21e+04], mu_e: [], el_charge: [-1, ...], ...},\n",
       " {el_e: [2.72e+05, 5.21e+04], mu_e: [], el_charge: [-1, ...], ...},\n",
       " {el_e: [7.29e+04, 6.26e+04], mu_e: [], el_charge: [-1, ...], ...},\n",
       " {el_e: [9.9e+04, 9.1e+04], mu_e: [], el_charge: [1, -1], mu_charge: [], ...},\n",
       " {el_e: [1.28e+05, 2.54e+04], mu_e: [], el_charge: [1, ...], ...},\n",
       " {el_e: [5.5e+04, 4.03e+04], mu_e: [], el_charge: [1, -1], mu_charge: [], ...},\n",
       " {el_e: [4.3e+05, 1.22e+05], mu_e: [], el_charge: [-1, 1], mu_charge: [], ...},\n",
       " {el_e: [1.22e+05, 4.25e+04], mu_e: [], el_charge: [1, ...], ...}]\n",
       "-------------------------------------------------------------------------------\n",
       "type: 10 * {\n",
       "    el_e: var * float32,\n",
       "    mu_e: var * float32,\n",
       "    el_charge: var * float32,\n",
       "    mu_charge: var * float32,\n",
       "    el_pt: var * float32,\n",
       "    mu_pt: var * float32,\n",
       "    el_phi: var * float32,\n",
       "    mu_phi: var * float32,\n",
       "    el_eta: var * float32,\n",
       "    mu_eta: var * float32,\n",
       "    jet_e: var * float32,\n",
       "    jet_pt: var * float32,\n",
       "    jet_GN2_pu: var * float64,\n",
       "    jet_GN2_pb: var * float64,\n",
       "    jet_GN2_pc: var * float64,\n",
       "    jet_truthflav: var * int32,\n",
       "    weight_mc: float32,\n",
       "    weight_pileup: float32,\n",
       "    weight_jvt: float32,\n",
       "    weight_leptonSF: float32\n",
       "}</pre>"
      ],
      "text/plain": [
       "<Array [{el_e: [...], mu_e: [], ...}, ...] type='10 * {el_e: var * float32,...'>"
      ]
     },
     "execution_count": 7,
     "metadata": {},
     "output_type": "execute_result"
    }
   ],
   "source": [
    "samples"
   ]
  },
  {
   "cell_type": "markdown",
   "id": "fa59d6c5-3190-4e5c-95dc-7a8972ff123a",
   "metadata": {},
   "source": [
    "## selection"
   ]
  },
  {
   "cell_type": "code",
   "execution_count": 8,
   "id": "a7672995-6f7c-4933-aad1-67f72f5cad2e",
   "metadata": {},
   "outputs": [],
   "source": [
    "# at least one jet\n",
    "mask = awk.num(samples.jet_e) >= 1\n",
    "samples = samples[mask]"
   ]
  },
  {
   "cell_type": "code",
   "execution_count": 9,
   "id": "4ee596a1-2d3f-4ea0-bf66-ab0bd71ed85d",
   "metadata": {},
   "outputs": [
    {
     "data": {
      "text/html": [
       "<pre>[{el_e: [1.33e+05, 4.16e+04], mu_e: [], el_charge: [-1, ...], ...},\n",
       " {el_e: [1.19e+05, 9.25e+04], mu_e: [], el_charge: [1, ...], ...},\n",
       " {el_e: [1.05e+05, 4.21e+04], mu_e: [], el_charge: [-1, ...], ...},\n",
       " {el_e: [2.72e+05, 5.21e+04], mu_e: [], el_charge: [-1, ...], ...},\n",
       " {el_e: [7.29e+04, 6.26e+04], mu_e: [], el_charge: [-1, ...], ...},\n",
       " {el_e: [9.9e+04, 9.1e+04], mu_e: [], el_charge: [1, -1], mu_charge: [], ...},\n",
       " {el_e: [1.28e+05, 2.54e+04], mu_e: [], el_charge: [1, ...], ...},\n",
       " {el_e: [5.5e+04, 4.03e+04], mu_e: [], el_charge: [1, -1], mu_charge: [], ...},\n",
       " {el_e: [4.3e+05, 1.22e+05], mu_e: [], el_charge: [-1, 1], mu_charge: [], ...},\n",
       " {el_e: [1.22e+05, 4.25e+04], mu_e: [], el_charge: [1, ...], ...}]\n",
       "-------------------------------------------------------------------------------\n",
       "type: 10 * {\n",
       "    el_e: var * float32,\n",
       "    mu_e: var * float32,\n",
       "    el_charge: var * float32,\n",
       "    mu_charge: var * float32,\n",
       "    el_pt: var * float32,\n",
       "    mu_pt: var * float32,\n",
       "    el_phi: var * float32,\n",
       "    mu_phi: var * float32,\n",
       "    el_eta: var * float32,\n",
       "    mu_eta: var * float32,\n",
       "    jet_e: var * float32,\n",
       "    jet_pt: var * float32,\n",
       "    jet_GN2_pu: var * float64,\n",
       "    jet_GN2_pb: var * float64,\n",
       "    jet_GN2_pc: var * float64,\n",
       "    jet_truthflav: var * int32,\n",
       "    weight_mc: float32,\n",
       "    weight_pileup: float32,\n",
       "    weight_jvt: float32,\n",
       "    weight_leptonSF: float32\n",
       "}</pre>"
      ],
      "text/plain": [
       "<Array [{el_e: [...], mu_e: [], ...}, ...] type='10 * {el_e: var * float32,...'>"
      ]
     },
     "execution_count": 9,
     "metadata": {},
     "output_type": "execute_result"
    }
   ],
   "source": [
    "samples"
   ]
  },
  {
   "cell_type": "code",
   "execution_count": 28,
   "id": "0b2e1e98-b55e-470b-8202-452092882aa9",
   "metadata": {},
   "outputs": [],
   "source": [
    "jet_fields = [field for field in samples.fields if 'jet_' in field]\n",
    "leading_jet_mask = awk.argmax(samples['jet_pt'],axis=1,keepdims=True)"
   ]
  },
  {
   "cell_type": "code",
   "execution_count": 29,
   "id": "820a1014-5010-4c8d-9eca-876e5f9ce7e7",
   "metadata": {},
   "outputs": [
    {
     "data": {
      "text/html": [
       "<pre>[[7.35e+04, 2.69e+04],\n",
       " [4.07e+04, 2.04e+04],\n",
       " [1.47e+05, 4.56e+04, 4.02e+04, 3.76e+04, 2.07e+04],\n",
       " [8.82e+04, 2.15e+04],\n",
       " [8.08e+04],\n",
       " [4.26e+04, 2.85e+04],\n",
       " [2.02e+05, 1.42e+05, 5.4e+04],\n",
       " [2.13e+04],\n",
       " [4.75e+05, 4.8e+04, 2.16e+04, 2.07e+04],\n",
       " [5.69e+04]]\n",
       "----------------------------------------------------\n",
       "type: 10 * var * float32</pre>"
      ],
      "text/plain": [
       "<Array [[7.35e+04, 2.69e+04], [...], ..., [5.69e+04]] type='10 * var * float32'>"
      ]
     },
     "execution_count": 29,
     "metadata": {},
     "output_type": "execute_result"
    }
   ],
   "source": [
    "samples.jet_pt"
   ]
  },
  {
   "cell_type": "code",
   "execution_count": 30,
   "id": "e1d0174b-994e-4ff1-a3a4-5887dc269ae4",
   "metadata": {},
   "outputs": [
    {
     "data": {
      "text/html": [
       "<pre>[[0],\n",
       " [0],\n",
       " [0],\n",
       " [0],\n",
       " [0],\n",
       " [0],\n",
       " [0],\n",
       " [0],\n",
       " [0],\n",
       " [0]]\n",
       "---------------------\n",
       "type: 10 * 1 * ?int64</pre>"
      ],
      "text/plain": [
       "<Array [[0], [0], [0], [0], ..., [0], [0], [0], [0]] type='10 * 1 * ?int64'>"
      ]
     },
     "execution_count": 30,
     "metadata": {},
     "output_type": "execute_result"
    }
   ],
   "source": [
    "leading_jet_mask"
   ]
  },
  {
   "cell_type": "code",
   "execution_count": 33,
   "id": "d6817e5b-210f-4de9-aeb5-6239ce2eb5a4",
   "metadata": {},
   "outputs": [
    {
     "data": {
      "text/plain": [
       "array([ 73523.664,  40686.355, 146718.3  ,  88198.17 ,  80824.   ,\n",
       "        42598.355, 201598.77 ,  21264.797, 474529.38 ,  56892.95 ],\n",
       "      dtype=float32)"
      ]
     },
     "execution_count": 33,
     "metadata": {},
     "output_type": "execute_result"
    }
   ],
   "source": [
    "np.array(awk.flatten(samples['jet_pt'][leading_jet_mask]))"
   ]
  },
  {
   "cell_type": "code",
   "execution_count": 34,
   "id": "b26340f3-7d0c-4198-9314-0d7b220aef87",
   "metadata": {},
   "outputs": [],
   "source": [
    "samples['jet_pt_lead'] = np.array(awk.flatten(samples['jet_pt'][leading_jet_mask]))"
   ]
  },
  {
   "cell_type": "code",
   "execution_count": 35,
   "id": "b0927ee7-f319-484d-8b24-2562facb181d",
   "metadata": {},
   "outputs": [
    {
     "data": {
      "text/html": [
       "<pre>[{el_e: [1.33e+05, 4.16e+04], mu_e: [], el_charge: [-1, ...], ...},\n",
       " {el_e: [1.19e+05, 9.25e+04], mu_e: [], el_charge: [1, ...], ...},\n",
       " {el_e: [1.05e+05, 4.21e+04], mu_e: [], el_charge: [-1, ...], ...},\n",
       " {el_e: [2.72e+05, 5.21e+04], mu_e: [], el_charge: [-1, ...], ...},\n",
       " {el_e: [7.29e+04, 6.26e+04], mu_e: [], el_charge: [-1, ...], ...},\n",
       " {el_e: [9.9e+04, 9.1e+04], mu_e: [], el_charge: [1, -1], mu_charge: [], ...},\n",
       " {el_e: [1.28e+05, 2.54e+04], mu_e: [], el_charge: [1, ...], ...},\n",
       " {el_e: [5.5e+04, 4.03e+04], mu_e: [], el_charge: [1, -1], mu_charge: [], ...},\n",
       " {el_e: [4.3e+05, 1.22e+05], mu_e: [], el_charge: [-1, 1], mu_charge: [], ...},\n",
       " {el_e: [1.22e+05, 4.25e+04], mu_e: [], el_charge: [1, ...], ...}]\n",
       "-------------------------------------------------------------------------------\n",
       "type: 10 * {\n",
       "    el_e: var * float32,\n",
       "    mu_e: var * float32,\n",
       "    el_charge: var * float32,\n",
       "    mu_charge: var * float32,\n",
       "    el_pt: var * float32,\n",
       "    mu_pt: var * float32,\n",
       "    el_phi: var * float32,\n",
       "    mu_phi: var * float32,\n",
       "    el_eta: var * float32,\n",
       "    mu_eta: var * float32,\n",
       "    jet_e: var * float32,\n",
       "    jet_pt: var * float32,\n",
       "    jet_GN2_pu: var * float64,\n",
       "    jet_GN2_pb: var * float64,\n",
       "    jet_GN2_pc: var * float64,\n",
       "    jet_truthflav: var * int32,\n",
       "    weight_mc: float32,\n",
       "    weight_pileup: float32,\n",
       "    weight_jvt: float32,\n",
       "    weight_leptonSF: float32,\n",
       "    jet_pt_lead: float32\n",
       "}</pre>"
      ],
      "text/plain": [
       "<Array [{el_e: [...], mu_e: [], ...}, ...] type='10 * {el_e: var * float32,...'>"
      ]
     },
     "execution_count": 35,
     "metadata": {},
     "output_type": "execute_result"
    }
   ],
   "source": [
    "samples"
   ]
  },
  {
   "cell_type": "code",
   "execution_count": 37,
   "id": "5e58bc16-f7a7-4398-8af0-97f6e6579694",
   "metadata": {},
   "outputs": [],
   "source": [
    "for jet_field in jet_fields:\n",
    "        samples[jet_field+'_lead'] = np.array(awk.flatten(samples[jet_field][leading_jet_mask])) # cant overwrite fields -> check"
   ]
  },
  {
   "cell_type": "code",
   "execution_count": 38,
   "id": "79a03331-4225-4b2b-905b-7a232422aad6",
   "metadata": {},
   "outputs": [
    {
     "data": {
      "text/html": [
       "<pre>[[7.35e+04, 2.69e+04],\n",
       " [4.07e+04, 2.04e+04],\n",
       " [1.47e+05, 4.56e+04, 4.02e+04, 3.76e+04, 2.07e+04],\n",
       " [8.82e+04, 2.15e+04],\n",
       " [8.08e+04],\n",
       " [4.26e+04, 2.85e+04],\n",
       " [2.02e+05, 1.42e+05, 5.4e+04],\n",
       " [2.13e+04],\n",
       " [4.75e+05, 4.8e+04, 2.16e+04, 2.07e+04],\n",
       " [5.69e+04]]\n",
       "----------------------------------------------------\n",
       "type: 10 * var * float32</pre>"
      ],
      "text/plain": [
       "<Array [[7.35e+04, 2.69e+04], [...], ..., [5.69e+04]] type='10 * var * float32'>"
      ]
     },
     "execution_count": 38,
     "metadata": {},
     "output_type": "execute_result"
    }
   ],
   "source": [
    "samples.jet_pt"
   ]
  },
  {
   "cell_type": "code",
   "execution_count": 39,
   "id": "c001cbfd-eea1-481f-a96c-706fb166a7da",
   "metadata": {},
   "outputs": [
    {
     "data": {
      "text/html": [
       "<pre>[7.35e+04,\n",
       " 4.07e+04,\n",
       " 1.47e+05,\n",
       " 8.82e+04,\n",
       " 8.08e+04,\n",
       " 4.26e+04,\n",
       " 2.02e+05,\n",
       " 2.13e+04,\n",
       " 4.75e+05,\n",
       " 5.69e+04]\n",
       "------------------\n",
       "type: 10 * float32</pre>"
      ],
      "text/plain": [
       "<Array [7.35e+04, 4.07e+04, ..., 4.75e+05, 5.69e+04] type='10 * float32'>"
      ]
     },
     "execution_count": 39,
     "metadata": {},
     "output_type": "execute_result"
    }
   ],
   "source": [
    "samples.jet_pt_lead"
   ]
  },
  {
   "cell_type": "code",
   "execution_count": 40,
   "id": "a0c69315-c470-4a2c-ac2c-7584b75b0595",
   "metadata": {},
   "outputs": [],
   "source": [
    "# z mass window [MeV]\n",
    "z_m_min, z_m_max = 80e3, 100e3\n",
    "# particle masses [MeV]\n",
    "ele_m, mu_m = 511e-3, 105.7\n",
    "# Z transverse momentum [MeV]\n",
    "z_pt_min = 50e3\n",
    "\n",
    "# compute invariant mass of electrons\n",
    "ee_m = sele.calc_invariant_mass(samples.el_pt, samples.el_eta, samples.el_phi, part_m=ele_m)\n",
    "\n",
    "# compute invariant mass of muons\n",
    "mumu_m = sele.calc_invariant_mass(samples.mu_pt, samples.mu_eta, samples.mu_phi, part_m=mu_m)\n",
    "\n",
    "# invariant mass of electrons 80-100 GeV\n",
    "mask_ee_m = (ee_m > z_m_min) & (ee_m < z_m_max)\n",
    "\n",
    "# invariant mass of muons 80-100 GeV\n",
    "mask_mumu_m = (mumu_m > z_m_min) & (mumu_m < z_m_max)\n",
    "\n",
    "# di-electron pt\n",
    "mask_ee_pt = sele.calc_dilepton_pt(samples.el_pt, samples.el_eta, samples.el_phi) > z_pt_min\n",
    "\n",
    "# di-muon pt\n",
    "mask_mumu_pt = sele.calc_dilepton_pt(samples.mu_pt, samples.mu_eta, samples.mu_phi) > z_pt_min\n",
    "\n",
    "# exactly two electrons of opposite charge\n",
    "mask_ee = (awk.num(samples.el_e) == 2) & (awk.sum(samples.el_charge,axis=1) == 0) \n",
    "\n",
    "# exactly two muons of opposite charge\n",
    "mask_mumu = (awk.num(samples.mu_e) == 2) & (awk.sum(samples.mu_charge,axis=1) == 0)\n",
    "\n",
    "# exclude events with four leptons\n",
    "mask_4l = mask_ee & mask_mumu\n",
    "mask_ee = mask_ee & ~mask_4l\n",
    "mask_mumu = mask_mumu & ~mask_4l\n",
    "\n",
    "# electrons in Z invariant mass and transverse momentum window\n",
    "mask_ee = mask_ee & mask_ee_m & mask_ee_pt\n",
    "\n",
    "# muons in Z invariant mass and transverse momentum window\n",
    "mask_mumu = mask_mumu & mask_mumu_m & mask_mumu_pt\n",
    "\n",
    "# 2 electrons or 2 muons with Z invariant mass\n",
    "mask = mask_ee | mask_mumu"
   ]
  },
  {
   "cell_type": "code",
   "execution_count": 41,
   "id": "db2effb6-0c07-4734-abae-80f503b9bab1",
   "metadata": {},
   "outputs": [
    {
     "data": {
      "text/html": [
       "<pre>[True,\n",
       " True,\n",
       " True,\n",
       " True,\n",
       " True,\n",
       " False,\n",
       " True,\n",
       " False,\n",
       " True,\n",
       " False]\n",
       "---------------\n",
       "type: 10 * bool</pre>"
      ],
      "text/plain": [
       "<Array [True, True, True, True, ..., True, False, True, False] type='10 * bool'>"
      ]
     },
     "execution_count": 41,
     "metadata": {},
     "output_type": "execute_result"
    }
   ],
   "source": [
    "mask"
   ]
  },
  {
   "cell_type": "code",
   "execution_count": 42,
   "id": "f0ab2a1d-a187-4e79-8944-98bbbb7a7165",
   "metadata": {},
   "outputs": [
    {
     "data": {
      "text/html": [
       "<pre>[{el_e: [1.33e+05, 4.16e+04], mu_e: [], el_charge: [-1, ...], ...},\n",
       " {el_e: [1.19e+05, 9.25e+04], mu_e: [], el_charge: [1, ...], ...},\n",
       " {el_e: [1.05e+05, 4.21e+04], mu_e: [], el_charge: [-1, ...], ...},\n",
       " {el_e: [2.72e+05, 5.21e+04], mu_e: [], el_charge: [-1, ...], ...},\n",
       " {el_e: [7.29e+04, 6.26e+04], mu_e: [], el_charge: [-1, ...], ...},\n",
       " {el_e: [1.28e+05, 2.54e+04], mu_e: [], el_charge: [1, ...], ...},\n",
       " {el_e: [4.3e+05, 1.22e+05], mu_e: [], el_charge: [-1, 1], mu_charge: [], ...}]\n",
       "-------------------------------------------------------------------------------\n",
       "type: 7 * {\n",
       "    el_e: var * float32,\n",
       "    mu_e: var * float32,\n",
       "    el_charge: var * float32,\n",
       "    mu_charge: var * float32,\n",
       "    el_pt: var * float32,\n",
       "    mu_pt: var * float32,\n",
       "    el_phi: var * float32,\n",
       "    mu_phi: var * float32,\n",
       "    el_eta: var * float32,\n",
       "    mu_eta: var * float32,\n",
       "    jet_e: var * float32,\n",
       "    jet_pt: var * float32,\n",
       "    jet_GN2_pu: var * float64,\n",
       "    jet_GN2_pb: var * float64,\n",
       "    jet_GN2_pc: var * float64,\n",
       "    jet_truthflav: var * int32,\n",
       "    weight_mc: float32,\n",
       "    weight_pileup: float32,\n",
       "    weight_jvt: float32,\n",
       "    weight_leptonSF: float32,\n",
       "    jet_e_lead: float32,\n",
       "    jet_pt_lead: float32,\n",
       "    jet_GN2_pu_lead: float64,\n",
       "    jet_GN2_pb_lead: float64,\n",
       "    jet_GN2_pc_lead: float64,\n",
       "    jet_truthflav_lead: int32\n",
       "}</pre>"
      ],
      "text/plain": [
       "<Array [{el_e: [...], mu_e: [], ...}, ...] type='7 * {el_e: var * float32, ...'>"
      ]
     },
     "execution_count": 42,
     "metadata": {},
     "output_type": "execute_result"
    }
   ],
   "source": [
    "samples[mask]"
   ]
  },
  {
   "cell_type": "code",
   "execution_count": 43,
   "id": "4a08330a-9fc1-4656-b909-42fc4b3f4672",
   "metadata": {},
   "outputs": [],
   "source": [
    "sele_samp = samples[mask]"
   ]
  },
  {
   "cell_type": "code",
   "execution_count": 44,
   "id": "6ea9f277-fff8-439c-aea7-4a9b3ad18f39",
   "metadata": {},
   "outputs": [],
   "source": [
    "jetU, jetUNot = util.split_light_vs_nonlight_jet(sele_samp)"
   ]
  },
  {
   "cell_type": "code",
   "execution_count": 45,
   "id": "6a3c7007-b0a5-494d-82f8-e7a52777a9ad",
   "metadata": {},
   "outputs": [
    {
     "data": {
      "text/html": [
       "<pre>[{el_e: [1.19e+05, 9.25e+04], mu_e: [], el_charge: [1, ...], ...},\n",
       " {el_e: [1.05e+05, 4.21e+04], mu_e: [], el_charge: [-1, ...], ...},\n",
       " {el_e: [1.28e+05, 2.54e+04], mu_e: [], el_charge: [1, ...], ...}]\n",
       "-------------------------------------------------------------------\n",
       "type: 3 * {\n",
       "    el_e: var * float32,\n",
       "    mu_e: var * float32,\n",
       "    el_charge: var * float32,\n",
       "    mu_charge: var * float32,\n",
       "    el_pt: var * float32,\n",
       "    mu_pt: var * float32,\n",
       "    el_phi: var * float32,\n",
       "    mu_phi: var * float32,\n",
       "    el_eta: var * float32,\n",
       "    mu_eta: var * float32,\n",
       "    jet_e: var * float32,\n",
       "    jet_pt: var * float32,\n",
       "    jet_GN2_pu: var * float64,\n",
       "    jet_GN2_pb: var * float64,\n",
       "    jet_GN2_pc: var * float64,\n",
       "    jet_truthflav: var * int32,\n",
       "    weight_mc: float32,\n",
       "    weight_pileup: float32,\n",
       "    weight_jvt: float32,\n",
       "    weight_leptonSF: float32,\n",
       "    jet_e_lead: float32,\n",
       "    jet_pt_lead: float32,\n",
       "    jet_GN2_pu_lead: float64,\n",
       "    jet_GN2_pb_lead: float64,\n",
       "    jet_GN2_pc_lead: float64,\n",
       "    jet_truthflav_lead: int32\n",
       "}</pre>"
      ],
      "text/plain": [
       "<Array [{el_e: [...], mu_e: [], ...}, ...] type='3 * {el_e: var * float32, ...'>"
      ]
     },
     "execution_count": 45,
     "metadata": {},
     "output_type": "execute_result"
    }
   ],
   "source": [
    "jetU"
   ]
  },
  {
   "cell_type": "code",
   "execution_count": 46,
   "id": "a611867b-441c-4ac3-806c-faf856d1b418",
   "metadata": {},
   "outputs": [],
   "source": [
    "jpt = np.array(jetU.jet_pt_lead)"
   ]
  },
  {
   "cell_type": "code",
   "execution_count": 50,
   "id": "bbf3b07d-fe90-4053-aa7f-b6977559039b",
   "metadata": {},
   "outputs": [],
   "source": [
    "inputs_jetU = pd.DataFrame({'pt':jpt,'id':0})"
   ]
  },
  {
   "cell_type": "code",
   "execution_count": 51,
   "id": "776c799f-552c-4471-9137-92e5df83f410",
   "metadata": {},
   "outputs": [],
   "source": [
    "inputs_jetUNot = pd.DataFrame({'pt':np.array(jetUNot.jet_pt_lead),'id':1})"
   ]
  },
  {
   "cell_type": "code",
   "execution_count": 52,
   "id": "51dfe76b-9d3c-456b-8d16-83b013013488",
   "metadata": {},
   "outputs": [
    {
     "data": {
      "text/html": [
       "<div>\n",
       "<style scoped>\n",
       "    .dataframe tbody tr th:only-of-type {\n",
       "        vertical-align: middle;\n",
       "    }\n",
       "\n",
       "    .dataframe tbody tr th {\n",
       "        vertical-align: top;\n",
       "    }\n",
       "\n",
       "    .dataframe thead th {\n",
       "        text-align: right;\n",
       "    }\n",
       "</style>\n",
       "<table border=\"1\" class=\"dataframe\">\n",
       "  <thead>\n",
       "    <tr style=\"text-align: right;\">\n",
       "      <th></th>\n",
       "      <th>pt</th>\n",
       "      <th>id</th>\n",
       "    </tr>\n",
       "  </thead>\n",
       "  <tbody>\n",
       "    <tr>\n",
       "      <th>0</th>\n",
       "      <td>40686.355469</td>\n",
       "      <td>0</td>\n",
       "    </tr>\n",
       "    <tr>\n",
       "      <th>1</th>\n",
       "      <td>146718.296875</td>\n",
       "      <td>0</td>\n",
       "    </tr>\n",
       "    <tr>\n",
       "      <th>2</th>\n",
       "      <td>201598.765625</td>\n",
       "      <td>0</td>\n",
       "    </tr>\n",
       "  </tbody>\n",
       "</table>\n",
       "</div>"
      ],
      "text/plain": [
       "              pt  id\n",
       "0   40686.355469   0\n",
       "1  146718.296875   0\n",
       "2  201598.765625   0"
      ]
     },
     "execution_count": 52,
     "metadata": {},
     "output_type": "execute_result"
    }
   ],
   "source": [
    "inputs_jetU"
   ]
  },
  {
   "cell_type": "code",
   "execution_count": 53,
   "id": "27aeb0a8-f48d-4fad-a0bf-6a6263f79d39",
   "metadata": {},
   "outputs": [
    {
     "data": {
      "text/html": [
       "<div>\n",
       "<style scoped>\n",
       "    .dataframe tbody tr th:only-of-type {\n",
       "        vertical-align: middle;\n",
       "    }\n",
       "\n",
       "    .dataframe tbody tr th {\n",
       "        vertical-align: top;\n",
       "    }\n",
       "\n",
       "    .dataframe thead th {\n",
       "        text-align: right;\n",
       "    }\n",
       "</style>\n",
       "<table border=\"1\" class=\"dataframe\">\n",
       "  <thead>\n",
       "    <tr style=\"text-align: right;\">\n",
       "      <th></th>\n",
       "      <th>pt</th>\n",
       "      <th>id</th>\n",
       "    </tr>\n",
       "  </thead>\n",
       "  <tbody>\n",
       "    <tr>\n",
       "      <th>0</th>\n",
       "      <td>73523.664062</td>\n",
       "      <td>1</td>\n",
       "    </tr>\n",
       "    <tr>\n",
       "      <th>1</th>\n",
       "      <td>88198.171875</td>\n",
       "      <td>1</td>\n",
       "    </tr>\n",
       "    <tr>\n",
       "      <th>2</th>\n",
       "      <td>80824.000000</td>\n",
       "      <td>1</td>\n",
       "    </tr>\n",
       "    <tr>\n",
       "      <th>3</th>\n",
       "      <td>474529.375000</td>\n",
       "      <td>1</td>\n",
       "    </tr>\n",
       "  </tbody>\n",
       "</table>\n",
       "</div>"
      ],
      "text/plain": [
       "              pt  id\n",
       "0   73523.664062   1\n",
       "1   88198.171875   1\n",
       "2   80824.000000   1\n",
       "3  474529.375000   1"
      ]
     },
     "execution_count": 53,
     "metadata": {},
     "output_type": "execute_result"
    }
   ],
   "source": [
    "inputs_jetUNot"
   ]
  },
  {
   "cell_type": "code",
   "execution_count": 54,
   "id": "bff8bc59-e38a-4b88-bded-d2338fd51b5a",
   "metadata": {},
   "outputs": [
    {
     "data": {
      "text/html": [
       "<pre>[7.35e+04,\n",
       " 4.07e+04,\n",
       " 1.47e+05,\n",
       " 8.82e+04,\n",
       " 8.08e+04,\n",
       " 2.02e+05,\n",
       " 4.75e+05]\n",
       "-----------------\n",
       "type: 7 * float32</pre>"
      ],
      "text/plain": [
       "<Array [7.35e+04, 4.07e+04, ..., 2.02e+05, 4.75e+05] type='7 * float32'>"
      ]
     },
     "execution_count": 54,
     "metadata": {},
     "output_type": "execute_result"
    }
   ],
   "source": [
    "sele_samp.jet_pt_lead"
   ]
  },
  {
   "cell_type": "code",
   "execution_count": 55,
   "id": "92369c0e-e122-41f1-a9c4-b07d46f7c823",
   "metadata": {},
   "outputs": [
    {
     "data": {
      "text/html": [
       "<pre>[5,\n",
       " 0,\n",
       " 0,\n",
       " 5,\n",
       " 5,\n",
       " 0,\n",
       " 5]\n",
       "---------------\n",
       "type: 7 * int32</pre>"
      ],
      "text/plain": [
       "<Array [5, 0, 0, 5, 5, 0, 5] type='7 * int32'>"
      ]
     },
     "execution_count": 55,
     "metadata": {},
     "output_type": "execute_result"
    }
   ],
   "source": [
    "sele_samp.jet_truthflav_lead"
   ]
  },
  {
   "cell_type": "code",
   "execution_count": 59,
   "id": "6b707f05-898e-418c-880e-7d3f4a41cf74",
   "metadata": {},
   "outputs": [
    {
     "data": {
      "text/html": [
       "<div>\n",
       "<style scoped>\n",
       "    .dataframe tbody tr th:only-of-type {\n",
       "        vertical-align: middle;\n",
       "    }\n",
       "\n",
       "    .dataframe tbody tr th {\n",
       "        vertical-align: top;\n",
       "    }\n",
       "\n",
       "    .dataframe thead th {\n",
       "        text-align: right;\n",
       "    }\n",
       "</style>\n",
       "<table border=\"1\" class=\"dataframe\">\n",
       "  <thead>\n",
       "    <tr style=\"text-align: right;\">\n",
       "      <th></th>\n",
       "      <th>pt</th>\n",
       "      <th>id</th>\n",
       "    </tr>\n",
       "  </thead>\n",
       "  <tbody>\n",
       "    <tr>\n",
       "      <th>1</th>\n",
       "      <td>146718.296875</td>\n",
       "      <td>0</td>\n",
       "    </tr>\n",
       "    <tr>\n",
       "      <th>6</th>\n",
       "      <td>474529.375000</td>\n",
       "      <td>1</td>\n",
       "    </tr>\n",
       "    <tr>\n",
       "      <th>2</th>\n",
       "      <td>201598.765625</td>\n",
       "      <td>0</td>\n",
       "    </tr>\n",
       "    <tr>\n",
       "      <th>5</th>\n",
       "      <td>80824.000000</td>\n",
       "      <td>1</td>\n",
       "    </tr>\n",
       "    <tr>\n",
       "      <th>4</th>\n",
       "      <td>88198.171875</td>\n",
       "      <td>1</td>\n",
       "    </tr>\n",
       "    <tr>\n",
       "      <th>0</th>\n",
       "      <td>40686.355469</td>\n",
       "      <td>0</td>\n",
       "    </tr>\n",
       "    <tr>\n",
       "      <th>3</th>\n",
       "      <td>73523.664062</td>\n",
       "      <td>1</td>\n",
       "    </tr>\n",
       "  </tbody>\n",
       "</table>\n",
       "</div>"
      ],
      "text/plain": [
       "              pt  id\n",
       "1  146718.296875   0\n",
       "6  474529.375000   1\n",
       "2  201598.765625   0\n",
       "5   80824.000000   1\n",
       "4   88198.171875   1\n",
       "0   40686.355469   0\n",
       "3   73523.664062   1"
      ]
     },
     "execution_count": 59,
     "metadata": {},
     "output_type": "execute_result"
    }
   ],
   "source": [
    "(pd.concat([inputs_jetU,inputs_jetUNot],ignore_index=True)).sample(frac=1.)"
   ]
  },
  {
   "cell_type": "code",
   "execution_count": 57,
   "id": "017acdf7-291b-4883-8fe0-f3972cddccb1",
   "metadata": {},
   "outputs": [],
   "source": [
    "def make_light_vs_nonlight_input_dataset(samples:awk.highlevel.Array) -> pd.DataFrame:\n",
    "\n",
    "    eps = 1e-2\n",
    "    \n",
    "    # split samples into light and non-light jet classes\n",
    "    jetU, jetUNot = util.split_light_vs_nonlight_jet(samples)\n",
    "\n",
    "    # get relevant features\n",
    "    in_jetU = pd.DataFrame({'pt':np.array(jetU.jet_pt_lead),'id':0})\n",
    "    in_jetUNot = pd.DataFrame({'pt':np.array(jetUNot.jet_pt_lead),'id':1})\n",
    "\n",
    "    # normalize\n",
    "    u_min, u_max, u_mean, un_min, un_max, un_mean = in_jetU.pt.min()-eps, in_jetU.pt.max(), in_jetU.pt.mean(), in_jetUNot.pt.min()-eps, in_jetUNot.pt.max(), in_jetUNot.pt.mean()\n",
    "    in_jetU.pt = (in_jetU.pt - u_min) / (u_max - u_min)\n",
    "    in_jetUNot.pt = (in_jetUNot.pt - un_min) / (un_max - un_min)\n",
    "\n",
    "    # concatenate and shuffles\n",
    "    inputs = (pd.concat([in_jetU,in_jetUNot])).sample(frac=1.)\n",
    "\n",
    "    return inputs\n"
   ]
  },
  {
   "cell_type": "code",
   "execution_count": 85,
   "id": "70d50417-0fb0-4d39-b2af-eb2d8f65406e",
   "metadata": {},
   "outputs": [],
   "source": [
    "inputs = make_light_vs_nonlight_input_dataset(sele_samp)"
   ]
  },
  {
   "cell_type": "code",
   "execution_count": 86,
   "id": "057a9251-5c54-470a-93bb-7404e1c6cd65",
   "metadata": {},
   "outputs": [
    {
     "data": {
      "text/html": [
       "<div>\n",
       "<style scoped>\n",
       "    .dataframe tbody tr th:only-of-type {\n",
       "        vertical-align: middle;\n",
       "    }\n",
       "\n",
       "    .dataframe tbody tr th {\n",
       "        vertical-align: top;\n",
       "    }\n",
       "\n",
       "    .dataframe thead th {\n",
       "        text-align: right;\n",
       "    }\n",
       "</style>\n",
       "<table border=\"1\" class=\"dataframe\">\n",
       "  <thead>\n",
       "    <tr style=\"text-align: right;\">\n",
       "      <th></th>\n",
       "      <th>pt</th>\n",
       "      <th>id</th>\n",
       "    </tr>\n",
       "  </thead>\n",
       "  <tbody>\n",
       "    <tr>\n",
       "      <th>0</th>\n",
       "      <td>7.282688e-08</td>\n",
       "      <td>0</td>\n",
       "    </tr>\n",
       "    <tr>\n",
       "      <th>2</th>\n",
       "      <td>1.000000e+00</td>\n",
       "      <td>0</td>\n",
       "    </tr>\n",
       "    <tr>\n",
       "      <th>3</th>\n",
       "      <td>1.000000e+00</td>\n",
       "      <td>1</td>\n",
       "    </tr>\n",
       "    <tr>\n",
       "      <th>1</th>\n",
       "      <td>3.659428e-02</td>\n",
       "      <td>1</td>\n",
       "    </tr>\n",
       "    <tr>\n",
       "      <th>2</th>\n",
       "      <td>1.820509e-02</td>\n",
       "      <td>1</td>\n",
       "    </tr>\n",
       "    <tr>\n",
       "      <th>1</th>\n",
       "      <td>6.589420e-01</td>\n",
       "      <td>0</td>\n",
       "    </tr>\n",
       "    <tr>\n",
       "      <th>0</th>\n",
       "      <td>1.948227e-08</td>\n",
       "      <td>1</td>\n",
       "    </tr>\n",
       "  </tbody>\n",
       "</table>\n",
       "</div>"
      ],
      "text/plain": [
       "             pt  id\n",
       "0  7.282688e-08   0\n",
       "2  1.000000e+00   0\n",
       "3  1.000000e+00   1\n",
       "1  3.659428e-02   1\n",
       "2  1.820509e-02   1\n",
       "1  6.589420e-01   0\n",
       "0  1.948227e-08   1"
      ]
     },
     "execution_count": 86,
     "metadata": {},
     "output_type": "execute_result"
    }
   ],
   "source": [
    "inputs"
   ]
  },
  {
   "cell_type": "markdown",
   "id": "c1307955-2749-4200-b0b3-7096a01c1f9b",
   "metadata": {},
   "source": [
    "## leading jet selections "
   ]
  },
  {
   "cell_type": "code",
   "execution_count": 44,
   "id": "d6480927-08a6-4d32-9975-5ec1967ffa1c",
   "metadata": {},
   "outputs": [],
   "source": [
    "feature_names_in = ['el_e','mu_e','el_charge','mu_charge','el_pt','mu_pt', 'el_phi','mu_phi',\\\n",
    "                    'el_eta', 'mu_eta', 'jet_e', 'jet_pt', 'jet_truthflav',\\\n",
    "                \t'weight_mc', 'weight_pileup', 'weight_jvt', 'weight_leptonSF']\n",
    "feature_names_out = ['jet_pt_lead','jet_truthflav_lead',\\\n",
    "                \t'weight_mc', 'weight_pileup', 'weight_jvt', 'weight_leptonSF']"
   ]
  },
  {
   "cell_type": "code",
   "execution_count": 45,
   "id": "e1ea417d-3b1c-4841-9cf1-ffd30e066fcc",
   "metadata": {},
   "outputs": [],
   "source": [
    "filename = '/eos/atlas/atlasgroupdisk/perf-flavtag/dq2/rucio/user/ltoffoli/bf/13/user.ltoffoli.37305913._000001.output.root'"
   ]
  },
  {
   "cell_type": "code",
   "execution_count": 46,
   "id": "6550767a-f4b0-4dca-8395-9d96dbd09e52",
   "metadata": {},
   "outputs": [],
   "source": [
    "tree = uproot.open(filename+':nominal')\n",
    "samples = tree.arrays(feature_names_in)"
   ]
  },
  {
   "cell_type": "code",
   "execution_count": 47,
   "id": "1e05b6b6-3ee0-4568-b1dc-7d25bdb10dab",
   "metadata": {},
   "outputs": [
    {
     "data": {
      "text/html": [
       "<pre>[{el_e: [1.34e+05, 6.97e+04], mu_e: [], el_charge: [1, ...], ...},\n",
       " {el_e: [9.23e+04, 4.53e+04], mu_e: [], el_charge: [-1, ...], ...},\n",
       " {el_e: [1.87e+05, 1.16e+05], mu_e: [], el_charge: [1, ...], ...},\n",
       " {el_e: [1.03e+05, 3.17e+04], mu_e: [], el_charge: [-1, ...], ...},\n",
       " {el_e: [1.62e+05, 1.1e+05], mu_e: [], el_charge: [-1, 1], mu_charge: [], ...},\n",
       " {el_e: [6.3e+04, 3.82e+04], mu_e: [], el_charge: [-1, 1], mu_charge: [], ...},\n",
       " {el_e: [6.05e+04, 4.83e+04], mu_e: [], el_charge: [-1, ...], ...},\n",
       " {el_e: [2.32e+05, 4.56e+04], mu_e: [], el_charge: [1, ...], ...},\n",
       " {el_e: [7.35e+04, 7.65e+04], mu_e: [], el_charge: [-1, ...], ...},\n",
       " {el_e: [7.04e+04, 1.04e+05], mu_e: [], el_charge: [1, ...], ...},\n",
       " ...,\n",
       " {el_e: [2.02e+05, 4.51e+04], mu_e: [], el_charge: [1, ...], ...},\n",
       " {el_e: [3.66e+05, 5.04e+04], mu_e: [], el_charge: [1, ...], ...},\n",
       " {el_e: [1.3e+05, 3.22e+04], mu_e: [], el_charge: [-1, 1], mu_charge: [], ...},\n",
       " {el_e: [1.33e+05, 7.21e+04], mu_e: [], el_charge: [-1, ...], ...},\n",
       " {el_e: [2.18e+05, 1.95e+05], mu_e: [], el_charge: [1, ...], ...},\n",
       " {el_e: [1.18e+05, 2.96e+04], mu_e: [], el_charge: [-1, ...], ...},\n",
       " {el_e: [3.35e+05, 1.05e+05], mu_e: [], el_charge: [-1, ...], ...},\n",
       " {el_e: [6.64e+04, 1.01e+05], mu_e: [], el_charge: [-1, ...], ...},\n",
       " {el_e: [4.78e+04, 4.4e+04], mu_e: [], el_charge: [-1, 1], mu_charge: [], ...}]\n",
       "-------------------------------------------------------------------------------\n",
       "type: 2205222 * {\n",
       "    el_e: var * float32,\n",
       "    mu_e: var * float32,\n",
       "    el_charge: var * float32,\n",
       "    mu_charge: var * float32,\n",
       "    el_pt: var * float32,\n",
       "    mu_pt: var * float32,\n",
       "    el_phi: var * float32,\n",
       "    mu_phi: var * float32,\n",
       "    el_eta: var * float32,\n",
       "    mu_eta: var * float32,\n",
       "    jet_e: var * float32,\n",
       "    jet_pt: var * float32,\n",
       "    jet_truthflav: var * int32,\n",
       "    weight_mc: float32,\n",
       "    weight_pileup: float32,\n",
       "    weight_jvt: float32,\n",
       "    weight_leptonSF: float32\n",
       "}</pre>"
      ],
      "text/plain": [
       "<Array [{el_e: [...], mu_e: [], ...}, ...] type='2205222 * {el_e: var * flo...'>"
      ]
     },
     "execution_count": 47,
     "metadata": {},
     "output_type": "execute_result"
    }
   ],
   "source": [
    "samples"
   ]
  },
  {
   "cell_type": "code",
   "execution_count": 48,
   "id": "301a93c6-103d-4120-b2b8-c150d3de4fec",
   "metadata": {},
   "outputs": [],
   "source": [
    "mask = awk.num(samples.jet_e) >= 1"
   ]
  },
  {
   "cell_type": "code",
   "execution_count": 49,
   "id": "cd29dfe9-cee0-465f-bc9a-4b2072c8a761",
   "metadata": {},
   "outputs": [
    {
     "data": {
      "text/html": [
       "<pre>[True,\n",
       " True,\n",
       " True,\n",
       " True,\n",
       " True,\n",
       " True,\n",
       " True,\n",
       " True,\n",
       " True,\n",
       " True,\n",
       " ...,\n",
       " True,\n",
       " True,\n",
       " True,\n",
       " True,\n",
       " True,\n",
       " True,\n",
       " True,\n",
       " True,\n",
       " False]\n",
       "--------------------\n",
       "type: 2205222 * bool</pre>"
      ],
      "text/plain": [
       "<Array [True, True, True, True, ..., True, True, False] type='2205222 * bool'>"
      ]
     },
     "execution_count": 49,
     "metadata": {},
     "output_type": "execute_result"
    }
   ],
   "source": [
    "mask"
   ]
  },
  {
   "cell_type": "code",
   "execution_count": 50,
   "id": "ca468339-1d85-45a8-bc35-28c4fc95d8c4",
   "metadata": {},
   "outputs": [
    {
     "data": {
      "text/plain": [
       "2047206"
      ]
     },
     "execution_count": 50,
     "metadata": {},
     "output_type": "execute_result"
    }
   ],
   "source": [
    "np.sum(mask)"
   ]
  },
  {
   "cell_type": "code",
   "execution_count": 51,
   "id": "163edc89-8bb5-4d80-a77e-330ddbb22d2f",
   "metadata": {},
   "outputs": [],
   "source": [
    "samples = samples[mask] # only events with at least one jet"
   ]
  },
  {
   "cell_type": "code",
   "execution_count": 52,
   "id": "05535c1d-57a4-41b6-855e-e54186ece30b",
   "metadata": {},
   "outputs": [
    {
     "data": {
      "text/html": [
       "<pre>[{el_e: [1.34e+05, 6.97e+04], mu_e: [], el_charge: [1, ...], ...},\n",
       " {el_e: [9.23e+04, 4.53e+04], mu_e: [], el_charge: [-1, ...], ...},\n",
       " {el_e: [1.87e+05, 1.16e+05], mu_e: [], el_charge: [1, ...], ...},\n",
       " {el_e: [1.03e+05, 3.17e+04], mu_e: [], el_charge: [-1, ...], ...},\n",
       " {el_e: [1.62e+05, 1.1e+05], mu_e: [], el_charge: [-1, 1], mu_charge: [], ...},\n",
       " {el_e: [6.3e+04, 3.82e+04], mu_e: [], el_charge: [-1, 1], mu_charge: [], ...},\n",
       " {el_e: [6.05e+04, 4.83e+04], mu_e: [], el_charge: [-1, ...], ...},\n",
       " {el_e: [2.32e+05, 4.56e+04], mu_e: [], el_charge: [1, ...], ...},\n",
       " {el_e: [7.35e+04, 7.65e+04], mu_e: [], el_charge: [-1, ...], ...},\n",
       " {el_e: [7.04e+04, 1.04e+05], mu_e: [], el_charge: [1, ...], ...},\n",
       " ...,\n",
       " {el_e: [6.96e+04, 3.76e+04], mu_e: [], el_charge: [-1, ...], ...},\n",
       " {el_e: [2.02e+05, 4.51e+04], mu_e: [], el_charge: [1, ...], ...},\n",
       " {el_e: [3.66e+05, 5.04e+04], mu_e: [], el_charge: [1, ...], ...},\n",
       " {el_e: [1.3e+05, 3.22e+04], mu_e: [], el_charge: [-1, 1], mu_charge: [], ...},\n",
       " {el_e: [1.33e+05, 7.21e+04], mu_e: [], el_charge: [-1, ...], ...},\n",
       " {el_e: [2.18e+05, 1.95e+05], mu_e: [], el_charge: [1, ...], ...},\n",
       " {el_e: [1.18e+05, 2.96e+04], mu_e: [], el_charge: [-1, ...], ...},\n",
       " {el_e: [3.35e+05, 1.05e+05], mu_e: [], el_charge: [-1, ...], ...},\n",
       " {el_e: [6.64e+04, 1.01e+05], mu_e: [], el_charge: [-1, ...], ...}]\n",
       "-------------------------------------------------------------------------------\n",
       "type: 2047206 * {\n",
       "    el_e: var * float32,\n",
       "    mu_e: var * float32,\n",
       "    el_charge: var * float32,\n",
       "    mu_charge: var * float32,\n",
       "    el_pt: var * float32,\n",
       "    mu_pt: var * float32,\n",
       "    el_phi: var * float32,\n",
       "    mu_phi: var * float32,\n",
       "    el_eta: var * float32,\n",
       "    mu_eta: var * float32,\n",
       "    jet_e: var * float32,\n",
       "    jet_pt: var * float32,\n",
       "    jet_truthflav: var * int32,\n",
       "    weight_mc: float32,\n",
       "    weight_pileup: float32,\n",
       "    weight_jvt: float32,\n",
       "    weight_leptonSF: float32\n",
       "}</pre>"
      ],
      "text/plain": [
       "<Array [{el_e: [...], mu_e: [], ...}, ...] type='2047206 * {el_e: var * flo...'>"
      ]
     },
     "execution_count": 52,
     "metadata": {},
     "output_type": "execute_result"
    }
   ],
   "source": [
    "samples"
   ]
  },
  {
   "cell_type": "code",
   "execution_count": 53,
   "id": "40c9307d-afc7-4022-a408-8fc289da23a2",
   "metadata": {},
   "outputs": [],
   "source": [
    "jet_fields = [field for field in samples.fields if 'jet_' in field]"
   ]
  },
  {
   "cell_type": "code",
   "execution_count": 63,
   "id": "0ce126a3-c025-4956-9f5c-a45ba2912893",
   "metadata": {},
   "outputs": [],
   "source": [
    "leading_jet_mask = awk.argmax(samples['jet_pt'],axis=1,keepdims=True,mask_identity=False)"
   ]
  },
  {
   "cell_type": "code",
   "execution_count": 64,
   "id": "42d1bb96-32b2-416b-a0a9-8056c90cac5c",
   "metadata": {},
   "outputs": [
    {
     "data": {
      "text/html": [
       "<pre>[[0],\n",
       " [0],\n",
       " [0],\n",
       " [0],\n",
       " [0],\n",
       " [0],\n",
       " [0],\n",
       " [0],\n",
       " [0],\n",
       " [0],\n",
       " ...,\n",
       " [0],\n",
       " [0],\n",
       " [0],\n",
       " [0],\n",
       " [0],\n",
       " [0],\n",
       " [0],\n",
       " [0],\n",
       " [0]]\n",
       "-------------------------\n",
       "type: 2047206 * 1 * int64</pre>"
      ],
      "text/plain": [
       "<Array [[0], [0], [0], [0], ..., [0], [0], [0], [0]] type='2047206 * 1 * int64'>"
      ]
     },
     "execution_count": 64,
     "metadata": {},
     "output_type": "execute_result"
    }
   ],
   "source": [
    "leading_jet_mask"
   ]
  },
  {
   "cell_type": "code",
   "execution_count": 65,
   "id": "26ab5734-adf1-4b9d-81e3-47ddf804cbad",
   "metadata": {},
   "outputs": [
    {
     "data": {
      "text/plain": [
       "1"
      ]
     },
     "execution_count": 65,
     "metadata": {},
     "output_type": "execute_result"
    }
   ],
   "source": [
    "min(awk.num(samples['jet_pt']))"
   ]
  },
  {
   "cell_type": "code",
   "execution_count": 66,
   "id": "673d8d77-8ff4-45ee-af98-ffe36ff12b8e",
   "metadata": {},
   "outputs": [
    {
     "data": {
      "text/plain": [
       "16"
      ]
     },
     "execution_count": 66,
     "metadata": {},
     "output_type": "execute_result"
    }
   ],
   "source": [
    "max(awk.num(samples['jet_pt']))"
   ]
  },
  {
   "cell_type": "code",
   "execution_count": 67,
   "id": "ff60a5d4-0aaf-4f8b-94dd-c0ddba0909c0",
   "metadata": {},
   "outputs": [],
   "source": [
    "def add_leading_pt_jet_features(samples:awk.highlevel.Array) -> awk.highlevel.Array:\n",
    "\n",
    "    for jet_field in jet_fields:\n",
    "        samples[jet_field+'_lead'] = awk.flatten(samples[jet_field][leading_jet_mask]) # cant overwrite fields -> check\n",
    "\n",
    "    return samples\n"
   ]
  },
  {
   "cell_type": "code",
   "execution_count": 68,
   "id": "6c371091-5862-48ea-a27e-88c7c17d1e09",
   "metadata": {},
   "outputs": [],
   "source": [
    "samples = add_leading_pt_jet_features(samples)"
   ]
  },
  {
   "cell_type": "code",
   "execution_count": 69,
   "id": "287f194a-b620-40c1-a1b7-ff1336d60ee0",
   "metadata": {},
   "outputs": [
    {
     "data": {
      "text/html": [
       "<pre>[{el_e: [1.34e+05, 6.97e+04], mu_e: [], el_charge: [1, ...], ...},\n",
       " {el_e: [9.23e+04, 4.53e+04], mu_e: [], el_charge: [-1, ...], ...},\n",
       " {el_e: [1.87e+05, 1.16e+05], mu_e: [], el_charge: [1, ...], ...},\n",
       " {el_e: [1.03e+05, 3.17e+04], mu_e: [], el_charge: [-1, ...], ...},\n",
       " {el_e: [1.62e+05, 1.1e+05], mu_e: [], el_charge: [-1, 1], mu_charge: [], ...},\n",
       " {el_e: [6.3e+04, 3.82e+04], mu_e: [], el_charge: [-1, 1], mu_charge: [], ...},\n",
       " {el_e: [6.05e+04, 4.83e+04], mu_e: [], el_charge: [-1, ...], ...},\n",
       " {el_e: [2.32e+05, 4.56e+04], mu_e: [], el_charge: [1, ...], ...},\n",
       " {el_e: [7.35e+04, 7.65e+04], mu_e: [], el_charge: [-1, ...], ...},\n",
       " {el_e: [7.04e+04, 1.04e+05], mu_e: [], el_charge: [1, ...], ...},\n",
       " ...,\n",
       " {el_e: [6.96e+04, 3.76e+04], mu_e: [], el_charge: [-1, ...], ...},\n",
       " {el_e: [2.02e+05, 4.51e+04], mu_e: [], el_charge: [1, ...], ...},\n",
       " {el_e: [3.66e+05, 5.04e+04], mu_e: [], el_charge: [1, ...], ...},\n",
       " {el_e: [1.3e+05, 3.22e+04], mu_e: [], el_charge: [-1, 1], mu_charge: [], ...},\n",
       " {el_e: [1.33e+05, 7.21e+04], mu_e: [], el_charge: [-1, ...], ...},\n",
       " {el_e: [2.18e+05, 1.95e+05], mu_e: [], el_charge: [1, ...], ...},\n",
       " {el_e: [1.18e+05, 2.96e+04], mu_e: [], el_charge: [-1, ...], ...},\n",
       " {el_e: [3.35e+05, 1.05e+05], mu_e: [], el_charge: [-1, ...], ...},\n",
       " {el_e: [6.64e+04, 1.01e+05], mu_e: [], el_charge: [-1, ...], ...}]\n",
       "-------------------------------------------------------------------------------\n",
       "type: 2047206 * {\n",
       "    el_e: var * float32,\n",
       "    mu_e: var * float32,\n",
       "    el_charge: var * float32,\n",
       "    mu_charge: var * float32,\n",
       "    el_pt: var * float32,\n",
       "    mu_pt: var * float32,\n",
       "    el_phi: var * float32,\n",
       "    mu_phi: var * float32,\n",
       "    el_eta: var * float32,\n",
       "    mu_eta: var * float32,\n",
       "    jet_e: var * float32,\n",
       "    jet_pt: var * float32,\n",
       "    jet_truthflav: var * int32,\n",
       "    weight_mc: float32,\n",
       "    weight_pileup: float32,\n",
       "    weight_jvt: float32,\n",
       "    weight_leptonSF: float32,\n",
       "    jet_e_lead: var * float32,\n",
       "    jet_pt_lead: var * float32,\n",
       "    jet_truthflav_lead: var * int32\n",
       "}</pre>"
      ],
      "text/plain": [
       "<Array [{el_e: [...], mu_e: [], ...}, ...] type='2047206 * {el_e: var * flo...'>"
      ]
     },
     "execution_count": 69,
     "metadata": {},
     "output_type": "execute_result"
    }
   ],
   "source": [
    "samples"
   ]
  },
  {
   "cell_type": "code",
   "execution_count": 70,
   "id": "caca4b44-f5df-4777-87b3-46519c423694",
   "metadata": {},
   "outputs": [],
   "source": [
    "import ntuple_root_to_h5_converter.src.util as cnv_util"
   ]
  },
  {
   "cell_type": "code",
   "execution_count": 71,
   "id": "58f782ff-b60f-4d9a-9542-df0923d46675",
   "metadata": {},
   "outputs": [],
   "source": [
    "sin = samples[['jet_pt_lead','jet_truthflav_lead']]"
   ]
  },
  {
   "cell_type": "code",
   "execution_count": 72,
   "id": "c2b3fe1f-023b-4dc9-a882-2f0fa04baff0",
   "metadata": {},
   "outputs": [
    {
     "data": {
      "text/html": [
       "<pre>[{jet_pt_lead: [1.64e+05, ..., 3.72e+04], jet_truthflav_lead: [...]},\n",
       " {jet_pt_lead: [1.64e+05, ..., 3.72e+04], jet_truthflav_lead: [...]},\n",
       " {jet_pt_lead: [1.64e+05, ..., 3.72e+04], jet_truthflav_lead: [...]},\n",
       " {jet_pt_lead: [1.64e+05, ..., 3.72e+04], jet_truthflav_lead: [...]},\n",
       " {jet_pt_lead: [1.64e+05, ..., 3.72e+04], jet_truthflav_lead: [...]},\n",
       " {jet_pt_lead: [1.64e+05, ..., 3.72e+04], jet_truthflav_lead: [...]},\n",
       " {jet_pt_lead: [1.64e+05, ..., 3.72e+04], jet_truthflav_lead: [...]},\n",
       " {jet_pt_lead: [1.64e+05, ..., 3.72e+04], jet_truthflav_lead: [...]},\n",
       " {jet_pt_lead: [1.64e+05, ..., 3.72e+04], jet_truthflav_lead: [...]},\n",
       " {jet_pt_lead: [1.64e+05, ..., 3.72e+04], jet_truthflav_lead: [...]},\n",
       " ...,\n",
       " {jet_pt_lead: [1.64e+05, ..., 3.72e+04], jet_truthflav_lead: [...]},\n",
       " {jet_pt_lead: [1.64e+05, ..., 3.72e+04], jet_truthflav_lead: [...]},\n",
       " {jet_pt_lead: [1.64e+05, ..., 3.72e+04], jet_truthflav_lead: [...]},\n",
       " {jet_pt_lead: [1.64e+05, ..., 3.72e+04], jet_truthflav_lead: [...]},\n",
       " {jet_pt_lead: [1.64e+05, ..., 3.72e+04], jet_truthflav_lead: [...]},\n",
       " {jet_pt_lead: [1.64e+05, ..., 3.72e+04], jet_truthflav_lead: [...]},\n",
       " {jet_pt_lead: [1.64e+05, ..., 3.72e+04], jet_truthflav_lead: [...]},\n",
       " {jet_pt_lead: [1.64e+05, ..., 3.72e+04], jet_truthflav_lead: [...]},\n",
       " {jet_pt_lead: [1.64e+05, ..., 3.72e+04], jet_truthflav_lead: [...]}]\n",
       "---------------------------------------------------------------------\n",
       "type: 2047206 * {\n",
       "    jet_pt_lead: var * float32,\n",
       "    jet_truthflav_lead: var * int32\n",
       "}</pre>"
      ],
      "text/plain": [
       "<Array [{jet_pt_lead: [...], ...}, ..., {...}] type='2047206 * {jet_pt_lead...'>"
      ]
     },
     "execution_count": 72,
     "metadata": {},
     "output_type": "execute_result"
    }
   ],
   "source": [
    "sin"
   ]
  },
  {
   "cell_type": "code",
   "execution_count": 73,
   "id": "f2a512ea-9e04-4919-b070-2a1be197f1e3",
   "metadata": {},
   "outputs": [
    {
     "data": {
      "text/html": [
       "<pre>[[0, 0, 5],\n",
       " [0, 0, 5],\n",
       " [0, 0, 5],\n",
       " [0, 0, 5],\n",
       " [0, 0, 5],\n",
       " [0, 0, 5],\n",
       " [0, 0, 5],\n",
       " [0, 0, 5],\n",
       " [0, 0, 5],\n",
       " [0, 0, 5],\n",
       " ...,\n",
       " [0, 0, 5],\n",
       " [0, 0, 5],\n",
       " [0, 0, 5],\n",
       " [0, 0, 5],\n",
       " [0, 0, 5],\n",
       " [0, 0, 5],\n",
       " [0, 0, 5],\n",
       " [0, 0, 5],\n",
       " [0, 0, 5]]\n",
       "---------------------------\n",
       "type: 2047206 * var * int32</pre>"
      ],
      "text/plain": [
       "<Array [[0, 0, 5], [0, 0, 5], ..., [0, 0, 5]] type='2047206 * var * int32'>"
      ]
     },
     "execution_count": 73,
     "metadata": {},
     "output_type": "execute_result"
    }
   ],
   "source": [
    "sin.jet_truthflav_lead"
   ]
  },
  {
   "cell_type": "code",
   "execution_count": null,
   "id": "86d333b8-5607-47f2-9498-44e5d905daaa",
   "metadata": {},
   "outputs": [],
   "source": []
  }
 ],
 "metadata": {
  "kernelspec": {
   "display_name": "Python 3",
   "language": "python",
   "name": "python3"
  },
  "language_info": {
   "codemirror_mode": {
    "name": "ipython",
    "version": 3
   },
   "file_extension": ".py",
   "mimetype": "text/x-python",
   "name": "python",
   "nbconvert_exporter": "python",
   "pygments_lexer": "ipython3",
   "version": "3.10.13"
  }
 },
 "nbformat": 4,
 "nbformat_minor": 5
}
